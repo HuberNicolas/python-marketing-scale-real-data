{
  "cells": [
    {
      "cell_type": "markdown",
      "metadata": {
        "id": "3arMV6uM79oD"
      },
      "source": [
        "#Python - Non-technical introduction\n",
        "\n",
        "##Final Exercise \"Scoring Model\"\n",
        "\n",
        "This file provides you guidance for developing your own customer scoring model. The task is structured in XXX tasks that build-up on each other. We will provide intermediary solutions a long the way.\n",
        "\n",
        "*Note:* If you want to make changes to this document, you need to save your own copy using the \"Save copy in Drive\" command in the \"File\" menu."
      ]
    },
    {
      "cell_type": "markdown",
      "metadata": {
        "id": "c7xrHageKBHn"
      },
      "source": [
        "###Exercise 1: Preparation\n",
        "\n",
        "Before we start, let's do some **preparations** required for subsequent exercises.\n",
        "\n",
        "1.   Load the following packages: numpy, pandas, matplotlib, seaborn.\n",
        "2.   Load the data transactonal data using `read_csv()`. You can find the file here: [https://raw.githubusercontent.com/bachmannpatrick/Python-Class/master/data/transactions.csv\"](https://raw.githubusercontent.com/bachmannpatrick/Python-Class/master/data/transactions.csv\")\n",
        "3.   Transpose the variable `TransDate` to datetime  with pandas `to_datetime()`.\n",
        "\n",
        "\n"
      ]
    },
    {
      "cell_type": "code",
      "execution_count": 507,
      "metadata": {
        "id": "EmbjkbMNKRaX"
      },
      "outputs": [],
      "source": [
        "# 1.\n",
        "import pandas as pd\n",
        "import numpy as np\n",
        "import seaborn as sbn\n",
        "import matplotlib.pyplot as plt\n",
        "\n",
        "# 2. Read the csv file and store it in the variable \"myData\". Note: this file is hostes in a GitHub repository.\n",
        "myData=pd.read_csv(filepath_or_buffer=\"https://raw.githubusercontent.com/bachmannpatrick/Python-Class/master/data/transactions.csv\", sep=\",\")\n",
        "\n",
        "# 3. Adjust the format of column \"TransDate\" to datetime\n",
        "#Adjust the format of column \"TransDate\" to datetime\n",
        "us_date_format = \"%Y-%m-%d\"  # JoinDate, e.g., 1969-09-06\n",
        "eu_date_format = \"%d.%m.%Y\"  # TransDate and Birthdate, e.g., 04.05.1987\n",
        "myData[\"TransDate\"] = pd.to_datetime(\n",
        "    myData[\"TransDate\"], format=eu_date_format, dayfirst=True)\n"
      ]
    },
    {
      "cell_type": "code",
      "execution_count": 508,
      "metadata": {},
      "outputs": [
        {
          "data": {
            "text/html": [
              "<div>\n",
              "<style scoped>\n",
              "    .dataframe tbody tr th:only-of-type {\n",
              "        vertical-align: middle;\n",
              "    }\n",
              "\n",
              "    .dataframe tbody tr th {\n",
              "        vertical-align: top;\n",
              "    }\n",
              "\n",
              "    .dataframe thead th {\n",
              "        text-align: right;\n",
              "    }\n",
              "</style>\n",
              "<table border=\"1\" class=\"dataframe\">\n",
              "  <thead>\n",
              "    <tr style=\"text-align: right;\">\n",
              "      <th></th>\n",
              "      <th>Customer</th>\n",
              "      <th>TransDate</th>\n",
              "      <th>Quantity</th>\n",
              "      <th>PurchAmount</th>\n",
              "      <th>Cost</th>\n",
              "      <th>TransID</th>\n",
              "    </tr>\n",
              "  </thead>\n",
              "  <tbody>\n",
              "    <tr>\n",
              "      <th>0</th>\n",
              "      <td>149332</td>\n",
              "      <td>2005-11-15</td>\n",
              "      <td>1</td>\n",
              "      <td>199.95</td>\n",
              "      <td>107.00</td>\n",
              "      <td>127998739</td>\n",
              "    </tr>\n",
              "    <tr>\n",
              "      <th>1</th>\n",
              "      <td>172951</td>\n",
              "      <td>2008-08-29</td>\n",
              "      <td>1</td>\n",
              "      <td>199.95</td>\n",
              "      <td>108.00</td>\n",
              "      <td>128888288</td>\n",
              "    </tr>\n",
              "    <tr>\n",
              "      <th>2</th>\n",
              "      <td>120621</td>\n",
              "      <td>2007-10-19</td>\n",
              "      <td>1</td>\n",
              "      <td>99.95</td>\n",
              "      <td>49.00</td>\n",
              "      <td>125375247</td>\n",
              "    </tr>\n",
              "    <tr>\n",
              "      <th>3</th>\n",
              "      <td>149236</td>\n",
              "      <td>2005-11-14</td>\n",
              "      <td>1</td>\n",
              "      <td>39.95</td>\n",
              "      <td>18.95</td>\n",
              "      <td>127996226</td>\n",
              "    </tr>\n",
              "    <tr>\n",
              "      <th>4</th>\n",
              "      <td>149236</td>\n",
              "      <td>2007-06-12</td>\n",
              "      <td>1</td>\n",
              "      <td>79.95</td>\n",
              "      <td>35.00</td>\n",
              "      <td>128670302</td>\n",
              "    </tr>\n",
              "    <tr>\n",
              "      <th>...</th>\n",
              "      <td>...</td>\n",
              "      <td>...</td>\n",
              "      <td>...</td>\n",
              "      <td>...</td>\n",
              "      <td>...</td>\n",
              "      <td>...</td>\n",
              "    </tr>\n",
              "    <tr>\n",
              "      <th>223186</th>\n",
              "      <td>199997</td>\n",
              "      <td>2012-09-17</td>\n",
              "      <td>1</td>\n",
              "      <td>29.95</td>\n",
              "      <td>13.80</td>\n",
              "      <td>132481149</td>\n",
              "    </tr>\n",
              "    <tr>\n",
              "      <th>223187</th>\n",
              "      <td>199997</td>\n",
              "      <td>2012-09-17</td>\n",
              "      <td>1</td>\n",
              "      <td>29.95</td>\n",
              "      <td>13.80</td>\n",
              "      <td>132481149</td>\n",
              "    </tr>\n",
              "    <tr>\n",
              "      <th>223188</th>\n",
              "      <td>199998</td>\n",
              "      <td>2012-09-17</td>\n",
              "      <td>1</td>\n",
              "      <td>29.95</td>\n",
              "      <td>13.80</td>\n",
              "      <td>132481154</td>\n",
              "    </tr>\n",
              "    <tr>\n",
              "      <th>223189</th>\n",
              "      <td>199999</td>\n",
              "      <td>2012-09-17</td>\n",
              "      <td>1</td>\n",
              "      <td>179.95</td>\n",
              "      <td>109.99</td>\n",
              "      <td>132481165</td>\n",
              "    </tr>\n",
              "    <tr>\n",
              "      <th>223190</th>\n",
              "      <td>199542</td>\n",
              "      <td>2012-09-17</td>\n",
              "      <td>1</td>\n",
              "      <td>39.95</td>\n",
              "      <td>10.50</td>\n",
              "      <td>131973368</td>\n",
              "    </tr>\n",
              "  </tbody>\n",
              "</table>\n",
              "<p>223191 rows × 6 columns</p>\n",
              "</div>"
            ],
            "text/plain": [
              "        Customer  TransDate  Quantity  PurchAmount    Cost    TransID\n",
              "0         149332 2005-11-15         1       199.95  107.00  127998739\n",
              "1         172951 2008-08-29         1       199.95  108.00  128888288\n",
              "2         120621 2007-10-19         1        99.95   49.00  125375247\n",
              "3         149236 2005-11-14         1        39.95   18.95  127996226\n",
              "4         149236 2007-06-12         1        79.95   35.00  128670302\n",
              "...          ...        ...       ...          ...     ...        ...\n",
              "223186    199997 2012-09-17         1        29.95   13.80  132481149\n",
              "223187    199997 2012-09-17         1        29.95   13.80  132481149\n",
              "223188    199998 2012-09-17         1        29.95   13.80  132481154\n",
              "223189    199999 2012-09-17         1       179.95  109.99  132481165\n",
              "223190    199542 2012-09-17         1        39.95   10.50  131973368\n",
              "\n",
              "[223191 rows x 6 columns]"
            ]
          },
          "execution_count": 508,
          "metadata": {},
          "output_type": "execute_result"
        }
      ],
      "source": [
        "myData"
      ]
    },
    {
      "cell_type": "code",
      "execution_count": 509,
      "metadata": {},
      "outputs": [],
      "source": [
        "# probably has nans"
      ]
    },
    {
      "cell_type": "markdown",
      "metadata": {
        "id": "vaX9FRSfJwsn"
      },
      "source": [
        "###Exercise 2: Aggregation of variables"
      ]
    },
    {
      "cell_type": "markdown",
      "metadata": {
        "id": "ts-dk8M0M58d"
      },
      "source": [
        "1. Save the date of the overall latest transaction in a variable called `max_Date`.\n"
      ]
    },
    {
      "cell_type": "code",
      "execution_count": 510,
      "metadata": {
        "id": "7WxjwfPblNMI"
      },
      "outputs": [],
      "source": [
        "max_Date = max(myData[\"TransDate\"])"
      ]
    },
    {
      "cell_type": "code",
      "execution_count": 511,
      "metadata": {},
      "outputs": [
        {
          "data": {
            "text/plain": [
              "Timestamp('2012-12-09 00:00:00')"
            ]
          },
          "execution_count": 511,
          "metadata": {},
          "output_type": "execute_result"
        }
      ],
      "source": [
        "max_Date"
      ]
    },
    {
      "cell_type": "markdown",
      "metadata": {
        "id": "WMyrq2YSM-Yf"
      },
      "source": [
        "2.  Create a new `pandas.DataFrame` called `rfm` that includes the customer ID, as well as the measures for purchase recency, frequency, and monetary value *Hint 1:* `.dt.days` allows to convert datetime differences into integer. *Hint 2:* use aggregation."
      ]
    },
    {
      "cell_type": "code",
      "execution_count": 512,
      "metadata": {},
      "outputs": [],
      "source": [
        "import datetime as dt"
      ]
    },
    {
      "cell_type": "code",
      "execution_count": 513,
      "metadata": {},
      "outputs": [],
      "source": [
        "rfm=myData.groupby(\"Customer\").agg(\n",
        "    Recency = (\"TransDate\",\"max\"),\n",
        "    Frequency =(\"TransID\",\"count\"),\n",
        "    Monetary = (\"PurchAmount\", \"mean\")\n",
        ").reset_index()"
      ]
    },
    {
      "cell_type": "code",
      "execution_count": 514,
      "metadata": {
        "id": "pIbbhWWEUwXI"
      },
      "outputs": [],
      "source": [
        "# Recency: difference in days between the latest purchase and today\n",
        "#myData[\"TodayDate\"] = max_Date\n",
        "#myData[\"TodayDate\"] = pd.Series([max_Date for x in range(len(myData.index))])\n",
        "#latest_purchase = myData.groupby(\"Customer\").agg(LatestPurchDate=(\"TransDate\", \"max\")).reset_index()\n",
        "#myData = myData.merge(latest_purchase, on='Customer', how='left')\n",
        "#myData[\"Recency\"] = -(\n",
        " #   myData[\"LatestPurchDate\"] - myData[\"TodayDate\"]).dt.days\n",
        "\n",
        "# Frequency: number of transactions\n",
        "#myData[\"Frequency\"] = myData.groupby(\"Customer\")[\"Customer\"].transform(\"count\")\n",
        "\n",
        "# Monetary value: average amount spent per transaction\n",
        "#monetary = myData.groupby(\"Customer\").agg(Monetary=(\"PurchAmount\", \"mean\")).reset_index()\n",
        "#myData = myData.merge(monetary, on='Customer', how='left')\n",
        "\n"
      ]
    },
    {
      "cell_type": "code",
      "execution_count": 515,
      "metadata": {},
      "outputs": [],
      "source": [
        "rfm[\"Recency\"] = (max_Date-rfm[\"Recency\"]).dt.days"
      ]
    },
    {
      "cell_type": "code",
      "execution_count": 516,
      "metadata": {},
      "outputs": [
        {
          "data": {
            "text/html": [
              "<div>\n",
              "<style scoped>\n",
              "    .dataframe tbody tr th:only-of-type {\n",
              "        vertical-align: middle;\n",
              "    }\n",
              "\n",
              "    .dataframe tbody tr th {\n",
              "        vertical-align: top;\n",
              "    }\n",
              "\n",
              "    .dataframe thead th {\n",
              "        text-align: right;\n",
              "    }\n",
              "</style>\n",
              "<table border=\"1\" class=\"dataframe\">\n",
              "  <thead>\n",
              "    <tr style=\"text-align: right;\">\n",
              "      <th></th>\n",
              "      <th>Customer</th>\n",
              "      <th>TransDate</th>\n",
              "      <th>Quantity</th>\n",
              "      <th>PurchAmount</th>\n",
              "      <th>Cost</th>\n",
              "      <th>TransID</th>\n",
              "    </tr>\n",
              "  </thead>\n",
              "  <tbody>\n",
              "    <tr>\n",
              "      <th>0</th>\n",
              "      <td>149332</td>\n",
              "      <td>2005-11-15</td>\n",
              "      <td>1</td>\n",
              "      <td>199.95</td>\n",
              "      <td>107.00</td>\n",
              "      <td>127998739</td>\n",
              "    </tr>\n",
              "    <tr>\n",
              "      <th>1</th>\n",
              "      <td>172951</td>\n",
              "      <td>2008-08-29</td>\n",
              "      <td>1</td>\n",
              "      <td>199.95</td>\n",
              "      <td>108.00</td>\n",
              "      <td>128888288</td>\n",
              "    </tr>\n",
              "    <tr>\n",
              "      <th>2</th>\n",
              "      <td>120621</td>\n",
              "      <td>2007-10-19</td>\n",
              "      <td>1</td>\n",
              "      <td>99.95</td>\n",
              "      <td>49.00</td>\n",
              "      <td>125375247</td>\n",
              "    </tr>\n",
              "    <tr>\n",
              "      <th>3</th>\n",
              "      <td>149236</td>\n",
              "      <td>2005-11-14</td>\n",
              "      <td>1</td>\n",
              "      <td>39.95</td>\n",
              "      <td>18.95</td>\n",
              "      <td>127996226</td>\n",
              "    </tr>\n",
              "    <tr>\n",
              "      <th>4</th>\n",
              "      <td>149236</td>\n",
              "      <td>2007-06-12</td>\n",
              "      <td>1</td>\n",
              "      <td>79.95</td>\n",
              "      <td>35.00</td>\n",
              "      <td>128670302</td>\n",
              "    </tr>\n",
              "    <tr>\n",
              "      <th>...</th>\n",
              "      <td>...</td>\n",
              "      <td>...</td>\n",
              "      <td>...</td>\n",
              "      <td>...</td>\n",
              "      <td>...</td>\n",
              "      <td>...</td>\n",
              "    </tr>\n",
              "    <tr>\n",
              "      <th>223186</th>\n",
              "      <td>199997</td>\n",
              "      <td>2012-09-17</td>\n",
              "      <td>1</td>\n",
              "      <td>29.95</td>\n",
              "      <td>13.80</td>\n",
              "      <td>132481149</td>\n",
              "    </tr>\n",
              "    <tr>\n",
              "      <th>223187</th>\n",
              "      <td>199997</td>\n",
              "      <td>2012-09-17</td>\n",
              "      <td>1</td>\n",
              "      <td>29.95</td>\n",
              "      <td>13.80</td>\n",
              "      <td>132481149</td>\n",
              "    </tr>\n",
              "    <tr>\n",
              "      <th>223188</th>\n",
              "      <td>199998</td>\n",
              "      <td>2012-09-17</td>\n",
              "      <td>1</td>\n",
              "      <td>29.95</td>\n",
              "      <td>13.80</td>\n",
              "      <td>132481154</td>\n",
              "    </tr>\n",
              "    <tr>\n",
              "      <th>223189</th>\n",
              "      <td>199999</td>\n",
              "      <td>2012-09-17</td>\n",
              "      <td>1</td>\n",
              "      <td>179.95</td>\n",
              "      <td>109.99</td>\n",
              "      <td>132481165</td>\n",
              "    </tr>\n",
              "    <tr>\n",
              "      <th>223190</th>\n",
              "      <td>199542</td>\n",
              "      <td>2012-09-17</td>\n",
              "      <td>1</td>\n",
              "      <td>39.95</td>\n",
              "      <td>10.50</td>\n",
              "      <td>131973368</td>\n",
              "    </tr>\n",
              "  </tbody>\n",
              "</table>\n",
              "<p>223191 rows × 6 columns</p>\n",
              "</div>"
            ],
            "text/plain": [
              "        Customer  TransDate  Quantity  PurchAmount    Cost    TransID\n",
              "0         149332 2005-11-15         1       199.95  107.00  127998739\n",
              "1         172951 2008-08-29         1       199.95  108.00  128888288\n",
              "2         120621 2007-10-19         1        99.95   49.00  125375247\n",
              "3         149236 2005-11-14         1        39.95   18.95  127996226\n",
              "4         149236 2007-06-12         1        79.95   35.00  128670302\n",
              "...          ...        ...       ...          ...     ...        ...\n",
              "223186    199997 2012-09-17         1        29.95   13.80  132481149\n",
              "223187    199997 2012-09-17         1        29.95   13.80  132481149\n",
              "223188    199998 2012-09-17         1        29.95   13.80  132481154\n",
              "223189    199999 2012-09-17         1       179.95  109.99  132481165\n",
              "223190    199542 2012-09-17         1        39.95   10.50  131973368\n",
              "\n",
              "[223191 rows x 6 columns]"
            ]
          },
          "execution_count": 516,
          "metadata": {},
          "output_type": "execute_result"
        }
      ],
      "source": [
        "myData"
      ]
    },
    {
      "cell_type": "code",
      "execution_count": 517,
      "metadata": {},
      "outputs": [],
      "source": [
        "#rfm = pd.DataFrame()\n",
        "\n",
        "#rfm[\"Customer\"] = myData[\"Customer\"]\n",
        "#rfm[\"LatestPurchDate\"] = myData[\"LatestPurchDate\"]\n",
        "#rfm[\"Recency\"] = myData[\"Recency\"]\n",
        "#rfm[\"Frequency\"] = myData[\"Frequency\"]\n",
        "#rfm[\"Monetary\"] = myData[\"Monetary\"]\n"
      ]
    },
    {
      "cell_type": "code",
      "execution_count": 518,
      "metadata": {},
      "outputs": [
        {
          "data": {
            "text/html": [
              "<div>\n",
              "<style scoped>\n",
              "    .dataframe tbody tr th:only-of-type {\n",
              "        vertical-align: middle;\n",
              "    }\n",
              "\n",
              "    .dataframe tbody tr th {\n",
              "        vertical-align: top;\n",
              "    }\n",
              "\n",
              "    .dataframe thead th {\n",
              "        text-align: right;\n",
              "    }\n",
              "</style>\n",
              "<table border=\"1\" class=\"dataframe\">\n",
              "  <thead>\n",
              "    <tr style=\"text-align: right;\">\n",
              "      <th></th>\n",
              "      <th>Customer</th>\n",
              "      <th>Recency</th>\n",
              "      <th>Frequency</th>\n",
              "      <th>Monetary</th>\n",
              "    </tr>\n",
              "  </thead>\n",
              "  <tbody>\n",
              "    <tr>\n",
              "      <th>0</th>\n",
              "      <td>100001</td>\n",
              "      <td>473</td>\n",
              "      <td>2</td>\n",
              "      <td>139.95</td>\n",
              "    </tr>\n",
              "    <tr>\n",
              "      <th>1</th>\n",
              "      <td>100002</td>\n",
              "      <td>2902</td>\n",
              "      <td>1</td>\n",
              "      <td>499.95</td>\n",
              "    </tr>\n",
              "    <tr>\n",
              "      <th>2</th>\n",
              "      <td>100003</td>\n",
              "      <td>321</td>\n",
              "      <td>2</td>\n",
              "      <td>189.95</td>\n",
              "    </tr>\n",
              "    <tr>\n",
              "      <th>3</th>\n",
              "      <td>100004</td>\n",
              "      <td>126</td>\n",
              "      <td>1</td>\n",
              "      <td>499.95</td>\n",
              "    </tr>\n",
              "    <tr>\n",
              "      <th>4</th>\n",
              "      <td>100005</td>\n",
              "      <td>721</td>\n",
              "      <td>4</td>\n",
              "      <td>77.45</td>\n",
              "    </tr>\n",
              "    <tr>\n",
              "      <th>...</th>\n",
              "      <td>...</td>\n",
              "      <td>...</td>\n",
              "      <td>...</td>\n",
              "      <td>...</td>\n",
              "    </tr>\n",
              "    <tr>\n",
              "      <th>98775</th>\n",
              "      <td>199995</td>\n",
              "      <td>83</td>\n",
              "      <td>3</td>\n",
              "      <td>29.95</td>\n",
              "    </tr>\n",
              "    <tr>\n",
              "      <th>98776</th>\n",
              "      <td>199996</td>\n",
              "      <td>83</td>\n",
              "      <td>1</td>\n",
              "      <td>179.95</td>\n",
              "    </tr>\n",
              "    <tr>\n",
              "      <th>98777</th>\n",
              "      <td>199997</td>\n",
              "      <td>83</td>\n",
              "      <td>6</td>\n",
              "      <td>29.95</td>\n",
              "    </tr>\n",
              "    <tr>\n",
              "      <th>98778</th>\n",
              "      <td>199998</td>\n",
              "      <td>83</td>\n",
              "      <td>1</td>\n",
              "      <td>29.95</td>\n",
              "    </tr>\n",
              "    <tr>\n",
              "      <th>98779</th>\n",
              "      <td>199999</td>\n",
              "      <td>83</td>\n",
              "      <td>1</td>\n",
              "      <td>179.95</td>\n",
              "    </tr>\n",
              "  </tbody>\n",
              "</table>\n",
              "<p>98780 rows × 4 columns</p>\n",
              "</div>"
            ],
            "text/plain": [
              "       Customer  Recency  Frequency  Monetary\n",
              "0        100001      473          2    139.95\n",
              "1        100002     2902          1    499.95\n",
              "2        100003      321          2    189.95\n",
              "3        100004      126          1    499.95\n",
              "4        100005      721          4     77.45\n",
              "...         ...      ...        ...       ...\n",
              "98775    199995       83          3     29.95\n",
              "98776    199996       83          1    179.95\n",
              "98777    199997       83          6     29.95\n",
              "98778    199998       83          1     29.95\n",
              "98779    199999       83          1    179.95\n",
              "\n",
              "[98780 rows x 4 columns]"
            ]
          },
          "execution_count": 518,
          "metadata": {},
          "output_type": "execute_result"
        }
      ],
      "source": [
        "rfm"
      ]
    },
    {
      "cell_type": "markdown",
      "metadata": {
        "id": "PRTgbzsnNBTA"
      },
      "source": [
        "3. Check the structure of the new table and ensure that all the variables are numeric."
      ]
    },
    {
      "cell_type": "code",
      "execution_count": 519,
      "metadata": {
        "id": "zyo1U-nuNA9I"
      },
      "outputs": [
        {
          "data": {
            "text/plain": [
              "Customer       int64\n",
              "Recency        int64\n",
              "Frequency      int64\n",
              "Monetary     float64\n",
              "dtype: object"
            ]
          },
          "execution_count": 519,
          "metadata": {},
          "output_type": "execute_result"
        }
      ],
      "source": [
        "rfm.dtypes"
      ]
    },
    {
      "cell_type": "markdown",
      "metadata": {
        "id": "GiB117iMFZwQ"
      },
      "source": [
        "###Exercise 3: Descriptive statistics"
      ]
    },
    {
      "cell_type": "markdown",
      "metadata": {
        "id": "LyrU6mAqFw1q"
      },
      "source": [
        "1. Get a first impression of the distribution of RFM measures by taking a look at the `describe(`) function of `pandas.DataFrame`."
      ]
    },
    {
      "cell_type": "code",
      "execution_count": 520,
      "metadata": {
        "id": "cuDP0AW0FwLU"
      },
      "outputs": [
        {
          "data": {
            "text/html": [
              "<div>\n",
              "<style scoped>\n",
              "    .dataframe tbody tr th:only-of-type {\n",
              "        vertical-align: middle;\n",
              "    }\n",
              "\n",
              "    .dataframe tbody tr th {\n",
              "        vertical-align: top;\n",
              "    }\n",
              "\n",
              "    .dataframe thead th {\n",
              "        text-align: right;\n",
              "    }\n",
              "</style>\n",
              "<table border=\"1\" class=\"dataframe\">\n",
              "  <thead>\n",
              "    <tr style=\"text-align: right;\">\n",
              "      <th></th>\n",
              "      <th>Customer</th>\n",
              "      <th>Recency</th>\n",
              "      <th>Frequency</th>\n",
              "      <th>Monetary</th>\n",
              "    </tr>\n",
              "  </thead>\n",
              "  <tbody>\n",
              "    <tr>\n",
              "      <th>count</th>\n",
              "      <td>98780.000000</td>\n",
              "      <td>98780.000000</td>\n",
              "      <td>98780.000000</td>\n",
              "      <td>98780.000000</td>\n",
              "    </tr>\n",
              "    <tr>\n",
              "      <th>mean</th>\n",
              "      <td>150163.054576</td>\n",
              "      <td>1358.236212</td>\n",
              "      <td>2.259476</td>\n",
              "      <td>89.211307</td>\n",
              "    </tr>\n",
              "    <tr>\n",
              "      <th>std</th>\n",
              "      <td>28804.251796</td>\n",
              "      <td>764.578354</td>\n",
              "      <td>2.662274</td>\n",
              "      <td>94.562400</td>\n",
              "    </tr>\n",
              "    <tr>\n",
              "      <th>min</th>\n",
              "      <td>100001.000000</td>\n",
              "      <td>0.000000</td>\n",
              "      <td>1.000000</td>\n",
              "      <td>0.000000</td>\n",
              "    </tr>\n",
              "    <tr>\n",
              "      <th>25%</th>\n",
              "      <td>125333.750000</td>\n",
              "      <td>720.000000</td>\n",
              "      <td>1.000000</td>\n",
              "      <td>44.737500</td>\n",
              "    </tr>\n",
              "    <tr>\n",
              "      <th>50%</th>\n",
              "      <td>150194.500000</td>\n",
              "      <td>1368.000000</td>\n",
              "      <td>1.000000</td>\n",
              "      <td>64.950000</td>\n",
              "    </tr>\n",
              "    <tr>\n",
              "      <th>75%</th>\n",
              "      <td>175108.250000</td>\n",
              "      <td>1954.000000</td>\n",
              "      <td>2.000000</td>\n",
              "      <td>99.950000</td>\n",
              "    </tr>\n",
              "    <tr>\n",
              "      <th>max</th>\n",
              "      <td>199999.000000</td>\n",
              "      <td>2902.000000</td>\n",
              "      <td>92.000000</td>\n",
              "      <td>5000.000000</td>\n",
              "    </tr>\n",
              "  </tbody>\n",
              "</table>\n",
              "</div>"
            ],
            "text/plain": [
              "            Customer       Recency     Frequency      Monetary\n",
              "count   98780.000000  98780.000000  98780.000000  98780.000000\n",
              "mean   150163.054576   1358.236212      2.259476     89.211307\n",
              "std     28804.251796    764.578354      2.662274     94.562400\n",
              "min    100001.000000      0.000000      1.000000      0.000000\n",
              "25%    125333.750000    720.000000      1.000000     44.737500\n",
              "50%    150194.500000   1368.000000      1.000000     64.950000\n",
              "75%    175108.250000   1954.000000      2.000000     99.950000\n",
              "max    199999.000000   2902.000000     92.000000   5000.000000"
            ]
          },
          "execution_count": 520,
          "metadata": {},
          "output_type": "execute_result"
        }
      ],
      "source": [
        "rfm.describe()"
      ]
    },
    {
      "cell_type": "markdown",
      "metadata": {
        "id": "F5rjBHknHe8y"
      },
      "source": [
        "2. Use matplotlib.pyplot in order to plot histograms for all the three measures and arrange them in one single picture.\n",
        "3. Adjust the title, labels, axes limits, and colors of your plots in an appealing way"
      ]
    },
    {
      "cell_type": "code",
      "execution_count": 521,
      "metadata": {
        "id": "09xpBQ0nHkYP"
      },
      "outputs": [
        {
          "data": {
            "text/plain": [
              "Text(0.5, 1.0, 'Histogram of Monetary')"
            ]
          },
          "execution_count": 521,
          "metadata": {},
          "output_type": "execute_result"
        },
        {
          "data": {
            "image/png": "[encoded data removed]",
            "text/plain": [
              "<Figure size 640x480 with 3 Axes>"
            ]
          },
          "metadata": {},
          "output_type": "display_data"
        }
      ],
      "source": [
        "N_points = rfm.shape[0]\n",
        "n_bins = 20 # 20 100 100 \n",
        "\n",
        "min_diff, max_diff = 0, 2500 \n",
        "min_trans, max_trans = 0, 20\n",
        "min_avg, max_avg = 0, 1000 \n",
        "\n",
        "\n",
        "fig, axs = plt.subplots(1, 3, sharey=True, tight_layout=False)\n",
        "\n",
        "# Plot the histograms with individual min and max values\n",
        "axs[0].hist(rfm[\"Recency\"],\n",
        "            bins=n_bins, range=(min_diff, max_diff), color='b')\n",
        "axs[1].hist(rfm[\"Frequency\"], bins=100, range=(min_trans, max_trans), color='g')\n",
        "axs[2].hist(rfm[\"Monetary\"], bins=100, range=(min_avg, max_avg), color='r')\n",
        "\n",
        "# Set labels and titles\n",
        "axs[0].set_xlabel('Recency')\n",
        "axs[1].set_xlabel('Frequency')\n",
        "axs[2].set_xlabel('Monetary')\n",
        "axs[0].set_ylabel('Frequency')\n",
        "axs[0].set_title('Histogram of Recency')\n",
        "axs[1].set_title('Histogram of Frequency')\n",
        "axs[2].set_title('Histogram of Monetary')"
      ]
    },
    {
      "cell_type": "markdown",
      "metadata": {
        "id": "AXINafetHq4C"
      },
      "source": [
        "####**Slide:** Remark: pandas.cut()function\n",
        "---\n",
        "\n"
      ]
    },
    {
      "cell_type": "code",
      "execution_count": 522,
      "metadata": {
        "colab": {
          "base_uri": "https://localhost:8080/",
          "height": 51
        },
        "id": "oXtAZVxzHwRF",
        "outputId": "40e846d1-de6c-403f-d51a-0d2f585617c9"
      },
      "outputs": [
        {
          "name": "stdout",
          "output_type": "stream",
          "text": [
            "['1', '1', '1', '1', '1', '2', '2', '2', '2', '2']\n",
            "Categories (2, object): ['1' < '2']\n"
          ]
        }
      ],
      "source": [
        "temp=[1,1,1,3,4,7,8,9,10,10]\n",
        "\n",
        "temp_factor = pd.cut(temp, bins=2, labels=[\"1\", \"2\"])\n",
        "print(temp_factor)"
      ]
    },
    {
      "cell_type": "code",
      "execution_count": 523,
      "metadata": {
        "colab": {
          "base_uri": "https://localhost:8080/",
          "height": 51
        },
        "id": "FGbVtq8nPs-k",
        "outputId": "2b30da91-48e7-4530-f768-ec693475eba8"
      },
      "outputs": [
        {
          "name": "stdout",
          "output_type": "stream",
          "text": [
            "['1', '1', '1', '1', '1', '2', '2', '2', '2', '2']\n",
            "Categories (2, object): ['1' < '2']\n"
          ]
        }
      ],
      "source": [
        "# Alternative\n",
        "temp_factor = pd.cut(temp, bins=[0,5,10], labels=[\"1\",\"2\"])\n",
        "print(temp_factor)"
      ]
    },
    {
      "cell_type": "markdown",
      "metadata": {
        "id": "npU-q6Npvyoo"
      },
      "source": [
        "###Exercise 4: Calculation of RFM scores"
      ]
    },
    {
      "cell_type": "markdown",
      "metadata": {
        "id": "b5GiqN9rP6h-"
      },
      "source": [
        "1. Use the pandas.cut()command to transform the a) recency, b) frequency, and\n",
        "c) monetary value measure into scores on a scale from 1 to 3 (develop meaningful category splits. Be aware, that the recency score is decreasing in the days since last purchase!\n"
      ]
    },
    {
      "cell_type": "code",
      "execution_count": 524,
      "metadata": {
        "id": "EopLMRQSv2tB"
      },
      "outputs": [],
      "source": [
        "# recency\n",
        "# Define binning levels\n",
        "bins_rec = [-0.1, 1000, 2000, max(rfm[\"Recency\"])]\n",
        "rfm[\"Recency\"] = pd.cut(rfm[\"Recency\"], bins=bins_rec, labels=[\"3\", \"2\", \"1\"])\n",
        "rfm[\"Recency\"] = rfm[\"Recency\"].cat.codes + 1"
      ]
    },
    {
      "cell_type": "code",
      "execution_count": 525,
      "metadata": {
        "id": "Ozai-Ntb-kHV"
      },
      "outputs": [],
      "source": [
        "# frequency\n",
        "bins_freq=[-0.1,1,3,max(rfm[\"Frequency\"])]\n",
        "rfm[\"Frequency\"] = pd.cut(\n",
        "    rfm[\"Frequency\"], bins=bins_freq, labels=[\"1\", \"2\", \"3\"])\n",
        "rfm[\"Frequency\"] = rfm[\"Frequency\"].cat.codes + 1\n",
        "\n"
      ]
    },
    {
      "cell_type": "code",
      "execution_count": 526,
      "metadata": {
        "id": "BgKNhPYFQscL"
      },
      "outputs": [],
      "source": [
        "# monetary value\n",
        "bins_mon=[-0.1,50,100,max(rfm[\"Monetary\"])]\n",
        "rfm[\"Monetary\"] = pd.cut(rfm[\"Monetary\"], bins=bins_mon, labels=[\"1\", \"2\", \"3\"])\n",
        "rfm[\"Monetary\"] = rfm[\"Monetary\"].cat.codes + 1\n"
      ]
    },
    {
      "cell_type": "code",
      "execution_count": 527,
      "metadata": {
        "id": "MEDPHntwOuKb"
      },
      "outputs": [
        {
          "name": "stdout",
          "output_type": "stream",
          "text": [
            "       Customer  Recency  Frequency  Monetary\n",
            "0        100001        1          2         3\n",
            "1        100002        3          1         3\n",
            "2        100003        1          2         3\n",
            "3        100004        1          1         3\n",
            "4        100005        1          3         2\n",
            "...         ...      ...        ...       ...\n",
            "98775    199995        1          2         1\n",
            "98776    199996        1          1         3\n",
            "98777    199997        1          3         1\n",
            "98778    199998        1          1         1\n",
            "98779    199999        1          1         3\n",
            "\n",
            "[98780 rows x 4 columns]\n"
          ]
        }
      ],
      "source": [
        "# Display the dataframe\n",
        "print(rfm)"
      ]
    },
    {
      "cell_type": "markdown",
      "metadata": {
        "id": "wgiC_Zl5RC0-"
      },
      "source": [
        "2. Use matplotlib again to plot histograms for all the three scores and arrange them in one single picture. Do you notice something particular?\n"
      ]
    },
    {
      "cell_type": "code",
      "execution_count": 528,
      "metadata": {
        "id": "VANEeneYRJGq"
      },
      "outputs": [
        {
          "data": {
            "image/png": "[encoded data removed]",
            "text/plain": [
              "<Figure size 640x480 with 3 Axes>"
            ]
          },
          "metadata": {},
          "output_type": "display_data"
        }
      ],
      "source": [
        "plt.suptitle(\"Data Overview - RFM Scores\")\n",
        "\n",
        "# Recency score\n",
        "plt.subplot(1,3,1)\n",
        "plt.hist(rfm[\"Recency\"], bins=3, color='b')\n",
        "plt.xlabel('Recency')\n",
        "plt.title('Histogram of Recency')\n",
        "\n",
        "# Frequency score\n",
        "plt.subplot(1,3,2)\n",
        "plt.hist(rfm[\"Frequency\"], bins=3, color='g')\n",
        "plt.xlabel('Frequency')\n",
        "plt.title('Histogram of Frequency')\n",
        "\n",
        "\n",
        "# Monetary value score\n",
        "plt.subplot(1,3,3)\n",
        "plt.hist(rfm[\"Monetary\"], bins=3, color='r')\n",
        "plt.xlabel('Monetary')\n",
        "plt.title('Histogram of Monetary')\n",
        "\n",
        "\n",
        "plt.show()"
      ]
    },
    {
      "cell_type": "markdown",
      "metadata": {
        "id": "KVKXORJEeCa0"
      },
      "source": [
        "###Exercise 5: The overall RFM score"
      ]
    },
    {
      "cell_type": "markdown",
      "metadata": {
        "id": "SeusHwFPRXPR"
      },
      "source": [
        "1.Calculate the unweighted RFM score."
      ]
    },
    {
      "cell_type": "code",
      "execution_count": 529,
      "metadata": {
        "id": "WOO32rCoRbb0"
      },
      "outputs": [
        {
          "name": "stdout",
          "output_type": "stream",
          "text": [
            "       Customer  Recency  Frequency  Monetary  unweighted\n",
            "0        100001        1          2         3    2.000000\n",
            "1        100002        3          1         3    2.333333\n",
            "2        100003        1          2         3    2.000000\n",
            "3        100004        1          1         3    1.666667\n",
            "4        100005        1          3         2    2.000000\n",
            "...         ...      ...        ...       ...         ...\n",
            "98775    199995        1          2         1    1.333333\n",
            "98776    199996        1          1         3    1.666667\n",
            "98777    199997        1          3         1    1.666667\n",
            "98778    199998        1          1         1    1.000000\n",
            "98779    199999        1          1         3    1.666667\n",
            "\n",
            "[98780 rows x 5 columns]\n"
          ]
        }
      ],
      "source": [
        "rfm[\"unweighted\"]= (1/3)*(rfm[\"Recency\"] + rfm[\"Frequency\"] + rfm[\"Monetary\"])\n",
        "\n",
        "print(rfm)"
      ]
    },
    {
      "cell_type": "markdown",
      "metadata": {
        "id": "7_ZgNHA8Rb5W"
      },
      "source": [
        "2. Calculate two weighted RFM scores with the following weights: 20-60-20, 60-20-20."
      ]
    },
    {
      "cell_type": "code",
      "execution_count": 530,
      "metadata": {
        "id": "pNc5ZepmRel9"
      },
      "outputs": [
        {
          "name": "stdout",
          "output_type": "stream",
          "text": [
            "       Customer  Recency  Frequency  Monetary  unweighted  weighted1  \\\n",
            "0        100001        1          2         3    2.000000        2.0   \n",
            "1        100002        3          1         3    2.333333        1.8   \n",
            "2        100003        1          2         3    2.000000        2.0   \n",
            "3        100004        1          1         3    1.666667        1.4   \n",
            "4        100005        1          3         2    2.000000        2.4   \n",
            "...         ...      ...        ...       ...         ...        ...   \n",
            "98775    199995        1          2         1    1.333333        1.6   \n",
            "98776    199996        1          1         3    1.666667        1.4   \n",
            "98777    199997        1          3         1    1.666667        2.2   \n",
            "98778    199998        1          1         1    1.000000        1.0   \n",
            "98779    199999        1          1         3    1.666667        1.4   \n",
            "\n",
            "       weighted2  \n",
            "0            1.6  \n",
            "1            2.6  \n",
            "2            1.6  \n",
            "3            1.4  \n",
            "4            1.6  \n",
            "...          ...  \n",
            "98775        1.2  \n",
            "98776        1.4  \n",
            "98777        1.4  \n",
            "98778        1.0  \n",
            "98779        1.4  \n",
            "\n",
            "[98780 rows x 7 columns]\n"
          ]
        }
      ],
      "source": [
        "rfm[\"weighted1\"]= 0.2*rfm[\"Recency\"] + 0.6*rfm[\"Frequency\"] + 0.2*rfm[\"Monetary\"]\n",
        "rfm[\"weighted2\"]= 0.6*rfm[\"Recency\"] + 0.2*rfm[\"Frequency\"] + 0.2*rfm[\"Monetary\"]\n",
        "print(rfm)"
      ]
    },
    {
      "cell_type": "markdown",
      "metadata": {
        "id": "ipbjdJAeRfFb"
      },
      "source": [
        "3. Divide all customers into three RFM groups by rounding the unweighted RFM score to the nearest whole number. Hint: Use the function *round* for rounding."
      ]
    },
    {
      "cell_type": "code",
      "execution_count": 531,
      "metadata": {
        "id": "nernrsPkRhhW"
      },
      "outputs": [
        {
          "name": "stdout",
          "output_type": "stream",
          "text": [
            "       Customer  Recency  Frequency  Monetary  unweighted  weighted1  \\\n",
            "0        100001        1          2         3    2.000000        2.0   \n",
            "1        100002        3          1         3    2.333333        1.8   \n",
            "2        100003        1          2         3    2.000000        2.0   \n",
            "3        100004        1          1         3    1.666667        1.4   \n",
            "4        100005        1          3         2    2.000000        2.4   \n",
            "...         ...      ...        ...       ...         ...        ...   \n",
            "98775    199995        1          2         1    1.333333        1.6   \n",
            "98776    199996        1          1         3    1.666667        1.4   \n",
            "98777    199997        1          3         1    1.666667        2.2   \n",
            "98778    199998        1          1         1    1.000000        1.0   \n",
            "98779    199999        1          1         3    1.666667        1.4   \n",
            "\n",
            "       weighted2  group_unweighted  group_weighted1  group_weighted2  \n",
            "0            1.6               2.0              2.0              2.0  \n",
            "1            2.6               2.0              2.0              3.0  \n",
            "2            1.6               2.0              2.0              2.0  \n",
            "3            1.4               2.0              1.0              1.0  \n",
            "4            1.6               2.0              2.0              2.0  \n",
            "...          ...               ...              ...              ...  \n",
            "98775        1.2               1.0              2.0              1.0  \n",
            "98776        1.4               2.0              1.0              1.0  \n",
            "98777        1.4               2.0              2.0              1.0  \n",
            "98778        1.0               1.0              1.0              1.0  \n",
            "98779        1.4               2.0              1.0              1.0  \n",
            "\n",
            "[98780 rows x 10 columns]\n"
          ]
        }
      ],
      "source": [
        "#rfm[\"group_unweighted\"]=pd.cut(\n",
        "#    rfm[\"unweighted\"], bins=3, labels=[\"1\", \"2\", \"3\"])\n",
        "rfm[\"group_unweighted\"] = round(rfm[\"unweighted\"])\n",
        "rfm[\"group_weighted1\"] = round(rfm[\"weighted1\"])\n",
        "rfm[\"group_weighted2\"] = round(rfm[\"weighted2\"])\n",
        "print(rfm)"
      ]
    },
    {
      "cell_type": "markdown",
      "metadata": {
        "id": "fw-ABmdIRh8m"
      },
      "source": [
        "4. Display all customers with the highest achievable rating."
      ]
    },
    {
      "cell_type": "code",
      "execution_count": 532,
      "metadata": {
        "id": "uZw0QEBCR79G"
      },
      "outputs": [
        {
          "data": {
            "text/html": [
              "<div>\n",
              "<style scoped>\n",
              "    .dataframe tbody tr th:only-of-type {\n",
              "        vertical-align: middle;\n",
              "    }\n",
              "\n",
              "    .dataframe tbody tr th {\n",
              "        vertical-align: top;\n",
              "    }\n",
              "\n",
              "    .dataframe thead th {\n",
              "        text-align: right;\n",
              "    }\n",
              "</style>\n",
              "<table border=\"1\" class=\"dataframe\">\n",
              "  <thead>\n",
              "    <tr style=\"text-align: right;\">\n",
              "      <th></th>\n",
              "      <th>Customer</th>\n",
              "      <th>Recency</th>\n",
              "      <th>Frequency</th>\n",
              "      <th>Monetary</th>\n",
              "      <th>unweighted</th>\n",
              "      <th>weighted1</th>\n",
              "      <th>weighted2</th>\n",
              "      <th>group_unweighted</th>\n",
              "      <th>group_weighted1</th>\n",
              "      <th>group_weighted2</th>\n",
              "    </tr>\n",
              "  </thead>\n",
              "  <tbody>\n",
              "    <tr>\n",
              "      <th>33</th>\n",
              "      <td>100034</td>\n",
              "      <td>3</td>\n",
              "      <td>3</td>\n",
              "      <td>2</td>\n",
              "      <td>2.666667</td>\n",
              "      <td>2.8</td>\n",
              "      <td>2.8</td>\n",
              "      <td>3.0</td>\n",
              "      <td>3.0</td>\n",
              "      <td>3.0</td>\n",
              "    </tr>\n",
              "    <tr>\n",
              "      <th>38</th>\n",
              "      <td>100039</td>\n",
              "      <td>3</td>\n",
              "      <td>2</td>\n",
              "      <td>3</td>\n",
              "      <td>2.666667</td>\n",
              "      <td>2.4</td>\n",
              "      <td>2.8</td>\n",
              "      <td>3.0</td>\n",
              "      <td>2.0</td>\n",
              "      <td>3.0</td>\n",
              "    </tr>\n",
              "    <tr>\n",
              "      <th>54</th>\n",
              "      <td>100056</td>\n",
              "      <td>3</td>\n",
              "      <td>3</td>\n",
              "      <td>2</td>\n",
              "      <td>2.666667</td>\n",
              "      <td>2.8</td>\n",
              "      <td>2.8</td>\n",
              "      <td>3.0</td>\n",
              "      <td>3.0</td>\n",
              "      <td>3.0</td>\n",
              "    </tr>\n",
              "    <tr>\n",
              "      <th>58</th>\n",
              "      <td>100060</td>\n",
              "      <td>3</td>\n",
              "      <td>2</td>\n",
              "      <td>3</td>\n",
              "      <td>2.666667</td>\n",
              "      <td>2.4</td>\n",
              "      <td>2.8</td>\n",
              "      <td>3.0</td>\n",
              "      <td>2.0</td>\n",
              "      <td>3.0</td>\n",
              "    </tr>\n",
              "    <tr>\n",
              "      <th>64</th>\n",
              "      <td>100066</td>\n",
              "      <td>3</td>\n",
              "      <td>2</td>\n",
              "      <td>3</td>\n",
              "      <td>2.666667</td>\n",
              "      <td>2.4</td>\n",
              "      <td>2.8</td>\n",
              "      <td>3.0</td>\n",
              "      <td>2.0</td>\n",
              "      <td>3.0</td>\n",
              "    </tr>\n",
              "    <tr>\n",
              "      <th>...</th>\n",
              "      <td>...</td>\n",
              "      <td>...</td>\n",
              "      <td>...</td>\n",
              "      <td>...</td>\n",
              "      <td>...</td>\n",
              "      <td>...</td>\n",
              "      <td>...</td>\n",
              "      <td>...</td>\n",
              "      <td>...</td>\n",
              "      <td>...</td>\n",
              "    </tr>\n",
              "    <tr>\n",
              "      <th>88973</th>\n",
              "      <td>190092</td>\n",
              "      <td>2</td>\n",
              "      <td>3</td>\n",
              "      <td>3</td>\n",
              "      <td>2.666667</td>\n",
              "      <td>2.8</td>\n",
              "      <td>2.4</td>\n",
              "      <td>3.0</td>\n",
              "      <td>3.0</td>\n",
              "      <td>2.0</td>\n",
              "    </tr>\n",
              "    <tr>\n",
              "      <th>89125</th>\n",
              "      <td>190246</td>\n",
              "      <td>2</td>\n",
              "      <td>3</td>\n",
              "      <td>3</td>\n",
              "      <td>2.666667</td>\n",
              "      <td>2.8</td>\n",
              "      <td>2.4</td>\n",
              "      <td>3.0</td>\n",
              "      <td>3.0</td>\n",
              "      <td>2.0</td>\n",
              "    </tr>\n",
              "    <tr>\n",
              "      <th>89188</th>\n",
              "      <td>190310</td>\n",
              "      <td>2</td>\n",
              "      <td>3</td>\n",
              "      <td>3</td>\n",
              "      <td>2.666667</td>\n",
              "      <td>2.8</td>\n",
              "      <td>2.4</td>\n",
              "      <td>3.0</td>\n",
              "      <td>3.0</td>\n",
              "      <td>2.0</td>\n",
              "    </tr>\n",
              "    <tr>\n",
              "      <th>89213</th>\n",
              "      <td>190335</td>\n",
              "      <td>2</td>\n",
              "      <td>3</td>\n",
              "      <td>3</td>\n",
              "      <td>2.666667</td>\n",
              "      <td>2.8</td>\n",
              "      <td>2.4</td>\n",
              "      <td>3.0</td>\n",
              "      <td>3.0</td>\n",
              "      <td>2.0</td>\n",
              "    </tr>\n",
              "    <tr>\n",
              "      <th>89400</th>\n",
              "      <td>190524</td>\n",
              "      <td>2</td>\n",
              "      <td>3</td>\n",
              "      <td>3</td>\n",
              "      <td>2.666667</td>\n",
              "      <td>2.8</td>\n",
              "      <td>2.4</td>\n",
              "      <td>3.0</td>\n",
              "      <td>3.0</td>\n",
              "      <td>2.0</td>\n",
              "    </tr>\n",
              "  </tbody>\n",
              "</table>\n",
              "<p>3742 rows × 10 columns</p>\n",
              "</div>"
            ],
            "text/plain": [
              "       Customer  Recency  Frequency  Monetary  unweighted  weighted1  \\\n",
              "33       100034        3          3         2    2.666667        2.8   \n",
              "38       100039        3          2         3    2.666667        2.4   \n",
              "54       100056        3          3         2    2.666667        2.8   \n",
              "58       100060        3          2         3    2.666667        2.4   \n",
              "64       100066        3          2         3    2.666667        2.4   \n",
              "...         ...      ...        ...       ...         ...        ...   \n",
              "88973    190092        2          3         3    2.666667        2.8   \n",
              "89125    190246        2          3         3    2.666667        2.8   \n",
              "89188    190310        2          3         3    2.666667        2.8   \n",
              "89213    190335        2          3         3    2.666667        2.8   \n",
              "89400    190524        2          3         3    2.666667        2.8   \n",
              "\n",
              "       weighted2  group_unweighted  group_weighted1  group_weighted2  \n",
              "33           2.8               3.0              3.0              3.0  \n",
              "38           2.8               3.0              2.0              3.0  \n",
              "54           2.8               3.0              3.0              3.0  \n",
              "58           2.8               3.0              2.0              3.0  \n",
              "64           2.8               3.0              2.0              3.0  \n",
              "...          ...               ...              ...              ...  \n",
              "88973        2.4               3.0              3.0              2.0  \n",
              "89125        2.4               3.0              3.0              2.0  \n",
              "89188        2.4               3.0              3.0              2.0  \n",
              "89213        2.4               3.0              3.0              2.0  \n",
              "89400        2.4               3.0              3.0              2.0  \n",
              "\n",
              "[3742 rows x 10 columns]"
            ]
          },
          "execution_count": 532,
          "metadata": {},
          "output_type": "execute_result"
        }
      ],
      "source": [
        "rfm.loc[rfm['group_unweighted'] == 3]"
      ]
    },
    {
      "cell_type": "markdown",
      "metadata": {
        "id": "LLRIOLPDv6RJ"
      },
      "source": [
        "### Exercise 6: The RFM function"
      ]
    },
    {
      "cell_type": "markdown",
      "metadata": {
        "id": "I801GUA6mKIh"
      },
      "source": [
        "1. Write a function that automates the estimation of the RFM score. **Function input:** pandas.DataFrame as well as the weight for recency, frequency, and monetary value. **Output table:** Customer ID, single RFM scores, overall score, and the RFM group.\n",
        "\n",
        "2. Ensure that the final RFM score is between 1 and 3 even if the weights do not add up to one.\n",
        "\n",
        "Hint: Please do not change the values of the bins."
      ]
    },
    {
      "cell_type": "code",
      "execution_count": 537,
      "metadata": {
        "id": "pRrYkHTmmJtz"
      },
      "outputs": [],
      "source": [
        "def calculateRFMscores(data, weight_recency=1, weight_frequency=1, weight_monetary=1):\n",
        "\n",
        "    # Ensure that the weights add up to one\n",
        "    weight_recency2 = weight_recency/sum([weight_recency, weight_frequency, weight_monetary])\n",
        "    weight_frequency2 = weight_frequency/sum([weight_recency, weight_frequency, weight_monetary])\n",
        "    weight_monetary2 = weight_monetary/sum([weight_recency, weight_frequency, weight_monetary])\n",
        "\n",
        "    # RFM measures\n",
        "    rfm = data.copy()\n",
        "    rfm[\"Recency\"] = (pd.to_datetime(\"2023-09-01\") -\n",
        "                      pd.to_datetime(rfm[\"TransDate\"])).dt.days\n",
        "    rfm[\"Frequency\"] = rfm[\"TransID\"]\n",
        "    rfm[\"Monetary\"] = rfm[\"PurchAmount\"]\n",
        "\n",
        "    # RFM scores\n",
        "    #recency\n",
        "    bins_rec = [-0.1, 1000, 2000, max(rfm[\"Recency\"])]\n",
        "    rfm[\"R_Score\"] = pd.cut(rfm[\"Recency\"], bins=bins_rec, labels=[3, 2, 1])\n",
        "\n",
        "    #frequency\n",
        "    bins_freq=[-0.1,1,3,max(rfm[\"Frequency\"])]\n",
        "    rfm[\"F_Score\"] = pd.cut(rfm[\"Frequency\"], bins=bins_freq, labels=[1, 2, 3])\n",
        "\n",
        "    #monetary\n",
        "    bins_mon=[-0.1,50,100,max(rfm[\"Monetary\"])]\n",
        "    rfm[\"M_Score\"] = pd.cut(rfm[\"Monetary\"], bins=bins_mon, labels=[1, 2, 3])\n",
        "\n",
        "    # Overall weighted RFM score\n",
        "    rfm[\"finalscore\"] = (\n",
        "        (rfm[\"R_Score\"].astype(int) * weight_recency2) +\n",
        "        (rfm[\"F_Score\"].astype(int) * weight_frequency2) +\n",
        "        (rfm[\"M_Score\"].astype(int) * weight_monetary2)\n",
        "    )\n",
        "\n",
        "    # RFM group\n",
        "    rfm[\"group\"]=round(rfm[\"finalscore\"])\n",
        "\n",
        "    return rfm"
      ]
    },
    {
      "cell_type": "code",
      "execution_count": 538,
      "metadata": {},
      "outputs": [
        {
          "data": {
            "text/html": [
              "<div>\n",
              "<style scoped>\n",
              "    .dataframe tbody tr th:only-of-type {\n",
              "        vertical-align: middle;\n",
              "    }\n",
              "\n",
              "    .dataframe tbody tr th {\n",
              "        vertical-align: top;\n",
              "    }\n",
              "\n",
              "    .dataframe thead th {\n",
              "        text-align: right;\n",
              "    }\n",
              "</style>\n",
              "<table border=\"1\" class=\"dataframe\">\n",
              "  <thead>\n",
              "    <tr style=\"text-align: right;\">\n",
              "      <th></th>\n",
              "      <th>Customer</th>\n",
              "      <th>TransDate</th>\n",
              "      <th>Quantity</th>\n",
              "      <th>PurchAmount</th>\n",
              "      <th>Cost</th>\n",
              "      <th>TransID</th>\n",
              "    </tr>\n",
              "  </thead>\n",
              "  <tbody>\n",
              "    <tr>\n",
              "      <th>0</th>\n",
              "      <td>149332</td>\n",
              "      <td>2005-11-15</td>\n",
              "      <td>1</td>\n",
              "      <td>199.95</td>\n",
              "      <td>107.00</td>\n",
              "      <td>127998739</td>\n",
              "    </tr>\n",
              "    <tr>\n",
              "      <th>1</th>\n",
              "      <td>172951</td>\n",
              "      <td>2008-08-29</td>\n",
              "      <td>1</td>\n",
              "      <td>199.95</td>\n",
              "      <td>108.00</td>\n",
              "      <td>128888288</td>\n",
              "    </tr>\n",
              "    <tr>\n",
              "      <th>2</th>\n",
              "      <td>120621</td>\n",
              "      <td>2007-10-19</td>\n",
              "      <td>1</td>\n",
              "      <td>99.95</td>\n",
              "      <td>49.00</td>\n",
              "      <td>125375247</td>\n",
              "    </tr>\n",
              "    <tr>\n",
              "      <th>3</th>\n",
              "      <td>149236</td>\n",
              "      <td>2005-11-14</td>\n",
              "      <td>1</td>\n",
              "      <td>39.95</td>\n",
              "      <td>18.95</td>\n",
              "      <td>127996226</td>\n",
              "    </tr>\n",
              "    <tr>\n",
              "      <th>4</th>\n",
              "      <td>149236</td>\n",
              "      <td>2007-06-12</td>\n",
              "      <td>1</td>\n",
              "      <td>79.95</td>\n",
              "      <td>35.00</td>\n",
              "      <td>128670302</td>\n",
              "    </tr>\n",
              "    <tr>\n",
              "      <th>...</th>\n",
              "      <td>...</td>\n",
              "      <td>...</td>\n",
              "      <td>...</td>\n",
              "      <td>...</td>\n",
              "      <td>...</td>\n",
              "      <td>...</td>\n",
              "    </tr>\n",
              "    <tr>\n",
              "      <th>223186</th>\n",
              "      <td>199997</td>\n",
              "      <td>2012-09-17</td>\n",
              "      <td>1</td>\n",
              "      <td>29.95</td>\n",
              "      <td>13.80</td>\n",
              "      <td>132481149</td>\n",
              "    </tr>\n",
              "    <tr>\n",
              "      <th>223187</th>\n",
              "      <td>199997</td>\n",
              "      <td>2012-09-17</td>\n",
              "      <td>1</td>\n",
              "      <td>29.95</td>\n",
              "      <td>13.80</td>\n",
              "      <td>132481149</td>\n",
              "    </tr>\n",
              "    <tr>\n",
              "      <th>223188</th>\n",
              "      <td>199998</td>\n",
              "      <td>2012-09-17</td>\n",
              "      <td>1</td>\n",
              "      <td>29.95</td>\n",
              "      <td>13.80</td>\n",
              "      <td>132481154</td>\n",
              "    </tr>\n",
              "    <tr>\n",
              "      <th>223189</th>\n",
              "      <td>199999</td>\n",
              "      <td>2012-09-17</td>\n",
              "      <td>1</td>\n",
              "      <td>179.95</td>\n",
              "      <td>109.99</td>\n",
              "      <td>132481165</td>\n",
              "    </tr>\n",
              "    <tr>\n",
              "      <th>223190</th>\n",
              "      <td>199542</td>\n",
              "      <td>2012-09-17</td>\n",
              "      <td>1</td>\n",
              "      <td>39.95</td>\n",
              "      <td>10.50</td>\n",
              "      <td>131973368</td>\n",
              "    </tr>\n",
              "  </tbody>\n",
              "</table>\n",
              "<p>223191 rows × 6 columns</p>\n",
              "</div>"
            ],
            "text/plain": [
              "        Customer  TransDate  Quantity  PurchAmount    Cost    TransID\n",
              "0         149332 2005-11-15         1       199.95  107.00  127998739\n",
              "1         172951 2008-08-29         1       199.95  108.00  128888288\n",
              "2         120621 2007-10-19         1        99.95   49.00  125375247\n",
              "3         149236 2005-11-14         1        39.95   18.95  127996226\n",
              "4         149236 2007-06-12         1        79.95   35.00  128670302\n",
              "...          ...        ...       ...          ...     ...        ...\n",
              "223186    199997 2012-09-17         1        29.95   13.80  132481149\n",
              "223187    199997 2012-09-17         1        29.95   13.80  132481149\n",
              "223188    199998 2012-09-17         1        29.95   13.80  132481154\n",
              "223189    199999 2012-09-17         1       179.95  109.99  132481165\n",
              "223190    199542 2012-09-17         1        39.95   10.50  131973368\n",
              "\n",
              "[223191 rows x 6 columns]"
            ]
          },
          "execution_count": 538,
          "metadata": {},
          "output_type": "execute_result"
        }
      ],
      "source": [
        "myData"
      ]
    },
    {
      "cell_type": "code",
      "execution_count": 539,
      "metadata": {
        "id": "q-xhIrM6v-Pt"
      },
      "outputs": [
        {
          "data": {
            "text/html": [
              "<div>\n",
              "<style scoped>\n",
              "    .dataframe tbody tr th:only-of-type {\n",
              "        vertical-align: middle;\n",
              "    }\n",
              "\n",
              "    .dataframe tbody tr th {\n",
              "        vertical-align: top;\n",
              "    }\n",
              "\n",
              "    .dataframe thead th {\n",
              "        text-align: right;\n",
              "    }\n",
              "</style>\n",
              "<table border=\"1\" class=\"dataframe\">\n",
              "  <thead>\n",
              "    <tr style=\"text-align: right;\">\n",
              "      <th></th>\n",
              "      <th>Customer</th>\n",
              "      <th>TransDate</th>\n",
              "      <th>Quantity</th>\n",
              "      <th>PurchAmount</th>\n",
              "      <th>Cost</th>\n",
              "      <th>TransID</th>\n",
              "      <th>Recency</th>\n",
              "      <th>Frequency</th>\n",
              "      <th>Monetary</th>\n",
              "      <th>R_Score</th>\n",
              "      <th>F_Score</th>\n",
              "      <th>M_Score</th>\n",
              "      <th>finalscore</th>\n",
              "      <th>group</th>\n",
              "    </tr>\n",
              "  </thead>\n",
              "  <tbody>\n",
              "    <tr>\n",
              "      <th>0</th>\n",
              "      <td>149332</td>\n",
              "      <td>2005-11-15</td>\n",
              "      <td>1</td>\n",
              "      <td>199.95</td>\n",
              "      <td>107.00</td>\n",
              "      <td>127998739</td>\n",
              "      <td>6499</td>\n",
              "      <td>127998739</td>\n",
              "      <td>199.95</td>\n",
              "      <td>1</td>\n",
              "      <td>3</td>\n",
              "      <td>3</td>\n",
              "      <td>1.8</td>\n",
              "      <td>2.0</td>\n",
              "    </tr>\n",
              "    <tr>\n",
              "      <th>1</th>\n",
              "      <td>172951</td>\n",
              "      <td>2008-08-29</td>\n",
              "      <td>1</td>\n",
              "      <td>199.95</td>\n",
              "      <td>108.00</td>\n",
              "      <td>128888288</td>\n",
              "      <td>5481</td>\n",
              "      <td>128888288</td>\n",
              "      <td>199.95</td>\n",
              "      <td>1</td>\n",
              "      <td>3</td>\n",
              "      <td>3</td>\n",
              "      <td>1.8</td>\n",
              "      <td>2.0</td>\n",
              "    </tr>\n",
              "    <tr>\n",
              "      <th>2</th>\n",
              "      <td>120621</td>\n",
              "      <td>2007-10-19</td>\n",
              "      <td>1</td>\n",
              "      <td>99.95</td>\n",
              "      <td>49.00</td>\n",
              "      <td>125375247</td>\n",
              "      <td>5796</td>\n",
              "      <td>125375247</td>\n",
              "      <td>99.95</td>\n",
              "      <td>1</td>\n",
              "      <td>3</td>\n",
              "      <td>2</td>\n",
              "      <td>1.6</td>\n",
              "      <td>2.0</td>\n",
              "    </tr>\n",
              "    <tr>\n",
              "      <th>3</th>\n",
              "      <td>149236</td>\n",
              "      <td>2005-11-14</td>\n",
              "      <td>1</td>\n",
              "      <td>39.95</td>\n",
              "      <td>18.95</td>\n",
              "      <td>127996226</td>\n",
              "      <td>6500</td>\n",
              "      <td>127996226</td>\n",
              "      <td>39.95</td>\n",
              "      <td>1</td>\n",
              "      <td>3</td>\n",
              "      <td>1</td>\n",
              "      <td>1.4</td>\n",
              "      <td>1.0</td>\n",
              "    </tr>\n",
              "    <tr>\n",
              "      <th>4</th>\n",
              "      <td>149236</td>\n",
              "      <td>2007-06-12</td>\n",
              "      <td>1</td>\n",
              "      <td>79.95</td>\n",
              "      <td>35.00</td>\n",
              "      <td>128670302</td>\n",
              "      <td>5925</td>\n",
              "      <td>128670302</td>\n",
              "      <td>79.95</td>\n",
              "      <td>1</td>\n",
              "      <td>3</td>\n",
              "      <td>2</td>\n",
              "      <td>1.6</td>\n",
              "      <td>2.0</td>\n",
              "    </tr>\n",
              "    <tr>\n",
              "      <th>...</th>\n",
              "      <td>...</td>\n",
              "      <td>...</td>\n",
              "      <td>...</td>\n",
              "      <td>...</td>\n",
              "      <td>...</td>\n",
              "      <td>...</td>\n",
              "      <td>...</td>\n",
              "      <td>...</td>\n",
              "      <td>...</td>\n",
              "      <td>...</td>\n",
              "      <td>...</td>\n",
              "      <td>...</td>\n",
              "      <td>...</td>\n",
              "      <td>...</td>\n",
              "    </tr>\n",
              "    <tr>\n",
              "      <th>223186</th>\n",
              "      <td>199997</td>\n",
              "      <td>2012-09-17</td>\n",
              "      <td>1</td>\n",
              "      <td>29.95</td>\n",
              "      <td>13.80</td>\n",
              "      <td>132481149</td>\n",
              "      <td>4001</td>\n",
              "      <td>132481149</td>\n",
              "      <td>29.95</td>\n",
              "      <td>1</td>\n",
              "      <td>3</td>\n",
              "      <td>1</td>\n",
              "      <td>1.4</td>\n",
              "      <td>1.0</td>\n",
              "    </tr>\n",
              "    <tr>\n",
              "      <th>223187</th>\n",
              "      <td>199997</td>\n",
              "      <td>2012-09-17</td>\n",
              "      <td>1</td>\n",
              "      <td>29.95</td>\n",
              "      <td>13.80</td>\n",
              "      <td>132481149</td>\n",
              "      <td>4001</td>\n",
              "      <td>132481149</td>\n",
              "      <td>29.95</td>\n",
              "      <td>1</td>\n",
              "      <td>3</td>\n",
              "      <td>1</td>\n",
              "      <td>1.4</td>\n",
              "      <td>1.0</td>\n",
              "    </tr>\n",
              "    <tr>\n",
              "      <th>223188</th>\n",
              "      <td>199998</td>\n",
              "      <td>2012-09-17</td>\n",
              "      <td>1</td>\n",
              "      <td>29.95</td>\n",
              "      <td>13.80</td>\n",
              "      <td>132481154</td>\n",
              "      <td>4001</td>\n",
              "      <td>132481154</td>\n",
              "      <td>29.95</td>\n",
              "      <td>1</td>\n",
              "      <td>3</td>\n",
              "      <td>1</td>\n",
              "      <td>1.4</td>\n",
              "      <td>1.0</td>\n",
              "    </tr>\n",
              "    <tr>\n",
              "      <th>223189</th>\n",
              "      <td>199999</td>\n",
              "      <td>2012-09-17</td>\n",
              "      <td>1</td>\n",
              "      <td>179.95</td>\n",
              "      <td>109.99</td>\n",
              "      <td>132481165</td>\n",
              "      <td>4001</td>\n",
              "      <td>132481165</td>\n",
              "      <td>179.95</td>\n",
              "      <td>1</td>\n",
              "      <td>3</td>\n",
              "      <td>3</td>\n",
              "      <td>1.8</td>\n",
              "      <td>2.0</td>\n",
              "    </tr>\n",
              "    <tr>\n",
              "      <th>223190</th>\n",
              "      <td>199542</td>\n",
              "      <td>2012-09-17</td>\n",
              "      <td>1</td>\n",
              "      <td>39.95</td>\n",
              "      <td>10.50</td>\n",
              "      <td>131973368</td>\n",
              "      <td>4001</td>\n",
              "      <td>131973368</td>\n",
              "      <td>39.95</td>\n",
              "      <td>1</td>\n",
              "      <td>3</td>\n",
              "      <td>1</td>\n",
              "      <td>1.4</td>\n",
              "      <td>1.0</td>\n",
              "    </tr>\n",
              "  </tbody>\n",
              "</table>\n",
              "<p>223191 rows × 14 columns</p>\n",
              "</div>"
            ],
            "text/plain": [
              "        Customer  TransDate  Quantity  PurchAmount    Cost    TransID  \\\n",
              "0         149332 2005-11-15         1       199.95  107.00  127998739   \n",
              "1         172951 2008-08-29         1       199.95  108.00  128888288   \n",
              "2         120621 2007-10-19         1        99.95   49.00  125375247   \n",
              "3         149236 2005-11-14         1        39.95   18.95  127996226   \n",
              "4         149236 2007-06-12         1        79.95   35.00  128670302   \n",
              "...          ...        ...       ...          ...     ...        ...   \n",
              "223186    199997 2012-09-17         1        29.95   13.80  132481149   \n",
              "223187    199997 2012-09-17         1        29.95   13.80  132481149   \n",
              "223188    199998 2012-09-17         1        29.95   13.80  132481154   \n",
              "223189    199999 2012-09-17         1       179.95  109.99  132481165   \n",
              "223190    199542 2012-09-17         1        39.95   10.50  131973368   \n",
              "\n",
              "        Recency  Frequency  Monetary R_Score F_Score M_Score  finalscore  \\\n",
              "0          6499  127998739    199.95       1       3       3         1.8   \n",
              "1          5481  128888288    199.95       1       3       3         1.8   \n",
              "2          5796  125375247     99.95       1       3       2         1.6   \n",
              "3          6500  127996226     39.95       1       3       1         1.4   \n",
              "4          5925  128670302     79.95       1       3       2         1.6   \n",
              "...         ...        ...       ...     ...     ...     ...         ...   \n",
              "223186     4001  132481149     29.95       1       3       1         1.4   \n",
              "223187     4001  132481149     29.95       1       3       1         1.4   \n",
              "223188     4001  132481154     29.95       1       3       1         1.4   \n",
              "223189     4001  132481165    179.95       1       3       3         1.8   \n",
              "223190     4001  131973368     39.95       1       3       1         1.4   \n",
              "\n",
              "        group  \n",
              "0         2.0  \n",
              "1         2.0  \n",
              "2         2.0  \n",
              "3         1.0  \n",
              "4         2.0  \n",
              "...       ...  \n",
              "223186    1.0  \n",
              "223187    1.0  \n",
              "223188    1.0  \n",
              "223189    2.0  \n",
              "223190    1.0  \n",
              "\n",
              "[223191 rows x 14 columns]"
            ]
          },
          "execution_count": 539,
          "metadata": {},
          "output_type": "execute_result"
        }
      ],
      "source": [
        "calculateRFMscores(myData,60,20,20)"
      ]
    },
    {
      "cell_type": "markdown",
      "metadata": {
        "id": "QmkCjDvOZFzQ"
      },
      "source": [
        "### 7. Kaggle Competition: Identify the weights used in the training data"
      ]
    },
    {
      "cell_type": "markdown",
      "metadata": {
        "id": "tNzzY-8EZskg"
      },
      "source": [
        "\n",
        "\n",
        "1. Read in training data. Hint: You first need to upload the training data to google colab. To do this click on the folder button to the right and then on upload.\n",
        "\n"
      ]
    },
    {
      "cell_type": "code",
      "execution_count": null,
      "metadata": {},
      "outputs": [],
      "source": []
    },
    {
      "cell_type": "code",
      "execution_count": 540,
      "metadata": {
        "id": "A6ziJcxQZEjB"
      },
      "outputs": [
        {
          "data": {
            "text/html": [
              "<div>\n",
              "<style scoped>\n",
              "    .dataframe tbody tr th:only-of-type {\n",
              "        vertical-align: middle;\n",
              "    }\n",
              "\n",
              "    .dataframe tbody tr th {\n",
              "        vertical-align: top;\n",
              "    }\n",
              "\n",
              "    .dataframe thead th {\n",
              "        text-align: right;\n",
              "    }\n",
              "</style>\n",
              "<table border=\"1\" class=\"dataframe\">\n",
              "  <thead>\n",
              "    <tr style=\"text-align: right;\">\n",
              "      <th></th>\n",
              "      <th>Customer</th>\n",
              "      <th>Recency</th>\n",
              "      <th>Frequency</th>\n",
              "      <th>Monetary</th>\n",
              "      <th>scoreTraining</th>\n",
              "    </tr>\n",
              "  </thead>\n",
              "  <tbody>\n",
              "    <tr>\n",
              "      <th>0</th>\n",
              "      <td>100001</td>\n",
              "      <td>1</td>\n",
              "      <td>2</td>\n",
              "      <td>3</td>\n",
              "      <td>2.07418</td>\n",
              "    </tr>\n",
              "    <tr>\n",
              "      <th>1</th>\n",
              "      <td>100002</td>\n",
              "      <td>3</td>\n",
              "      <td>1</td>\n",
              "      <td>3</td>\n",
              "      <td>2.08660</td>\n",
              "    </tr>\n",
              "    <tr>\n",
              "      <th>2</th>\n",
              "      <td>100003</td>\n",
              "      <td>1</td>\n",
              "      <td>2</td>\n",
              "      <td>3</td>\n",
              "      <td>2.07418</td>\n",
              "    </tr>\n",
              "    <tr>\n",
              "      <th>3</th>\n",
              "      <td>100004</td>\n",
              "      <td>1</td>\n",
              "      <td>1</td>\n",
              "      <td>3</td>\n",
              "      <td>1.61748</td>\n",
              "    </tr>\n",
              "    <tr>\n",
              "      <th>4</th>\n",
              "      <td>100005</td>\n",
              "      <td>1</td>\n",
              "      <td>3</td>\n",
              "      <td>2</td>\n",
              "      <td>2.22214</td>\n",
              "    </tr>\n",
              "    <tr>\n",
              "      <th>...</th>\n",
              "      <td>...</td>\n",
              "      <td>...</td>\n",
              "      <td>...</td>\n",
              "      <td>...</td>\n",
              "      <td>...</td>\n",
              "    </tr>\n",
              "    <tr>\n",
              "      <th>98775</th>\n",
              "      <td>199995</td>\n",
              "      <td>1</td>\n",
              "      <td>2</td>\n",
              "      <td>1</td>\n",
              "      <td>1.45670</td>\n",
              "    </tr>\n",
              "    <tr>\n",
              "      <th>98776</th>\n",
              "      <td>199996</td>\n",
              "      <td>1</td>\n",
              "      <td>1</td>\n",
              "      <td>3</td>\n",
              "      <td>1.61748</td>\n",
              "    </tr>\n",
              "    <tr>\n",
              "      <th>98777</th>\n",
              "      <td>199997</td>\n",
              "      <td>1</td>\n",
              "      <td>3</td>\n",
              "      <td>1</td>\n",
              "      <td>1.91340</td>\n",
              "    </tr>\n",
              "    <tr>\n",
              "      <th>98778</th>\n",
              "      <td>199998</td>\n",
              "      <td>1</td>\n",
              "      <td>1</td>\n",
              "      <td>1</td>\n",
              "      <td>1.00000</td>\n",
              "    </tr>\n",
              "    <tr>\n",
              "      <th>98779</th>\n",
              "      <td>199999</td>\n",
              "      <td>1</td>\n",
              "      <td>1</td>\n",
              "      <td>3</td>\n",
              "      <td>1.61748</td>\n",
              "    </tr>\n",
              "  </tbody>\n",
              "</table>\n",
              "<p>98780 rows × 5 columns</p>\n",
              "</div>"
            ],
            "text/plain": [
              "       Customer  Recency  Frequency  Monetary  scoreTraining\n",
              "0        100001        1          2         3        2.07418\n",
              "1        100002        3          1         3        2.08660\n",
              "2        100003        1          2         3        2.07418\n",
              "3        100004        1          1         3        1.61748\n",
              "4        100005        1          3         2        2.22214\n",
              "...         ...      ...        ...       ...            ...\n",
              "98775    199995        1          2         1        1.45670\n",
              "98776    199996        1          1         3        1.61748\n",
              "98777    199997        1          3         1        1.91340\n",
              "98778    199998        1          1         1        1.00000\n",
              "98779    199999        1          1         3        1.61748\n",
              "\n",
              "[98780 rows x 5 columns]"
            ]
          },
          "execution_count": 540,
          "metadata": {},
          "output_type": "execute_result"
        }
      ],
      "source": [
        "# RFM scores in the training data\n",
        "rfm_training = pd.read_csv(\"training_data.csv\")\n",
        "rfm_training"
      ]
    },
    {
      "cell_type": "markdown",
      "metadata": {
        "id": "y5Fl-zwOaHOk"
      },
      "source": [
        "\n",
        "2. Define a set of candidate weights. Hint: Create much more candidate weights than in the code example below.\n",
        "\n"
      ]
    },
    {
      "cell_type": "code",
      "execution_count": 541,
      "metadata": {
        "id": "zBBv9Z4UaQTc"
      },
      "outputs": [],
      "source": [
        "candidate_weights = [\n",
        "    [0.4, 0.2, 0.7],\n",
        "    [0.2, 0.2, 0.6]\n",
        "]"
      ]
    },
    {
      "cell_type": "markdown",
      "metadata": {
        "id": "hrdk4-JSamZ3"
      },
      "source": [
        "3. Compute the RFM scores on the transactions data, using the weights defined. Then compute the mean absolute error between the rfm scores in the transactions data and the rfm scores in the training data.\n",
        "Hint: Merge the two dataframes by Customer, to make sure you are comparing the scores of the same customer."
      ]
    },
    {
      "cell_type": "markdown",
      "metadata": {
        "id": "83phQJRZca58"
      },
      "source": [
        "Simple code: feasible only with few candidate weights. Its purpose is more to illustrate the idea of what needs to be done"
      ]
    },
    {
      "cell_type": "code",
      "execution_count": 542,
      "metadata": {
        "id": "znQRiUx0a1CH"
      },
      "outputs": [
        {
          "ename": "TypeError",
          "evalue": "calculateRFMscores() got an unexpected keyword argument 'weights'",
          "output_type": "error",
          "traceback": [
            "\u001b[0;31m---------------------------------------------------------------------------\u001b[0m",
            "\u001b[0;31mTypeError\u001b[0m                                 Traceback (most recent call last)",
            "Cell \u001b[0;32mIn[542], line 2\u001b[0m\n\u001b[1;32m      1\u001b[0m \u001b[39m# Calculate rfm score using the first set of candidate weights\u001b[39;00m\n\u001b[0;32m----> 2\u001b[0m rfm0 \u001b[39m=\u001b[39m calculateRFMscores(myData, weights \u001b[39m=\u001b[39;49m candidate_weights[\u001b[39m0\u001b[39;49m])\n\u001b[1;32m      3\u001b[0m \u001b[39m# Merge with the training data by customer\u001b[39;00m\n\u001b[1;32m      4\u001b[0m data_tmp \u001b[39m=\u001b[39m rfm_training\u001b[39m.\u001b[39mmerge(rfm0, how\u001b[39m=\u001b[39m\u001b[39m'\u001b[39m\u001b[39minner\u001b[39m\u001b[39m'\u001b[39m, on\u001b[39m=\u001b[39m\u001b[39m'\u001b[39m\u001b[39mCustomer\u001b[39m\u001b[39m'\u001b[39m)\n",
            "\u001b[0;31mTypeError\u001b[0m: calculateRFMscores() got an unexpected keyword argument 'weights'"
          ]
        }
      ],
      "source": [
        "# Calculate rfm score using the first set of candidate weights\n",
        "rfm0 = calculateRFMscores(myData, weights = candidate_weights[0])\n",
        "# Merge with the training data by customer\n",
        "data_tmp = rfm_training.merge(rfm0, how='inner', on='Customer')\n",
        "# Calculate the score difference\n",
        "score_difference0 = np.mean(np.abs(data_tmp['finalscore'] - data_tmp['score']))\n",
        "print(score_difference0)\n",
        "\n",
        "# Calculate rfm score using the second set of candidate weights\n",
        "rfm1 = calculateRFMscores(myData, weights = candidate_weights[1])\n",
        "# Merge with the training data by customer\n",
        "data_tmp = rfm_training.merge(rfm1, how='inner', on='Customer')\n",
        "# Calculate the score difference\n",
        "score_difference1 = np.mean(np.abs(data_tmp['finalscore'] - data_tmp['score']))\n",
        "print(score_difference1)\n"
      ]
    },
    {
      "cell_type": "markdown",
      "metadata": {
        "id": "pAmZ0k6MczEh"
      },
      "source": [
        "Proper code: works with larger set of weights."
      ]
    },
    {
      "cell_type": "code",
      "execution_count": null,
      "metadata": {
        "id": "NwwREHNyc5qm"
      },
      "outputs": [],
      "source": [
        "# Initialize variables to store the best weights and the smallest score difference\n",
        "best_weights = None\n",
        "smallest_score_difference = float('inf')\n",
        "\n",
        "# Evaluate RFM function on multiple sets of weights and compute score differences\n",
        "for weights in candidate_weights:\n",
        "  ***** YOUR CODE GOES HERE *****************\n",
        "\n",
        "# Print the best weights and smallest score difference\n",
        "print(\"Best weights:\", best_weights)\n",
        "print(\"Smallest score difference:\", smallest_score_difference)"
      ]
    },
    {
      "cell_type": "markdown",
      "metadata": {
        "id": "1qpH5L1xeWOg"
      },
      "source": [
        "4. Save the weights with the smallest score difference and submit them to kaggle. Hint: After you wrote the data to csv, download it to your computer and then submit it to kaggle. To download the data, go again to the folder button on the right."
      ]
    },
    {
      "cell_type": "code",
      "execution_count": null,
      "metadata": {
        "id": "3LxQl6HuehHq"
      },
      "outputs": [],
      "source": [
        "# Create list with 1 (for id) and the weights\n",
        "data=[1]\n",
        "data.extend(best_weights)\n",
        "\n",
        "# Create dataframe from the list with the correct column names\n",
        "submissionData = pd.DataFrame([data],  columns=[\"id\",\"weight_recency\", \"weight_frequency\", \"weight_monetary\"])\n",
        "\n",
        "# Save data\n",
        "submissionData.to_csv(\"kaggle_submission.csv\", index=None)"
      ]
    },
    {
      "cell_type": "code",
      "execution_count": 553,
      "metadata": {},
      "outputs": [
        {
          "data": {
            "text/html": [
              "<div>\n",
              "<style scoped>\n",
              "    .dataframe tbody tr th:only-of-type {\n",
              "        vertical-align: middle;\n",
              "    }\n",
              "\n",
              "    .dataframe tbody tr th {\n",
              "        vertical-align: top;\n",
              "    }\n",
              "\n",
              "    .dataframe thead th {\n",
              "        text-align: right;\n",
              "    }\n",
              "</style>\n",
              "<table border=\"1\" class=\"dataframe\">\n",
              "  <thead>\n",
              "    <tr style=\"text-align: right;\">\n",
              "      <th></th>\n",
              "      <th>Customer</th>\n",
              "      <th>TransDate</th>\n",
              "      <th>Quantity</th>\n",
              "      <th>PurchAmount</th>\n",
              "      <th>Cost</th>\n",
              "      <th>TransID</th>\n",
              "    </tr>\n",
              "  </thead>\n",
              "  <tbody>\n",
              "    <tr>\n",
              "      <th>0</th>\n",
              "      <td>149332</td>\n",
              "      <td>2005-11-15</td>\n",
              "      <td>1</td>\n",
              "      <td>199.95</td>\n",
              "      <td>107.00</td>\n",
              "      <td>127998739</td>\n",
              "    </tr>\n",
              "    <tr>\n",
              "      <th>1</th>\n",
              "      <td>172951</td>\n",
              "      <td>2008-08-29</td>\n",
              "      <td>1</td>\n",
              "      <td>199.95</td>\n",
              "      <td>108.00</td>\n",
              "      <td>128888288</td>\n",
              "    </tr>\n",
              "    <tr>\n",
              "      <th>2</th>\n",
              "      <td>120621</td>\n",
              "      <td>2007-10-19</td>\n",
              "      <td>1</td>\n",
              "      <td>99.95</td>\n",
              "      <td>49.00</td>\n",
              "      <td>125375247</td>\n",
              "    </tr>\n",
              "    <tr>\n",
              "      <th>3</th>\n",
              "      <td>149236</td>\n",
              "      <td>2005-11-14</td>\n",
              "      <td>1</td>\n",
              "      <td>39.95</td>\n",
              "      <td>18.95</td>\n",
              "      <td>127996226</td>\n",
              "    </tr>\n",
              "    <tr>\n",
              "      <th>4</th>\n",
              "      <td>149236</td>\n",
              "      <td>2007-06-12</td>\n",
              "      <td>1</td>\n",
              "      <td>79.95</td>\n",
              "      <td>35.00</td>\n",
              "      <td>128670302</td>\n",
              "    </tr>\n",
              "    <tr>\n",
              "      <th>...</th>\n",
              "      <td>...</td>\n",
              "      <td>...</td>\n",
              "      <td>...</td>\n",
              "      <td>...</td>\n",
              "      <td>...</td>\n",
              "      <td>...</td>\n",
              "    </tr>\n",
              "    <tr>\n",
              "      <th>223186</th>\n",
              "      <td>199997</td>\n",
              "      <td>2012-09-17</td>\n",
              "      <td>1</td>\n",
              "      <td>29.95</td>\n",
              "      <td>13.80</td>\n",
              "      <td>132481149</td>\n",
              "    </tr>\n",
              "    <tr>\n",
              "      <th>223187</th>\n",
              "      <td>199997</td>\n",
              "      <td>2012-09-17</td>\n",
              "      <td>1</td>\n",
              "      <td>29.95</td>\n",
              "      <td>13.80</td>\n",
              "      <td>132481149</td>\n",
              "    </tr>\n",
              "    <tr>\n",
              "      <th>223188</th>\n",
              "      <td>199998</td>\n",
              "      <td>2012-09-17</td>\n",
              "      <td>1</td>\n",
              "      <td>29.95</td>\n",
              "      <td>13.80</td>\n",
              "      <td>132481154</td>\n",
              "    </tr>\n",
              "    <tr>\n",
              "      <th>223189</th>\n",
              "      <td>199999</td>\n",
              "      <td>2012-09-17</td>\n",
              "      <td>1</td>\n",
              "      <td>179.95</td>\n",
              "      <td>109.99</td>\n",
              "      <td>132481165</td>\n",
              "    </tr>\n",
              "    <tr>\n",
              "      <th>223190</th>\n",
              "      <td>199542</td>\n",
              "      <td>2012-09-17</td>\n",
              "      <td>1</td>\n",
              "      <td>39.95</td>\n",
              "      <td>10.50</td>\n",
              "      <td>131973368</td>\n",
              "    </tr>\n",
              "  </tbody>\n",
              "</table>\n",
              "<p>223191 rows × 6 columns</p>\n",
              "</div>"
            ],
            "text/plain": [
              "        Customer  TransDate  Quantity  PurchAmount    Cost    TransID\n",
              "0         149332 2005-11-15         1       199.95  107.00  127998739\n",
              "1         172951 2008-08-29         1       199.95  108.00  128888288\n",
              "2         120621 2007-10-19         1        99.95   49.00  125375247\n",
              "3         149236 2005-11-14         1        39.95   18.95  127996226\n",
              "4         149236 2007-06-12         1        79.95   35.00  128670302\n",
              "...          ...        ...       ...          ...     ...        ...\n",
              "223186    199997 2012-09-17         1        29.95   13.80  132481149\n",
              "223187    199997 2012-09-17         1        29.95   13.80  132481149\n",
              "223188    199998 2012-09-17         1        29.95   13.80  132481154\n",
              "223189    199999 2012-09-17         1       179.95  109.99  132481165\n",
              "223190    199542 2012-09-17         1        39.95   10.50  131973368\n",
              "\n",
              "[223191 rows x 6 columns]"
            ]
          },
          "execution_count": 553,
          "metadata": {},
          "output_type": "execute_result"
        }
      ],
      "source": [
        "myData"
      ]
    },
    {
      "cell_type": "code",
      "execution_count": 560,
      "metadata": {},
      "outputs": [
        {
          "ename": "NotImplementedError",
          "evalue": "iLocation based boolean indexing on an integer type is not available",
          "output_type": "error",
          "traceback": [
            "\u001b[0;31m---------------------------------------------------------------------------\u001b[0m",
            "\u001b[0;31mNotImplementedError\u001b[0m                       Traceback (most recent call last)",
            "Cell \u001b[0;32mIn[560], line 1\u001b[0m\n\u001b[0;32m----> 1\u001b[0m myData\u001b[39m.\u001b[39;49miloc[myData[\u001b[39m\"\u001b[39;49m\u001b[39mCustomer\u001b[39;49m\u001b[39m\"\u001b[39;49m]\u001b[39m==\u001b[39;49m\u001b[39m149332\u001b[39;49m, \u001b[39m\"\u001b[39;49m\u001b[39mQuantity\u001b[39;49m\u001b[39m\"\u001b[39;49m]\n",
            "File \u001b[0;32m~/opt/anaconda3/envs/uni-python-marketing/lib/python3.9/site-packages/pandas/core/indexing.py:1097\u001b[0m, in \u001b[0;36m_LocationIndexer.__getitem__\u001b[0;34m(self, key)\u001b[0m\n\u001b[1;32m   1095\u001b[0m     \u001b[39mif\u001b[39;00m \u001b[39mself\u001b[39m\u001b[39m.\u001b[39m_is_scalar_access(key):\n\u001b[1;32m   1096\u001b[0m         \u001b[39mreturn\u001b[39;00m \u001b[39mself\u001b[39m\u001b[39m.\u001b[39mobj\u001b[39m.\u001b[39m_get_value(\u001b[39m*\u001b[39mkey, takeable\u001b[39m=\u001b[39m\u001b[39mself\u001b[39m\u001b[39m.\u001b[39m_takeable)\n\u001b[0;32m-> 1097\u001b[0m     \u001b[39mreturn\u001b[39;00m \u001b[39mself\u001b[39;49m\u001b[39m.\u001b[39;49m_getitem_tuple(key)\n\u001b[1;32m   1098\u001b[0m \u001b[39melse\u001b[39;00m:\n\u001b[1;32m   1099\u001b[0m     \u001b[39m# we by definition only have the 0th axis\u001b[39;00m\n\u001b[1;32m   1100\u001b[0m     axis \u001b[39m=\u001b[39m \u001b[39mself\u001b[39m\u001b[39m.\u001b[39maxis \u001b[39mor\u001b[39;00m \u001b[39m0\u001b[39m\n",
            "File \u001b[0;32m~/opt/anaconda3/envs/uni-python-marketing/lib/python3.9/site-packages/pandas/core/indexing.py:1594\u001b[0m, in \u001b[0;36m_iLocIndexer._getitem_tuple\u001b[0;34m(self, tup)\u001b[0m\n\u001b[1;32m   1593\u001b[0m \u001b[39mdef\u001b[39;00m \u001b[39m_getitem_tuple\u001b[39m(\u001b[39mself\u001b[39m, tup: \u001b[39mtuple\u001b[39m):\n\u001b[0;32m-> 1594\u001b[0m     tup \u001b[39m=\u001b[39m \u001b[39mself\u001b[39;49m\u001b[39m.\u001b[39;49m_validate_tuple_indexer(tup)\n\u001b[1;32m   1595\u001b[0m     \u001b[39mwith\u001b[39;00m suppress(IndexingError):\n\u001b[1;32m   1596\u001b[0m         \u001b[39mreturn\u001b[39;00m \u001b[39mself\u001b[39m\u001b[39m.\u001b[39m_getitem_lowerdim(tup)\n",
            "File \u001b[0;32m~/opt/anaconda3/envs/uni-python-marketing/lib/python3.9/site-packages/pandas/core/indexing.py:904\u001b[0m, in \u001b[0;36m_LocationIndexer._validate_tuple_indexer\u001b[0;34m(self, key)\u001b[0m\n\u001b[1;32m    902\u001b[0m \u001b[39mfor\u001b[39;00m i, k \u001b[39min\u001b[39;00m \u001b[39menumerate\u001b[39m(key):\n\u001b[1;32m    903\u001b[0m     \u001b[39mtry\u001b[39;00m:\n\u001b[0;32m--> 904\u001b[0m         \u001b[39mself\u001b[39;49m\u001b[39m.\u001b[39;49m_validate_key(k, i)\n\u001b[1;32m    905\u001b[0m     \u001b[39mexcept\u001b[39;00m \u001b[39mValueError\u001b[39;00m \u001b[39mas\u001b[39;00m err:\n\u001b[1;32m    906\u001b[0m         \u001b[39mraise\u001b[39;00m \u001b[39mValueError\u001b[39;00m(\n\u001b[1;32m    907\u001b[0m             \u001b[39m\"\u001b[39m\u001b[39mLocation based indexing can only have \u001b[39m\u001b[39m\"\u001b[39m\n\u001b[1;32m    908\u001b[0m             \u001b[39mf\u001b[39m\u001b[39m\"\u001b[39m\u001b[39m[\u001b[39m\u001b[39m{\u001b[39;00m\u001b[39mself\u001b[39m\u001b[39m.\u001b[39m_valid_types\u001b[39m}\u001b[39;00m\u001b[39m] types\u001b[39m\u001b[39m\"\u001b[39m\n\u001b[1;32m    909\u001b[0m         ) \u001b[39mfrom\u001b[39;00m \u001b[39merr\u001b[39;00m\n",
            "File \u001b[0;32m~/opt/anaconda3/envs/uni-python-marketing/lib/python3.9/site-packages/pandas/core/indexing.py:1482\u001b[0m, in \u001b[0;36m_iLocIndexer._validate_key\u001b[0;34m(self, key, axis)\u001b[0m\n\u001b[1;32m   1480\u001b[0m \u001b[39mif\u001b[39;00m \u001b[39mhasattr\u001b[39m(key, \u001b[39m\"\u001b[39m\u001b[39mindex\u001b[39m\u001b[39m\"\u001b[39m) \u001b[39mand\u001b[39;00m \u001b[39misinstance\u001b[39m(key\u001b[39m.\u001b[39mindex, Index):\n\u001b[1;32m   1481\u001b[0m     \u001b[39mif\u001b[39;00m key\u001b[39m.\u001b[39mindex\u001b[39m.\u001b[39minferred_type \u001b[39m==\u001b[39m \u001b[39m\"\u001b[39m\u001b[39minteger\u001b[39m\u001b[39m\"\u001b[39m:\n\u001b[0;32m-> 1482\u001b[0m         \u001b[39mraise\u001b[39;00m \u001b[39mNotImplementedError\u001b[39;00m(\n\u001b[1;32m   1483\u001b[0m             \u001b[39m\"\u001b[39m\u001b[39miLocation based boolean \u001b[39m\u001b[39m\"\u001b[39m\n\u001b[1;32m   1484\u001b[0m             \u001b[39m\"\u001b[39m\u001b[39mindexing on an integer type \u001b[39m\u001b[39m\"\u001b[39m\n\u001b[1;32m   1485\u001b[0m             \u001b[39m\"\u001b[39m\u001b[39mis not available\u001b[39m\u001b[39m\"\u001b[39m\n\u001b[1;32m   1486\u001b[0m         )\n\u001b[1;32m   1487\u001b[0m     \u001b[39mraise\u001b[39;00m \u001b[39mValueError\u001b[39;00m(\n\u001b[1;32m   1488\u001b[0m         \u001b[39m\"\u001b[39m\u001b[39miLocation based boolean indexing cannot use \u001b[39m\u001b[39m\"\u001b[39m\n\u001b[1;32m   1489\u001b[0m         \u001b[39m\"\u001b[39m\u001b[39man indexable as a mask\u001b[39m\u001b[39m\"\u001b[39m\n\u001b[1;32m   1490\u001b[0m     )\n\u001b[1;32m   1491\u001b[0m \u001b[39mreturn\u001b[39;00m\n",
            "\u001b[0;31mNotImplementedError\u001b[0m: iLocation based boolean indexing on an integer type is not available"
          ]
        }
      ],
      "source": [
        "myData.iloc[myData[\"Customer\"]==149332, \"Quantity\"]"
      ]
    },
    {
      "cell_type": "code",
      "execution_count": 556,
      "metadata": {},
      "outputs": [
        {
          "name": "stdout",
          "output_type": "stream",
          "text": [
            "3\n",
            "4\n"
          ]
        }
      ],
      "source": [
        "x = [3, 4, 5, 6, 7]\n",
        "for i in x:\n",
        "    if i == 5:\n",
        "        break\n",
        "    print(i)"
      ]
    },
    {
      "cell_type": "code",
      "execution_count": 558,
      "metadata": {},
      "outputs": [
        {
          "data": {
            "text/plain": [
              "array([ 5,  6,  7,  8,  9, 10, 11, 12, 13])"
            ]
          },
          "execution_count": 558,
          "metadata": {},
          "output_type": "execute_result"
        }
      ],
      "source": [
        "np.arange(5, 14)"
      ]
    },
    {
      "cell_type": "code",
      "execution_count": 561,
      "metadata": {},
      "outputs": [
        {
          "data": {
            "text/plain": [
              "array([ 7,  7,  8,  8,  9,  9, 10, 10, 11, 11, 12, 12, 13, 13, 14, 14, 15,\n",
              "       15, 16, 16, 17, 17, 18, 18, 19, 19, 20, 20])"
            ]
          },
          "execution_count": 561,
          "metadata": {},
          "output_type": "execute_result"
        }
      ],
      "source": [
        "np.repeat(range(7, 21), 2)"
      ]
    }
  ],
  "metadata": {
    "colab": {
      "provenance": []
    },
    "kernelspec": {
      "display_name": "Python 3",
      "name": "python3"
    },
    "language_info": {
      "codemirror_mode": {
        "name": "ipython",
        "version": 3
      },
      "file_extension": ".py",
      "mimetype": "text/x-python",
      "name": "python",
      "nbconvert_exporter": "python",
      "pygments_lexer": "ipython3",
      "version": "3.9.17"
    }
  },
  "nbformat": 4,
  "nbformat_minor": 0
}
