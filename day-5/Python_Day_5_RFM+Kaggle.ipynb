{
  "nbformat": 4,
  "nbformat_minor": 0,
  "metadata": {
    "colab": {
      "provenance": []
    },
    "kernelspec": {
      "name": "python3",
      "display_name": "Python 3"
    }
  },
  "cells": [
    {
      "cell_type": "markdown",
      "metadata": {
        "id": "3arMV6uM79oD"
      },
      "source": [
        "#Python - Non-technical introduction\n",
        "\n",
        "##Final Exercise \"Scoring Model\"\n",
        "\n",
        "This file provides you guidance for developing your own customer scoring model. The task is structured in XXX tasks that build-up on each other. We will provide intermediary solutions a long the way.\n",
        "\n",
        "*Note:* If you want to make changes to this document, you need to save your own copy using the \"Save copy in Drive\" command in the \"File\" menu."
      ]
    },
    {
      "cell_type": "markdown",
      "metadata": {
        "id": "c7xrHageKBHn"
      },
      "source": [
        "###Exercise 1: Preparation\n",
        "\n",
        "Before we start, let's do some **preparations** required for subsequent exercises.\n",
        "\n",
        "1.   Load the following packages: numpy, pandas, matplotlib, seaborn.\n",
        "2.   Load the data transactonal data using `read_csv()`. You can find the file here: [https://raw.githubusercontent.com/bachmannpatrick/Python-Class/master/data/transactions.csv\"](https://raw.githubusercontent.com/bachmannpatrick/Python-Class/master/data/transactions.csv\")\n",
        "3.   Transpose the variable `TransDate` to datetime  with pandas `to_datetime()`.\n",
        "\n",
        "\n"
      ]
    },
    {
      "cell_type": "code",
      "metadata": {
        "id": "EmbjkbMNKRaX"
      },
      "source": [
        "# 1.\n",
        "import pandas as pd\n",
        "import numpy as np\n",
        "import seaborn as sbn\n",
        "import matplotlib.pyplot as plt\n",
        "\n",
        "# 2. Read the csv file and store it in the variable \"myData\". Note: this file is hostes in a GitHub repository.\n",
        "myData=pd.read_csv(filepath_or_buffer=\"https://raw.githubusercontent.com/bachmannpatrick/Python-Class/master/data/transactions.csv\", sep=\",\")\n",
        "\n",
        "# 3. Adjust the format of column \"TransDate\" to datetime\n",
        "******** YOUR CODE GOES HERE ************"
      ],
      "execution_count": null,
      "outputs": []
    },
    {
      "cell_type": "markdown",
      "metadata": {
        "id": "vaX9FRSfJwsn"
      },
      "source": [
        "###Exercise 2: Aggregation of variables"
      ]
    },
    {
      "cell_type": "markdown",
      "metadata": {
        "id": "ts-dk8M0M58d"
      },
      "source": [
        "1. Save the date of the overall latest transaction in a variable called `max_Date`.\n"
      ]
    },
    {
      "cell_type": "code",
      "metadata": {
        "id": "7WxjwfPblNMI"
      },
      "source": [
        "max_Date = ******** YOUR CODE GOES HERE ************"
      ],
      "execution_count": null,
      "outputs": []
    },
    {
      "cell_type": "markdown",
      "metadata": {
        "id": "WMyrq2YSM-Yf"
      },
      "source": [
        "2.  Create a new `pandas.DataFrame` called `rfm` that includes the customer ID, as well as the measures for purchase recency, frequency, and monetary value *Hint 1:* `.dt.days` allows to convert datetime differences into integer. *Hint 2:* use aggregation."
      ]
    },
    {
      "cell_type": "code",
      "source": [
        "******** YOUR CODE GOES HERE ************"
      ],
      "metadata": {
        "id": "pIbbhWWEUwXI"
      },
      "execution_count": null,
      "outputs": []
    },
    {
      "cell_type": "markdown",
      "metadata": {
        "id": "PRTgbzsnNBTA"
      },
      "source": [
        "3. Check the structure of the new table and ensure that all the variables are numeric."
      ]
    },
    {
      "cell_type": "code",
      "metadata": {
        "id": "zyo1U-nuNA9I"
      },
      "source": [
        "******** YOUR CODE GOES HERE ************"
      ],
      "execution_count": null,
      "outputs": []
    },
    {
      "cell_type": "markdown",
      "metadata": {
        "id": "GiB117iMFZwQ"
      },
      "source": [
        "###Exercise 3: Descriptive statistics"
      ]
    },
    {
      "cell_type": "markdown",
      "metadata": {
        "id": "LyrU6mAqFw1q"
      },
      "source": [
        "1. Get a first impression of the distribution of RFM measures by taking a look at the `describe(`) function of `pandas.DataFrame`."
      ]
    },
    {
      "cell_type": "code",
      "metadata": {
        "id": "cuDP0AW0FwLU"
      },
      "source": [
        "******** YOUR CODE GOES HERE ************"
      ],
      "execution_count": null,
      "outputs": []
    },
    {
      "cell_type": "markdown",
      "metadata": {
        "id": "F5rjBHknHe8y"
      },
      "source": [
        "2. Use matplotlib.pyplot in order to plot histograms for all the three measures and arrange them in one single picture.\n",
        "3. Adjust the title, labels, axes limits, and colors of your plots in an appealing way"
      ]
    },
    {
      "cell_type": "code",
      "metadata": {
        "id": "09xpBQ0nHkYP"
      },
      "source": [
        "******** YOUR CODE GOES HERE ************"
      ],
      "execution_count": null,
      "outputs": []
    },
    {
      "cell_type": "markdown",
      "metadata": {
        "id": "AXINafetHq4C"
      },
      "source": [
        "####**Slide:** Remark: pandas.cut()function\n",
        "---\n",
        "\n"
      ]
    },
    {
      "cell_type": "code",
      "metadata": {
        "id": "oXtAZVxzHwRF",
        "colab": {
          "base_uri": "https://localhost:8080/",
          "height": 51
        },
        "outputId": "40e846d1-de6c-403f-d51a-0d2f585617c9"
      },
      "source": [
        "temp=[1,1,1,3,4,7,8,9,10,10]\n",
        "\n",
        "temp_factor = pd.cut(temp, bins=2, labels=[\"1\", \"2\"])\n",
        "print(temp_factor)"
      ],
      "execution_count": null,
      "outputs": [
        {
          "output_type": "stream",
          "text": [
            "[1, 1, 1, 1, 1, 2, 2, 2, 2, 2]\n",
            "Categories (2, object): [1 < 2]\n"
          ],
          "name": "stdout"
        }
      ]
    },
    {
      "cell_type": "code",
      "metadata": {
        "id": "FGbVtq8nPs-k",
        "colab": {
          "base_uri": "https://localhost:8080/",
          "height": 51
        },
        "outputId": "2b30da91-48e7-4530-f768-ec693475eba8"
      },
      "source": [
        "# Alternative\n",
        "temp_factor = pd.cut(temp, bins=[0,5,10], labels=[\"1\",\"2\"])\n",
        "print(temp_factor)"
      ],
      "execution_count": null,
      "outputs": [
        {
          "output_type": "stream",
          "text": [
            "[1, 1, 1, 1, 1, 2, 2, 2, 2, 2]\n",
            "Categories (2, object): [1 < 2]\n"
          ],
          "name": "stdout"
        }
      ]
    },
    {
      "cell_type": "markdown",
      "metadata": {
        "id": "npU-q6Npvyoo"
      },
      "source": [
        "###Exercise 4: Calculation of RFM scores"
      ]
    },
    {
      "cell_type": "markdown",
      "metadata": {
        "id": "b5GiqN9rP6h-"
      },
      "source": [
        "1. Use the pandas.cut()command to transform the a) recency, b) frequency, and\n",
        "c) monetary value measure into scores on a scale from 1 to 3 (develop meaningful category splits. Be aware, that the recency score is decreasing in the days since last purchase!\n"
      ]
    },
    {
      "cell_type": "code",
      "metadata": {
        "id": "EopLMRQSv2tB"
      },
      "source": [
        "# recency\n",
        "# Define binning levels\n",
        "bins_rec = [-0.1, 1000, 2000, max(rfm[\"Recency\"])]\n",
        "******** YOUR CODE GOES HERE ************"
      ],
      "execution_count": null,
      "outputs": []
    },
    {
      "cell_type": "code",
      "metadata": {
        "id": "Ozai-Ntb-kHV"
      },
      "source": [
        "# frequency\n",
        "bins_freq=[-0.1,1,3,max(rfm[\"Frequency\"])]\n",
        "******** YOUR CODE GOES HERE ************"
      ],
      "execution_count": null,
      "outputs": []
    },
    {
      "cell_type": "code",
      "metadata": {
        "id": "BgKNhPYFQscL"
      },
      "source": [
        "# monetary value\n",
        "bins_mon=[-0.1,50,100,max(rfm[\"Monetary\"])]\n",
        "******** YOUR CODE GOES HERE ************"
      ],
      "execution_count": null,
      "outputs": []
    },
    {
      "cell_type": "code",
      "metadata": {
        "id": "MEDPHntwOuKb"
      },
      "source": [
        "# Display the dataframe\n",
        "print(rfm)"
      ],
      "execution_count": null,
      "outputs": []
    },
    {
      "cell_type": "markdown",
      "metadata": {
        "id": "wgiC_Zl5RC0-"
      },
      "source": [
        "2. Use matplotlib again to plot histograms for all the three scores and arrange them in one single picture. Do you notice something particular?\n"
      ]
    },
    {
      "cell_type": "code",
      "metadata": {
        "id": "VANEeneYRJGq"
      },
      "source": [
        "plt.suptitle(\"Data Overview - RFM Scores\")\n",
        "\n",
        "# Recency score\n",
        "plt.subplot(1,3,1)\n",
        "******** YOUR CODE GOES HERE ************\n",
        "\n",
        "# Frequency score\n",
        "plt.subplot(1,3,2)\n",
        "******** YOUR CODE GOES HERE ************\n",
        "\n",
        "# Monetary value score\n",
        "plt.subplot(1,3,3)\n",
        "******** YOUR CODE GOES HERE ************\n",
        "\n",
        "plt.show()"
      ],
      "execution_count": null,
      "outputs": []
    },
    {
      "cell_type": "markdown",
      "metadata": {
        "id": "KVKXORJEeCa0"
      },
      "source": [
        "###Exercise 5: The overall RFM score"
      ]
    },
    {
      "cell_type": "markdown",
      "metadata": {
        "id": "SeusHwFPRXPR"
      },
      "source": [
        "1.Calculate the unweighted RFM score."
      ]
    },
    {
      "cell_type": "code",
      "metadata": {
        "id": "WOO32rCoRbb0"
      },
      "source": [
        "rfm[\"unweighted\"]= ******** YOUR CODE GOES HERE ************\n",
        "print(rfm)"
      ],
      "execution_count": null,
      "outputs": []
    },
    {
      "cell_type": "markdown",
      "metadata": {
        "id": "7_ZgNHA8Rb5W"
      },
      "source": [
        "2. Calculate two weighted RFM scores with the following weights: 20-60-20, 60-20-20."
      ]
    },
    {
      "cell_type": "code",
      "metadata": {
        "id": "pNc5ZepmRel9"
      },
      "source": [
        "rfm[\"weighted1\"]= ******** YOUR CODE GOES HERE ************\n",
        "rfm[\"weighted2\"]= ******** YOUR CODE GOES HERE ************\n",
        "print(rfm)"
      ],
      "execution_count": null,
      "outputs": []
    },
    {
      "cell_type": "markdown",
      "metadata": {
        "id": "ipbjdJAeRfFb"
      },
      "source": [
        "3. Divide all customers into three RFM groups by rounding the unweighted RFM score to the nearest whole number. Hint: Use the function *round* for rounding."
      ]
    },
    {
      "cell_type": "code",
      "metadata": {
        "id": "nernrsPkRhhW"
      },
      "source": [
        "rfm[\"group_unweighted\"]= ******** YOUR CODE GOES HERE ************\n",
        "print(rfm)"
      ],
      "execution_count": null,
      "outputs": []
    },
    {
      "cell_type": "markdown",
      "metadata": {
        "id": "fw-ABmdIRh8m"
      },
      "source": [
        "4. Display all customers with the highest achievable rating."
      ]
    },
    {
      "cell_type": "code",
      "metadata": {
        "id": "uZw0QEBCR79G"
      },
      "source": [
        "******** YOUR CODE GOES HERE ************"
      ],
      "execution_count": null,
      "outputs": []
    },
    {
      "cell_type": "markdown",
      "metadata": {
        "id": "LLRIOLPDv6RJ"
      },
      "source": [
        "### Exercise 6: The RFM function"
      ]
    },
    {
      "cell_type": "markdown",
      "metadata": {
        "id": "I801GUA6mKIh"
      },
      "source": [
        "1. Write a function that automates the estimation of the RFM score. **Function input:** pandas.DataFrame as well as the weight for recency, frequency, and monetary value. **Output table:** Customer ID, single RFM scores, overall score, and the RFM group.\n",
        "\n",
        "2. Ensure that the final RFM score is between 1 and 3 even if the weights do not add up to one.\n",
        "\n",
        "Hint: Please do not change the values of the bins."
      ]
    },
    {
      "cell_type": "code",
      "metadata": {
        "id": "pRrYkHTmmJtz"
      },
      "source": [
        "def calculateRFMscores(data, weight_recency=1, weight_frequency=1, weight_monetary=1):\n",
        "\n",
        "    # Ensure that the weights add up to one\n",
        "    weight_recency2 = weight_recency/sum([weight_recency, weight_frequency, weight_monetary])\n",
        "    weight_frequency2 = ******** YOUR CODE GOES HERE ************\n",
        "    weight_monetary2 = ******** YOUR CODE GOES HERE ************\n",
        "\n",
        "    # RFM measures\n",
        "    ******** YOUR CODE GOES HERE ************\n",
        "\n",
        "    # RFM scores\n",
        "    #recency\n",
        "    bins_freq = [-0.1, 1000, 2000, max(rfm[\"Recency\"])]\n",
        "    ******** YOUR CODE GOES HERE ************\n",
        "\n",
        "    #frequency\n",
        "    bins_freq=[-0.1,1,3,max(rfm[\"Frequency\"])]\n",
        "    ******** YOUR CODE GOES HERE ************\n",
        "\n",
        "    #monetary\n",
        "    bins_mon=[-0.1,50,100,max(rfm[\"Monetary\"])]\n",
        "    ******** YOUR CODE GOES HERE ************\n",
        "\n",
        "    # Overall weighted RFM score\n",
        "    rfm[\"finalscore\"]= ******** YOUR CODE GOES HERE ************\n",
        "\n",
        "    # RFM group\n",
        "    rfm[\"group\"]=round(rfm[\"finalscore\"])\n",
        "\n",
        "    return rfm"
      ],
      "execution_count": null,
      "outputs": []
    },
    {
      "cell_type": "code",
      "metadata": {
        "id": "q-xhIrM6v-Pt"
      },
      "source": [
        "calculateRFMscores(myData,60,20,20)"
      ],
      "execution_count": null,
      "outputs": []
    },
    {
      "cell_type": "markdown",
      "source": [
        "### 7. Kaggle Competition: Identify the weights used in the training data"
      ],
      "metadata": {
        "id": "QmkCjDvOZFzQ"
      }
    },
    {
      "cell_type": "markdown",
      "source": [
        "\n",
        "\n",
        "1. Read in training data. Hint: You first need to upload the training data to google colab. To do this click on the folder button to the right and then on upload.\n",
        "\n"
      ],
      "metadata": {
        "id": "tNzzY-8EZskg"
      }
    },
    {
      "cell_type": "code",
      "source": [
        "# RFM scores in the training data\n",
        "rfm_training = pd.read_csv(\"training_data.csv\")\n",
        "rfm_training"
      ],
      "metadata": {
        "id": "A6ziJcxQZEjB"
      },
      "execution_count": null,
      "outputs": []
    },
    {
      "cell_type": "markdown",
      "source": [
        "\n",
        "2. Define a set of candidate weights. Hint: Create much more candidate weights than in the code example below.\n",
        "\n"
      ],
      "metadata": {
        "id": "y5Fl-zwOaHOk"
      }
    },
    {
      "cell_type": "code",
      "source": [
        "candidate_weights = [\n",
        "    [0.4, 0.2, 0.7],\n",
        "    [0.2, 0.2, 0.6]\n",
        "]"
      ],
      "metadata": {
        "id": "zBBv9Z4UaQTc"
      },
      "execution_count": null,
      "outputs": []
    },
    {
      "cell_type": "markdown",
      "source": [
        "3. Compute the RFM scores on the transactions data, using the weights defined. Then compute the mean absolute error between the rfm scores in the transactions data and the rfm scores in the training data.\n",
        "Hint: Merge the two dataframes by Customer, to make sure you are comparing the scores of the same customer."
      ],
      "metadata": {
        "id": "hrdk4-JSamZ3"
      }
    },
    {
      "cell_type": "markdown",
      "source": [
        "Simple code: feasible only with few candidate weights. Its purpose is more to illustrate the idea of what needs to be done"
      ],
      "metadata": {
        "id": "83phQJRZca58"
      }
    },
    {
      "cell_type": "code",
      "source": [
        "# Calculate rfm score using the first set of candidate weights\n",
        "rfm0 = calculateRFMscores(myData, weights = candidate_weights[0])\n",
        "# Merge with the training data by customer\n",
        "data_tmp = rfm_training.merge(rfm0, how='inner', on='Customer')\n",
        "# Calculate the score difference\n",
        "score_difference0 = np.mean(np.abs(data_tmp['finalscore'] - data_tmp['score']))\n",
        "print(score_difference0)\n",
        "\n",
        "# Calculate rfm score using the second set of candidate weights\n",
        "rfm1 = calculateRFMscores(myData, weights = candidate_weights[1])\n",
        "# Merge with the training data by customer\n",
        "data_tmp = rfm_training.merge(rfm1, how='inner', on='Customer')\n",
        "# Calculate the score difference\n",
        "score_difference1 = np.mean(np.abs(data_tmp['finalscore'] - data_tmp['score']))\n",
        "print(score_difference1)\n"
      ],
      "metadata": {
        "id": "znQRiUx0a1CH"
      },
      "execution_count": null,
      "outputs": []
    },
    {
      "cell_type": "markdown",
      "source": [
        "Proper code: works with larger set of weights."
      ],
      "metadata": {
        "id": "pAmZ0k6MczEh"
      }
    },
    {
      "cell_type": "code",
      "source": [
        "# Initialize variables to store the best weights and the smallest score difference\n",
        "best_weights = None\n",
        "smallest_score_difference = float('inf')\n",
        "\n",
        "# Evaluate RFM function on multiple sets of weights and compute score differences\n",
        "for weights in candidate_weights:\n",
        "  ***** YOUR CODE GOES HERE *****************\n",
        "\n",
        "# Print the best weights and smallest score difference\n",
        "print(\"Best weights:\", best_weights)\n",
        "print(\"Smallest score difference:\", smallest_score_difference)"
      ],
      "metadata": {
        "id": "NwwREHNyc5qm"
      },
      "execution_count": null,
      "outputs": []
    },
    {
      "cell_type": "markdown",
      "source": [
        "4. Save the weights with the smallest score difference and submit them to kaggle. Hint: After you wrote the data to csv, download it to your computer and then submit it to kaggle. To download the data, go again to the folder button on the right."
      ],
      "metadata": {
        "id": "1qpH5L1xeWOg"
      }
    },
    {
      "cell_type": "code",
      "source": [
        "# Create list with 1 (for id) and the weights\n",
        "data=[1]\n",
        "data.extend(best_weights)\n",
        "\n",
        "# Create dataframe from the list with the correct column names\n",
        "submissionData = pd.DataFrame([data],  columns=[\"id\",\"weight_recency\", \"weight_frequency\", \"weight_monetary\"])\n",
        "\n",
        "# Save data\n",
        "submissionData.to_csv(\"kaggle_submission.csv\", index=None)"
      ],
      "metadata": {
        "id": "3LxQl6HuehHq"
      },
      "execution_count": null,
      "outputs": []
    }
  ]
}