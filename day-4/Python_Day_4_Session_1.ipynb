{
  "nbformat": 4,
  "nbformat_minor": 0,
  "metadata": {
    "colab": {
      "provenance": [],
      "toc_visible": true
    },
    "kernelspec": {
      "name": "python3",
      "display_name": "Python 3"
    }
  },
  "cells": [
    {
      "cell_type": "markdown",
      "metadata": {
        "id": "3arMV6uM79oD"
      },
      "source": [
        "#Python - Non-technical introduction\n",
        "\n",
        "##Day 4 Session 1 \"Don’t lose control: How to use conditions and loops?\"\n",
        "\n",
        "This file accompanies the lectures and provides the code for the corresponding slides.\n",
        "\n",
        "*Note:* If you want to make changes to this document, you need to save your own copy using the \"Save copy in Drive\" command in the \"File\" menu."
      ]
    },
    {
      "cell_type": "markdown",
      "metadata": {
        "id": "c7xrHageKBHn"
      },
      "source": [
        "###Preparation\n",
        "\n",
        "**Make sure to run the follwing code before continuing.** Code will prepare everything (load data, ...)."
      ]
    },
    {
      "cell_type": "code",
      "metadata": {
        "id": "EmbjkbMNKRaX"
      },
      "source": [
        "#load the Pandas package\n",
        "import pandas as pd\n",
        "#load the numpy package\n",
        "import numpy as np\n",
        "\n",
        "#Read the csv file and store it in the variable \"myData\". Note: this file is hostes in a GitHub repository.\n",
        "myData=pd.read_csv(filepath_or_buffer=\"https://raw.githubusercontent.com/bachmannpatrick/Python-Class/master/data/transactions.csv\", sep=\",\")\n",
        "#Adjust the format of column \"TransDate\" to datetime\n",
        "myData[\"TransDate\"]  = pd.to_datetime(myData[\"TransDate\"], dayfirst=True)"
      ],
      "execution_count": null,
      "outputs": []
    },
    {
      "cell_type": "markdown",
      "metadata": {
        "id": "vaX9FRSfJwsn"
      },
      "source": [
        "###32 - If else statements"
      ]
    },
    {
      "cell_type": "markdown",
      "metadata": {
        "id": "T2GNbQVy8xhq"
      },
      "source": [
        "####**Slides:** if statement: Only execute some code if a condition is met"
      ]
    },
    {
      "cell_type": "code",
      "metadata": {
        "id": "7WxjwfPblNMI",
        "colab": {
          "base_uri": "https://localhost:8080/",
          "height": 34
        },
        "outputId": "f9cd637d-2be9-40a5-e443-99cf5cc6e9f6"
      },
      "source": [
        "#Be aware of the extra indent for the code that follows after the if statement.\n",
        "x= -3\n",
        "if x<0:\n",
        "  print(\"x is a negative number\")"
      ],
      "execution_count": null,
      "outputs": [
        {
          "output_type": "stream",
          "text": [
            "x is a negative number\n"
          ],
          "name": "stdout"
        }
      ]
    },
    {
      "cell_type": "code",
      "metadata": {
        "id": "hDGuaSiLa091"
      },
      "source": [
        "x= 5\n",
        "if x<0:\n",
        "  print(\"x is a negative number\")\n",
        "#not output expected!"
      ],
      "execution_count": null,
      "outputs": []
    },
    {
      "cell_type": "markdown",
      "metadata": {
        "id": "OfaIoinaDIWf"
      },
      "source": [
        "####**Slides:** else statement: Only execute some code if a condition is not met"
      ]
    },
    {
      "cell_type": "code",
      "metadata": {
        "id": "PHmosZFobM01",
        "colab": {
          "base_uri": "https://localhost:8080/",
          "height": 34
        },
        "outputId": "483c5e4b-7f8a-4f16-e608-e4e35b40599c"
      },
      "source": [
        "x = -3\n",
        "if x < 0:\n",
        "   print(\"x is a negative number\")\n",
        "else:\n",
        "\tprint(\"x is either a positive number or zero\")"
      ],
      "execution_count": null,
      "outputs": [
        {
          "output_type": "stream",
          "text": [
            "x is a negative number\n"
          ],
          "name": "stdout"
        }
      ]
    },
    {
      "cell_type": "code",
      "metadata": {
        "id": "xBblZnejbcxg",
        "colab": {
          "base_uri": "https://localhost:8080/",
          "height": 34
        },
        "outputId": "bf2c3336-64e1-4da7-b0d5-711f8bb78012"
      },
      "source": [
        "x = 5\n",
        "if x < 0:\n",
        "   print(\"x is a negative number\")\n",
        "else:\n",
        "\tprint(\"x is either a positive number or zero\")"
      ],
      "execution_count": null,
      "outputs": [
        {
          "output_type": "stream",
          "text": [
            "x is either a positive number or zero\n"
          ],
          "name": "stdout"
        }
      ]
    },
    {
      "cell_type": "markdown",
      "metadata": {
        "id": "xTLGxCSdDVdh"
      },
      "source": [
        "####**Slides:** `else if` statement: Add an other case (2/7)"
      ]
    },
    {
      "cell_type": "code",
      "metadata": {
        "id": "DSdSGvmRDZax",
        "colab": {
          "base_uri": "https://localhost:8080/",
          "height": 34
        },
        "outputId": "e3dcb484-e10c-46fa-cc9b-6a6758e11024"
      },
      "source": [
        "x = -3\n",
        "if x < 0:\n",
        "   print(\"x is a negative number\")\n",
        "elif x==0:\n",
        "\tprint(\"x is zero\")\n",
        "else:\n",
        "\tprint(\"x is a positive number\")"
      ],
      "execution_count": null,
      "outputs": [
        {
          "output_type": "stream",
          "text": [
            "x is a negative number\n"
          ],
          "name": "stdout"
        }
      ]
    },
    {
      "cell_type": "code",
      "metadata": {
        "id": "zbgAffzLb2nq",
        "colab": {
          "base_uri": "https://localhost:8080/",
          "height": 34
        },
        "outputId": "a408387e-f18e-4ceb-bc71-3d352a1ebed7"
      },
      "source": [
        "x = 5\n",
        "if x < 0:\n",
        "   print(\"x is a negative number\")\n",
        "elif x==0:\n",
        "\tprint(\"x is zero\")\n",
        "else:\n",
        "\tprint(\"x is a positive number\")"
      ],
      "execution_count": null,
      "outputs": [
        {
          "output_type": "stream",
          "text": [
            "x is a positive number\n"
          ],
          "name": "stdout"
        }
      ]
    },
    {
      "cell_type": "code",
      "metadata": {
        "id": "wqyPmQl3b8WO",
        "colab": {
          "base_uri": "https://localhost:8080/",
          "height": 34
        },
        "outputId": "6779e20f-032a-499a-f8f8-38893b217a2a"
      },
      "source": [
        "x = 0\n",
        "if x < 0:\n",
        "   print(\"x is a negative number\")\n",
        "elif x==0:\n",
        "\tprint(\"x is zero\")\n",
        "else:\n",
        "\tprint(\"x is a positive number\")"
      ],
      "execution_count": null,
      "outputs": [
        {
          "output_type": "stream",
          "text": [
            "x is zero\n"
          ],
          "name": "stdout"
        }
      ]
    },
    {
      "cell_type": "markdown",
      "metadata": {
        "id": "GiB117iMFZwQ"
      },
      "source": [
        "###33 - Basic looping techniques\n"
      ]
    },
    {
      "cell_type": "markdown",
      "metadata": {
        "id": "LyrU6mAqFw1q"
      },
      "source": [
        "####**Slides:** `while loop`: Only execute some code if a condition is met"
      ]
    },
    {
      "cell_type": "code",
      "metadata": {
        "id": "cuDP0AW0FwLU",
        "colab": {
          "base_uri": "https://localhost:8080/",
          "height": 136
        },
        "outputId": "6a3effc3-e496-4541-8af5-f51fd53d39d8"
      },
      "source": [
        "x = 1\n",
        "while x <= 7:\n",
        "    print(\"x is set to \" + str(x))\n",
        "    x = x + 1"
      ],
      "execution_count": null,
      "outputs": [
        {
          "output_type": "stream",
          "text": [
            "x is set to 1\n",
            "x is set to 2\n",
            "x is set to 3\n",
            "x is set to 4\n",
            "x is set to 5\n",
            "x is set to 6\n",
            "x is set to 7\n"
          ],
          "name": "stdout"
        }
      ]
    },
    {
      "cell_type": "markdown",
      "metadata": {
        "id": "F5rjBHknHe8y"
      },
      "source": [
        "####**Slide:** Sidenote: convert numerical values into strings and use \"+\" to combine characters and string"
      ]
    },
    {
      "cell_type": "code",
      "metadata": {
        "id": "09xpBQ0nHkYP",
        "colab": {
          "base_uri": "https://localhost:8080/",
          "height": 34
        },
        "outputId": "e4eb46cb-1093-48b0-fcb9-ac260dd5b063"
      },
      "source": [
        "x=0.52\n",
        "print(\"The proportion of men is \" + str(x) + \" %.\")"
      ],
      "execution_count": null,
      "outputs": [
        {
          "output_type": "stream",
          "text": [
            "The proportion of men is 0.52 %.\n"
          ],
          "name": "stdout"
        }
      ]
    },
    {
      "cell_type": "markdown",
      "metadata": {
        "id": "AXINafetHq4C"
      },
      "source": [
        "####**Slides:** for loop: Repeat something as it belongs to a sequence (1/3)"
      ]
    },
    {
      "cell_type": "code",
      "metadata": {
        "id": "oXtAZVxzHwRF",
        "colab": {
          "base_uri": "https://localhost:8080/",
          "height": 102
        },
        "outputId": "faacea55-9f8a-449f-8c00-b82c287c0203"
      },
      "source": [
        "cities = [\"New York\", \"Paris\", \"London\", \"Tokyo\", \"Cape Town\"]\n",
        "for city in cities:\n",
        "  print(city)"
      ],
      "execution_count": null,
      "outputs": [
        {
          "output_type": "stream",
          "text": [
            "New York\n",
            "Paris\n",
            "London\n",
            "Tokyo\n",
            "Cape Town\n"
          ],
          "name": "stdout"
        }
      ]
    },
    {
      "cell_type": "markdown",
      "metadata": {
        "id": "npU-q6Npvyoo"
      },
      "source": [
        "####**Slide:** for loop: Take a break"
      ]
    },
    {
      "cell_type": "code",
      "metadata": {
        "id": "EopLMRQSv2tB",
        "colab": {
          "base_uri": "https://localhost:8080/"
        },
        "outputId": "525e951d-4cb7-477a-c8f7-fffe67db89cd"
      },
      "source": [
        "cities = [\"New York\", \"Paris\", \"London\", \"Tokyo\", \"Cape Town\"]\n",
        "for city in cities:\n",
        "    if city ==\"London\":\n",
        "        break\n",
        "    print(city)"
      ],
      "execution_count": null,
      "outputs": [
        {
          "output_type": "stream",
          "text": [
            "New York\n",
            "Paris\n"
          ],
          "name": "stdout"
        }
      ]
    },
    {
      "cell_type": "markdown",
      "metadata": {
        "id": "LLRIOLPDv6RJ"
      },
      "source": [
        "####**Slide:** for loop: Skip with continue"
      ]
    },
    {
      "cell_type": "code",
      "metadata": {
        "id": "q-xhIrM6v-Pt",
        "colab": {
          "base_uri": "https://localhost:8080/",
          "height": 85
        },
        "outputId": "1f1c8dc9-394c-4919-ad8e-8078962e81b2"
      },
      "source": [
        "cities = [\"New York\", \"Paris\", \"London\", \"Tokyo\", \"Cape Town\"]\n",
        "for city in cities:\n",
        "    if city ==\"London\":\n",
        "        continue\n",
        "    print(city)"
      ],
      "execution_count": null,
      "outputs": [
        {
          "output_type": "stream",
          "text": [
            "New York\n",
            "Paris\n",
            "Tokyo\n",
            "Cape Town\n"
          ],
          "name": "stdout"
        }
      ]
    },
    {
      "cell_type": "markdown",
      "metadata": {
        "id": "ylnKZC6nwFvA"
      },
      "source": [
        "####**Slide:** for loop: Loop over numeric indices"
      ]
    },
    {
      "cell_type": "code",
      "metadata": {
        "id": "b2HmaLQTwK0w",
        "colab": {
          "base_uri": "https://localhost:8080/"
        },
        "outputId": "6a98e99e-9907-4f55-9f01-15df5873415a"
      },
      "source": [
        "cities = [\"New York\", \"Paris\", \"London\", \"Tokyo\", \"Cape Town\"]\n",
        "for i in range(len(cities)):\n",
        "    print(cities[i])"
      ],
      "execution_count": null,
      "outputs": [
        {
          "output_type": "stream",
          "text": [
            "New York\n",
            "Paris\n",
            "London\n",
            "Tokyo\n",
            "Cape Town\n"
          ],
          "name": "stdout"
        }
      ]
    },
    {
      "cell_type": "markdown",
      "metadata": {
        "id": "6x618Zv9Iknu"
      },
      "source": [
        "###34 - Advanced looping techniques"
      ]
    },
    {
      "cell_type": "markdown",
      "metadata": {
        "id": "gUHzGWqgIsxq"
      },
      "source": [
        "####**Slide:** Store results of a loop in a list"
      ]
    },
    {
      "cell_type": "code",
      "metadata": {
        "id": "POD5PhqtIkMW",
        "colab": {
          "base_uri": "https://localhost:8080/",
          "height": 34
        },
        "outputId": "f87f0e98-b670-4c7c-df2e-0e95d66f5cfb"
      },
      "source": [
        "cities = [\"New York\", \"Paris\", \"London\", \"Tokyo\", \"Cape Town\"]\n",
        "wordLength=[]\n",
        "for i in range(len(cities)):\n",
        "     wordLength.append(len(cities[i]))\n",
        "print(wordLength)"
      ],
      "execution_count": null,
      "outputs": [
        {
          "output_type": "stream",
          "text": [
            "[8, 5, 6, 5, 9]\n"
          ],
          "name": "stdout"
        }
      ]
    },
    {
      "cell_type": "markdown",
      "metadata": {
        "id": "nFKHIw35J2uq"
      },
      "source": [
        "####**Slide:** Substitute loops with the map()-function"
      ]
    },
    {
      "cell_type": "code",
      "metadata": {
        "id": "qaG-QWpJKFUL",
        "colab": {
          "base_uri": "https://localhost:8080/",
          "height": 419
        },
        "outputId": "13674684-5219-4357-d11a-6294853d0b1f"
      },
      "source": [
        "cities = [\"New York\", \"Paris\", \"London\", \"Tokyo\", \"Cape Town\"]\n",
        "list(map(len,cities))\n"
      ],
      "execution_count": null,
      "outputs": [
        {
          "output_type": "execute_result",
          "data": {
            "text/html": [
              "<div>\n",
              "<style scoped>\n",
              "    .dataframe tbody tr th:only-of-type {\n",
              "        vertical-align: middle;\n",
              "    }\n",
              "\n",
              "    .dataframe tbody tr th {\n",
              "        vertical-align: top;\n",
              "    }\n",
              "\n",
              "    .dataframe thead th {\n",
              "        text-align: right;\n",
              "    }\n",
              "</style>\n",
              "<table border=\"1\" class=\"dataframe\">\n",
              "  <thead>\n",
              "    <tr style=\"text-align: right;\">\n",
              "      <th></th>\n",
              "      <th>Customer</th>\n",
              "      <th>TransDate</th>\n",
              "      <th>Quantity</th>\n",
              "      <th>PurchAmount</th>\n",
              "      <th>Cost</th>\n",
              "      <th>TransID</th>\n",
              "    </tr>\n",
              "  </thead>\n",
              "  <tbody>\n",
              "    <tr>\n",
              "      <th>44541</th>\n",
              "      <td>100002</td>\n",
              "      <td>2004-12-29</td>\n",
              "      <td>1</td>\n",
              "      <td>499.95</td>\n",
              "      <td>349.00</td>\n",
              "      <td>123490350</td>\n",
              "    </tr>\n",
              "    <tr>\n",
              "      <th>44544</th>\n",
              "      <td>100340</td>\n",
              "      <td>2004-12-29</td>\n",
              "      <td>1</td>\n",
              "      <td>29.95</td>\n",
              "      <td>10.84</td>\n",
              "      <td>124295297</td>\n",
              "    </tr>\n",
              "    <tr>\n",
              "      <th>44601</th>\n",
              "      <td>100345</td>\n",
              "      <td>2004-12-29</td>\n",
              "      <td>1</td>\n",
              "      <td>189.95</td>\n",
              "      <td>82.91</td>\n",
              "      <td>124295449</td>\n",
              "    </tr>\n",
              "    <tr>\n",
              "      <th>44602</th>\n",
              "      <td>100346</td>\n",
              "      <td>2004-12-29</td>\n",
              "      <td>1</td>\n",
              "      <td>49.95</td>\n",
              "      <td>22.60</td>\n",
              "      <td>124295469</td>\n",
              "    </tr>\n",
              "    <tr>\n",
              "      <th>44635</th>\n",
              "      <td>100357</td>\n",
              "      <td>2004-12-30</td>\n",
              "      <td>1</td>\n",
              "      <td>29.95</td>\n",
              "      <td>10.00</td>\n",
              "      <td>124295845</td>\n",
              "    </tr>\n",
              "    <tr>\n",
              "      <th>...</th>\n",
              "      <td>...</td>\n",
              "      <td>...</td>\n",
              "      <td>...</td>\n",
              "      <td>...</td>\n",
              "      <td>...</td>\n",
              "      <td>...</td>\n",
              "    </tr>\n",
              "    <tr>\n",
              "      <th>223071</th>\n",
              "      <td>186299</td>\n",
              "      <td>2012-12-09</td>\n",
              "      <td>1</td>\n",
              "      <td>34.95</td>\n",
              "      <td>12.65</td>\n",
              "      <td>129592935</td>\n",
              "    </tr>\n",
              "    <tr>\n",
              "      <th>223070</th>\n",
              "      <td>186298</td>\n",
              "      <td>2012-12-09</td>\n",
              "      <td>1</td>\n",
              "      <td>49.95</td>\n",
              "      <td>17.00</td>\n",
              "      <td>129592815</td>\n",
              "    </tr>\n",
              "    <tr>\n",
              "      <th>216326</th>\n",
              "      <td>183058</td>\n",
              "      <td>2012-12-09</td>\n",
              "      <td>1</td>\n",
              "      <td>69.95</td>\n",
              "      <td>28.57</td>\n",
              "      <td>131969375</td>\n",
              "    </tr>\n",
              "    <tr>\n",
              "      <th>101290</th>\n",
              "      <td>121226</td>\n",
              "      <td>2012-12-09</td>\n",
              "      <td>1</td>\n",
              "      <td>19.95</td>\n",
              "      <td>9.50</td>\n",
              "      <td>131969793</td>\n",
              "    </tr>\n",
              "    <tr>\n",
              "      <th>223069</th>\n",
              "      <td>186297</td>\n",
              "      <td>2012-12-09</td>\n",
              "      <td>1</td>\n",
              "      <td>14.95</td>\n",
              "      <td>5.48</td>\n",
              "      <td>129592754</td>\n",
              "    </tr>\n",
              "  </tbody>\n",
              "</table>\n",
              "<p>98780 rows × 6 columns</p>\n",
              "</div>"
            ],
            "text/plain": [
              "        Customer  TransDate  Quantity  PurchAmount    Cost    TransID\n",
              "44541     100002 2004-12-29         1       499.95  349.00  123490350\n",
              "44544     100340 2004-12-29         1        29.95   10.84  124295297\n",
              "44601     100345 2004-12-29         1       189.95   82.91  124295449\n",
              "44602     100346 2004-12-29         1        49.95   22.60  124295469\n",
              "44635     100357 2004-12-30         1        29.95   10.00  124295845\n",
              "...          ...        ...       ...          ...     ...        ...\n",
              "223071    186299 2012-12-09         1        34.95   12.65  129592935\n",
              "223070    186298 2012-12-09         1        49.95   17.00  129592815\n",
              "216326    183058 2012-12-09         1        69.95   28.57  131969375\n",
              "101290    121226 2012-12-09         1        19.95    9.50  131969793\n",
              "223069    186297 2012-12-09         1        14.95    5.48  129592754\n",
              "\n",
              "[98780 rows x 6 columns]"
            ]
          },
          "metadata": {
            "tags": []
          },
          "execution_count": 7
        }
      ]
    },
    {
      "cell_type": "markdown",
      "metadata": {
        "id": "1F1vhdXEKmY8"
      },
      "source": [
        "####**Slide:** Substitute loops with vectorization"
      ]
    },
    {
      "cell_type": "code",
      "metadata": {
        "id": "gNKc7le1KvUx",
        "colab": {
          "base_uri": "https://localhost:8080/",
          "height": 34
        },
        "outputId": "58afed52-f2d3-485d-a83f-eed06f0c7454"
      },
      "source": [
        "#load the numpy package\n",
        "import numpy as np\n",
        "\n",
        "a=[1,2,3]\n",
        "a+a\n",
        "a*10\n",
        "#%%\n",
        "a=np.array([1,2,3])\n",
        "a+a"
      ],
      "execution_count": null,
      "outputs": [
        {
          "output_type": "execute_result",
          "data": {
            "text/plain": [
              "array([2, 4, 6])"
            ]
          },
          "metadata": {
            "tags": []
          },
          "execution_count": 26
        }
      ]
    }
  ]
}