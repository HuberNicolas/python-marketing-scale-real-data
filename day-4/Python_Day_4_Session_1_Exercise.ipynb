{
  "cells": [
    {
      "cell_type": "markdown",
      "metadata": {
        "id": "cCjAe20VdlxO"
      },
      "source": [
        "#Python - Non-technical introduction\n",
        "\n",
        "##Exercise Day 4 Session 1 \"Don’t lose control: How to use conditions and loops\"\n",
        "\n",
        "This file provides exercises accompanying the lectures.\n",
        "\n",
        "*Note:* If you want to make changes to this document, you need to save your own copy using the \"Save copy in Drive\" command in the \"File\" menu."
      ]
    },
    {
      "cell_type": "markdown",
      "metadata": {
        "id": "GW4cNjYKvKVg"
      },
      "source": [
        "###32 - If else statements"
      ]
    },
    {
      "cell_type": "markdown",
      "metadata": {
        "id": "fh3Cz0YKvN7Z"
      },
      "source": [
        "1. Write an if-statement that prints \"`x is a character`\" if the variable x is a character and \"`x is a postive integer`\" if x is a positiv interger. *Hint:* Check the format of your input using `type()`.\n",
        "\n"
      ]
    },
    {
      "cell_type": "code",
      "execution_count": 49,
      "metadata": {},
      "outputs": [
        {
          "name": "stdout",
          "output_type": "stream",
          "text": [
            "x is a character\n"
          ]
        }
      ],
      "source": [
        "x = 4\n",
        "x = 'a'\n",
        "\n",
        "if type(x) == str and len(x) == 1:\n",
        "    print(\"x is a character\")\n",
        "if type(x) == int and x > 0:\n",
        "    print(\"x is a positive integer\")\n"
      ]
    },
    {
      "cell_type": "markdown",
      "metadata": {
        "id": "MdtfAZRZ1-ic"
      },
      "source": [
        "###33 - Basic loop techniques"
      ]
    },
    {
      "cell_type": "markdown",
      "metadata": {
        "id": "WPoWqvKf2JcS"
      },
      "source": [
        "1. Create a loop that prints a countdown from 10 by\n",
        "a) using a for-loop, and\n",
        "b) using a while-loop."
      ]
    },
    {
      "cell_type": "code",
      "execution_count": 50,
      "metadata": {},
      "outputs": [
        {
          "name": "stdout",
          "output_type": "stream",
          "text": [
            "Countdown: 10\n",
            "Countdown: 9\n",
            "Countdown: 8\n",
            "Countdown: 7\n",
            "Countdown: 6\n",
            "Countdown: 5\n",
            "Countdown: 4\n",
            "Countdown: 3\n",
            "Countdown: 2\n",
            "Countdown: 1\n",
            "Countdown: 0\n"
          ]
        }
      ],
      "source": [
        "for i in range(10, -1, -1):\n",
        "    print(\"Countdown: {countdown_number}\".format(countdown_number=i))"
      ]
    },
    {
      "cell_type": "code",
      "execution_count": 51,
      "metadata": {},
      "outputs": [
        {
          "name": "stdout",
          "output_type": "stream",
          "text": [
            "Countdown: 10\n",
            "Countdown: 9\n",
            "Countdown: 8\n",
            "Countdown: 7\n",
            "Countdown: 6\n",
            "Countdown: 5\n",
            "Countdown: 4\n",
            "Countdown: 3\n",
            "Countdown: 2\n",
            "Countdown: 1\n",
            "Countdown: 0\n"
          ]
        }
      ],
      "source": [
        "i = 10\n",
        "while i >= 0:\n",
        "    print(\"Countdown: {countdown_number}\".format(countdown_number=i))\n",
        "    i -= 1\n"
      ]
    },
    {
      "cell_type": "markdown",
      "metadata": {
        "id": "XW-Ewl7skxDp"
      },
      "source": [
        "###34 - Advanced looping techniques"
      ]
    },
    {
      "cell_type": "markdown",
      "metadata": {
        "id": "jroEr7Zc2Z3f"
      },
      "source": [
        "1. Use the `myData` DataFrame. Use a loop to go over all transactions and sum up the transaction's purchase amount one by one. Stop as soon as you reach a purchase amount of 1 million. At which date did the store reach this mark?\n"
      ]
    },
    {
      "cell_type": "code",
      "execution_count": 52,
      "metadata": {},
      "outputs": [],
      "source": [
        "#load the numpy package\n",
        "import numpy as np\n",
        "#load the Pandas package\n",
        "import pandas as pd\n"
      ]
    },
    {
      "cell_type": "code",
      "execution_count": 53,
      "metadata": {},
      "outputs": [],
      "source": [
        "# Read in data\n",
        "myData = pd.read_csv(\n",
        "    \"https://raw.githubusercontent.com/bachmannpatrick/Python-Class/master/data/transactions.csv\")\n"
      ]
    },
    {
      "cell_type": "code",
      "execution_count": 54,
      "metadata": {},
      "outputs": [],
      "source": [
        "us_date_format = \"%Y-%m-%d\"  # JoinDate, e.g., 1969-09-06\n",
        "eu_date_format = \"%d.%m.%Y\"  # TransDate and Birthdate, e.g., 04.05.1987\n"
      ]
    },
    {
      "cell_type": "code",
      "execution_count": 55,
      "metadata": {},
      "outputs": [],
      "source": [
        "#fix the Date format\n",
        "myData[\"TransDate\"] = pd.to_datetime(\n",
        "    myData[\"TransDate\"], format=eu_date_format)\n"
      ]
    },
    {
      "cell_type": "code",
      "execution_count": 56,
      "metadata": {},
      "outputs": [
        {
          "data": {
            "text/html": [
              "<div>\n",
              "<style scoped>\n",
              "    .dataframe tbody tr th:only-of-type {\n",
              "        vertical-align: middle;\n",
              "    }\n",
              "\n",
              "    .dataframe tbody tr th {\n",
              "        vertical-align: top;\n",
              "    }\n",
              "\n",
              "    .dataframe thead th {\n",
              "        text-align: right;\n",
              "    }\n",
              "</style>\n",
              "<table border=\"1\" class=\"dataframe\">\n",
              "  <thead>\n",
              "    <tr style=\"text-align: right;\">\n",
              "      <th></th>\n",
              "      <th>Customer</th>\n",
              "      <th>TransDate</th>\n",
              "      <th>Quantity</th>\n",
              "      <th>PurchAmount</th>\n",
              "      <th>Cost</th>\n",
              "      <th>TransID</th>\n",
              "    </tr>\n",
              "  </thead>\n",
              "  <tbody>\n",
              "    <tr>\n",
              "      <th>0</th>\n",
              "      <td>149332</td>\n",
              "      <td>2005-11-15</td>\n",
              "      <td>1</td>\n",
              "      <td>199.95</td>\n",
              "      <td>107.00</td>\n",
              "      <td>127998739</td>\n",
              "    </tr>\n",
              "    <tr>\n",
              "      <th>1</th>\n",
              "      <td>172951</td>\n",
              "      <td>2008-08-29</td>\n",
              "      <td>1</td>\n",
              "      <td>199.95</td>\n",
              "      <td>108.00</td>\n",
              "      <td>128888288</td>\n",
              "    </tr>\n",
              "    <tr>\n",
              "      <th>2</th>\n",
              "      <td>120621</td>\n",
              "      <td>2007-10-19</td>\n",
              "      <td>1</td>\n",
              "      <td>99.95</td>\n",
              "      <td>49.00</td>\n",
              "      <td>125375247</td>\n",
              "    </tr>\n",
              "    <tr>\n",
              "      <th>3</th>\n",
              "      <td>149236</td>\n",
              "      <td>2005-11-14</td>\n",
              "      <td>1</td>\n",
              "      <td>39.95</td>\n",
              "      <td>18.95</td>\n",
              "      <td>127996226</td>\n",
              "    </tr>\n",
              "    <tr>\n",
              "      <th>4</th>\n",
              "      <td>149236</td>\n",
              "      <td>2007-06-12</td>\n",
              "      <td>1</td>\n",
              "      <td>79.95</td>\n",
              "      <td>35.00</td>\n",
              "      <td>128670302</td>\n",
              "    </tr>\n",
              "    <tr>\n",
              "      <th>...</th>\n",
              "      <td>...</td>\n",
              "      <td>...</td>\n",
              "      <td>...</td>\n",
              "      <td>...</td>\n",
              "      <td>...</td>\n",
              "      <td>...</td>\n",
              "    </tr>\n",
              "    <tr>\n",
              "      <th>223186</th>\n",
              "      <td>199997</td>\n",
              "      <td>2012-09-17</td>\n",
              "      <td>1</td>\n",
              "      <td>29.95</td>\n",
              "      <td>13.80</td>\n",
              "      <td>132481149</td>\n",
              "    </tr>\n",
              "    <tr>\n",
              "      <th>223187</th>\n",
              "      <td>199997</td>\n",
              "      <td>2012-09-17</td>\n",
              "      <td>1</td>\n",
              "      <td>29.95</td>\n",
              "      <td>13.80</td>\n",
              "      <td>132481149</td>\n",
              "    </tr>\n",
              "    <tr>\n",
              "      <th>223188</th>\n",
              "      <td>199998</td>\n",
              "      <td>2012-09-17</td>\n",
              "      <td>1</td>\n",
              "      <td>29.95</td>\n",
              "      <td>13.80</td>\n",
              "      <td>132481154</td>\n",
              "    </tr>\n",
              "    <tr>\n",
              "      <th>223189</th>\n",
              "      <td>199999</td>\n",
              "      <td>2012-09-17</td>\n",
              "      <td>1</td>\n",
              "      <td>179.95</td>\n",
              "      <td>109.99</td>\n",
              "      <td>132481165</td>\n",
              "    </tr>\n",
              "    <tr>\n",
              "      <th>223190</th>\n",
              "      <td>199542</td>\n",
              "      <td>2012-09-17</td>\n",
              "      <td>1</td>\n",
              "      <td>39.95</td>\n",
              "      <td>10.50</td>\n",
              "      <td>131973368</td>\n",
              "    </tr>\n",
              "  </tbody>\n",
              "</table>\n",
              "<p>223191 rows × 6 columns</p>\n",
              "</div>"
            ],
            "text/plain": [
              "        Customer  TransDate  Quantity  PurchAmount    Cost    TransID\n",
              "0         149332 2005-11-15         1       199.95  107.00  127998739\n",
              "1         172951 2008-08-29         1       199.95  108.00  128888288\n",
              "2         120621 2007-10-19         1        99.95   49.00  125375247\n",
              "3         149236 2005-11-14         1        39.95   18.95  127996226\n",
              "4         149236 2007-06-12         1        79.95   35.00  128670302\n",
              "...          ...        ...       ...          ...     ...        ...\n",
              "223186    199997 2012-09-17         1        29.95   13.80  132481149\n",
              "223187    199997 2012-09-17         1        29.95   13.80  132481149\n",
              "223188    199998 2012-09-17         1        29.95   13.80  132481154\n",
              "223189    199999 2012-09-17         1       179.95  109.99  132481165\n",
              "223190    199542 2012-09-17         1        39.95   10.50  131973368\n",
              "\n",
              "[223191 rows x 6 columns]"
            ]
          },
          "execution_count": 56,
          "metadata": {},
          "output_type": "execute_result"
        }
      ],
      "source": [
        "myData"
      ]
    },
    {
      "cell_type": "code",
      "execution_count": 57,
      "metadata": {},
      "outputs": [
        {
          "name": "stdout",
          "output_type": "stream",
          "text": [
            "2005-11-15 00:00:00\n"
          ]
        }
      ],
      "source": [
        "sum_purch_amount = 0\n",
        "sum_purch_amount_max = 1000000\n",
        "\n",
        "# for loop not very nice\n",
        "# myData = myData.reset_index()  # make sure indexes pair with number of rows\n",
        "#for index, row in myData.iterrows():\n",
        "    #print(row['PurchAmount'], row['TransDate'])\n",
        "    #pass\n",
        "\n",
        "index = 0\n",
        "while index < len(myData):\n",
        "    row = myData.iloc[index]\n",
        "    \n",
        "    row_purch_amount = row['PurchAmount']\n",
        "    row_trans_date = row['TransDate']\n",
        "    \n",
        "    if sum_purch_amount + row_purch_amount < sum_purch_amount_max:\n",
        "        sum_purch_amount += row_purch_amount\n",
        "    else:\n",
        "        sum_purch_amount += row_purch_amount\n",
        "        print(row_trans_date)\n",
        "        break\n"
      ]
    },
    {
      "cell_type": "markdown",
      "metadata": {
        "id": "sexsVXGpwWxY"
      },
      "source": [
        "2. Use a for loop to sum the first 10.000 transactions. Then use the vectorized `np.sum()` command to do the same. Compare the time used by both methods. *Hint:* Use `time.time()` of the time-module to obtain the current time as a floating point number expressed in seconds since the epoch before and after running your code of interest.\n",
        "\n"
      ]
    },
    {
      "cell_type": "code",
      "execution_count": 58,
      "metadata": {},
      "outputs": [
        {
          "name": "stdout",
          "output_type": "stream",
          "text": [
            "Sum: 866403.0699998735\n",
            "Seconds needed in iterative appproach: 0.7409930229187012s\n"
          ]
        }
      ],
      "source": [
        "import time\n",
        "\n",
        "NUMBER_OF_TRANSACTIONS = 10000\n",
        "iter_sum = 0\n",
        "\n",
        "iter_start = time.time()\n",
        "for index, row in myData.iterrows():\n",
        "    if index == NUMBER_OF_TRANSACTIONS:\n",
        "        # we stop at 99999\n",
        "        break\n",
        "    else:\n",
        "        iter_sum += row['PurchAmount']\n",
        "\n",
        "iter_end = time.time()\n",
        "iter_time = iter_end - iter_start\n",
        "print(\"Sum: {iter_sum}\".format(iter_sum = iter_sum))\n",
        "print(\"Seconds needed in iterative appproach: {number_of_seconds}s\".format(number_of_seconds = iter_time))"
      ]
    },
    {
      "cell_type": "code",
      "execution_count": 59,
      "metadata": {},
      "outputs": [
        {
          "name": "stdout",
          "output_type": "stream",
          "text": [
            "Sum: 866403.0700000003\n",
            "Seconds needed in iterative appproach: 0.0006279945373535156s\n"
          ]
        }
      ],
      "source": [
        "vec_sum = 0\n",
        "vec_start = time.time()\n",
        "myData_10000 = myData.iloc[0:NUMBER_OF_TRANSACTIONS, ]\n",
        "#print(len(myData))\n",
        "#print(len(myData_10000))\n",
        "vec_sum = myData_10000['PurchAmount'].sum()\n",
        "vec_end = time.time()\n",
        "vec_time = vec_end - vec_start\n",
        "print(\"Sum: {vec_sum}\".format(vec_sum = vec_sum))\n",
        "print(\"Seconds needed in iterative appproach: {number_of_seconds}s\".format(number_of_seconds = vec_time))"
      ]
    },
    {
      "cell_type": "code",
      "execution_count": 60,
      "metadata": {},
      "outputs": [
        {
          "name": "stdout",
          "output_type": "stream",
          "text": [
            "Vectorization saves us about 0.9152496018275712 % of the time\n"
          ]
        }
      ],
      "source": [
        "print(\"Vectorization saves us about {saved_percentage} % of the time\".format(\n",
        "    saved_percentage=1-(vec_time / iter_time * 100)))\n"
      ]
    }
  ],
  "metadata": {
    "colab": {
      "provenance": [],
      "toc_visible": true
    },
    "kernelspec": {
      "display_name": "Python 3",
      "name": "python3"
    },
    "language_info": {
      "codemirror_mode": {
        "name": "ipython",
        "version": 3
      },
      "file_extension": ".py",
      "mimetype": "text/x-python",
      "name": "python",
      "nbconvert_exporter": "python",
      "pygments_lexer": "ipython3",
      "version": "3.9.17"
    }
  },
  "nbformat": 4,
  "nbformat_minor": 0
}
