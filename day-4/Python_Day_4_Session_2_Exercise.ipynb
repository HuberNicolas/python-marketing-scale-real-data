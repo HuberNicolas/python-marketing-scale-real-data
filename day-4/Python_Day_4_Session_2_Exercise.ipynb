{
  "cells": [
    {
      "cell_type": "markdown",
      "metadata": {
        "id": "cCjAe20VdlxO"
      },
      "source": [
        "#Python - Non-technical introduction\n",
        "\n",
        "##Exercise Day 4 Session 2 \"First be effective and then be efficient: How to use functions?\"\n",
        "\n",
        "This file provides exercises accompanying the lectures.\n",
        "\n",
        "*Note:* If you want to make changes to this document, you need to save your own copy using the \"Save copy in Drive\" command in the \"File\" menu.\n"
      ]
    },
    {
      "cell_type": "markdown",
      "metadata": {
        "id": "qpmzcnuFlexj"
      },
      "source": [
        "###Preparation"
      ]
    },
    {
      "cell_type": "markdown",
      "metadata": {
        "id": "GW4cNjYKvKVg"
      },
      "source": [
        "###35 - Understaning why to use functions"
      ]
    },
    {
      "cell_type": "markdown",
      "metadata": {
        "id": "fh3Cz0YKvN7Z"
      },
      "source": [
        "1. Create a function that takes two input arguments: variable `A` and variable `B`. Create a function that divides variable `A` by variable `B`.\n",
        "\n"
      ]
    },
    {
      "cell_type": "code",
      "execution_count": 7,
      "metadata": {},
      "outputs": [],
      "source": [
        "def div(A, B):\n",
        "    if B != 0:\n",
        "        return A / B\n",
        "    else:\n",
        "        return \"Invalid Argument! B cannot be 0.\""
      ]
    },
    {
      "cell_type": "code",
      "execution_count": 8,
      "metadata": {},
      "outputs": [
        {
          "data": {
            "text/plain": [
              "'Invalid Argument! B cannot be 0.'"
            ]
          },
          "execution_count": 8,
          "metadata": {},
          "output_type": "execute_result"
        }
      ],
      "source": [
        "div(10, 0)"
      ]
    },
    {
      "cell_type": "markdown",
      "metadata": {
        "id": "MdtfAZRZ1-ic"
      },
      "source": [
        "###36 - How to write a function"
      ]
    },
    {
      "cell_type": "markdown",
      "metadata": {
        "id": "WPoWqvKf2JcS"
      },
      "source": [
        "1. Create a function that randomly selects a name form a list. The function should have two arguments: the participants list (as array) and the number of students to pick."
      ]
    },
    {
      "cell_type": "code",
      "execution_count": 9,
      "metadata": {},
      "outputs": [],
      "source": [
        "import random\n",
        "random.seed(42)"
      ]
    },
    {
      "cell_type": "code",
      "execution_count": 40,
      "metadata": {},
      "outputs": [],
      "source": [
        "def random_picker(participants_list, participent_number):\n",
        "    random.shuffle(participants_list)\n",
        "    if participent_number >= len(participants_list):\n",
        "        return participants_list\n",
        "    else:\n",
        "        return(participants_list[:participent_number])\n"
      ]
    },
    {
      "cell_type": "code",
      "execution_count": 43,
      "metadata": {},
      "outputs": [
        {
          "data": {
            "text/plain": [
              "['Bob', 'Dori', 'Charlie', 'Anna']"
            ]
          },
          "execution_count": 43,
          "metadata": {},
          "output_type": "execute_result"
        }
      ],
      "source": [
        "participants_list = [\"Anna\", \"Bob\", \"Charlie\", \"Dori\"]\n",
        "participant_number = 4\n",
        "random_picker(participants_list=participants_list, participent_number=participant_number)"
      ]
    },
    {
      "cell_type": "markdown",
      "metadata": {
        "id": "XW-Ewl7skxDp"
      },
      "source": [
        "###37 - Advanced techniques for creating functions"
      ]
    },
    {
      "cell_type": "markdown",
      "metadata": {
        "id": "sexsVXGpwWxY"
      },
      "source": [
        "1. Extend the function which samples the names. Add another argument to specify the number of names being drawn. Set a default for this argument, i.e. if not specified 2 names should be returned.\n",
        "\n",
        "\n"
      ]
    },
    {
      "cell_type": "code",
      "execution_count": 52,
      "metadata": {},
      "outputs": [
        {
          "name": "stdout",
          "output_type": "stream",
          "text": [
            "['Clyde Decker', 'Jason Humphreys']\n"
          ]
        }
      ],
      "source": [
        "import names\n",
        "\n",
        "\n",
        "def generate_sample_names(number_of_sample_names = 2):\n",
        "    sample_names = []\n",
        "    for i in range(0, number_of_sample_names):\n",
        "        sample_names.append(names.get_full_name())\n",
        "    return sample_names\n",
        "\n",
        "sample_names = generate_sample_names()\n",
        "print(sample_names)\n"
      ]
    },
    {
      "cell_type": "code",
      "execution_count": 63,
      "metadata": {},
      "outputs": [],
      "source": [
        "def random_sample_picker(number_of_sample_names=2, number_of_picks=2):\n",
        "    sample_names = generate_sample_names(number_of_sample_names=number_of_sample_names)\n",
        "    return random_picker(participants_list=sample_names, participent_number=number_of_picks)"
      ]
    },
    {
      "cell_type": "code",
      "execution_count": 68,
      "metadata": {},
      "outputs": [
        {
          "data": {
            "text/plain": [
              "['Harold Treece',\n",
              " 'Wayne Nagata',\n",
              " 'Elizabeth Peebles',\n",
              " 'Robert Harrison',\n",
              " 'Sara Windsor',\n",
              " 'Danielle Kath',\n",
              " 'Raymond Wright',\n",
              " 'Christopher Gonzalez',\n",
              " 'Craig Reader',\n",
              " 'Paula Toothman',\n",
              " 'Jimmy Ziegler',\n",
              " 'Alice Wild',\n",
              " 'Frank Flowers',\n",
              " 'Daniel Tillman',\n",
              " 'Greg Murphy',\n",
              " 'Amber Espinosa',\n",
              " 'Gregory Perkins',\n",
              " 'Samantha Capley',\n",
              " 'Alfred Byrd',\n",
              " 'Irma Mcneil']"
            ]
          },
          "execution_count": 68,
          "metadata": {},
          "output_type": "execute_result"
        }
      ],
      "source": [
        "random_sample_picker(89, 20)"
      ]
    }
  ],
  "metadata": {
    "colab": {
      "provenance": [],
      "toc_visible": true
    },
    "kernelspec": {
      "display_name": "Python 3",
      "name": "python3"
    },
    "language_info": {
      "codemirror_mode": {
        "name": "ipython",
        "version": 3
      },
      "file_extension": ".py",
      "mimetype": "text/x-python",
      "name": "python",
      "nbconvert_exporter": "python",
      "pygments_lexer": "ipython3",
      "version": "3.9.17"
    }
  },
  "nbformat": 4,
  "nbformat_minor": 0
}
