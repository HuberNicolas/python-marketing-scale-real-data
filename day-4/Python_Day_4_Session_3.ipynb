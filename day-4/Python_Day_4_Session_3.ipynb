{
  "nbformat": 4,
  "nbformat_minor": 0,
  "metadata": {
    "colab": {
      "provenance": [],
      "toc_visible": true
    },
    "kernelspec": {
      "name": "python3",
      "display_name": "Python 3"
    }
  },
  "cells": [
    {
      "cell_type": "markdown",
      "metadata": {
        "id": "3arMV6uM79oD"
      },
      "source": [
        "#Python - Non-technical introduction\n",
        "\n",
        "##Day 4 Session 3 \"No data, no problem: How to simulate data?\"\n",
        "\n",
        "This file accompanies the lectures and provides the code for the corresponding slides.\n",
        "\n",
        "*Note:* If you want to make changes to this document, you need to save your own copy using the \"Save copy in Drive\" command in the \"File\" menu."
      ]
    },
    {
      "cell_type": "markdown",
      "metadata": {
        "id": "c7xrHageKBHn"
      },
      "source": [
        "###Preparation\n",
        "\n",
        "**Make sure to run the follwing code before continuing.** Code will prepare everything (load data, ...)."
      ]
    },
    {
      "cell_type": "code",
      "metadata": {
        "id": "EmbjkbMNKRaX",
        "colab": {
          "base_uri": "https://localhost:8080/",
          "height": 207
        },
        "outputId": "7d78ac39-d009-4498-8db2-c4de33270184"
      },
      "source": [
        "#load the numpy package\n",
        "import numpy as np\n",
        "#load the Pandas package\n",
        "import pandas as pd\n",
        "#install names package\n",
        "!pip install names\n",
        "\n",
        "#Read the csv file and store it in the variable \"myData\". Note: this file is hostes in a GitHub repository.\n",
        "myData=pd.read_csv(filepath_or_buffer=\"https://raw.githubusercontent.com/bachmannpatrick/Python-Class/master/data/transactions.csv\", sep=\",\")\n",
        "#Adjust the format of column \"TransDate\" to datetime\n",
        "myData[\"TransDate\"]  = pd.to_datetime(myData[\"TransDate\"], dayfirst=True)"
      ],
      "execution_count": null,
      "outputs": [
        {
          "output_type": "stream",
          "text": [
            "Collecting names\n",
            "\u001b[?25l  Downloading https://files.pythonhosted.org/packages/44/4e/f9cb7ef2df0250f4ba3334fbdabaa94f9c88097089763d8e85ada8092f84/names-0.3.0.tar.gz (789kB)\n",
            "\r\u001b[K     |▍                               | 10kB 15.1MB/s eta 0:00:01\r\u001b[K     |▉                               | 20kB 2.9MB/s eta 0:00:01\r\u001b[K     |█▎                              | 30kB 3.6MB/s eta 0:00:01\r\u001b[K     |█▋                              | 40kB 4.0MB/s eta 0:00:01\r\u001b[K     |██                              | 51kB 3.1MB/s eta 0:00:01\r\u001b[K     |██▌                             | 61kB 3.6MB/s eta 0:00:01\r\u001b[K     |███                             | 71kB 3.7MB/s eta 0:00:01\r\u001b[K     |███▎                            | 81kB 4.2MB/s eta 0:00:01\r\u001b[K     |███▊                            | 92kB 4.2MB/s eta 0:00:01\r\u001b[K     |████▏                           | 102kB 4.4MB/s eta 0:00:01\r\u001b[K     |████▋                           | 112kB 4.4MB/s eta 0:00:01\r\u001b[K     |█████                           | 122kB 4.4MB/s eta 0:00:01\r\u001b[K     |█████▍                          | 133kB 4.4MB/s eta 0:00:01\r\u001b[K     |█████▉                          | 143kB 4.4MB/s eta 0:00:01\r\u001b[K     |██████▎                         | 153kB 4.4MB/s eta 0:00:01\r\u001b[K     |██████▋                         | 163kB 4.4MB/s eta 0:00:01\r\u001b[K     |███████                         | 174kB 4.4MB/s eta 0:00:01\r\u001b[K     |███████▌                        | 184kB 4.4MB/s eta 0:00:01\r\u001b[K     |████████                        | 194kB 4.4MB/s eta 0:00:01\r\u001b[K     |████████▎                       | 204kB 4.4MB/s eta 0:00:01\r\u001b[K     |████████▊                       | 215kB 4.4MB/s eta 0:00:01\r\u001b[K     |█████████▏                      | 225kB 4.4MB/s eta 0:00:01\r\u001b[K     |█████████▌                      | 235kB 4.4MB/s eta 0:00:01\r\u001b[K     |██████████                      | 245kB 4.4MB/s eta 0:00:01\r\u001b[K     |██████████▍                     | 256kB 4.4MB/s eta 0:00:01\r\u001b[K     |██████████▉                     | 266kB 4.4MB/s eta 0:00:01\r\u001b[K     |███████████▏                    | 276kB 4.4MB/s eta 0:00:01\r\u001b[K     |███████████▋                    | 286kB 4.4MB/s eta 0:00:01\r\u001b[K     |████████████                    | 296kB 4.4MB/s eta 0:00:01\r\u001b[K     |████████████▌                   | 307kB 4.4MB/s eta 0:00:01\r\u001b[K     |████████████▉                   | 317kB 4.4MB/s eta 0:00:01\r\u001b[K     |█████████████▎                  | 327kB 4.4MB/s eta 0:00:01\r\u001b[K     |█████████████▊                  | 337kB 4.4MB/s eta 0:00:01\r\u001b[K     |██████████████▏                 | 348kB 4.4MB/s eta 0:00:01\r\u001b[K     |██████████████▌                 | 358kB 4.4MB/s eta 0:00:01\r\u001b[K     |███████████████                 | 368kB 4.4MB/s eta 0:00:01\r\u001b[K     |███████████████▍                | 378kB 4.4MB/s eta 0:00:01\r\u001b[K     |███████████████▉                | 389kB 4.4MB/s eta 0:00:01\r\u001b[K     |████████████████▏               | 399kB 4.4MB/s eta 0:00:01\r\u001b[K     |████████████████▋               | 409kB 4.4MB/s eta 0:00:01\r\u001b[K     |█████████████████               | 419kB 4.4MB/s eta 0:00:01\r\u001b[K     |█████████████████▍              | 430kB 4.4MB/s eta 0:00:01\r\u001b[K     |█████████████████▉              | 440kB 4.4MB/s eta 0:00:01\r\u001b[K     |██████████████████▎             | 450kB 4.4MB/s eta 0:00:01\r\u001b[K     |██████████████████▊             | 460kB 4.4MB/s eta 0:00:01\r\u001b[K     |███████████████████             | 471kB 4.4MB/s eta 0:00:01\r\u001b[K     |███████████████████▌            | 481kB 4.4MB/s eta 0:00:01\r\u001b[K     |████████████████████            | 491kB 4.4MB/s eta 0:00:01\r\u001b[K     |████████████████████▍           | 501kB 4.4MB/s eta 0:00:01\r\u001b[K     |████████████████████▊           | 512kB 4.4MB/s eta 0:00:01\r\u001b[K     |█████████████████████▏          | 522kB 4.4MB/s eta 0:00:01\r\u001b[K     |█████████████████████▋          | 532kB 4.4MB/s eta 0:00:01\r\u001b[K     |██████████████████████          | 542kB 4.4MB/s eta 0:00:01\r\u001b[K     |██████████████████████▍         | 552kB 4.4MB/s eta 0:00:01\r\u001b[K     |██████████████████████▉         | 563kB 4.4MB/s eta 0:00:01\r\u001b[K     |███████████████████████▎        | 573kB 4.4MB/s eta 0:00:01\r\u001b[K     |███████████████████████▊        | 583kB 4.4MB/s eta 0:00:01\r\u001b[K     |████████████████████████        | 593kB 4.4MB/s eta 0:00:01\r\u001b[K     |████████████████████████▌       | 604kB 4.4MB/s eta 0:00:01\r\u001b[K     |█████████████████████████       | 614kB 4.4MB/s eta 0:00:01\r\u001b[K     |█████████████████████████▎      | 624kB 4.4MB/s eta 0:00:01\r\u001b[K     |█████████████████████████▊      | 634kB 4.4MB/s eta 0:00:01\r\u001b[K     |██████████████████████████▏     | 645kB 4.4MB/s eta 0:00:01\r\u001b[K     |██████████████████████████▋     | 655kB 4.4MB/s eta 0:00:01\r\u001b[K     |███████████████████████████     | 665kB 4.4MB/s eta 0:00:01\r\u001b[K     |███████████████████████████▍    | 675kB 4.4MB/s eta 0:00:01\r\u001b[K     |███████████████████████████▉    | 686kB 4.4MB/s eta 0:00:01\r\u001b[K     |████████████████████████████▎   | 696kB 4.4MB/s eta 0:00:01\r\u001b[K     |████████████████████████████▋   | 706kB 4.4MB/s eta 0:00:01\r\u001b[K     |█████████████████████████████   | 716kB 4.4MB/s eta 0:00:01\r\u001b[K     |█████████████████████████████▌  | 727kB 4.4MB/s eta 0:00:01\r\u001b[K     |██████████████████████████████  | 737kB 4.4MB/s eta 0:00:01\r\u001b[K     |██████████████████████████████▎ | 747kB 4.4MB/s eta 0:00:01\r\u001b[K     |██████████████████████████████▊ | 757kB 4.4MB/s eta 0:00:01\r\u001b[K     |███████████████████████████████▏| 768kB 4.4MB/s eta 0:00:01\r\u001b[K     |███████████████████████████████▋| 778kB 4.4MB/s eta 0:00:01\r\u001b[K     |████████████████████████████████| 788kB 4.4MB/s eta 0:00:01\r\u001b[K     |████████████████████████████████| 798kB 4.4MB/s \n",
            "\u001b[?25hBuilding wheels for collected packages: names\n",
            "  Building wheel for names (setup.py) ... \u001b[?25l\u001b[?25hdone\n",
            "  Created wheel for names: filename=names-0.3.0-cp36-none-any.whl size=803689 sha256=b3b51d2df0b3a5b3436b2d87f81cfe5c4e08b7fce72ee0ad06927c9aa81811ba\n",
            "  Stored in directory: /root/.cache/pip/wheels/f9/a5/e1/be3e0aaa6fa285575078fa2aafd9959b45bdbc8de8a6803aeb\n",
            "Successfully built names\n",
            "Installing collected packages: names\n",
            "Successfully installed names-0.3.0\n"
          ],
          "name": "stdout"
        }
      ]
    },
    {
      "cell_type": "markdown",
      "metadata": {
        "id": "vaX9FRSfJwsn"
      },
      "source": [
        "###38 - Creating sequences automatically"
      ]
    },
    {
      "cell_type": "markdown",
      "metadata": {
        "id": "T2GNbQVy8xhq"
      },
      "source": [
        "####**Slide:** Sequences for equal spacing (1/2)"
      ]
    },
    {
      "cell_type": "code",
      "metadata": {
        "id": "7WxjwfPblNMI",
        "colab": {
          "base_uri": "https://localhost:8080/",
          "height": 142
        },
        "outputId": "4d4bdd5f-06c2-4cd3-f787-df42f9a098bf"
      },
      "source": [
        "#basic sequences\n",
        "range(2,13)\n"
      ],
      "execution_count": null,
      "outputs": [
        {
          "output_type": "execute_result",
          "data": {
            "text/html": [
              "<div>\n",
              "<style scoped>\n",
              "    .dataframe tbody tr th:only-of-type {\n",
              "        vertical-align: middle;\n",
              "    }\n",
              "\n",
              "    .dataframe tbody tr th {\n",
              "        vertical-align: top;\n",
              "    }\n",
              "\n",
              "    .dataframe thead th {\n",
              "        text-align: right;\n",
              "    }\n",
              "</style>\n",
              "<table border=\"1\" class=\"dataframe\">\n",
              "  <thead>\n",
              "    <tr style=\"text-align: right;\">\n",
              "      <th></th>\n",
              "      <th>Customer</th>\n",
              "      <th>Gender</th>\n",
              "      <th>Birthdate</th>\n",
              "      <th>ZIP</th>\n",
              "      <th>JoinDate</th>\n",
              "      <th>TransKey</th>\n",
              "    </tr>\n",
              "  </thead>\n",
              "  <tbody>\n",
              "    <tr>\n",
              "      <th>0</th>\n",
              "      <td>42291</td>\n",
              "      <td>m</td>\n",
              "      <td>1963-07-12</td>\n",
              "      <td>US-04533</td>\n",
              "      <td>1998-07-23</td>\n",
              "      <td>NaN</td>\n",
              "    </tr>\n",
              "    <tr>\n",
              "      <th>1</th>\n",
              "      <td>42886</td>\n",
              "      <td>f</td>\n",
              "      <td>1987-05-04</td>\n",
              "      <td>US-08055</td>\n",
              "      <td>2011-06-12</td>\n",
              "      <td>NaN</td>\n",
              "    </tr>\n",
              "    <tr>\n",
              "      <th>2</th>\n",
              "      <td>80365</td>\n",
              "      <td>f</td>\n",
              "      <td>1991-08-26</td>\n",
              "      <td>US-06332</td>\n",
              "      <td>2009-09-15</td>\n",
              "      <td>NaN</td>\n",
              "    </tr>\n",
              "  </tbody>\n",
              "</table>\n",
              "</div>"
            ],
            "text/plain": [
              "   Customer Gender  Birthdate       ZIP   JoinDate  TransKey\n",
              "0     42291      m 1963-07-12  US-04533 1998-07-23       NaN\n",
              "1     42886      f 1987-05-04  US-08055 2011-06-12       NaN\n",
              "2     80365      f 1991-08-26  US-06332 2009-09-15       NaN"
            ]
          },
          "metadata": {
            "tags": []
          },
          "execution_count": 2
        }
      ]
    },
    {
      "cell_type": "code",
      "metadata": {
        "id": "PLtaN88JItu_",
        "colab": {
          "base_uri": "https://localhost:8080/",
          "height": 34
        },
        "outputId": "9d2b57e7-4701-4a20-ed53-4a32e89bc6cf"
      },
      "source": [
        "#arrays\n",
        "np.arange(start=1, stop=12, step=3)\n"
      ],
      "execution_count": null,
      "outputs": [
        {
          "output_type": "execute_result",
          "data": {
            "text/plain": [
              "array([ 1,  4,  7, 10])"
            ]
          },
          "metadata": {
            "tags": []
          },
          "execution_count": 4
        }
      ]
    },
    {
      "cell_type": "code",
      "metadata": {
        "id": "Gt3GsS9ZIygF",
        "colab": {
          "base_uri": "https://localhost:8080/",
          "height": 51
        },
        "outputId": "da161974-a94e-46f2-f775-fa0bc529883d"
      },
      "source": [
        "np.arange(start=1.25, stop=6.25, step=0.25)\n"
      ],
      "execution_count": null,
      "outputs": [
        {
          "output_type": "execute_result",
          "data": {
            "text/plain": [
              "array([1.25, 1.5 , 1.75, 2.  , 2.25, 2.5 , 2.75, 3.  , 3.25, 3.5 , 3.75,\n",
              "       4.  , 4.25, 4.5 , 4.75, 5.  , 5.25, 5.5 , 5.75, 6.  ])"
            ]
          },
          "metadata": {
            "tags": []
          },
          "execution_count": 5
        }
      ]
    },
    {
      "cell_type": "markdown",
      "metadata": {
        "id": "OfaIoinaDIWf"
      },
      "source": [
        "####**Slide:** Sidenote: Unnamed arguments"
      ]
    },
    {
      "cell_type": "code",
      "metadata": {
        "id": "gQztu6ryDMxf",
        "colab": {
          "base_uri": "https://localhost:8080/",
          "height": 34
        },
        "outputId": "8646b29e-d2d3-41ef-e5da-312036e86f54"
      },
      "source": [
        "np.arange(start=1, stop=12, step=3)"
      ],
      "execution_count": null,
      "outputs": [
        {
          "output_type": "execute_result",
          "data": {
            "text/plain": [
              "array([ 1,  4,  7, 10])"
            ]
          },
          "metadata": {
            "tags": []
          },
          "execution_count": 6
        }
      ]
    },
    {
      "cell_type": "code",
      "metadata": {
        "id": "jwaYtpllJd93",
        "colab": {
          "base_uri": "https://localhost:8080/",
          "height": 34
        },
        "outputId": "3d5a41d8-a21b-49e1-cbd9-7965cf0b8aba"
      },
      "source": [
        "np.arange(1,12,3)"
      ],
      "execution_count": null,
      "outputs": [
        {
          "output_type": "execute_result",
          "data": {
            "text/plain": [
              "array([ 1,  4,  7, 10])"
            ]
          },
          "metadata": {
            "tags": []
          },
          "execution_count": 7
        }
      ]
    },
    {
      "cell_type": "code",
      "metadata": {
        "id": "CySl0cYOJhEW",
        "colab": {
          "base_uri": "https://localhost:8080/",
          "height": 34
        },
        "outputId": "7b6e0500-bde8-4263-addc-df6026cf3e7b"
      },
      "source": [
        "np.arange(1,3,12)"
      ],
      "execution_count": null,
      "outputs": [
        {
          "output_type": "execute_result",
          "data": {
            "text/plain": [
              "array([1])"
            ]
          },
          "metadata": {
            "tags": []
          },
          "execution_count": 10
        }
      ]
    },
    {
      "cell_type": "code",
      "metadata": {
        "id": "EhXomuJ0Jjc6",
        "colab": {
          "base_uri": "https://localhost:8080/",
          "height": 34
        },
        "outputId": "35e6afa9-f6ff-4113-a7bc-688b9f802027"
      },
      "source": [
        "#use argument names!\n",
        "np.arange(start=1, step=3, stop=12)"
      ],
      "execution_count": null,
      "outputs": [
        {
          "output_type": "execute_result",
          "data": {
            "text/plain": [
              "array([ 1,  4,  7, 10])"
            ]
          },
          "metadata": {
            "tags": []
          },
          "execution_count": 8
        }
      ]
    },
    {
      "cell_type": "markdown",
      "metadata": {
        "id": "xTLGxCSdDVdh"
      },
      "source": [
        "####**Slide:** Sequences for equal spacing (2/2)"
      ]
    },
    {
      "cell_type": "code",
      "metadata": {
        "id": "DSdSGvmRDZax",
        "colab": {
          "base_uri": "https://localhost:8080/",
          "height": 34
        },
        "outputId": "d000d3e0-78c7-4316-d574-b867aedfae5d"
      },
      "source": [
        "#Characters\n",
        "import string\n",
        "\n",
        "list(string.ascii_lowercase)[0:5]\n"
      ],
      "execution_count": null,
      "outputs": [
        {
          "output_type": "execute_result",
          "data": {
            "text/plain": [
              "['a', 'b', 'c', 'd', 'e']"
            ]
          },
          "metadata": {
            "tags": []
          },
          "execution_count": 11
        }
      ]
    },
    {
      "cell_type": "code",
      "metadata": {
        "id": "6lguLJ7WJ-Wb",
        "colab": {
          "base_uri": "https://localhost:8080/",
          "height": 34
        },
        "outputId": "a2a4d212-7278-451f-a54f-cd84498243be"
      },
      "source": [
        "#Dates\n",
        "\n",
        "pd.date_range(start='1/1/2011',end='03/31/2011',\n",
        "freq=\"MS\")"
      ],
      "execution_count": null,
      "outputs": [
        {
          "output_type": "execute_result",
          "data": {
            "text/plain": [
              "DatetimeIndex(['2011-01-01', '2011-02-01', '2011-03-01'], dtype='datetime64[ns]', freq='MS')"
            ]
          },
          "metadata": {
            "tags": []
          },
          "execution_count": 12
        }
      ]
    },
    {
      "cell_type": "markdown",
      "metadata": {
        "id": "V6XzZ-QPDh0K"
      },
      "source": [
        "####**Slide:** Replicate a number or vector"
      ]
    },
    {
      "cell_type": "code",
      "metadata": {
        "id": "qhOu56uTDlEc",
        "colab": {
          "base_uri": "https://localhost:8080/",
          "height": 68
        },
        "outputId": "ccc8ceb8-e4e7-4191-a327-88d271328881"
      },
      "source": [
        "#Continuous replications\n",
        "np.tile(range(1,13), reps=3)"
      ],
      "execution_count": null,
      "outputs": [
        {
          "output_type": "execute_result",
          "data": {
            "text/plain": [
              "array([ 1,  2,  3,  4,  5,  6,  7,  8,  9, 10, 11, 12,  1,  2,  3,  4,  5,\n",
              "        6,  7,  8,  9, 10, 11, 12,  1,  2,  3,  4,  5,  6,  7,  8,  9, 10,\n",
              "       11, 12])"
            ]
          },
          "metadata": {
            "tags": []
          },
          "execution_count": 13
        }
      ]
    },
    {
      "cell_type": "code",
      "metadata": {
        "id": "XRB5c0MuDf_Y",
        "colab": {
          "base_uri": "https://localhost:8080/",
          "height": 68
        },
        "outputId": "56f21d1a-d7be-4446-9caf-381d099e28fd"
      },
      "source": [
        "#Consecutive repetitions\n",
        "np.repeat(range(1,13), repeats=3)\n"
      ],
      "execution_count": null,
      "outputs": [
        {
          "output_type": "execute_result",
          "data": {
            "text/plain": [
              "array([ 1,  1,  1,  2,  2,  2,  3,  3,  3,  4,  4,  4,  5,  5,  5,  6,  6,\n",
              "        6,  7,  7,  7,  8,  8,  8,  9,  9,  9, 10, 10, 10, 11, 11, 11, 12,\n",
              "       12, 12])"
            ]
          },
          "metadata": {
            "tags": []
          },
          "execution_count": 14
        }
      ]
    },
    {
      "cell_type": "markdown",
      "metadata": {
        "id": "zUkrov3NEt4p"
      },
      "source": [
        "####**Slide:** Create a table with all possible permutations of the given variables"
      ]
    },
    {
      "cell_type": "code",
      "metadata": {
        "id": "kOl94RQhFHoM",
        "colab": {
          "base_uri": "https://localhost:8080/",
          "height": 34
        },
        "outputId": "76f6d85b-140a-42b5-b7ab-80040c5a9756"
      },
      "source": [
        "import itertools\n",
        "list(itertools.product(range(165,168), [\"1\", \"2\"]))"
      ],
      "execution_count": null,
      "outputs": [
        {
          "output_type": "execute_result",
          "data": {
            "text/plain": [
              "[(165, '1'), (165, '2'), (166, '1'), (166, '2'), (167, '1'), (167, '2')]"
            ]
          },
          "metadata": {
            "tags": []
          },
          "execution_count": 16
        }
      ]
    },
    {
      "cell_type": "code",
      "metadata": {
        "id": "ZGBx7TLlMCFz",
        "colab": {
          "base_uri": "https://localhost:8080/",
          "height": 235
        },
        "outputId": "b44c441e-9410-402c-f65e-adf14154739f"
      },
      "source": [
        "#An example\n",
        "CustId = range(165,168)\n",
        "Store= [\"A\",\"B\"]\n",
        "CustData= pd.DataFrame(list(itertools.product(CustId, Store)))\n",
        "CustData.columns = [\"CustId\", \"Store\"]\n",
        "CustData"
      ],
      "execution_count": null,
      "outputs": [
        {
          "output_type": "execute_result",
          "data": {
            "text/html": [
              "<div>\n",
              "<style scoped>\n",
              "    .dataframe tbody tr th:only-of-type {\n",
              "        vertical-align: middle;\n",
              "    }\n",
              "\n",
              "    .dataframe tbody tr th {\n",
              "        vertical-align: top;\n",
              "    }\n",
              "\n",
              "    .dataframe thead th {\n",
              "        text-align: right;\n",
              "    }\n",
              "</style>\n",
              "<table border=\"1\" class=\"dataframe\">\n",
              "  <thead>\n",
              "    <tr style=\"text-align: right;\">\n",
              "      <th></th>\n",
              "      <th>CustId</th>\n",
              "      <th>Store</th>\n",
              "    </tr>\n",
              "  </thead>\n",
              "  <tbody>\n",
              "    <tr>\n",
              "      <th>0</th>\n",
              "      <td>165</td>\n",
              "      <td>A</td>\n",
              "    </tr>\n",
              "    <tr>\n",
              "      <th>1</th>\n",
              "      <td>165</td>\n",
              "      <td>B</td>\n",
              "    </tr>\n",
              "    <tr>\n",
              "      <th>2</th>\n",
              "      <td>166</td>\n",
              "      <td>A</td>\n",
              "    </tr>\n",
              "    <tr>\n",
              "      <th>3</th>\n",
              "      <td>166</td>\n",
              "      <td>B</td>\n",
              "    </tr>\n",
              "    <tr>\n",
              "      <th>4</th>\n",
              "      <td>167</td>\n",
              "      <td>A</td>\n",
              "    </tr>\n",
              "    <tr>\n",
              "      <th>5</th>\n",
              "      <td>167</td>\n",
              "      <td>B</td>\n",
              "    </tr>\n",
              "  </tbody>\n",
              "</table>\n",
              "</div>"
            ],
            "text/plain": [
              "   CustId Store\n",
              "0     165     A\n",
              "1     165     B\n",
              "2     166     A\n",
              "3     166     B\n",
              "4     167     A\n",
              "5     167     B"
            ]
          },
          "metadata": {
            "tags": []
          },
          "execution_count": 20
        }
      ]
    },
    {
      "cell_type": "markdown",
      "metadata": {
        "id": "bMnZ67wwFNEy"
      },
      "source": [
        "####**Slide:** Sidenote: Concatenate strings"
      ]
    },
    {
      "cell_type": "code",
      "metadata": {
        "id": "MbswKvXwFQHC",
        "colab": {
          "base_uri": "https://localhost:8080/",
          "height": 142
        },
        "outputId": "0dd194f1-6e08-4fc0-b0dd-34e49d35f843"
      },
      "source": [
        "CustData.head(n=3)\n",
        "CustData.dtypes\n",
        "CustData[\"Store_Cust\"] = CustData[\"CustId\"].astype(str) + \"_\" + CustData[\"Store\"].astype(str)\n",
        "CustData.head(n=3)"
      ],
      "execution_count": null,
      "outputs": [
        {
          "output_type": "execute_result",
          "data": {
            "text/html": [
              "<div>\n",
              "<style scoped>\n",
              "    .dataframe tbody tr th:only-of-type {\n",
              "        vertical-align: middle;\n",
              "    }\n",
              "\n",
              "    .dataframe tbody tr th {\n",
              "        vertical-align: top;\n",
              "    }\n",
              "\n",
              "    .dataframe thead th {\n",
              "        text-align: right;\n",
              "    }\n",
              "</style>\n",
              "<table border=\"1\" class=\"dataframe\">\n",
              "  <thead>\n",
              "    <tr style=\"text-align: right;\">\n",
              "      <th></th>\n",
              "      <th>CustId</th>\n",
              "      <th>Store</th>\n",
              "      <th>Store_Cust</th>\n",
              "    </tr>\n",
              "  </thead>\n",
              "  <tbody>\n",
              "    <tr>\n",
              "      <th>0</th>\n",
              "      <td>165</td>\n",
              "      <td>A</td>\n",
              "      <td>165_A</td>\n",
              "    </tr>\n",
              "    <tr>\n",
              "      <th>1</th>\n",
              "      <td>165</td>\n",
              "      <td>B</td>\n",
              "      <td>165_B</td>\n",
              "    </tr>\n",
              "    <tr>\n",
              "      <th>2</th>\n",
              "      <td>166</td>\n",
              "      <td>A</td>\n",
              "      <td>166_A</td>\n",
              "    </tr>\n",
              "  </tbody>\n",
              "</table>\n",
              "</div>"
            ],
            "text/plain": [
              "   CustId Store Store_Cust\n",
              "0     165     A      165_A\n",
              "1     165     B      165_B\n",
              "2     166     A      166_A"
            ]
          },
          "metadata": {
            "tags": []
          },
          "execution_count": 21
        }
      ]
    },
    {
      "cell_type": "markdown",
      "metadata": {
        "id": "9FgGMChTMI97"
      },
      "source": [
        "####**Slide:** Sidenote: Finding unique elements"
      ]
    },
    {
      "cell_type": "code",
      "metadata": {
        "id": "wgceVbM1MQm5",
        "colab": {
          "base_uri": "https://localhost:8080/",
          "height": 235
        },
        "outputId": "98ced119-2589-4ef5-8339-5aff7a6d7754"
      },
      "source": [
        "#Return the unique entries of a DataFrame\n",
        "\n",
        "CustData.drop_duplicates()"
      ],
      "execution_count": null,
      "outputs": [
        {
          "output_type": "execute_result",
          "data": {
            "text/html": [
              "<div>\n",
              "<style scoped>\n",
              "    .dataframe tbody tr th:only-of-type {\n",
              "        vertical-align: middle;\n",
              "    }\n",
              "\n",
              "    .dataframe tbody tr th {\n",
              "        vertical-align: top;\n",
              "    }\n",
              "\n",
              "    .dataframe thead th {\n",
              "        text-align: right;\n",
              "    }\n",
              "</style>\n",
              "<table border=\"1\" class=\"dataframe\">\n",
              "  <thead>\n",
              "    <tr style=\"text-align: right;\">\n",
              "      <th></th>\n",
              "      <th>CustId</th>\n",
              "      <th>Store</th>\n",
              "      <th>Store_Cust</th>\n",
              "    </tr>\n",
              "  </thead>\n",
              "  <tbody>\n",
              "    <tr>\n",
              "      <th>0</th>\n",
              "      <td>165</td>\n",
              "      <td>A</td>\n",
              "      <td>165_A</td>\n",
              "    </tr>\n",
              "    <tr>\n",
              "      <th>1</th>\n",
              "      <td>165</td>\n",
              "      <td>B</td>\n",
              "      <td>165_B</td>\n",
              "    </tr>\n",
              "    <tr>\n",
              "      <th>2</th>\n",
              "      <td>166</td>\n",
              "      <td>A</td>\n",
              "      <td>166_A</td>\n",
              "    </tr>\n",
              "    <tr>\n",
              "      <th>3</th>\n",
              "      <td>166</td>\n",
              "      <td>B</td>\n",
              "      <td>166_B</td>\n",
              "    </tr>\n",
              "    <tr>\n",
              "      <th>4</th>\n",
              "      <td>167</td>\n",
              "      <td>A</td>\n",
              "      <td>167_A</td>\n",
              "    </tr>\n",
              "    <tr>\n",
              "      <th>5</th>\n",
              "      <td>167</td>\n",
              "      <td>B</td>\n",
              "      <td>167_B</td>\n",
              "    </tr>\n",
              "  </tbody>\n",
              "</table>\n",
              "</div>"
            ],
            "text/plain": [
              "   CustId Store Store_Cust\n",
              "0     165     A      165_A\n",
              "1     165     B      165_B\n",
              "2     166     A      166_A\n",
              "3     166     B      166_B\n",
              "4     167     A      167_A\n",
              "5     167     B      167_B"
            ]
          },
          "metadata": {
            "tags": []
          },
          "execution_count": 22
        }
      ]
    },
    {
      "cell_type": "code",
      "metadata": {
        "id": "GlHkWfUfMe3_",
        "colab": {
          "base_uri": "https://localhost:8080/",
          "height": 34
        },
        "outputId": "02c4320a-a19c-455b-da5d-92feeb0dbc3a"
      },
      "source": [
        "#Return the unique elements of a vector\n",
        "\n",
        "pd.unique(CustData[\"Store\"])"
      ],
      "execution_count": null,
      "outputs": [
        {
          "output_type": "execute_result",
          "data": {
            "text/plain": [
              "array(['A', 'B'], dtype=object)"
            ]
          },
          "metadata": {
            "tags": []
          },
          "execution_count": 23
        }
      ]
    },
    {
      "cell_type": "markdown",
      "metadata": {
        "id": "GiB117iMFZwQ"
      },
      "source": [
        "###39 - Simulating and manipulating strings"
      ]
    },
    {
      "cell_type": "markdown",
      "metadata": {
        "id": "LyrU6mAqFw1q"
      },
      "source": [
        "####**Slide:** Random name sampling with `names()` (1/2)"
      ]
    },
    {
      "cell_type": "code",
      "metadata": {
        "id": "cuDP0AW0FwLU"
      },
      "source": [
        "import names"
      ],
      "execution_count": null,
      "outputs": []
    },
    {
      "cell_type": "code",
      "metadata": {
        "id": "mF4-nXmMNjNL",
        "colab": {
          "base_uri": "https://localhost:8080/",
          "height": 215
        },
        "outputId": "68b47ba9-71eb-400e-dfc8-a321f47258d8"
      },
      "source": [
        "randnames=[]\n",
        "#We use a loop here to show an example. Loops will be discussed tomorrow.\n",
        "for i in range(3):\n",
        "  randnames.append(names.get_full_name(gender=\"female\"))\n",
        "print (randnames)"
      ],
      "execution_count": null,
      "outputs": [
        {
          "output_type": "error",
          "ename": "NameError",
          "evalue": "ignored",
          "traceback": [
            "\u001b[0;31m---------------------------------------------------------------------------\u001b[0m",
            "\u001b[0;31mNameError\u001b[0m                                 Traceback (most recent call last)",
            "\u001b[0;32m<ipython-input-1-d0cc3614a8e8>\u001b[0m in \u001b[0;36m<module>\u001b[0;34m()\u001b[0m\n\u001b[1;32m      2\u001b[0m \u001b[0;31m#We use a loop here to show an example. Loops will be discussed tomorrow.\u001b[0m\u001b[0;34m\u001b[0m\u001b[0;34m\u001b[0m\u001b[0;34m\u001b[0m\u001b[0m\n\u001b[1;32m      3\u001b[0m \u001b[0;32mfor\u001b[0m \u001b[0mi\u001b[0m \u001b[0;32min\u001b[0m \u001b[0mrange\u001b[0m\u001b[0;34m(\u001b[0m\u001b[0;36m3\u001b[0m\u001b[0;34m)\u001b[0m\u001b[0;34m:\u001b[0m\u001b[0;34m\u001b[0m\u001b[0;34m\u001b[0m\u001b[0m\n\u001b[0;32m----> 4\u001b[0;31m   \u001b[0mrandnames\u001b[0m\u001b[0;34m.\u001b[0m\u001b[0mappend\u001b[0m\u001b[0;34m(\u001b[0m\u001b[0mnames\u001b[0m\u001b[0;34m.\u001b[0m\u001b[0mget_full_name\u001b[0m\u001b[0;34m(\u001b[0m\u001b[0mgender\u001b[0m\u001b[0;34m=\u001b[0m\u001b[0;34m\"female\"\u001b[0m\u001b[0;34m)\u001b[0m\u001b[0;34m)\u001b[0m\u001b[0;34m\u001b[0m\u001b[0;34m\u001b[0m\u001b[0m\n\u001b[0m\u001b[1;32m      5\u001b[0m \u001b[0mprint\u001b[0m \u001b[0;34m(\u001b[0m\u001b[0mrandnames\u001b[0m\u001b[0;34m)\u001b[0m\u001b[0;34m\u001b[0m\u001b[0;34m\u001b[0m\u001b[0m\n",
            "\u001b[0;31mNameError\u001b[0m: name 'names' is not defined"
          ]
        }
      ]
    },
    {
      "cell_type": "markdown",
      "metadata": {
        "id": "F5rjBHknHe8y"
      },
      "source": [
        "####**Slide:** Random name sampling with `names()` (2/2)"
      ]
    },
    {
      "cell_type": "code",
      "metadata": {
        "id": "09xpBQ0nHkYP",
        "colab": {
          "base_uri": "https://localhost:8080/",
          "height": 37
        },
        "outputId": "956e1cd6-090f-4d74-f54d-eb6f9c0c1901"
      },
      "source": [
        "#Firstnames:\n",
        "names.get_first_name(gender=\"female\")"
      ],
      "execution_count": null,
      "outputs": [
        {
          "output_type": "execute_result",
          "data": {
            "application/vnd.google.colaboratory.intrinsic+json": {
              "type": "string"
            },
            "text/plain": [
              "'Brenda'"
            ]
          },
          "metadata": {
            "tags": []
          },
          "execution_count": 32
        }
      ]
    },
    {
      "cell_type": "code",
      "metadata": {
        "id": "gPliV85IObp6",
        "colab": {
          "base_uri": "https://localhost:8080/",
          "height": 37
        },
        "outputId": "d3ea3091-5bc7-40db-9049-5bf11f94adbf"
      },
      "source": [
        "#Lastnames:\n",
        "names.get_last_name()"
      ],
      "execution_count": null,
      "outputs": [
        {
          "output_type": "execute_result",
          "data": {
            "application/vnd.google.colaboratory.intrinsic+json": {
              "type": "string"
            },
            "text/plain": [
              "'Perez'"
            ]
          },
          "metadata": {
            "tags": []
          },
          "execution_count": 33
        }
      ]
    },
    {
      "cell_type": "markdown",
      "metadata": {
        "id": "YO1EfxN9Oi79"
      },
      "source": [
        "####**Slide:** Manipulate strings in Python"
      ]
    },
    {
      "cell_type": "code",
      "metadata": {
        "id": "YJ-mb8L0OrJP",
        "colab": {
          "base_uri": "https://localhost:8080/",
          "height": 37
        },
        "outputId": "4688e26a-4474-4214-a721-817bae2f6bc7"
      },
      "source": [
        "#Trim leading and trailing whitespaces\n",
        "\"   this is a      test   \".strip()"
      ],
      "execution_count": null,
      "outputs": [
        {
          "output_type": "execute_result",
          "data": {
            "application/vnd.google.colaboratory.intrinsic+json": {
              "type": "string"
            },
            "text/plain": [
              "'this is a      test'"
            ]
          },
          "metadata": {
            "tags": []
          },
          "execution_count": 34
        }
      ]
    },
    {
      "cell_type": "code",
      "metadata": {
        "id": "-ch0NUrSO3Vz",
        "colab": {
          "base_uri": "https://localhost:8080/",
          "height": 34
        },
        "outputId": "21ce984f-6c30-4a18-b973-c650dcd11215"
      },
      "source": [
        "#Pad strings with zeros to create strings of equal width\n",
        "ids = [1,12,123,1234]\n",
        "[str(item).zfill(4) for item in ids]"
      ],
      "execution_count": null,
      "outputs": [
        {
          "output_type": "execute_result",
          "data": {
            "text/plain": [
              "['0001', '0012', '0123', '1234']"
            ]
          },
          "metadata": {
            "tags": []
          },
          "execution_count": 35
        }
      ]
    },
    {
      "cell_type": "code",
      "metadata": {
        "id": "YcisKuLkPI4T",
        "colab": {
          "base_uri": "https://localhost:8080/",
          "height": 34
        },
        "outputId": "4c766e81-a5bc-4b19-958a-19fc94efc21a"
      },
      "source": [
        "#Search for strings in a vector\n",
        "friends = ['Nicholas', 'Thomas', 'Kayla']\n",
        "[\"Nicholas\" in item for item in friends]"
      ],
      "execution_count": null,
      "outputs": [
        {
          "output_type": "execute_result",
          "data": {
            "text/plain": [
              "[True, False, False]"
            ]
          },
          "metadata": {
            "tags": []
          },
          "execution_count": 38
        }
      ]
    },
    {
      "cell_type": "code",
      "metadata": {
        "id": "yGvguSSyPYaB",
        "colab": {
          "base_uri": "https://localhost:8080/",
          "height": 34
        },
        "outputId": "3b945bcc-9b95-4c2a-ac92-f654e1bfda24"
      },
      "source": [
        "#Observe, that list comprehension provides a vectorized output in contrast to:\n",
        "\"Nicholas\" in friends"
      ],
      "execution_count": null,
      "outputs": [
        {
          "output_type": "execute_result",
          "data": {
            "text/plain": [
              "True"
            ]
          },
          "metadata": {
            "tags": []
          },
          "execution_count": 39
        }
      ]
    },
    {
      "cell_type": "code",
      "metadata": {
        "id": "TivvvQomPhtz",
        "colab": {
          "base_uri": "https://localhost:8080/",
          "height": 34
        },
        "outputId": "091bedf1-3336-4943-f24a-1c805fb54d56"
      },
      "source": [
        "#Replace string in a vector\n",
        "[item.replace(\"Nicholas\", \"Nicki\") for item in friends]\n"
      ],
      "execution_count": null,
      "outputs": [
        {
          "output_type": "execute_result",
          "data": {
            "text/plain": [
              "['Nicki', 'Thomas', 'Kayla']"
            ]
          },
          "metadata": {
            "tags": []
          },
          "execution_count": 40
        }
      ]
    },
    {
      "cell_type": "code",
      "metadata": {
        "id": "ywmqurvoPmYx",
        "colab": {
          "base_uri": "https://localhost:8080/",
          "height": 34
        },
        "outputId": "9d3c18a0-1dfd-47b5-9688-f58b2ca93099"
      },
      "source": [
        "#Caution: The replace()-function is case sensitive\n",
        "[item.replace(\"nicholas\", \"Nicki\") for item in friends]"
      ],
      "execution_count": null,
      "outputs": [
        {
          "output_type": "execute_result",
          "data": {
            "text/plain": [
              "['Nicholas', 'Thomas', 'Kayla']"
            ]
          },
          "metadata": {
            "tags": []
          },
          "execution_count": 42
        }
      ]
    },
    {
      "cell_type": "code",
      "metadata": {
        "id": "O68eOqqjPtT7",
        "colab": {
          "base_uri": "https://localhost:8080/",
          "height": 34
        },
        "outputId": "6da697f8-3566-4618-890e-41eeb6e0f6d3"
      },
      "source": [
        "#Transform strings to lower case\n",
        "[item.lower() for item in friends]"
      ],
      "execution_count": null,
      "outputs": [
        {
          "output_type": "execute_result",
          "data": {
            "text/plain": [
              "['nicholas', 'thomas', 'kayla']"
            ]
          },
          "metadata": {
            "tags": []
          },
          "execution_count": 43
        }
      ]
    },
    {
      "cell_type": "code",
      "metadata": {
        "id": "SK9RyBdxP1BI",
        "colab": {
          "base_uri": "https://localhost:8080/",
          "height": 34
        },
        "outputId": "28c9b41a-cb1a-4a08-9a32-31c351329a0a"
      },
      "source": [
        "#Transform strings to upper case\n",
        "[item.upper() for item in friends]"
      ],
      "execution_count": null,
      "outputs": [
        {
          "output_type": "execute_result",
          "data": {
            "text/plain": [
              "['NICHOLAS', 'THOMAS', 'KAYLA']"
            ]
          },
          "metadata": {
            "tags": []
          },
          "execution_count": 44
        }
      ]
    },
    {
      "cell_type": "markdown",
      "metadata": {
        "id": "PZCNYemVP8N9"
      },
      "source": [
        "####**Slide:** Advanced string manipulation:\n",
        "Use the `split()`-function"
      ]
    },
    {
      "cell_type": "code",
      "metadata": {
        "id": "6S7jiD-bQFDJ",
        "colab": {
          "base_uri": "https://localhost:8080/",
          "height": 68
        },
        "outputId": "da54eb7e-d614-4ddd-ccea-107f39d06a60"
      },
      "source": [
        "#Split strings\n",
        "firstname=randnames[0]\n",
        "print(firstname)\n",
        "print(firstname.split(\" \",1))\n",
        "print(firstname.split(\" \",1)[0])"
      ],
      "execution_count": null,
      "outputs": [
        {
          "output_type": "stream",
          "text": [
            "Patricia Gill\n",
            "['Patricia', 'Gill']\n",
            "Patricia\n"
          ],
          "name": "stdout"
        }
      ]
    },
    {
      "cell_type": "code",
      "metadata": {
        "id": "kon4440yQIhv",
        "colab": {
          "base_uri": "https://localhost:8080/",
          "height": 51
        },
        "outputId": "5ad16a01-2a06-42cd-c56b-3a1829bae1ed"
      },
      "source": [
        "#Split lists of strings\n",
        "print(randnames)\n",
        "print([i.split(\" \",1)[0] for i in randnames])"
      ],
      "execution_count": null,
      "outputs": [
        {
          "output_type": "stream",
          "text": [
            "['Patricia Gill', 'Betty Wier', 'Shirley Pepper']\n",
            "['Patricia', 'Betty', 'Shirley']\n"
          ],
          "name": "stdout"
        }
      ]
    },
    {
      "cell_type": "markdown",
      "metadata": {
        "id": "PE0j7NagRNNv"
      },
      "source": [
        "####**Slide:** Advanced string manipulation:\n",
        " Anonymize customer names (and IDs)"
      ]
    },
    {
      "cell_type": "code",
      "metadata": {
        "id": "vrelQtqmRTeA",
        "colab": {
          "base_uri": "https://localhost:8080/",
          "height": 34
        },
        "outputId": "fa34dd28-6307-47fe-91ee-8efdb7343175"
      },
      "source": [
        "list(map(hash, CustData[\"CustId\"]))"
      ],
      "execution_count": null,
      "outputs": [
        {
          "output_type": "execute_result",
          "data": {
            "text/plain": [
              "[165, 165, 166, 166, 167, 167]"
            ]
          },
          "metadata": {
            "tags": []
          },
          "execution_count": 55
        }
      ]
    },
    {
      "cell_type": "markdown",
      "metadata": {
        "id": "6x618Zv9Iknu"
      },
      "source": [
        "###40 - Simulating variables by using distributions"
      ]
    },
    {
      "cell_type": "markdown",
      "metadata": {
        "id": "gUHzGWqgIsxq"
      },
      "source": [
        "####**Slide:** Discrete distribution simulation in Python"
      ]
    },
    {
      "cell_type": "code",
      "metadata": {
        "id": "POD5PhqtIkMW",
        "colab": {
          "base_uri": "https://localhost:8080/",
          "height": 34
        },
        "outputId": "a7d8f084-9f85-4b09-bfae-93819554874f"
      },
      "source": [
        "#without replacement\n",
        "np.random.choice(10, size=5, replace=False)"
      ],
      "execution_count": null,
      "outputs": [
        {
          "output_type": "execute_result",
          "data": {
            "text/plain": [
              "array([9, 0, 1, 2, 7])"
            ]
          },
          "metadata": {
            "tags": []
          },
          "execution_count": 57
        }
      ]
    },
    {
      "cell_type": "code",
      "metadata": {
        "id": "cWYl8-E5SFlZ",
        "colab": {
          "base_uri": "https://localhost:8080/",
          "height": 34
        },
        "outputId": "03aee42b-f206-4736-c884-7bba42915e76"
      },
      "source": [
        "#with replacement\n",
        "np.random.choice(10, size=5, replace=True)"
      ],
      "execution_count": null,
      "outputs": [
        {
          "output_type": "execute_result",
          "data": {
            "text/plain": [
              "array([1, 9, 2, 1, 8])"
            ]
          },
          "metadata": {
            "tags": []
          },
          "execution_count": 58
        }
      ]
    },
    {
      "cell_type": "markdown",
      "metadata": {
        "id": "5cZGqMoSSRDx"
      },
      "source": [
        "####**Slide:** Continuous distribution simulation in Python"
      ]
    },
    {
      "cell_type": "code",
      "metadata": {
        "id": "eNPCWyfESWq2",
        "colab": {
          "base_uri": "https://localhost:8080/",
          "height": 1000
        },
        "outputId": "642f9b8d-0f93-489d-b25a-be5232162a96"
      },
      "source": [
        "np.random.normal(loc=5.0, scale=1.0, size=500)"
      ],
      "execution_count": null,
      "outputs": [
        {
          "output_type": "execute_result",
          "data": {
            "text/plain": [
              "array([3.36769746, 6.13266398, 4.42877175, 4.30282551, 4.41155579,\n",
              "       5.28231082, 6.07695258, 4.75405302, 6.73074229, 2.78181193,\n",
              "       4.48266352, 4.58101573, 3.86594392, 5.31401877, 4.91432484,\n",
              "       5.74602525, 5.23116526, 2.67333636, 4.04880078, 5.36190081,\n",
              "       5.05643163, 4.32505254, 5.98288353, 4.6003676 , 5.0346396 ,\n",
              "       3.26163587, 5.04468595, 5.71750734, 4.2998289 , 5.20746189,\n",
              "       3.48821181, 5.71043785, 6.28514469, 7.07628561, 3.92318679,\n",
              "       3.84718169, 6.22679335, 4.14942192, 4.12871372, 4.7650099 ,\n",
              "       4.48443485, 5.9213178 , 4.40631385, 4.89883709, 6.66725314,\n",
              "       4.40636743, 4.9088805 , 5.43301637, 4.82726964, 6.42115777,\n",
              "       3.79447218, 4.26257466, 3.79156687, 4.19458525, 5.27598515,\n",
              "       4.90280351, 4.99222249, 5.4497079 , 6.73946873, 5.42538027,\n",
              "       4.71505797, 5.35464074, 5.69954984, 6.27912066, 5.81325304,\n",
              "       4.22579624, 5.37214573, 5.87680044, 6.42211645, 7.34330001,\n",
              "       4.74740667, 5.88086101, 5.9773079 , 3.01609046, 4.0340054 ,\n",
              "       4.13482796, 5.41748894, 4.25988878, 4.410782  , 4.57852845,\n",
              "       3.35545059, 5.15717498, 3.9944541 , 5.59852697, 5.56119848,\n",
              "       5.60929354, 2.94738345, 5.32594483, 5.3708191 , 4.83850243,\n",
              "       4.90815947, 5.20754821, 4.52593704, 2.37978164, 5.37317695,\n",
              "       6.43388082, 4.53777495, 4.16062725, 5.56001996, 4.59360188,\n",
              "       4.73611423, 5.95742197, 5.84568872, 3.3001148 , 4.7340997 ,\n",
              "       6.47008113, 5.90370832, 4.03835532, 4.8169004 , 4.13737788,\n",
              "       4.95493503, 5.7146172 , 5.79323626, 4.83391761, 3.40454397,\n",
              "       5.87297803, 4.83222985, 4.8511116 , 5.73530081, 6.12337324,\n",
              "       4.52601389, 4.80222475, 5.34026631, 5.5667131 , 4.34304234,\n",
              "       4.67020704, 2.58576985, 2.83228141, 6.60573888, 4.98928508,\n",
              "       4.2595783 , 5.26870041, 5.83896749, 6.53581319, 4.68150814,\n",
              "       5.9111954 , 7.04242005, 5.4918548 , 5.54893561, 3.50417191,\n",
              "       6.4678332 , 3.93264149, 4.37409832, 3.98659124, 4.97035975,\n",
              "       4.45684037, 5.75480858, 4.51469137, 5.13342661, 5.80293452,\n",
              "       6.64714828, 5.19601682, 3.99441676, 6.44280581, 3.60996256,\n",
              "       3.59709207, 5.38301977, 5.98990728, 5.47069456, 5.07230126,\n",
              "       6.19410427, 5.20048194, 5.70241967, 3.52352598, 6.67210074,\n",
              "       4.41293806, 4.61607498, 4.35438815, 4.98565762, 4.31163215,\n",
              "       4.05765285, 7.11561457, 6.1387756 , 4.08335799, 6.30386633,\n",
              "       6.29549455, 3.1241726 , 2.90742046, 5.31438353, 5.87753587,\n",
              "       3.99560707, 4.70370768, 5.09376511, 4.18273875, 4.70405784,\n",
              "       5.66153838, 6.05324733, 3.77774508, 4.77536493, 3.92003075,\n",
              "       4.57429818, 5.32797667, 4.07717934, 5.11084589, 5.21403339,\n",
              "       4.78508596, 5.68144086, 5.08095911, 3.90431861, 5.73862315,\n",
              "       5.49413258, 3.79035976, 5.17669649, 5.63635098, 6.0780509 ,\n",
              "       5.80127146, 4.96203683, 5.44712389, 4.17693844, 3.47240925,\n",
              "       4.65816843, 3.70533949, 6.6283325 , 5.32541439, 4.04410803,\n",
              "       3.33220131, 3.77444989, 5.71905659, 4.47795476, 5.09767514,\n",
              "       3.53923095, 6.00581123, 4.99450356, 5.31192392, 4.47976293,\n",
              "       5.49284768, 2.21566806, 6.21890068, 6.22392745, 5.22352842,\n",
              "       3.04029486, 6.01864835, 6.09953595, 5.90208141, 5.8720596 ,\n",
              "       5.01249667, 5.05051033, 4.04400062, 6.17673706, 4.94172247,\n",
              "       5.1202781 , 2.68823259, 3.80206778, 5.24052036, 5.54882617,\n",
              "       5.5152317 , 3.35737029, 3.80281535, 5.87179049, 5.60325474,\n",
              "       6.70245679, 4.91983187, 6.01920634, 5.2542663 , 6.38488238,\n",
              "       3.7719192 , 4.9556655 , 4.63450641, 5.81175203, 3.92017762,\n",
              "       6.88552385, 5.48157918, 5.38752734, 7.52126082, 4.57501592,\n",
              "       4.819083  , 5.54104162, 3.73396629, 6.6896533 , 3.97633603,\n",
              "       5.18991989, 3.40236663, 4.39338324, 5.37306636, 4.33502598,\n",
              "       5.05193712, 3.6496191 , 7.14378778, 5.49815825, 5.38821966,\n",
              "       5.33375561, 5.6717357 , 4.35353114, 5.79811247, 4.95922625,\n",
              "       6.86567233, 4.93958407, 4.23568667, 4.44134156, 6.30390077,\n",
              "       4.63621448, 4.49344009, 5.03311657, 4.87995436, 4.54507579,\n",
              "       6.55105569, 2.07048036, 6.66573191, 6.64582058, 6.02835413,\n",
              "       4.45350577, 6.45766178, 2.13189091, 4.8505152 , 3.94630767,\n",
              "       4.22556951, 7.09439426, 3.82271089, 5.60237848, 4.75723082,\n",
              "       4.22481972, 4.96377615, 6.26851481, 1.3346384 , 4.55734409,\n",
              "       4.334235  , 5.70588802, 4.65921503, 4.13669583, 3.90747713,\n",
              "       5.05160376, 5.17597842, 4.24502822, 4.09287717, 4.79640394,\n",
              "       5.96671133, 5.62663334, 4.37097462, 3.49602771, 5.13575971,\n",
              "       5.81746306, 4.71850018, 5.39911746, 3.41495236, 5.12975195,\n",
              "       6.61008638, 4.98038324, 4.82440265, 4.46664588, 5.21055043,\n",
              "       5.18873851, 4.32483365, 5.47083081, 5.60432243, 2.5090997 ,\n",
              "       4.96076106, 5.52863557, 4.02696826, 3.75076468, 5.96854775,\n",
              "       5.30091964, 6.35131686, 4.99174427, 5.61616788, 5.67740585,\n",
              "       5.88934605, 5.88098227, 3.80250806, 4.69251682, 3.40608837,\n",
              "       5.17651447, 5.33667857, 4.60357581, 4.76181091, 4.38076493,\n",
              "       6.28380632, 4.57340501, 6.90724216, 5.70352945, 4.37350021,\n",
              "       4.57198003, 3.90196557, 5.64353211, 4.21997216, 7.29422693,\n",
              "       3.58062846, 4.81239163, 4.66292946, 3.09447766, 5.2692065 ,\n",
              "       6.13469141, 5.81995839, 4.44813516, 4.96633416, 4.24608945,\n",
              "       4.50707084, 5.17506006, 4.16458942, 4.6488896 , 3.64498014,\n",
              "       3.67000279, 4.07862003, 5.41908322, 5.62132948, 4.40779722,\n",
              "       4.7680149 , 4.8734196 , 5.00135556, 5.74860907, 4.15871273,\n",
              "       4.52422264, 6.39427822, 3.80456732, 3.62252499, 5.82027892,\n",
              "       5.77553481, 3.60330213, 2.98185606, 5.58259279, 5.57472435,\n",
              "       3.76254179, 4.64207928, 4.80936755, 4.74108694, 5.72259893,\n",
              "       5.65988144, 4.16398527, 5.53143313, 5.35708392, 5.41543953,\n",
              "       5.7171631 , 5.86418826, 5.28998157, 5.06358431, 6.98560376,\n",
              "       4.87503714, 4.53400001, 6.4811798 , 5.19853277, 6.30586285,\n",
              "       5.44269234, 4.37570757, 6.68338617, 3.05998297, 4.23272164,\n",
              "       4.9003845 , 5.14480084, 3.27680223, 4.59353115, 4.20459325,\n",
              "       5.32213302, 4.31109382, 4.63796323, 3.26559914, 4.75861171,\n",
              "       4.72030767, 4.99630086, 6.03317923, 3.90176683, 5.20832329,\n",
              "       3.73421006, 4.16631494, 5.34090898, 4.53503479, 4.0405388 ,\n",
              "       6.88190727, 5.56866731, 5.76863588, 6.99545091, 4.48453169,\n",
              "       5.24528092, 6.21568455, 1.69056744, 5.45504261, 5.2713994 ,\n",
              "       5.24604009, 4.45264611, 3.35258076, 5.26646544, 5.1098949 ,\n",
              "       3.01134272, 3.69228286, 4.88680792, 4.3340618 , 3.19958942,\n",
              "       6.32940807, 3.40880625, 5.02644706, 7.87344395, 5.16159187,\n",
              "       5.54312217, 5.09291879, 5.1125884 , 5.37106222, 6.76815538,\n",
              "       5.30563545, 3.83459967, 4.98226278, 4.20744983, 4.77595806,\n",
              "       5.06634604, 2.69617734, 5.80867848, 4.08564858, 5.39601638,\n",
              "       6.41856482, 4.9774648 , 4.79553402, 6.58825931, 3.38171709])"
            ]
          },
          "metadata": {
            "tags": []
          },
          "execution_count": 59
        }
      ]
    },
    {
      "cell_type": "markdown",
      "metadata": {
        "id": "csk66VTyShcW"
      },
      "source": [
        "####**Sidenote:** Sidenote: Setting seeds to recreate the same numbers"
      ]
    },
    {
      "cell_type": "code",
      "metadata": {
        "id": "_FVCPZmbSl_D",
        "colab": {
          "base_uri": "https://localhost:8080/",
          "height": 51
        },
        "outputId": "f54a4405-9d51-4aaf-d074-cbb0e2caf5dc"
      },
      "source": [
        "print(np.random.normal(size=5))\n",
        "print(np.random.normal(size=5))"
      ],
      "execution_count": null,
      "outputs": [
        {
          "output_type": "stream",
          "text": [
            "[-1.31418325  0.94220128  1.21402604  1.98173522  1.54487031]\n",
            "[ 0.15069935 -0.98538719 -0.00545831  0.31898334  1.84812018]\n"
          ],
          "name": "stdout"
        }
      ]
    },
    {
      "cell_type": "code",
      "metadata": {
        "id": "Sa7M2tDTSy_M",
        "colab": {
          "base_uri": "https://localhost:8080/",
          "height": 51
        },
        "outputId": "27ac75df-075d-45a0-ab63-114f21616040"
      },
      "source": [
        "#with seed\n",
        "np.random.seed(1)\n",
        "print(np.random.normal(size=5))\n",
        "\n",
        "np.random.seed(1)\n",
        "print(np.random.normal(size=5))\n",
        "#Caution: you have to set the seed everytime (!)"
      ],
      "execution_count": null,
      "outputs": [
        {
          "output_type": "stream",
          "text": [
            "[ 1.62434536 -0.61175641 -0.52817175 -1.07296862  0.86540763]\n",
            "[ 1.62434536 -0.61175641 -0.52817175 -1.07296862  0.86540763]\n"
          ],
          "name": "stdout"
        }
      ]
    }
  ]
}