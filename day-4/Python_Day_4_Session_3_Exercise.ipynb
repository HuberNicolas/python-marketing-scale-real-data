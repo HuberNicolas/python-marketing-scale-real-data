{
  "cells": [
    {
      "cell_type": "markdown",
      "metadata": {
        "id": "cCjAe20VdlxO"
      },
      "source": [
        "#Python - Non-technical introduction\n",
        "\n",
        "##Exercise Day 4 Session 3 \"No data, no problem: How to simulate data?\"\n",
        "\n",
        "This file provides exercises accompanying the lectures.\n",
        "\n",
        "*Note:* If you want to make changes to this document, you need to save your own copy using the \"Save copy in Drive\" command in the \"File\" menu."
      ]
    },
    {
      "cell_type": "markdown",
      "metadata": {
        "id": "qpmzcnuFlexj"
      },
      "source": [
        "###Preparation\n",
        "\n",
        "**Make sure to run the follwing code before continuing.** Code will prepare everything (load data, ...)."
      ]
    },
    {
      "cell_type": "markdown",
      "metadata": {
        "id": "GW4cNjYKvKVg"
      },
      "source": [
        "###38 - Creating sequences automatically"
      ]
    },
    {
      "cell_type": "markdown",
      "metadata": {
        "id": "fh3Cz0YKvN7Z"
      },
      "source": [
        "1. Simulate a dataset with 100 customers. The ID column should include customer IDs from `a1` to `a100`. Further, this dataset should include a second column indicating the months of 2016 for every customer. Months should be of the format `\"2016-01-01\"`(\"YYYY-MM-DD\"). The final table should have one record per customer per month.\n"
      ]
    },
    {
      "cell_type": "code",
      "execution_count": 7,
      "metadata": {},
      "outputs": [],
      "source": [
        "import random\n",
        "import names\n",
        "import pandas as pd\n",
        "import datetime\n",
        "\n",
        "random.seed(42)"
      ]
    },
    {
      "cell_type": "code",
      "execution_count": 3,
      "metadata": {},
      "outputs": [],
      "source": [
        "NUMBER_OF_CUSTOMERS = 100\n",
        "customer_id_row = [ 'a{index}'.format(index=i) for i in range(1, NUMBER_OF_CUSTOMERS+1)  ]\n",
        "\n"
      ]
    },
    {
      "cell_type": "code",
      "execution_count": 14,
      "metadata": {},
      "outputs": [],
      "source": [
        "START_DATE = '2016-01-01'\n",
        "END_DATE = '2016-12-01'\n",
        "\n",
        "date_row = pd.date_range(START_DATE, END_DATE,\n",
        "              freq='MS').strftime(\"%Y-%m-%d\").tolist()\n"
      ]
    },
    {
      "cell_type": "code",
      "execution_count": 20,
      "metadata": {},
      "outputs": [
        {
          "name": "stdout",
          "output_type": "stream",
          "text": [
            "1200 1200\n"
          ]
        }
      ],
      "source": [
        "customer_id_row_per_date = []\n",
        "date_row_per_customer = []\n",
        "for i in range(0, len(customer_id_row)):\n",
        "    for j in range(0, len(date_row)):\n",
        "        customer_id_row_per_date.append(customer_id_row[i])\n",
        "        date_row_per_customer.append(date_row[j])\n",
        "print(len(customer_id_row_per_date), len(date_row_per_customer))"
      ]
    },
    {
      "cell_type": "code",
      "execution_count": 24,
      "metadata": {},
      "outputs": [
        {
          "name": "stdout",
          "output_type": "stream",
          "text": [
            "     CustomerID CustomerDate\n",
            "0            a1   2016-01-01\n",
            "1            a1   2016-02-01\n",
            "2            a1   2016-03-01\n",
            "3            a1   2016-04-01\n",
            "4            a1   2016-05-01\n",
            "...         ...          ...\n",
            "1195       a100   2016-08-01\n",
            "1196       a100   2016-09-01\n",
            "1197       a100   2016-10-01\n",
            "1198       a100   2016-11-01\n",
            "1199       a100   2016-12-01\n",
            "\n",
            "[1200 rows x 2 columns]\n"
          ]
        }
      ],
      "source": [
        "df = pd.DataFrame({'CustomerID':customer_id_row_per_date ,'CustomerDate':date_row_per_customer})\n",
        "print (df)"
      ]
    },
    {
      "cell_type": "code",
      "execution_count": 26,
      "metadata": {},
      "outputs": [],
      "source": [
        "us_date_format = \"%Y-%m-%d\"  # JoinDate, e.g., 1969-09-06\n",
        "eu_date_format = \"%d.%m.%Y\"  # TransDate and Birthdate, e.g., 04.05.1987\n",
        "#fix the Date format\n",
        "df[\"CustomerDate\"] = pd.to_datetime(\n",
        "    df[\"CustomerDate\"], format=us_date_format)"
      ]
    },
    {
      "cell_type": "code",
      "execution_count": 27,
      "metadata": {},
      "outputs": [
        {
          "data": {
            "text/html": [
              "<div>\n",
              "<style scoped>\n",
              "    .dataframe tbody tr th:only-of-type {\n",
              "        vertical-align: middle;\n",
              "    }\n",
              "\n",
              "    .dataframe tbody tr th {\n",
              "        vertical-align: top;\n",
              "    }\n",
              "\n",
              "    .dataframe thead th {\n",
              "        text-align: right;\n",
              "    }\n",
              "</style>\n",
              "<table border=\"1\" class=\"dataframe\">\n",
              "  <thead>\n",
              "    <tr style=\"text-align: right;\">\n",
              "      <th></th>\n",
              "      <th>CustomerID</th>\n",
              "      <th>CustomerDate</th>\n",
              "    </tr>\n",
              "  </thead>\n",
              "  <tbody>\n",
              "    <tr>\n",
              "      <th>0</th>\n",
              "      <td>a1</td>\n",
              "      <td>2016-01-01</td>\n",
              "    </tr>\n",
              "    <tr>\n",
              "      <th>1</th>\n",
              "      <td>a1</td>\n",
              "      <td>2016-02-01</td>\n",
              "    </tr>\n",
              "    <tr>\n",
              "      <th>2</th>\n",
              "      <td>a1</td>\n",
              "      <td>2016-03-01</td>\n",
              "    </tr>\n",
              "    <tr>\n",
              "      <th>3</th>\n",
              "      <td>a1</td>\n",
              "      <td>2016-04-01</td>\n",
              "    </tr>\n",
              "    <tr>\n",
              "      <th>4</th>\n",
              "      <td>a1</td>\n",
              "      <td>2016-05-01</td>\n",
              "    </tr>\n",
              "    <tr>\n",
              "      <th>...</th>\n",
              "      <td>...</td>\n",
              "      <td>...</td>\n",
              "    </tr>\n",
              "    <tr>\n",
              "      <th>1195</th>\n",
              "      <td>a100</td>\n",
              "      <td>2016-08-01</td>\n",
              "    </tr>\n",
              "    <tr>\n",
              "      <th>1196</th>\n",
              "      <td>a100</td>\n",
              "      <td>2016-09-01</td>\n",
              "    </tr>\n",
              "    <tr>\n",
              "      <th>1197</th>\n",
              "      <td>a100</td>\n",
              "      <td>2016-10-01</td>\n",
              "    </tr>\n",
              "    <tr>\n",
              "      <th>1198</th>\n",
              "      <td>a100</td>\n",
              "      <td>2016-11-01</td>\n",
              "    </tr>\n",
              "    <tr>\n",
              "      <th>1199</th>\n",
              "      <td>a100</td>\n",
              "      <td>2016-12-01</td>\n",
              "    </tr>\n",
              "  </tbody>\n",
              "</table>\n",
              "<p>1200 rows × 2 columns</p>\n",
              "</div>"
            ],
            "text/plain": [
              "     CustomerID CustomerDate\n",
              "0            a1   2016-01-01\n",
              "1            a1   2016-02-01\n",
              "2            a1   2016-03-01\n",
              "3            a1   2016-04-01\n",
              "4            a1   2016-05-01\n",
              "...         ...          ...\n",
              "1195       a100   2016-08-01\n",
              "1196       a100   2016-09-01\n",
              "1197       a100   2016-10-01\n",
              "1198       a100   2016-11-01\n",
              "1199       a100   2016-12-01\n",
              "\n",
              "[1200 rows x 2 columns]"
            ]
          },
          "execution_count": 27,
          "metadata": {},
          "output_type": "execute_result"
        }
      ],
      "source": [
        "df"
      ]
    },
    {
      "cell_type": "markdown",
      "metadata": {
        "id": "MdtfAZRZ1-ic"
      },
      "source": [
        "###39 - Simulating and manipulating strings"
      ]
    },
    {
      "cell_type": "markdown",
      "metadata": {
        "id": "WPoWqvKf2JcS"
      },
      "source": [
        "1. Generate a) a female full name b) a male first name.\n",
        "\n"
      ]
    },
    {
      "cell_type": "code",
      "execution_count": 40,
      "metadata": {},
      "outputs": [],
      "source": [
        "def generate_sample_names_with_gender(number_of_samples=2):\n",
        "    sample_names = []\n",
        "    sample_genders = []\n",
        "    \n",
        "\n",
        "    for i in range(0, number_of_samples):\n",
        "        name = ''\n",
        "        gender = ''\n",
        "        if random.random() < .5:\n",
        "            name = names.get_full_name(gender=\"female\")\n",
        "            gender = \"f\"\n",
        "        else:\n",
        "            name = names.get_full_name(gender=\"male\")\n",
        "            gender = \"m\"\n",
        "        sample_names.append(name)\n",
        "        sample_genders.append(gender)\n",
        "    return [sample_names, sample_genders]\n",
        "\n",
        "\n",
        "sample_names, sample_genders = generate_sample_names_with_gender(\n",
        "    len(customer_id_row))\n",
        "\n",
        "\n"
      ]
    },
    {
      "cell_type": "code",
      "execution_count": 41,
      "metadata": {},
      "outputs": [
        {
          "name": "stdout",
          "output_type": "stream",
          "text": [
            "1200 1200\n"
          ]
        }
      ],
      "source": [
        "name_row_per_date = []\n",
        "gender_row_per_customer = []\n",
        "for i in range(0, len(sample_names)):\n",
        "    for j in range(0, len(date_row)):\n",
        "        name_row_per_date.append(sample_names[i])\n",
        "        gender_row_per_customer.append(sample_genders[i])\n",
        "print(len(name_row_per_date), len(gender_row_per_customer))\n"
      ]
    },
    {
      "cell_type": "code",
      "execution_count": 42,
      "metadata": {},
      "outputs": [],
      "source": [
        "df[\"CustomerName\"] = name_row_per_date\n",
        "df[\"CustomerGender\"] = gender_row_per_customer\n"
      ]
    },
    {
      "cell_type": "code",
      "execution_count": 43,
      "metadata": {},
      "outputs": [
        {
          "data": {
            "text/html": [
              "<div>\n",
              "<style scoped>\n",
              "    .dataframe tbody tr th:only-of-type {\n",
              "        vertical-align: middle;\n",
              "    }\n",
              "\n",
              "    .dataframe tbody tr th {\n",
              "        vertical-align: top;\n",
              "    }\n",
              "\n",
              "    .dataframe thead th {\n",
              "        text-align: right;\n",
              "    }\n",
              "</style>\n",
              "<table border=\"1\" class=\"dataframe\">\n",
              "  <thead>\n",
              "    <tr style=\"text-align: right;\">\n",
              "      <th></th>\n",
              "      <th>CustomerID</th>\n",
              "      <th>CustomerDate</th>\n",
              "      <th>CustomerName</th>\n",
              "      <th>CustomerGender</th>\n",
              "    </tr>\n",
              "  </thead>\n",
              "  <tbody>\n",
              "    <tr>\n",
              "      <th>0</th>\n",
              "      <td>a1</td>\n",
              "      <td>2016-01-01</td>\n",
              "      <td>Heather Henry</td>\n",
              "      <td>f</td>\n",
              "    </tr>\n",
              "    <tr>\n",
              "      <th>1</th>\n",
              "      <td>a1</td>\n",
              "      <td>2016-02-01</td>\n",
              "      <td>Heather Henry</td>\n",
              "      <td>f</td>\n",
              "    </tr>\n",
              "    <tr>\n",
              "      <th>2</th>\n",
              "      <td>a1</td>\n",
              "      <td>2016-03-01</td>\n",
              "      <td>Heather Henry</td>\n",
              "      <td>f</td>\n",
              "    </tr>\n",
              "    <tr>\n",
              "      <th>3</th>\n",
              "      <td>a1</td>\n",
              "      <td>2016-04-01</td>\n",
              "      <td>Heather Henry</td>\n",
              "      <td>f</td>\n",
              "    </tr>\n",
              "    <tr>\n",
              "      <th>4</th>\n",
              "      <td>a1</td>\n",
              "      <td>2016-05-01</td>\n",
              "      <td>Heather Henry</td>\n",
              "      <td>f</td>\n",
              "    </tr>\n",
              "    <tr>\n",
              "      <th>...</th>\n",
              "      <td>...</td>\n",
              "      <td>...</td>\n",
              "      <td>...</td>\n",
              "      <td>...</td>\n",
              "    </tr>\n",
              "    <tr>\n",
              "      <th>1195</th>\n",
              "      <td>a100</td>\n",
              "      <td>2016-08-01</td>\n",
              "      <td>Margaret Ramos</td>\n",
              "      <td>f</td>\n",
              "    </tr>\n",
              "    <tr>\n",
              "      <th>1196</th>\n",
              "      <td>a100</td>\n",
              "      <td>2016-09-01</td>\n",
              "      <td>Margaret Ramos</td>\n",
              "      <td>f</td>\n",
              "    </tr>\n",
              "    <tr>\n",
              "      <th>1197</th>\n",
              "      <td>a100</td>\n",
              "      <td>2016-10-01</td>\n",
              "      <td>Margaret Ramos</td>\n",
              "      <td>f</td>\n",
              "    </tr>\n",
              "    <tr>\n",
              "      <th>1198</th>\n",
              "      <td>a100</td>\n",
              "      <td>2016-11-01</td>\n",
              "      <td>Margaret Ramos</td>\n",
              "      <td>f</td>\n",
              "    </tr>\n",
              "    <tr>\n",
              "      <th>1199</th>\n",
              "      <td>a100</td>\n",
              "      <td>2016-12-01</td>\n",
              "      <td>Margaret Ramos</td>\n",
              "      <td>f</td>\n",
              "    </tr>\n",
              "  </tbody>\n",
              "</table>\n",
              "<p>1200 rows × 4 columns</p>\n",
              "</div>"
            ],
            "text/plain": [
              "     CustomerID CustomerDate    CustomerName CustomerGender\n",
              "0            a1   2016-01-01   Heather Henry              f\n",
              "1            a1   2016-02-01   Heather Henry              f\n",
              "2            a1   2016-03-01   Heather Henry              f\n",
              "3            a1   2016-04-01   Heather Henry              f\n",
              "4            a1   2016-05-01   Heather Henry              f\n",
              "...         ...          ...             ...            ...\n",
              "1195       a100   2016-08-01  Margaret Ramos              f\n",
              "1196       a100   2016-09-01  Margaret Ramos              f\n",
              "1197       a100   2016-10-01  Margaret Ramos              f\n",
              "1198       a100   2016-11-01  Margaret Ramos              f\n",
              "1199       a100   2016-12-01  Margaret Ramos              f\n",
              "\n",
              "[1200 rows x 4 columns]"
            ]
          },
          "execution_count": 43,
          "metadata": {},
          "output_type": "execute_result"
        }
      ],
      "source": [
        "df"
      ]
    },
    {
      "cell_type": "markdown",
      "metadata": {
        "id": "J8dT1rGgP0_Q"
      },
      "source": [
        "###40 - Simulating variables by using distributions"
      ]
    },
    {
      "cell_type": "markdown",
      "metadata": {
        "id": "YN3euue6P6Uo"
      },
      "source": [
        "No exercise for this unit."
      ]
    },
    {
      "cell_type": "markdown",
      "metadata": {},
      "source": []
    }
  ],
  "metadata": {
    "colab": {
      "provenance": [],
      "toc_visible": true
    },
    "kernelspec": {
      "display_name": "Python 3",
      "name": "python3"
    },
    "language_info": {
      "codemirror_mode": {
        "name": "ipython",
        "version": 3
      },
      "file_extension": ".py",
      "mimetype": "text/x-python",
      "name": "python",
      "nbconvert_exporter": "python",
      "pygments_lexer": "ipython3",
      "version": "3.9.17"
    }
  },
  "nbformat": 4,
  "nbformat_minor": 0
}
