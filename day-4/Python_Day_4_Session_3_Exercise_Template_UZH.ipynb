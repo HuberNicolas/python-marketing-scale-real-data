{
  "nbformat": 4,
  "nbformat_minor": 0,
  "metadata": {
    "colab": {
      "provenance": [],
      "toc_visible": true
    },
    "kernelspec": {
      "name": "python3",
      "display_name": "Python 3"
    }
  },
  "cells": [
    {
      "cell_type": "markdown",
      "metadata": {
        "id": "cCjAe20VdlxO"
      },
      "source": [
        "#Python - Non-technical introduction\n",
        "\n",
        "##Exercise Day 4 Session 3 \"No data, no problem: How to simulate data?\"\n",
        "\n",
        "This file provides exercises accompanying the lectures.\n",
        "\n",
        "*Note:* If you want to make changes to this document, you need to save your own copy using the \"Save copy in Drive\" command in the \"File\" menu."
      ]
    },
    {
      "cell_type": "markdown",
      "metadata": {
        "id": "qpmzcnuFlexj"
      },
      "source": [
        "###Preparation\n",
        "\n",
        "**Make sure to run the follwing code before continuing.** Code will prepare everything (load data, ...)."
      ]
    },
    {
      "cell_type": "markdown",
      "metadata": {
        "id": "GW4cNjYKvKVg"
      },
      "source": [
        "###38 - Creating sequences automatically"
      ]
    },
    {
      "cell_type": "markdown",
      "metadata": {
        "id": "fh3Cz0YKvN7Z"
      },
      "source": [
        "1. Simulate a dataset with 100 customers. The ID column should include customer IDs from `a1` to `a100`. Further, this dataset should include a second column indicating the months of 2016 for every customer. Months should be of the format `\"2016-01-01\"`(\"YYYY-MM-DD\"). The final table should have one record per customer per month.\n"
      ]
    },
    {
      "cell_type": "markdown",
      "metadata": {
        "id": "MdtfAZRZ1-ic"
      },
      "source": [
        "###39 - Simulating and manipulating strings"
      ]
    },
    {
      "cell_type": "markdown",
      "metadata": {
        "id": "WPoWqvKf2JcS"
      },
      "source": [
        "1. Generate a) a female full name b) a male first name.\n",
        "\n"
      ]
    },
    {
      "cell_type": "markdown",
      "metadata": {
        "id": "J8dT1rGgP0_Q"
      },
      "source": [
        "###40 - Simulating variables by using distributions"
      ]
    },
    {
      "cell_type": "markdown",
      "metadata": {
        "id": "YN3euue6P6Uo"
      },
      "source": [
        "No exercise for this unit."
      ]
    }
  ]
}