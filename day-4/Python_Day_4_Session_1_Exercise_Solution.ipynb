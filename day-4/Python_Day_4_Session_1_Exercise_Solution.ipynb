{
  "nbformat": 4,
  "nbformat_minor": 0,
  "metadata": {
    "colab": {
      "provenance": [],
      "toc_visible": true
    },
    "kernelspec": {
      "name": "python3",
      "display_name": "Python 3"
    }
  },
  "cells": [
    {
      "cell_type": "markdown",
      "metadata": {
        "id": "cCjAe20VdlxO"
      },
      "source": [
        "#Python - Non-technical introduction\n",
        "\n",
        "##Exercise Day 4 Session 1 \"Don’t lose control: How to use conditions and loops\"\n",
        "\n",
        "This file provides the solutions to the exercises.\n",
        "\n",
        "*Note:* If you want to make changes to this document, you need to save your own copy using the \"Save copy in Drive\" command in the \"File\" menu."
      ]
    },
    {
      "cell_type": "markdown",
      "metadata": {
        "id": "qpmzcnuFlexj"
      },
      "source": [
        "###Preparation\n",
        "\n",
        "**Make sure to run the follwing code before continuing.** Code will prepare everything (load data, ...)."
      ]
    },
    {
      "cell_type": "code",
      "metadata": {
        "id": "sD_8-FV6lZVl"
      },
      "source": [
        "#load the numpy package\n",
        "import numpy as np\n",
        "#load the Pandas package\n",
        "import pandas as pd\n",
        "#Read the csv file and store it in the variable \"myData\". Note: this file is hostes in a GitHub repository.\n",
        "myData=pd.read_csv(filepath_or_buffer=\"https://raw.githubusercontent.com/bachmannpatrick/Python-Class/master/data/transactions.csv\", sep=\",\")\n",
        "#Adjust the format of column \"TransDate\" to datetime\n",
        "myData[\"TransDate\"]  = pd.to_datetime(myData[\"TransDate\"], dayfirst=True)\n",
        "\n",
        "#Read the demographics csv file and store it in the variable \"CustData\". Note: this file is hostes in a GitHub repos\n",
        "CustData=pd.read_csv(\"https://raw.githubusercontent.com/bachmannpatrick/Python-Class/master/data/demographics.csv\", sep=\",\")\n",
        "# Adjust the format of column \"Birthdate\" to datetime\n",
        "CustData[\"Birthdate\"]  = pd.to_datetime(CustData[\"Birthdate\"], dayfirst=True)\n",
        "CustData[\"JoinDate\"]  = pd.to_datetime(CustData[\"JoinDate\"], dayfirst=True)"
      ],
      "execution_count": null,
      "outputs": []
    },
    {
      "cell_type": "markdown",
      "metadata": {
        "id": "GW4cNjYKvKVg"
      },
      "source": [
        "###32 - If else statements"
      ]
    },
    {
      "cell_type": "markdown",
      "metadata": {
        "id": "fh3Cz0YKvN7Z"
      },
      "source": [
        "1. Write an if-statement that prints \"`x is a character`\" if the variable x is a character and \"`x is a postive integer`\" if x is a positiv interger. *Hint:* Check the format of your input using `type()`.\n",
        "\n"
      ]
    },
    {
      "cell_type": "code",
      "metadata": {
        "id": "w9IIZm47vYeX",
        "colab": {
          "base_uri": "https://localhost:8080/",
          "height": 34
        },
        "outputId": "0102314a-a6c2-410c-ecd7-156d1a2ff75b"
      },
      "source": [
        "x= \"a\"\n",
        "if type(x)==str:\n",
        "  print(\"x is a character\")\n",
        "elif type(x)==int:\n",
        "  print(\"x is a postive intger\")\n",
        "else:\n",
        "  print(\"...\")"
      ],
      "execution_count": null,
      "outputs": [
        {
          "output_type": "stream",
          "text": [
            "x is a character\n"
          ],
          "name": "stdout"
        }
      ]
    },
    {
      "cell_type": "markdown",
      "metadata": {
        "id": "MdtfAZRZ1-ic"
      },
      "source": [
        "###33 - Basic loop techniques"
      ]
    },
    {
      "cell_type": "markdown",
      "metadata": {
        "id": "WPoWqvKf2JcS"
      },
      "source": [
        "1. Create a loop that prints a countdown from 10 by\n",
        "a) using a for-loop, and\n",
        "b) using a while-loop."
      ]
    },
    {
      "cell_type": "code",
      "metadata": {
        "id": "hjHThfIY2O3W",
        "colab": {
          "base_uri": "https://localhost:8080/",
          "height": 204
        },
        "outputId": "70a2cdd0-966f-4081-f8b4-25ea1e56169d"
      },
      "source": [
        "#a)\n",
        "for i in reversed(range(0,11)):\n",
        "    print(i)"
      ],
      "execution_count": null,
      "outputs": [
        {
          "output_type": "stream",
          "text": [
            "10\n",
            "9\n",
            "8\n",
            "7\n",
            "6\n",
            "5\n",
            "4\n",
            "3\n",
            "2\n",
            "1\n",
            "0\n"
          ],
          "name": "stdout"
        }
      ]
    },
    {
      "cell_type": "code",
      "metadata": {
        "id": "-NZy9fYiKhL2",
        "colab": {
          "base_uri": "https://localhost:8080/",
          "height": 187
        },
        "outputId": "4433f85e-8c24-4663-c372-fee4817f1638"
      },
      "source": [
        "#a) Alternative\n",
        "for i in range(10,0,-1):\n",
        "    print(i)"
      ],
      "execution_count": null,
      "outputs": [
        {
          "output_type": "stream",
          "text": [
            "10\n",
            "9\n",
            "8\n",
            "7\n",
            "6\n",
            "5\n",
            "4\n",
            "3\n",
            "2\n",
            "1\n"
          ],
          "name": "stdout"
        }
      ]
    },
    {
      "cell_type": "code",
      "metadata": {
        "id": "lzxHULLrKnAJ",
        "colab": {
          "base_uri": "https://localhost:8080/",
          "height": 204
        },
        "outputId": "1a9e7dff-6bf0-47f5-9b10-008f0a2eb277"
      },
      "source": [
        "#b)\n",
        "i = 10\n",
        "while i >=0:\n",
        "    print(i)\n",
        "    i =i-1"
      ],
      "execution_count": null,
      "outputs": [
        {
          "output_type": "stream",
          "text": [
            "10\n",
            "9\n",
            "8\n",
            "7\n",
            "6\n",
            "5\n",
            "4\n",
            "3\n",
            "2\n",
            "1\n",
            "0\n"
          ],
          "name": "stdout"
        }
      ]
    },
    {
      "cell_type": "markdown",
      "metadata": {
        "id": "XW-Ewl7skxDp"
      },
      "source": [
        "###34 - Advanced looping techniques"
      ]
    },
    {
      "cell_type": "markdown",
      "metadata": {
        "id": "vjcIpcHWq14G"
      },
      "source": [
        "\n",
        "\n",
        "1. Use the `myData` DataFrame. Use a loop to go over all transactions and sum up the transaction's purchase amount one by one. Stop as soon as you reach a purchase amount of 1 million. At which date did the store reach this mark?\n"
      ]
    },
    {
      "cell_type": "code",
      "metadata": {
        "id": "0oOvZqn4bOnf"
      },
      "source": [
        "#make sure the data is sorted corectly\n",
        "myData=myData.sort_values(\"TransDate\", ignore_index=True)"
      ],
      "execution_count": null,
      "outputs": []
    },
    {
      "cell_type": "code",
      "metadata": {
        "colab": {
          "base_uri": "https://localhost:8080/"
        },
        "id": "VAS2fqQV-mSj",
        "outputId": "213172d4-cf22-4303-f4b8-03fbbfdf6416"
      },
      "source": [
        "print(myData.index) # Original index is maintained (in  this case row numbers)"
      ],
      "execution_count": null,
      "outputs": [
        {
          "output_type": "stream",
          "name": "stdout",
          "text": [
            "RangeIndex(start=0, stop=223191, step=1)\n"
          ]
        }
      ]
    },
    {
      "cell_type": "code",
      "metadata": {
        "id": "0QPPndZ22e40",
        "colab": {
          "base_uri": "https://localhost:8080/"
        },
        "outputId": "aac2d125-10f7-4b67-f78a-0877455df5ba"
      },
      "source": [
        "spending = 0\n",
        "i = 0\n",
        "while spending<1000000:\n",
        "    spending = spending + myData.loc[i, \"PurchAmount\"]\n",
        "    i = i+1\n",
        "print(\"Transaction number when sum of total spending > 1.000.000 is: \" + str(i) + \". The corresponding Transaction Date is: \" + str(myData.loc[i-1, \"TransDate\"]))"
      ],
      "execution_count": null,
      "outputs": [
        {
          "output_type": "stream",
          "name": "stdout",
          "text": [
            "Transaction number when sum of total spending > 1.000.000 is: 12949. The corresponding Transaction Date is: 2005-10-11 00:00:00\n"
          ]
        }
      ]
    },
    {
      "cell_type": "markdown",
      "metadata": {
        "id": "sexsVXGpwWxY"
      },
      "source": [
        "2. Use a for loop to sum the first 10.000 transactions. Then use the vectorized `np.sum()` command to do the same. Compare the time used by both methods. *Hint:* Use `time.time()` of the time-module to obtain the current time as a floating point number expressed in seconds since the epoch before and after running your code of interest.\n",
        "\n"
      ]
    },
    {
      "cell_type": "code",
      "metadata": {
        "id": "-1Q1VvOhwe7e"
      },
      "source": [
        "import time\n",
        "# for loop\n",
        "spending = 0\n",
        "t0 = time.time()\n",
        "for i in range(10000):\n",
        "    spending=spending+myData.loc[i, \"PurchAmount\"]\n",
        "t1 = time.time()\n",
        "t_for_loop=t1-t0"
      ],
      "execution_count": null,
      "outputs": []
    },
    {
      "cell_type": "code",
      "metadata": {
        "id": "PKDDWAq0T1E_"
      },
      "source": [
        "# np.sum\n",
        "spending = 0\n",
        "t0 = time.time()\n",
        "spending=np.sum(myData.loc[range(10000), \"PurchAmount\"])\n",
        "t1 = time.time()\n",
        "t_npsum=t1-t0"
      ],
      "execution_count": null,
      "outputs": []
    },
    {
      "cell_type": "code",
      "metadata": {
        "id": "IHq4Xg0ZT4ZL",
        "colab": {
          "base_uri": "https://localhost:8080/"
        },
        "outputId": "4c456c97-201e-4d4a-a723-fc69b5fcd023"
      },
      "source": [
        "# Compare performance\n",
        "if t_npsum<=t_for_loop:\n",
        "    print(\"np.sum is \"+ str(round(t_for_loop-t_npsum,3))+ \" seconds faster\");\n",
        "else:\n",
        "    print(\"np.sum is \"+ str(round(t_npsum-t_for_loop, 3))+ \" seconds slower\");"
      ],
      "execution_count": null,
      "outputs": [
        {
          "output_type": "stream",
          "name": "stdout",
          "text": [
            "np.sum is 0.564 seconds faster\n"
          ]
        }
      ]
    }
  ]
}