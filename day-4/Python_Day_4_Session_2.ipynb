{
  "nbformat": 4,
  "nbformat_minor": 0,
  "metadata": {
    "colab": {
      "provenance": [],
      "toc_visible": true
    },
    "kernelspec": {
      "name": "python3",
      "display_name": "Python 3"
    }
  },
  "cells": [
    {
      "cell_type": "markdown",
      "metadata": {
        "id": "3arMV6uM79oD"
      },
      "source": [
        "#Python - Non-technical introduction\n",
        "\n",
        "##Day 4 Session 2: \"First be effective and then be efficient: How to use functions?\"\n",
        "\n",
        "This file accompanies the lectures and provides the code for the corresponding slides.\n",
        "\n",
        "*Note:* If you want to make changes to this document, you need to save your own copy using the \"Save copy in Drive\" command in the \"File\" menu."
      ]
    },
    {
      "cell_type": "markdown",
      "metadata": {
        "id": "c7xrHageKBHn"
      },
      "source": [
        "###Preparation\n",
        "\n",
        "**Make sure to run the follwing code before continuing.** Code will prepare everything (load data, ...)."
      ]
    },
    {
      "cell_type": "code",
      "metadata": {
        "id": "EmbjkbMNKRaX"
      },
      "source": [
        "#load the Pandas package\n",
        "import pandas as pd\n",
        "#load the numpy package\n",
        "import numpy as np\n",
        "\n",
        "#Read the csv file and store it in the variable \"myData\". Note: this file is hostes in a GitHub repository.\n",
        "myData=pd.read_csv(filepath_or_buffer=\"https://raw.githubusercontent.com/bachmannpatrick/Python-Class/master/data/transactions.csv\", sep=\",\")\n",
        "#Adjust the format of column \"TransDate\" to datetime\n",
        "myData[\"TransDate\"]  = pd.to_datetime(myData[\"TransDate\"], dayfirst=True)"
      ],
      "execution_count": null,
      "outputs": []
    },
    {
      "cell_type": "markdown",
      "metadata": {
        "id": "vaX9FRSfJwsn"
      },
      "source": [
        "###35 - Understaning why to use functions"
      ]
    },
    {
      "cell_type": "markdown",
      "metadata": {
        "id": "T2GNbQVy8xhq"
      },
      "source": [
        "####**Slide:** A simple example:\n",
        "Creating a function to add two variables"
      ]
    },
    {
      "cell_type": "code",
      "metadata": {
        "id": "7WxjwfPblNMI"
      },
      "source": [
        "#define the function\n",
        "def add(x,y=1):\n",
        "    result=x+y\n",
        "    return result\n",
        "#not output expected!"
      ],
      "execution_count": null,
      "outputs": []
    },
    {
      "cell_type": "code",
      "metadata": {
        "id": "hDGuaSiLa091",
        "colab": {
          "base_uri": "https://localhost:8080/",
          "height": 34
        },
        "outputId": "44a7f8e4-3257-4549-c5c5-4775d544a67d"
      },
      "source": [
        "#call the function\n",
        "add(4)"
      ],
      "execution_count": null,
      "outputs": [
        {
          "output_type": "execute_result",
          "data": {
            "text/plain": [
              "5"
            ]
          },
          "metadata": {
            "tags": []
          },
          "execution_count": 6
        }
      ]
    },
    {
      "cell_type": "code",
      "metadata": {
        "id": "1NcphKsG4z8u",
        "colab": {
          "base_uri": "https://localhost:8080/",
          "height": 34
        },
        "outputId": "6075963c-d5b1-49dc-f7f8-48cd7f1ea4bb"
      },
      "source": [
        "#call the function\n",
        "add(4,5)"
      ],
      "execution_count": null,
      "outputs": [
        {
          "output_type": "execute_result",
          "data": {
            "text/plain": [
              "9"
            ]
          },
          "metadata": {
            "tags": []
          },
          "execution_count": 7
        }
      ]
    },
    {
      "cell_type": "markdown",
      "metadata": {
        "id": "GiB117iMFZwQ"
      },
      "source": [
        "###36 - How to write a function"
      ]
    },
    {
      "cell_type": "markdown",
      "metadata": {
        "id": "LyrU6mAqFw1q"
      },
      "source": [
        "####**Slide:** Start with a simple problem - Use toy data"
      ]
    },
    {
      "cell_type": "code",
      "metadata": {
        "id": "cuDP0AW0FwLU",
        "colab": {
          "base_uri": "https://localhost:8080/",
          "height": 119
        },
        "outputId": "4b8afb9c-2ad5-478b-b784-fdddbfcc15b2"
      },
      "source": [
        "import pandas as pd\n",
        "\n",
        "d = {'PurchAmount': range(3,8), 'Cost': range(1,6)}\n",
        "df = pd.DataFrame(data=d)\n",
        "print(df)"
      ],
      "execution_count": null,
      "outputs": [
        {
          "output_type": "stream",
          "text": [
            "   PurchAmount  Cost\n",
            "0            3     1\n",
            "1            4     2\n",
            "2            5     3\n",
            "3            6     4\n",
            "4            7     5\n"
          ],
          "name": "stdout"
        }
      ]
    },
    {
      "cell_type": "markdown",
      "metadata": {
        "id": "F5rjBHknHe8y"
      },
      "source": [
        "####**Slide:** Get some working code"
      ]
    },
    {
      "cell_type": "code",
      "metadata": {
        "id": "09xpBQ0nHkYP",
        "colab": {
          "base_uri": "https://localhost:8080/",
          "height": 34
        },
        "outputId": "0f025cc1-271e-4c4c-8d2b-891ba36aec2a"
      },
      "source": [
        "(sum(df[\"PurchAmount\"]) - sum(df[\"Cost\"]))/sum(df[\"PurchAmount\"]) * 100"
      ],
      "execution_count": null,
      "outputs": [
        {
          "output_type": "execute_result",
          "data": {
            "text/plain": [
              "40.0"
            ]
          },
          "metadata": {
            "tags": []
          },
          "execution_count": 11
        }
      ]
    },
    {
      "cell_type": "markdown",
      "metadata": {
        "id": "AXINafetHq4C"
      },
      "source": [
        "####**Slide:** Rewrite the code using temporary variables\n",
        "\n",
        "---\n",
        "\n"
      ]
    },
    {
      "cell_type": "code",
      "metadata": {
        "id": "oXtAZVxzHwRF",
        "colab": {
          "base_uri": "https://localhost:8080/",
          "height": 34
        },
        "outputId": "60d53db6-09d0-40fe-b65c-7e3fdf62a58d"
      },
      "source": [
        "x = df\n",
        "r = \"PurchAmount\"\n",
        "c = \"Cost\"\n",
        "\n",
        "(sum(x[r]) - sum(x[c])) / sum(x[r]) * 100\n"
      ],
      "execution_count": null,
      "outputs": [
        {
          "output_type": "execute_result",
          "data": {
            "text/plain": [
              "40.0"
            ]
          },
          "metadata": {
            "tags": []
          },
          "execution_count": 13
        }
      ]
    },
    {
      "cell_type": "markdown",
      "metadata": {
        "id": "npU-q6Npvyoo"
      },
      "source": [
        "####**Slides:** Turn your code into a function"
      ]
    },
    {
      "cell_type": "code",
      "metadata": {
        "id": "EopLMRQSv2tB"
      },
      "source": [
        "def ROI(x,r,c):\n",
        "  roi = (sum(x[r]) - sum(x[c])) / sum(x[r]) * 100\n",
        "  return roi\n"
      ],
      "execution_count": null,
      "outputs": []
    },
    {
      "cell_type": "code",
      "metadata": {
        "id": "Ozai-Ntb-kHV",
        "colab": {
          "base_uri": "https://localhost:8080/",
          "height": 34
        },
        "outputId": "a77740ff-25be-4c11-d730-519c2ae01fa7"
      },
      "source": [
        "ROI(df, \"PurchAmount\", \"Cost\")"
      ],
      "execution_count": null,
      "outputs": [
        {
          "output_type": "execute_result",
          "data": {
            "text/plain": [
              "40.0"
            ]
          },
          "metadata": {
            "tags": []
          },
          "execution_count": 24
        }
      ]
    },
    {
      "cell_type": "markdown",
      "metadata": {
        "id": "LLRIOLPDv6RJ"
      },
      "source": [
        "####**Slide:** Apply your function"
      ]
    },
    {
      "cell_type": "code",
      "metadata": {
        "id": "q-xhIrM6v-Pt",
        "colab": {
          "base_uri": "https://localhost:8080/",
          "height": 255
        },
        "outputId": "32e5b527-1a78-479d-ccc1-ff276b3afd84"
      },
      "source": [
        "ROI_1 = ROI(myData,\"PurchAmount\",\"Cost\")\n",
        "print(myData)"
      ],
      "execution_count": null,
      "outputs": [
        {
          "output_type": "stream",
          "text": [
            "        Customer  TransDate  Quantity  PurchAmount    Cost    TransID        a\n",
            "0         149332 2005-11-15         1       199.95  107.00  127998739  0.03999\n",
            "1         172951 2008-08-29         1       199.95  108.00  128888288  0.03999\n",
            "2         120621 2007-10-19         1        99.95   49.00  125375247  0.01999\n",
            "3         149236 2005-11-14         1        39.95   18.95  127996226  0.00799\n",
            "4         149236 2007-06-12         1        79.95   35.00  128670302  0.01599\n",
            "...          ...        ...       ...          ...     ...        ...      ...\n",
            "223186    199997 2012-09-17         1        29.95   13.80  132481149  0.00599\n",
            "223187    199997 2012-09-17         1        29.95   13.80  132481149  0.00599\n",
            "223188    199998 2012-09-17         1        29.95   13.80  132481154  0.00599\n",
            "223189    199999 2012-09-17         1       179.95  109.99  132481165  0.03599\n",
            "223190    199542 2012-09-17         1        39.95   10.50  131973368  0.00799\n",
            "\n",
            "[223191 rows x 7 columns]\n"
          ],
          "name": "stdout"
        }
      ]
    },
    {
      "cell_type": "markdown",
      "metadata": {
        "id": "6x618Zv9Iknu"
      },
      "source": [
        "###37 - Tips and tricks for creating functions"
      ]
    },
    {
      "cell_type": "markdown",
      "metadata": {
        "id": "gUHzGWqgIsxq"
      },
      "source": [
        "####**Slide:** Advanced option: Return multiple objects"
      ]
    },
    {
      "cell_type": "code",
      "metadata": {
        "id": "POD5PhqtIkMW"
      },
      "source": [
        "def KPIs(x,r,c):\n",
        "  x = pd.DataFrame(x)\n",
        "  profit = sum(x[r]) - sum(x[c])\n",
        "  roi = profit/sum(x[r]) *100\n",
        "  return[profit, roi]"
      ],
      "execution_count": null,
      "outputs": []
    },
    {
      "cell_type": "code",
      "metadata": {
        "id": "8nxzeziiCjH7",
        "colab": {
          "base_uri": "https://localhost:8080/",
          "height": 34
        },
        "outputId": "4fdce5b3-f253-4f3e-c6cd-91a60c53487a"
      },
      "source": [
        "KPIs(myData, \"PurchAmount\", \"Cost\")"
      ],
      "execution_count": null,
      "outputs": [
        {
          "output_type": "execute_result",
          "data": {
            "text/plain": [
              "[10077368.379919464, 53.64644090319827]"
            ]
          },
          "metadata": {
            "tags": []
          },
          "execution_count": 41
        }
      ]
    },
    {
      "cell_type": "markdown",
      "metadata": {
        "id": "nFKHIw35J2uq"
      },
      "source": [
        "####**Slide:** Substitute loops with the map()-function"
      ]
    },
    {
      "cell_type": "code",
      "metadata": {
        "id": "qaG-QWpJKFUL",
        "colab": {
          "base_uri": "https://localhost:8080/",
          "height": 419
        },
        "outputId": "13674684-5219-4357-d11a-6294853d0b1f"
      },
      "source": [
        "cities = [\"New York\", \"Paris\", \"London\", \"Tokyo\", \"Cape Town\"]\n",
        "list(map(len,cities))\n"
      ],
      "execution_count": null,
      "outputs": [
        {
          "output_type": "execute_result",
          "data": {
            "text/html": [
              "<div>\n",
              "<style scoped>\n",
              "    .dataframe tbody tr th:only-of-type {\n",
              "        vertical-align: middle;\n",
              "    }\n",
              "\n",
              "    .dataframe tbody tr th {\n",
              "        vertical-align: top;\n",
              "    }\n",
              "\n",
              "    .dataframe thead th {\n",
              "        text-align: right;\n",
              "    }\n",
              "</style>\n",
              "<table border=\"1\" class=\"dataframe\">\n",
              "  <thead>\n",
              "    <tr style=\"text-align: right;\">\n",
              "      <th></th>\n",
              "      <th>Customer</th>\n",
              "      <th>TransDate</th>\n",
              "      <th>Quantity</th>\n",
              "      <th>PurchAmount</th>\n",
              "      <th>Cost</th>\n",
              "      <th>TransID</th>\n",
              "    </tr>\n",
              "  </thead>\n",
              "  <tbody>\n",
              "    <tr>\n",
              "      <th>44541</th>\n",
              "      <td>100002</td>\n",
              "      <td>2004-12-29</td>\n",
              "      <td>1</td>\n",
              "      <td>499.95</td>\n",
              "      <td>349.00</td>\n",
              "      <td>123490350</td>\n",
              "    </tr>\n",
              "    <tr>\n",
              "      <th>44544</th>\n",
              "      <td>100340</td>\n",
              "      <td>2004-12-29</td>\n",
              "      <td>1</td>\n",
              "      <td>29.95</td>\n",
              "      <td>10.84</td>\n",
              "      <td>124295297</td>\n",
              "    </tr>\n",
              "    <tr>\n",
              "      <th>44601</th>\n",
              "      <td>100345</td>\n",
              "      <td>2004-12-29</td>\n",
              "      <td>1</td>\n",
              "      <td>189.95</td>\n",
              "      <td>82.91</td>\n",
              "      <td>124295449</td>\n",
              "    </tr>\n",
              "    <tr>\n",
              "      <th>44602</th>\n",
              "      <td>100346</td>\n",
              "      <td>2004-12-29</td>\n",
              "      <td>1</td>\n",
              "      <td>49.95</td>\n",
              "      <td>22.60</td>\n",
              "      <td>124295469</td>\n",
              "    </tr>\n",
              "    <tr>\n",
              "      <th>44635</th>\n",
              "      <td>100357</td>\n",
              "      <td>2004-12-30</td>\n",
              "      <td>1</td>\n",
              "      <td>29.95</td>\n",
              "      <td>10.00</td>\n",
              "      <td>124295845</td>\n",
              "    </tr>\n",
              "    <tr>\n",
              "      <th>...</th>\n",
              "      <td>...</td>\n",
              "      <td>...</td>\n",
              "      <td>...</td>\n",
              "      <td>...</td>\n",
              "      <td>...</td>\n",
              "      <td>...</td>\n",
              "    </tr>\n",
              "    <tr>\n",
              "      <th>223071</th>\n",
              "      <td>186299</td>\n",
              "      <td>2012-12-09</td>\n",
              "      <td>1</td>\n",
              "      <td>34.95</td>\n",
              "      <td>12.65</td>\n",
              "      <td>129592935</td>\n",
              "    </tr>\n",
              "    <tr>\n",
              "      <th>223070</th>\n",
              "      <td>186298</td>\n",
              "      <td>2012-12-09</td>\n",
              "      <td>1</td>\n",
              "      <td>49.95</td>\n",
              "      <td>17.00</td>\n",
              "      <td>129592815</td>\n",
              "    </tr>\n",
              "    <tr>\n",
              "      <th>216326</th>\n",
              "      <td>183058</td>\n",
              "      <td>2012-12-09</td>\n",
              "      <td>1</td>\n",
              "      <td>69.95</td>\n",
              "      <td>28.57</td>\n",
              "      <td>131969375</td>\n",
              "    </tr>\n",
              "    <tr>\n",
              "      <th>101290</th>\n",
              "      <td>121226</td>\n",
              "      <td>2012-12-09</td>\n",
              "      <td>1</td>\n",
              "      <td>19.95</td>\n",
              "      <td>9.50</td>\n",
              "      <td>131969793</td>\n",
              "    </tr>\n",
              "    <tr>\n",
              "      <th>223069</th>\n",
              "      <td>186297</td>\n",
              "      <td>2012-12-09</td>\n",
              "      <td>1</td>\n",
              "      <td>14.95</td>\n",
              "      <td>5.48</td>\n",
              "      <td>129592754</td>\n",
              "    </tr>\n",
              "  </tbody>\n",
              "</table>\n",
              "<p>98780 rows × 6 columns</p>\n",
              "</div>"
            ],
            "text/plain": [
              "        Customer  TransDate  Quantity  PurchAmount    Cost    TransID\n",
              "44541     100002 2004-12-29         1       499.95  349.00  123490350\n",
              "44544     100340 2004-12-29         1        29.95   10.84  124295297\n",
              "44601     100345 2004-12-29         1       189.95   82.91  124295449\n",
              "44602     100346 2004-12-29         1        49.95   22.60  124295469\n",
              "44635     100357 2004-12-30         1        29.95   10.00  124295845\n",
              "...          ...        ...       ...          ...     ...        ...\n",
              "223071    186299 2012-12-09         1        34.95   12.65  129592935\n",
              "223070    186298 2012-12-09         1        49.95   17.00  129592815\n",
              "216326    183058 2012-12-09         1        69.95   28.57  131969375\n",
              "101290    121226 2012-12-09         1        19.95    9.50  131969793\n",
              "223069    186297 2012-12-09         1        14.95    5.48  129592754\n",
              "\n",
              "[98780 rows x 6 columns]"
            ]
          },
          "metadata": {
            "tags": []
          },
          "execution_count": 7
        }
      ]
    },
    {
      "cell_type": "markdown",
      "metadata": {
        "id": "1F1vhdXEKmY8"
      },
      "source": [
        "####**Slide:** Sidenote: Extract components from lists"
      ]
    },
    {
      "cell_type": "code",
      "metadata": {
        "id": "gNKc7le1KvUx",
        "colab": {
          "base_uri": "https://localhost:8080/",
          "height": 34
        },
        "outputId": "366cb29b-5b57-4bfc-de9f-0ea671a52e24"
      },
      "source": [
        "#Call the function which provides a list as output\n",
        "KPI_result = KPIs(myData,\"PurchAmount\",\"Cost\")\n",
        "#get the second element\n",
        "KPI_result[0]"
      ],
      "execution_count": null,
      "outputs": [
        {
          "output_type": "execute_result",
          "data": {
            "text/plain": [
              "10077368.379919464"
            ]
          },
          "metadata": {
            "tags": []
          },
          "execution_count": 43
        }
      ]
    },
    {
      "cell_type": "code",
      "metadata": {
        "id": "ObRiTKqRD5k5",
        "colab": {
          "base_uri": "https://localhost:8080/",
          "height": 34
        },
        "outputId": "676331d7-fa18-45e3-c3db-3f7b171691ad"
      },
      "source": [
        "#get the second element\n",
        "KPI_result[1]"
      ],
      "execution_count": null,
      "outputs": [
        {
          "output_type": "execute_result",
          "data": {
            "text/plain": [
              "53.64644090319827"
            ]
          },
          "metadata": {
            "tags": []
          },
          "execution_count": 44
        }
      ]
    }
  ]
}