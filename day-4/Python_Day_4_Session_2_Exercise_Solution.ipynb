{
  "nbformat": 4,
  "nbformat_minor": 0,
  "metadata": {
    "colab": {
      "provenance": [],
      "toc_visible": true
    },
    "kernelspec": {
      "name": "python3",
      "display_name": "Python 3"
    }
  },
  "cells": [
    {
      "cell_type": "markdown",
      "metadata": {
        "id": "cCjAe20VdlxO"
      },
      "source": [
        "#Python - Non-technical introduction\n",
        "\n",
        "##SOLUTION Exercise Day 4 Session 2 \"First be effective and then be efficient: How to use functions?\"\n",
        "\n",
        "This file provides the solutions to the exercises.\n",
        "\n",
        "*Note:* If you want to make changes to this document, you need to save your own copy using the \"Save copy in Drive\" command in the \"File\" menu."
      ]
    },
    {
      "cell_type": "markdown",
      "metadata": {
        "id": "qpmzcnuFlexj"
      },
      "source": [
        "###Preparation\n",
        "\n",
        "**Make sure to run the follwing code before continuing.** Code will prepare everything (load data, ...)."
      ]
    },
    {
      "cell_type": "code",
      "metadata": {
        "id": "sD_8-FV6lZVl"
      },
      "source": [
        "#load the numpy package\n",
        "import numpy as np\n",
        "#load the Pandas package\n",
        "import pandas as pd\n",
        "\n",
        "\n",
        "#Read the csv file and store it in the variable \"myData\". Note: this file is hostes in a GitHub repository.\n",
        "myData=pd.read_csv(filepath_or_buffer=\"https://raw.githubusercontent.com/bachmannpatrick/Python-Class/master/data/transactions.csv\", sep=\",\")\n",
        "#Adjust the format of column \"TransDate\" to datetime\n",
        "myData[\"TransDate\"]  = pd.to_datetime(myData[\"TransDate\"], dayfirst=True)\n",
        "\n",
        "#Read the demographics csv file and store it in the variable \"CustData\". Note: this file is hostes in a GitHub repos\n",
        "CustData=pd.read_csv(\"https://raw.githubusercontent.com/bachmannpatrick/Python-Class/master/data/demographics.csv\", sep=\",\")\n",
        "# Adjust the format of column \"Birthdate\" to datetime\n",
        "CustData[\"Birthdate\"]  = pd.to_datetime(CustData[\"Birthdate\"], dayfirst=True)\n",
        "CustData[\"JoinDate\"]  = pd.to_datetime(CustData[\"JoinDate\"], dayfirst=True)"
      ],
      "execution_count": null,
      "outputs": []
    },
    {
      "cell_type": "markdown",
      "metadata": {
        "id": "GW4cNjYKvKVg"
      },
      "source": [
        "###35 - Understaning why to use functions"
      ]
    },
    {
      "cell_type": "markdown",
      "metadata": {
        "id": "fh3Cz0YKvN7Z"
      },
      "source": [
        "1. Create a function that takes two input arguments: variable `A` and variable `B`. Create a function that divides variable `A` by variable `B`.\n",
        "\n"
      ]
    },
    {
      "cell_type": "code",
      "metadata": {
        "id": "w9IIZm47vYeX"
      },
      "source": [
        "def divide(x,y):\n",
        "    #result= float(x)/float(y) # float() to be able to input x,y as strings\n",
        "    result=x/y #try what happens if you substitute the code with this line\n",
        "    return result"
      ],
      "execution_count": null,
      "outputs": []
    },
    {
      "cell_type": "code",
      "metadata": {
        "id": "M4Vztp3Gz35L",
        "colab": {
          "base_uri": "https://localhost:8080/"
        },
        "outputId": "a7947502-e86d-4859-ca4e-735644a99862"
      },
      "source": [
        "#Call the function\n",
        "divide(1,2)"
      ],
      "execution_count": null,
      "outputs": [
        {
          "output_type": "execute_result",
          "data": {
            "text/plain": [
              "0.5"
            ]
          },
          "metadata": {},
          "execution_count": 7
        }
      ]
    },
    {
      "cell_type": "markdown",
      "metadata": {
        "id": "MdtfAZRZ1-ic"
      },
      "source": [
        "###36 - How to write a function"
      ]
    },
    {
      "cell_type": "markdown",
      "metadata": {
        "id": "WPoWqvKf2JcS"
      },
      "source": [
        "1. Create a function that randomly selects a name form a list. The function should have two arguments: the participants list (as array) and the number of students to pick."
      ]
    },
    {
      "cell_type": "code",
      "metadata": {
        "id": "hjHThfIY2O3W",
        "colab": {
          "base_uri": "https://localhost:8080/"
        },
        "outputId": "48a8a5fc-f3bf-4f24-b74f-be8c6975711b"
      },
      "source": [
        "#Hint: The code to draw a function is given by\n",
        "names=(\"Debora\", \"Markus\", \"Patrick\", \"Reto\", \"Leif\")\n",
        "\n",
        "sampled_name=np.random.choice(names,size=1)\n",
        "print(sampled_name)"
      ],
      "execution_count": null,
      "outputs": [
        {
          "output_type": "stream",
          "name": "stdout",
          "text": [
            "['Leif']\n"
          ]
        }
      ]
    },
    {
      "cell_type": "code",
      "metadata": {
        "id": "-NZy9fYiKhL2"
      },
      "source": [
        "#Solution\n",
        "import numpy as np\n",
        "\n",
        "def NameSampler(names):\n",
        "    sampled_name=np.random.choice(names,size=1)\n",
        "    return sampled_name"
      ],
      "execution_count": null,
      "outputs": []
    },
    {
      "cell_type": "code",
      "metadata": {
        "id": "8rXfLKL63Vta",
        "colab": {
          "base_uri": "https://localhost:8080/"
        },
        "outputId": "d02d8903-4299-4a40-a5f1-243a42941548"
      },
      "source": [
        "#call the function\n",
        "print(NameSampler(names))"
      ],
      "execution_count": null,
      "outputs": [
        {
          "output_type": "execute_result",
          "data": {
            "text/plain": [
              "array(['Leif'], dtype='<U7')"
            ]
          },
          "metadata": {},
          "execution_count": 32
        }
      ]
    },
    {
      "cell_type": "markdown",
      "metadata": {
        "id": "XW-Ewl7skxDp"
      },
      "source": [
        "###37 - Advanced techniques for creating functions"
      ]
    },
    {
      "cell_type": "markdown",
      "metadata": {
        "id": "sexsVXGpwWxY"
      },
      "source": [
        "1. Extend the function which samples the names. Add another argument to specify the number of names being drawn. Set a default for this argument, i.e. if not specified 2 names should be returned.\n",
        "\n",
        "\n"
      ]
    },
    {
      "cell_type": "code",
      "metadata": {
        "id": "-1Q1VvOhwe7e"
      },
      "source": [
        "import numpy as np\n",
        "\n",
        "def NameSampler(x, n=2):\n",
        "    sampled_name=np.random.choice(x,size=n)\n",
        "    return sampled_name"
      ],
      "execution_count": null,
      "outputs": []
    },
    {
      "cell_type": "code",
      "metadata": {
        "id": "PKDDWAq0T1E_",
        "colab": {
          "base_uri": "https://localhost:8080/",
          "height": 34
        },
        "outputId": "091d6121-e9bd-40c7-e023-d387c4062138"
      },
      "source": [
        "#call the function\n",
        "print(NameSampler(names, n=3))"
      ],
      "execution_count": null,
      "outputs": [
        {
          "output_type": "stream",
          "text": [
            "['Reto' 'Reto' 'Patrick']\n"
          ],
          "name": "stdout"
        }
      ]
    }
  ]
}