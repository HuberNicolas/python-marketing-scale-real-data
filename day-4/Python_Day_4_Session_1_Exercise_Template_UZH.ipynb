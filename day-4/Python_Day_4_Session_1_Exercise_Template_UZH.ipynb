{
  "nbformat": 4,
  "nbformat_minor": 0,
  "metadata": {
    "colab": {
      "provenance": [],
      "toc_visible": true
    },
    "kernelspec": {
      "name": "python3",
      "display_name": "Python 3"
    }
  },
  "cells": [
    {
      "cell_type": "markdown",
      "metadata": {
        "id": "cCjAe20VdlxO"
      },
      "source": [
        "#Python - Non-technical introduction\n",
        "\n",
        "##Exercise Day 4 Session 1 \"Don’t lose control: How to use conditions and loops\"\n",
        "\n",
        "This file provides exercises accompanying the lectures.\n",
        "\n",
        "*Note:* If you want to make changes to this document, you need to save your own copy using the \"Save copy in Drive\" command in the \"File\" menu."
      ]
    },
    {
      "cell_type": "markdown",
      "metadata": {
        "id": "GW4cNjYKvKVg"
      },
      "source": [
        "###32 - If else statements"
      ]
    },
    {
      "cell_type": "markdown",
      "metadata": {
        "id": "fh3Cz0YKvN7Z"
      },
      "source": [
        "1. Write an if-statement that prints \"`x is a character`\" if the variable x is a character and \"`x is a postive integer`\" if x is a positiv interger. *Hint:* Check the format of your input using `type()`.\n",
        "\n"
      ]
    },
    {
      "cell_type": "markdown",
      "metadata": {
        "id": "MdtfAZRZ1-ic"
      },
      "source": [
        "###33 - Basic loop techniques"
      ]
    },
    {
      "cell_type": "markdown",
      "metadata": {
        "id": "WPoWqvKf2JcS"
      },
      "source": [
        "1. Create a loop that prints a countdown from 10 by\n",
        "a) using a for-loop, and\n",
        "b) using a while-loop."
      ]
    },
    {
      "cell_type": "markdown",
      "metadata": {
        "id": "XW-Ewl7skxDp"
      },
      "source": [
        "###34 - Advanced looping techniques"
      ]
    },
    {
      "cell_type": "markdown",
      "metadata": {
        "id": "jroEr7Zc2Z3f"
      },
      "source": [
        "1. Use the `myData` DataFrame. Use a loop to go over all transactions and sum up the transaction's purchase amount one by one. Stop as soon as you reach a purchase amount of 1 million. At which date did the store reach this mark?\n"
      ]
    },
    {
      "cell_type": "markdown",
      "metadata": {
        "id": "sexsVXGpwWxY"
      },
      "source": [
        "2. Use a for loop to sum the first 10.000 transactions. Then use the vectorized `np.sum()` command to do the same. Compare the time used by both methods. *Hint:* Use `time.time()` of the time-module to obtain the current time as a floating point number expressed in seconds since the epoch before and after running your code of interest.\n",
        "\n"
      ]
    }
  ]
}