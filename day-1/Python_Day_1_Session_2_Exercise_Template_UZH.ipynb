{
  "cells": [
    {
      "cell_type": "markdown",
      "metadata": {
        "id": "cCjAe20VdlxO"
      },
      "source": [
        "#Python - Non-technical introduction\n",
        "\n",
        "##Exercise Session: \"In god we trust, all others must bring data: How to load data in Python?\"\n",
        "\n",
        "This file provides exercises accompanying the lectures.\n",
        "\n",
        "*Note:* If you want to make changes to this document, you need to save your own copy using the \"Save copy in Drive\" command in the \"File\" menu."
      ]
    },
    {
      "cell_type": "markdown",
      "metadata": {
        "id": "rS8y94b1gWow"
      },
      "source": [
        "###08 - Reading data"
      ]
    },
    {
      "cell_type": "markdown",
      "metadata": {
        "id": "id5SivSagcCL"
      },
      "source": [
        "1. Have a look at the CSV file stored at [https://raw.githubusercontent.com/bachmannpatrick/Python-Class/master/data/transactions.csv](https://raw.githubusercontent.com/bachmannpatrick/Python-Class/master/data/transactions.csv)."
      ]
    },
    {
      "cell_type": "markdown",
      "metadata": {
        "id": "etV6Q-iugqew"
      },
      "source": [
        "2. Read in the CSV file with the help of the pandas package (imported as `pd`). Use the `pd.csv_read()` command. You can use the URL provided above as if it would be a path of a local file. Next, make the data available for further use (name it `myData`).\n"
      ]
    },
    {
      "cell_type": "markdown",
      "metadata": {
        "id": "AXYavuNtLRy_"
      },
      "source": [
        "###09 - Basic investigation of data\n"
      ]
    },
    {
      "cell_type": "markdown",
      "metadata": {
        "id": "XJ5WfbTLLi5x"
      },
      "source": [
        "1. Look at the data that you loaded in the previous exercise (e.g., use `head()` or `tail()`)\n"
      ]
    },
    {
      "cell_type": "markdown",
      "metadata": {
        "id": "fuZh_dqvLzhk"
      },
      "source": [
        "2. Use pandas' `to_datetime()`-function to format the TransDate column."
      ]
    },
    {
      "cell_type": "markdown",
      "metadata": {
        "id": "kLY_h402L3im"
      },
      "source": [
        "3. Use `dtypes(`) to see if the change was made correctly. (How can you tell?)\n"
      ]
    },
    {
      "cell_type": "markdown",
      "metadata": {
        "id": "-I7jZbvNL8Ln"
      },
      "source": [
        "4. Use `describe()` to get the summary statistics.\n"
      ]
    },
    {
      "cell_type": "markdown",
      "metadata": {
        "id": "yFwoeTtmMKsn"
      },
      "source": [
        "5. Save the DataFrame object to a csv-file with the name\n",
        " \"transactions_students_backup.csv\"."
      ]
    }
  ],
  "metadata": {
    "colab": {
      "provenance": [],
      "toc_visible": true
    },
    "kernelspec": {
      "display_name": "Python 3",
      "name": "python3"
    }
  },
  "nbformat": 4,
  "nbformat_minor": 0
}
