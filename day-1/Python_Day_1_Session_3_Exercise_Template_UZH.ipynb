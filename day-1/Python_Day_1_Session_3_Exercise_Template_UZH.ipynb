{
  "cells": [
    {
      "cell_type": "markdown",
      "metadata": {
        "id": "cCjAe20VdlxO"
      },
      "source": [
        "#Python - Non-technical introduction\n",
        "\n",
        "##Exercise Day 1 Session 3: \"A picture is worth a thousand words: How to create a plot (matplotlib)?\"\n",
        "\n",
        "This file provides exercises accompanying the lectures.\n",
        "\n",
        "*Note:* If you want to make changes to this document, you need to save your own copy using the \"Save copy in Drive\" command in the \"File\" menu."
      ]
    },
    {
      "cell_type": "markdown",
      "metadata": {
        "id": "qpmzcnuFlexj"
      },
      "source": [
        "###Preparation\n",
        "\n",
        "1.   Read the csv file and store it in the variable \"myData\". Note: this file is hostes in a GitHub repository. https://raw.githubusercontent.com/bachmannpatrick/Python-Class/master/data/transactions.csv"
      ]
    },
    {
      "cell_type": "markdown",
      "metadata": {
        "id": "XW-Ewl7skxDp"
      },
      "source": [
        "###10 - Creating basic plots"
      ]
    },
    {
      "cell_type": "markdown",
      "metadata": {
        "id": "lMP5naoWk3B_"
      },
      "source": [
        "1. Create a boxplot for the variable PurchAmount(x)."
      ]
    },
    {
      "cell_type": "markdown",
      "metadata": {
        "id": "lAKGNNSRk6r6"
      },
      "source": [
        "2. Create a scatter plot for the variables `Quantity`(x) and `PurchAmount`(y). Can you observe any correlation?"
      ]
    },
    {
      "cell_type": "markdown",
      "metadata": {
        "id": "Znf2Ppn9qE66"
      },
      "source": [
        "###11 - Format basic plots"
      ]
    },
    {
      "cell_type": "markdown",
      "metadata": {
        "id": "jf-326eymI_W"
      },
      "source": [
        "1.Format your earlier scatter plots in an appealing way.  Choose appropriate limits for the axes.  Consider changing colors, sizes, and fonts for data points and text labels.\n"
      ]
    },
    {
      "cell_type": "markdown",
      "metadata": {
        "id": "L7WgG_s2mdqq"
      },
      "source": [
        "###12 - Adding further features to plots"
      ]
    },
    {
      "cell_type": "markdown",
      "metadata": {
        "id": "Pk9VLgufnl8B"
      },
      "source": [
        "1. Plot (a) the scatter plot  of Cost and `Purchase Amount` and (b) a historgram of `Purchase Amount` and in the same graph.\n",
        "\n"
      ]
    }
  ],
  "metadata": {
    "colab": {
      "provenance": [],
      "toc_visible": true
    },
    "kernelspec": {
      "display_name": "Python 3",
      "name": "python3"
    }
  },
  "nbformat": 4,
  "nbformat_minor": 0
}
