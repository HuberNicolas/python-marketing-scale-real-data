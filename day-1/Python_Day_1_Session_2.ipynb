{
  "cells": [
    {
      "cell_type": "markdown",
      "metadata": {
        "id": "cCjAe20VdlxO"
      },
      "source": [
        "#Python - Non-technical introduction\n",
        "\n",
        "##Exercise Session: \"In god we trust, all others must bring data: How to load data in Python?\"\n",
        "\n",
        "This file provides exercises accompanying the lectures.\n",
        "\n",
        "*Note:* If you want to make changes to this document, you need to save your own copy using the \"Save copy in Drive\" command in the \"File\" menu."
      ]
    },
    {
      "cell_type": "markdown",
      "metadata": {
        "id": "rS8y94b1gWow"
      },
      "source": [
        "###08 - Reading data"
      ]
    },
    {
      "cell_type": "markdown",
      "metadata": {
        "id": "id5SivSagcCL"
      },
      "source": [
        "1. Have a look at the CSV file stored at [https://raw.githubusercontent.com/bachmannpatrick/Python-Class/master/data/transactions.csv](https://raw.githubusercontent.com/bachmannpatrick/Python-Class/master/data/transactions.csv)."
      ]
    },
    {
      "cell_type": "markdown",
      "metadata": {
        "id": "etV6Q-iugqew"
      },
      "source": [
        "2. Read in the CSV file with the help of the pandas package (imported as `pd`). Use the `pd.csv_read()` command. You can use the URL provided above as if it would be a path of a local file. Next, make the data available for further use (name it `myData`).\n"
      ]
    },
    {
      "cell_type": "code",
      "execution_count": 39,
      "metadata": {},
      "outputs": [],
      "source": [
        "import pandas as pd"
      ]
    },
    {
      "cell_type": "code",
      "execution_count": 40,
      "metadata": {},
      "outputs": [],
      "source": [
        "myData = pd.read_csv(\"https://raw.githubusercontent.com/bachmannpatrick/Python-Class/master/data/transactions.csv\")"
      ]
    },
    {
      "cell_type": "markdown",
      "metadata": {
        "id": "AXYavuNtLRy_"
      },
      "source": [
        "###09 - Basic investigation of data\n"
      ]
    },
    {
      "cell_type": "markdown",
      "metadata": {
        "id": "XJ5WfbTLLi5x"
      },
      "source": [
        "1. Look at the data that you loaded in the previous exercise (e.g., use `head()` or `tail()`)\n"
      ]
    },
    {
      "cell_type": "code",
      "execution_count": 41,
      "metadata": {},
      "outputs": [
        {
          "data": {
            "text/plain": [
              "Customer         int64\n",
              "TransDate       object\n",
              "Quantity         int64\n",
              "PurchAmount    float64\n",
              "Cost           float64\n",
              "TransID          int64\n",
              "dtype: object"
            ]
          },
          "execution_count": 41,
          "metadata": {},
          "output_type": "execute_result"
        }
      ],
      "source": [
        "myData.dtypes"
      ]
    },
    {
      "cell_type": "code",
      "execution_count": 42,
      "metadata": {},
      "outputs": [
        {
          "data": {
            "text/html": [
              "<div>\n",
              "<style scoped>\n",
              "    .dataframe tbody tr th:only-of-type {\n",
              "        vertical-align: middle;\n",
              "    }\n",
              "\n",
              "    .dataframe tbody tr th {\n",
              "        vertical-align: top;\n",
              "    }\n",
              "\n",
              "    .dataframe thead th {\n",
              "        text-align: right;\n",
              "    }\n",
              "</style>\n",
              "<table border=\"1\" class=\"dataframe\">\n",
              "  <thead>\n",
              "    <tr style=\"text-align: right;\">\n",
              "      <th></th>\n",
              "      <th>Customer</th>\n",
              "      <th>TransDate</th>\n",
              "      <th>Quantity</th>\n",
              "      <th>PurchAmount</th>\n",
              "      <th>Cost</th>\n",
              "      <th>TransID</th>\n",
              "    </tr>\n",
              "  </thead>\n",
              "  <tbody>\n",
              "    <tr>\n",
              "      <th>0</th>\n",
              "      <td>149332</td>\n",
              "      <td>15.11.2005</td>\n",
              "      <td>1</td>\n",
              "      <td>199.95</td>\n",
              "      <td>107.00</td>\n",
              "      <td>127998739</td>\n",
              "    </tr>\n",
              "    <tr>\n",
              "      <th>1</th>\n",
              "      <td>172951</td>\n",
              "      <td>29.08.2008</td>\n",
              "      <td>1</td>\n",
              "      <td>199.95</td>\n",
              "      <td>108.00</td>\n",
              "      <td>128888288</td>\n",
              "    </tr>\n",
              "    <tr>\n",
              "      <th>2</th>\n",
              "      <td>120621</td>\n",
              "      <td>19.10.2007</td>\n",
              "      <td>1</td>\n",
              "      <td>99.95</td>\n",
              "      <td>49.00</td>\n",
              "      <td>125375247</td>\n",
              "    </tr>\n",
              "    <tr>\n",
              "      <th>3</th>\n",
              "      <td>149236</td>\n",
              "      <td>14.11.2005</td>\n",
              "      <td>1</td>\n",
              "      <td>39.95</td>\n",
              "      <td>18.95</td>\n",
              "      <td>127996226</td>\n",
              "    </tr>\n",
              "    <tr>\n",
              "      <th>4</th>\n",
              "      <td>149236</td>\n",
              "      <td>12.06.2007</td>\n",
              "      <td>1</td>\n",
              "      <td>79.95</td>\n",
              "      <td>35.00</td>\n",
              "      <td>128670302</td>\n",
              "    </tr>\n",
              "  </tbody>\n",
              "</table>\n",
              "</div>"
            ],
            "text/plain": [
              "   Customer   TransDate  Quantity  PurchAmount    Cost    TransID\n",
              "0    149332  15.11.2005         1       199.95  107.00  127998739\n",
              "1    172951  29.08.2008         1       199.95  108.00  128888288\n",
              "2    120621  19.10.2007         1        99.95   49.00  125375247\n",
              "3    149236  14.11.2005         1        39.95   18.95  127996226\n",
              "4    149236  12.06.2007         1        79.95   35.00  128670302"
            ]
          },
          "execution_count": 42,
          "metadata": {},
          "output_type": "execute_result"
        }
      ],
      "source": [
        "myData.head()"
      ]
    },
    {
      "cell_type": "code",
      "execution_count": 43,
      "metadata": {},
      "outputs": [
        {
          "data": {
            "text/html": [
              "<div>\n",
              "<style scoped>\n",
              "    .dataframe tbody tr th:only-of-type {\n",
              "        vertical-align: middle;\n",
              "    }\n",
              "\n",
              "    .dataframe tbody tr th {\n",
              "        vertical-align: top;\n",
              "    }\n",
              "\n",
              "    .dataframe thead th {\n",
              "        text-align: right;\n",
              "    }\n",
              "</style>\n",
              "<table border=\"1\" class=\"dataframe\">\n",
              "  <thead>\n",
              "    <tr style=\"text-align: right;\">\n",
              "      <th></th>\n",
              "      <th>Customer</th>\n",
              "      <th>TransDate</th>\n",
              "      <th>Quantity</th>\n",
              "      <th>PurchAmount</th>\n",
              "      <th>Cost</th>\n",
              "      <th>TransID</th>\n",
              "    </tr>\n",
              "  </thead>\n",
              "  <tbody>\n",
              "    <tr>\n",
              "      <th>223186</th>\n",
              "      <td>199997</td>\n",
              "      <td>17.09.2012</td>\n",
              "      <td>1</td>\n",
              "      <td>29.95</td>\n",
              "      <td>13.80</td>\n",
              "      <td>132481149</td>\n",
              "    </tr>\n",
              "    <tr>\n",
              "      <th>223187</th>\n",
              "      <td>199997</td>\n",
              "      <td>17.09.2012</td>\n",
              "      <td>1</td>\n",
              "      <td>29.95</td>\n",
              "      <td>13.80</td>\n",
              "      <td>132481149</td>\n",
              "    </tr>\n",
              "    <tr>\n",
              "      <th>223188</th>\n",
              "      <td>199998</td>\n",
              "      <td>17.09.2012</td>\n",
              "      <td>1</td>\n",
              "      <td>29.95</td>\n",
              "      <td>13.80</td>\n",
              "      <td>132481154</td>\n",
              "    </tr>\n",
              "    <tr>\n",
              "      <th>223189</th>\n",
              "      <td>199999</td>\n",
              "      <td>17.09.2012</td>\n",
              "      <td>1</td>\n",
              "      <td>179.95</td>\n",
              "      <td>109.99</td>\n",
              "      <td>132481165</td>\n",
              "    </tr>\n",
              "    <tr>\n",
              "      <th>223190</th>\n",
              "      <td>199542</td>\n",
              "      <td>17.09.2012</td>\n",
              "      <td>1</td>\n",
              "      <td>39.95</td>\n",
              "      <td>10.50</td>\n",
              "      <td>131973368</td>\n",
              "    </tr>\n",
              "  </tbody>\n",
              "</table>\n",
              "</div>"
            ],
            "text/plain": [
              "        Customer   TransDate  Quantity  PurchAmount    Cost    TransID\n",
              "223186    199997  17.09.2012         1        29.95   13.80  132481149\n",
              "223187    199997  17.09.2012         1        29.95   13.80  132481149\n",
              "223188    199998  17.09.2012         1        29.95   13.80  132481154\n",
              "223189    199999  17.09.2012         1       179.95  109.99  132481165\n",
              "223190    199542  17.09.2012         1        39.95   10.50  131973368"
            ]
          },
          "execution_count": 43,
          "metadata": {},
          "output_type": "execute_result"
        }
      ],
      "source": [
        "myData.tail()"
      ]
    },
    {
      "cell_type": "markdown",
      "metadata": {
        "id": "fuZh_dqvLzhk"
      },
      "source": [
        "2. Use pandas' `to_datetime()`-function to format the TransDate column."
      ]
    },
    {
      "cell_type": "code",
      "execution_count": 44,
      "metadata": {},
      "outputs": [],
      "source": [
        "# help(pd.to_datetime)\n",
        "myData[\"TransDate\"] = pd.to_datetime(\n",
        "    myData[\"TransDate\"],\n",
        "    format=\"%d.%m.%Y\",\n",
        "    utc=True,\n",
        "    dayfirst=True \n",
        "    )\n"
      ]
    },
    {
      "cell_type": "code",
      "execution_count": 45,
      "metadata": {},
      "outputs": [
        {
          "data": {
            "text/html": [
              "<div>\n",
              "<style scoped>\n",
              "    .dataframe tbody tr th:only-of-type {\n",
              "        vertical-align: middle;\n",
              "    }\n",
              "\n",
              "    .dataframe tbody tr th {\n",
              "        vertical-align: top;\n",
              "    }\n",
              "\n",
              "    .dataframe thead th {\n",
              "        text-align: right;\n",
              "    }\n",
              "</style>\n",
              "<table border=\"1\" class=\"dataframe\">\n",
              "  <thead>\n",
              "    <tr style=\"text-align: right;\">\n",
              "      <th></th>\n",
              "      <th>Customer</th>\n",
              "      <th>TransDate</th>\n",
              "      <th>Quantity</th>\n",
              "      <th>PurchAmount</th>\n",
              "      <th>Cost</th>\n",
              "      <th>TransID</th>\n",
              "    </tr>\n",
              "  </thead>\n",
              "  <tbody>\n",
              "    <tr>\n",
              "      <th>0</th>\n",
              "      <td>149332</td>\n",
              "      <td>2005-11-15 00:00:00+00:00</td>\n",
              "      <td>1</td>\n",
              "      <td>199.95</td>\n",
              "      <td>107.00</td>\n",
              "      <td>127998739</td>\n",
              "    </tr>\n",
              "    <tr>\n",
              "      <th>1</th>\n",
              "      <td>172951</td>\n",
              "      <td>2008-08-29 00:00:00+00:00</td>\n",
              "      <td>1</td>\n",
              "      <td>199.95</td>\n",
              "      <td>108.00</td>\n",
              "      <td>128888288</td>\n",
              "    </tr>\n",
              "    <tr>\n",
              "      <th>2</th>\n",
              "      <td>120621</td>\n",
              "      <td>2007-10-19 00:00:00+00:00</td>\n",
              "      <td>1</td>\n",
              "      <td>99.95</td>\n",
              "      <td>49.00</td>\n",
              "      <td>125375247</td>\n",
              "    </tr>\n",
              "    <tr>\n",
              "      <th>3</th>\n",
              "      <td>149236</td>\n",
              "      <td>2005-11-14 00:00:00+00:00</td>\n",
              "      <td>1</td>\n",
              "      <td>39.95</td>\n",
              "      <td>18.95</td>\n",
              "      <td>127996226</td>\n",
              "    </tr>\n",
              "    <tr>\n",
              "      <th>4</th>\n",
              "      <td>149236</td>\n",
              "      <td>2007-06-12 00:00:00+00:00</td>\n",
              "      <td>1</td>\n",
              "      <td>79.95</td>\n",
              "      <td>35.00</td>\n",
              "      <td>128670302</td>\n",
              "    </tr>\n",
              "    <tr>\n",
              "      <th>...</th>\n",
              "      <td>...</td>\n",
              "      <td>...</td>\n",
              "      <td>...</td>\n",
              "      <td>...</td>\n",
              "      <td>...</td>\n",
              "      <td>...</td>\n",
              "    </tr>\n",
              "    <tr>\n",
              "      <th>223186</th>\n",
              "      <td>199997</td>\n",
              "      <td>2012-09-17 00:00:00+00:00</td>\n",
              "      <td>1</td>\n",
              "      <td>29.95</td>\n",
              "      <td>13.80</td>\n",
              "      <td>132481149</td>\n",
              "    </tr>\n",
              "    <tr>\n",
              "      <th>223187</th>\n",
              "      <td>199997</td>\n",
              "      <td>2012-09-17 00:00:00+00:00</td>\n",
              "      <td>1</td>\n",
              "      <td>29.95</td>\n",
              "      <td>13.80</td>\n",
              "      <td>132481149</td>\n",
              "    </tr>\n",
              "    <tr>\n",
              "      <th>223188</th>\n",
              "      <td>199998</td>\n",
              "      <td>2012-09-17 00:00:00+00:00</td>\n",
              "      <td>1</td>\n",
              "      <td>29.95</td>\n",
              "      <td>13.80</td>\n",
              "      <td>132481154</td>\n",
              "    </tr>\n",
              "    <tr>\n",
              "      <th>223189</th>\n",
              "      <td>199999</td>\n",
              "      <td>2012-09-17 00:00:00+00:00</td>\n",
              "      <td>1</td>\n",
              "      <td>179.95</td>\n",
              "      <td>109.99</td>\n",
              "      <td>132481165</td>\n",
              "    </tr>\n",
              "    <tr>\n",
              "      <th>223190</th>\n",
              "      <td>199542</td>\n",
              "      <td>2012-09-17 00:00:00+00:00</td>\n",
              "      <td>1</td>\n",
              "      <td>39.95</td>\n",
              "      <td>10.50</td>\n",
              "      <td>131973368</td>\n",
              "    </tr>\n",
              "  </tbody>\n",
              "</table>\n",
              "<p>223191 rows × 6 columns</p>\n",
              "</div>"
            ],
            "text/plain": [
              "        Customer                 TransDate  Quantity  PurchAmount    Cost  \\\n",
              "0         149332 2005-11-15 00:00:00+00:00         1       199.95  107.00   \n",
              "1         172951 2008-08-29 00:00:00+00:00         1       199.95  108.00   \n",
              "2         120621 2007-10-19 00:00:00+00:00         1        99.95   49.00   \n",
              "3         149236 2005-11-14 00:00:00+00:00         1        39.95   18.95   \n",
              "4         149236 2007-06-12 00:00:00+00:00         1        79.95   35.00   \n",
              "...          ...                       ...       ...          ...     ...   \n",
              "223186    199997 2012-09-17 00:00:00+00:00         1        29.95   13.80   \n",
              "223187    199997 2012-09-17 00:00:00+00:00         1        29.95   13.80   \n",
              "223188    199998 2012-09-17 00:00:00+00:00         1        29.95   13.80   \n",
              "223189    199999 2012-09-17 00:00:00+00:00         1       179.95  109.99   \n",
              "223190    199542 2012-09-17 00:00:00+00:00         1        39.95   10.50   \n",
              "\n",
              "          TransID  \n",
              "0       127998739  \n",
              "1       128888288  \n",
              "2       125375247  \n",
              "3       127996226  \n",
              "4       128670302  \n",
              "...           ...  \n",
              "223186  132481149  \n",
              "223187  132481149  \n",
              "223188  132481154  \n",
              "223189  132481165  \n",
              "223190  131973368  \n",
              "\n",
              "[223191 rows x 6 columns]"
            ]
          },
          "execution_count": 45,
          "metadata": {},
          "output_type": "execute_result"
        }
      ],
      "source": [
        "myData"
      ]
    },
    {
      "cell_type": "markdown",
      "metadata": {
        "id": "kLY_h402L3im"
      },
      "source": [
        "3. Use `dtypes(`) to see if the change was made correctly. (How can you tell?)\n"
      ]
    },
    {
      "cell_type": "code",
      "execution_count": 47,
      "metadata": {},
      "outputs": [
        {
          "data": {
            "text/plain": [
              "Customer                     int64\n",
              "TransDate      datetime64[ns, UTC]\n",
              "Quantity                     int64\n",
              "PurchAmount                float64\n",
              "Cost                       float64\n",
              "TransID                      int64\n",
              "dtype: object"
            ]
          },
          "execution_count": 47,
          "metadata": {},
          "output_type": "execute_result"
        }
      ],
      "source": [
        "myData.dtypes"
      ]
    },
    {
      "cell_type": "markdown",
      "metadata": {
        "id": "-I7jZbvNL8Ln"
      },
      "source": [
        "4. Use `describe()` to get the summary statistics.\n"
      ]
    },
    {
      "cell_type": "code",
      "execution_count": 48,
      "metadata": {},
      "outputs": [
        {
          "data": {
            "text/html": [
              "<div>\n",
              "<style scoped>\n",
              "    .dataframe tbody tr th:only-of-type {\n",
              "        vertical-align: middle;\n",
              "    }\n",
              "\n",
              "    .dataframe tbody tr th {\n",
              "        vertical-align: top;\n",
              "    }\n",
              "\n",
              "    .dataframe thead th {\n",
              "        text-align: right;\n",
              "    }\n",
              "</style>\n",
              "<table border=\"1\" class=\"dataframe\">\n",
              "  <thead>\n",
              "    <tr style=\"text-align: right;\">\n",
              "      <th></th>\n",
              "      <th>Customer</th>\n",
              "      <th>Quantity</th>\n",
              "      <th>PurchAmount</th>\n",
              "      <th>Cost</th>\n",
              "      <th>TransID</th>\n",
              "    </tr>\n",
              "  </thead>\n",
              "  <tbody>\n",
              "    <tr>\n",
              "      <th>count</th>\n",
              "      <td>223191.000000</td>\n",
              "      <td>223191.000000</td>\n",
              "      <td>223191.000000</td>\n",
              "      <td>223191.000000</td>\n",
              "      <td>2.231910e+05</td>\n",
              "    </tr>\n",
              "    <tr>\n",
              "      <th>mean</th>\n",
              "      <td>148366.708384</td>\n",
              "      <td>1.037009</td>\n",
              "      <td>84.164615</td>\n",
              "      <td>39.013295</td>\n",
              "      <td>1.279955e+08</td>\n",
              "    </tr>\n",
              "    <tr>\n",
              "      <th>std</th>\n",
              "      <td>28657.866956</td>\n",
              "      <td>0.336899</td>\n",
              "      <td>105.864308</td>\n",
              "      <td>57.145100</td>\n",
              "      <td>2.188099e+06</td>\n",
              "    </tr>\n",
              "    <tr>\n",
              "      <th>min</th>\n",
              "      <td>100001.000000</td>\n",
              "      <td>1.000000</td>\n",
              "      <td>0.000000</td>\n",
              "      <td>0.000000</td>\n",
              "      <td>1.234568e+08</td>\n",
              "    </tr>\n",
              "    <tr>\n",
              "      <th>25%</th>\n",
              "      <td>123563.000000</td>\n",
              "      <td>1.000000</td>\n",
              "      <td>34.950000</td>\n",
              "      <td>14.030000</td>\n",
              "      <td>1.259722e+08</td>\n",
              "    </tr>\n",
              "    <tr>\n",
              "      <th>50%</th>\n",
              "      <td>148635.000000</td>\n",
              "      <td>1.000000</td>\n",
              "      <td>59.950000</td>\n",
              "      <td>24.000000</td>\n",
              "      <td>1.282728e+08</td>\n",
              "    </tr>\n",
              "    <tr>\n",
              "      <th>75%</th>\n",
              "      <td>172467.000000</td>\n",
              "      <td>1.000000</td>\n",
              "      <td>99.950000</td>\n",
              "      <td>45.000000</td>\n",
              "      <td>1.291887e+08</td>\n",
              "    </tr>\n",
              "    <tr>\n",
              "      <th>max</th>\n",
              "      <td>199999.000000</td>\n",
              "      <td>70.000000</td>\n",
              "      <td>5000.000000</td>\n",
              "      <td>3100.000000</td>\n",
              "      <td>1.324812e+08</td>\n",
              "    </tr>\n",
              "  </tbody>\n",
              "</table>\n",
              "</div>"
            ],
            "text/plain": [
              "            Customer       Quantity    PurchAmount           Cost  \\\n",
              "count  223191.000000  223191.000000  223191.000000  223191.000000   \n",
              "mean   148366.708384       1.037009      84.164615      39.013295   \n",
              "std     28657.866956       0.336899     105.864308      57.145100   \n",
              "min    100001.000000       1.000000       0.000000       0.000000   \n",
              "25%    123563.000000       1.000000      34.950000      14.030000   \n",
              "50%    148635.000000       1.000000      59.950000      24.000000   \n",
              "75%    172467.000000       1.000000      99.950000      45.000000   \n",
              "max    199999.000000      70.000000    5000.000000    3100.000000   \n",
              "\n",
              "            TransID  \n",
              "count  2.231910e+05  \n",
              "mean   1.279955e+08  \n",
              "std    2.188099e+06  \n",
              "min    1.234568e+08  \n",
              "25%    1.259722e+08  \n",
              "50%    1.282728e+08  \n",
              "75%    1.291887e+08  \n",
              "max    1.324812e+08  "
            ]
          },
          "execution_count": 48,
          "metadata": {},
          "output_type": "execute_result"
        }
      ],
      "source": [
        "myData.describe()"
      ]
    },
    {
      "cell_type": "markdown",
      "metadata": {
        "id": "yFwoeTtmMKsn"
      },
      "source": [
        "5. Save the DataFrame object to a csv-file with the name\n",
        " \"transactions_students_backup.csv\"."
      ]
    },
    {
      "cell_type": "code",
      "execution_count": 49,
      "metadata": {},
      "outputs": [],
      "source": [
        "myData.to_csv(\n",
        "    path_or_buf=\"transactions_students_backup.csv\",\n",
        "    sep=\",\"\n",
        ")"
      ]
    }
  ],
  "metadata": {
    "colab": {
      "provenance": [],
      "toc_visible": true
    },
    "kernelspec": {
      "display_name": "Python 3",
      "name": "python3"
    },
    "language_info": {
      "codemirror_mode": {
        "name": "ipython",
        "version": 3
      },
      "file_extension": ".py",
      "mimetype": "text/x-python",
      "name": "python",
      "nbconvert_exporter": "python",
      "pygments_lexer": "ipython3",
      "version": "3.11.4"
    }
  },
  "nbformat": 4,
  "nbformat_minor": 0
}
