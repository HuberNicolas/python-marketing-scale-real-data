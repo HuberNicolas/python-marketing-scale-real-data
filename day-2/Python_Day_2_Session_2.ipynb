{
  "nbformat": 4,
  "nbformat_minor": 0,
  "metadata": {
    "colab": {
      "provenance": [],
      "toc_visible": true
    },
    "kernelspec": {
      "name": "python3",
      "display_name": "Python 3"
    }
  },
  "cells": [
    {
      "cell_type": "markdown",
      "metadata": {
        "id": "3arMV6uM79oD"
      },
      "source": [
        "#Python - Non-technical introduction\n",
        "\n",
        "##Day 2 Session 2: \"Select the needle in a haystack: How to use “select” operations?\"\n",
        "\n",
        "This file accompanies the lectures and provides the code for the corresponding slides.\n",
        "\n",
        "*Note:* If you want to make changes to this document, you need to save your own copy using the \"Save copy in Drive\" command in the \"File\" menu."
      ]
    },
    {
      "cell_type": "markdown",
      "metadata": {
        "id": "c7xrHageKBHn"
      },
      "source": [
        "###Preparation\n",
        "\n",
        "**Make sure to run the follwing code before continuing.** Code will prepare everything (load data, ...)."
      ]
    },
    {
      "cell_type": "markdown",
      "source": [],
      "metadata": {
        "id": "CduuOpW4WBos"
      }
    },
    {
      "cell_type": "code",
      "metadata": {
        "id": "EmbjkbMNKRaX"
      },
      "source": [
        "#load the Pandas package\n",
        "import pandas as pd\n",
        "#Read the csv file and store it in the variable \"myData\". Note: this file is hostes in a GitHub repository.\n",
        "myData=pd.read_csv(filepath_or_buffer=\"https://raw.githubusercontent.com/bachmannpatrick/Python-Class/master/data/transactions.csv\", sep=\",\")\n",
        "# Adjust the format of column \"TransDate\" to datetime\n",
        "myData[\"TransDate\"]  = pd.to_datetime(myData[\"TransDate\"])"
      ],
      "execution_count": null,
      "outputs": []
    },
    {
      "cell_type": "markdown",
      "metadata": {
        "id": "GhJgm4vyxMVi"
      },
      "source": [
        "###16 - Data wrangling techniques"
      ]
    },
    {
      "cell_type": "markdown",
      "metadata": {
        "id": "H4k8rtO-xRjr"
      },
      "source": [
        "No code for this unit."
      ]
    },
    {
      "cell_type": "markdown",
      "metadata": {
        "id": "vaX9FRSfJwsn"
      },
      "source": [
        "###17 - Selecting rows"
      ]
    },
    {
      "cell_type": "markdown",
      "metadata": {
        "id": "T2GNbQVy8xhq"
      },
      "source": [
        "####**Slide:** Selecting rows by row numbers\n",
        " - Select the first row"
      ]
    },
    {
      "cell_type": "code",
      "metadata": {
        "id": "jjUwkp7BA-N6",
        "colab": {
          "base_uri": "https://localhost:8080/",
          "height": 136
        },
        "outputId": "1dc9b06d-2522-4277-8319-5543405895d8"
      },
      "source": [
        "#get a series as output\n",
        "myData.iloc [0, ]"
      ],
      "execution_count": null,
      "outputs": [
        {
          "output_type": "execute_result",
          "data": {
            "text/plain": [
              "Customer                    149332\n",
              "TransDate      2005-11-15 00:00:00\n",
              "Quantity                         1\n",
              "PurchAmount                 199.95\n",
              "Cost                           107\n",
              "TransID                  127998739\n",
              "Name: 0, dtype: object"
            ]
          },
          "metadata": {
            "tags": []
          },
          "execution_count": 5
        }
      ]
    },
    {
      "cell_type": "code",
      "metadata": {
        "id": "7WxjwfPblNMI",
        "colab": {
          "base_uri": "https://localhost:8080/",
          "height": 80
        },
        "outputId": "e44560e3-ca93-45b7-8ae1-9e4148da8a4d"
      },
      "source": [
        "#get a DataFrame as output\n",
        "myData.iloc [[0], ]"
      ],
      "execution_count": null,
      "outputs": [
        {
          "output_type": "execute_result",
          "data": {
            "text/html": [
              "<div>\n",
              "<style scoped>\n",
              "    .dataframe tbody tr th:only-of-type {\n",
              "        vertical-align: middle;\n",
              "    }\n",
              "\n",
              "    .dataframe tbody tr th {\n",
              "        vertical-align: top;\n",
              "    }\n",
              "\n",
              "    .dataframe thead th {\n",
              "        text-align: right;\n",
              "    }\n",
              "</style>\n",
              "<table border=\"1\" class=\"dataframe\">\n",
              "  <thead>\n",
              "    <tr style=\"text-align: right;\">\n",
              "      <th></th>\n",
              "      <th>Customer</th>\n",
              "      <th>TransDate</th>\n",
              "      <th>Quantity</th>\n",
              "      <th>PurchAmount</th>\n",
              "      <th>Cost</th>\n",
              "      <th>TransID</th>\n",
              "    </tr>\n",
              "  </thead>\n",
              "  <tbody>\n",
              "    <tr>\n",
              "      <th>0</th>\n",
              "      <td>149332</td>\n",
              "      <td>2005-11-15</td>\n",
              "      <td>1</td>\n",
              "      <td>199.95</td>\n",
              "      <td>107.0</td>\n",
              "      <td>127998739</td>\n",
              "    </tr>\n",
              "  </tbody>\n",
              "</table>\n",
              "</div>"
            ],
            "text/plain": [
              "   Customer  TransDate  Quantity  PurchAmount   Cost    TransID\n",
              "0    149332 2005-11-15         1       199.95  107.0  127998739"
            ]
          },
          "metadata": {
            "tags": []
          },
          "execution_count": 6
        }
      ]
    },
    {
      "cell_type": "markdown",
      "metadata": {
        "id": "3L0PG81jBHWi"
      },
      "source": [
        "####**Slide:** Selecting rows by row numbers\n",
        " - Select the first 3 rows"
      ]
    },
    {
      "cell_type": "code",
      "metadata": {
        "id": "owUKTcTdBJ3E",
        "colab": {
          "base_uri": "https://localhost:8080/",
          "height": 142
        },
        "outputId": "f63207c8-cc15-440f-d2cc-ecd60e983594"
      },
      "source": [
        "myData.iloc[0:3, ]"
      ],
      "execution_count": null,
      "outputs": [
        {
          "output_type": "execute_result",
          "data": {
            "text/html": [
              "<div>\n",
              "<style scoped>\n",
              "    .dataframe tbody tr th:only-of-type {\n",
              "        vertical-align: middle;\n",
              "    }\n",
              "\n",
              "    .dataframe tbody tr th {\n",
              "        vertical-align: top;\n",
              "    }\n",
              "\n",
              "    .dataframe thead th {\n",
              "        text-align: right;\n",
              "    }\n",
              "</style>\n",
              "<table border=\"1\" class=\"dataframe\">\n",
              "  <thead>\n",
              "    <tr style=\"text-align: right;\">\n",
              "      <th></th>\n",
              "      <th>Customer</th>\n",
              "      <th>TransDate</th>\n",
              "      <th>Quantity</th>\n",
              "      <th>PurchAmount</th>\n",
              "      <th>Cost</th>\n",
              "      <th>TransID</th>\n",
              "    </tr>\n",
              "  </thead>\n",
              "  <tbody>\n",
              "    <tr>\n",
              "      <th>0</th>\n",
              "      <td>149332</td>\n",
              "      <td>2005-11-15</td>\n",
              "      <td>1</td>\n",
              "      <td>199.95</td>\n",
              "      <td>107.0</td>\n",
              "      <td>127998739</td>\n",
              "    </tr>\n",
              "    <tr>\n",
              "      <th>1</th>\n",
              "      <td>172951</td>\n",
              "      <td>2008-08-29</td>\n",
              "      <td>1</td>\n",
              "      <td>199.95</td>\n",
              "      <td>108.0</td>\n",
              "      <td>128888288</td>\n",
              "    </tr>\n",
              "    <tr>\n",
              "      <th>2</th>\n",
              "      <td>120621</td>\n",
              "      <td>2007-10-19</td>\n",
              "      <td>1</td>\n",
              "      <td>99.95</td>\n",
              "      <td>49.0</td>\n",
              "      <td>125375247</td>\n",
              "    </tr>\n",
              "  </tbody>\n",
              "</table>\n",
              "</div>"
            ],
            "text/plain": [
              "   Customer  TransDate  Quantity  PurchAmount   Cost    TransID\n",
              "0    149332 2005-11-15         1       199.95  107.0  127998739\n",
              "1    172951 2008-08-29         1       199.95  108.0  128888288\n",
              "2    120621 2007-10-19         1        99.95   49.0  125375247"
            ]
          },
          "metadata": {
            "tags": []
          },
          "execution_count": 7
        }
      ]
    },
    {
      "cell_type": "markdown",
      "metadata": {
        "id": "5zBF89P_BU6X"
      },
      "source": [
        "####**Slide:** Selecting rows by row numbers\n",
        " - Select the first 3 and the 5th row"
      ]
    },
    {
      "cell_type": "code",
      "metadata": {
        "id": "mfRK4blpBYfN",
        "colab": {
          "base_uri": "https://localhost:8080/",
          "height": 173
        },
        "outputId": "b5cf4c8e-dd0f-42ad-cc95-07eef74582b6"
      },
      "source": [
        "myData.iloc[[0,1,2,4], ]"
      ],
      "execution_count": null,
      "outputs": [
        {
          "output_type": "execute_result",
          "data": {
            "text/html": [
              "<div>\n",
              "<style scoped>\n",
              "    .dataframe tbody tr th:only-of-type {\n",
              "        vertical-align: middle;\n",
              "    }\n",
              "\n",
              "    .dataframe tbody tr th {\n",
              "        vertical-align: top;\n",
              "    }\n",
              "\n",
              "    .dataframe thead th {\n",
              "        text-align: right;\n",
              "    }\n",
              "</style>\n",
              "<table border=\"1\" class=\"dataframe\">\n",
              "  <thead>\n",
              "    <tr style=\"text-align: right;\">\n",
              "      <th></th>\n",
              "      <th>Customer</th>\n",
              "      <th>TransDate</th>\n",
              "      <th>Quantity</th>\n",
              "      <th>PurchAmount</th>\n",
              "      <th>Cost</th>\n",
              "      <th>TransID</th>\n",
              "    </tr>\n",
              "  </thead>\n",
              "  <tbody>\n",
              "    <tr>\n",
              "      <th>0</th>\n",
              "      <td>149332</td>\n",
              "      <td>2005-11-15</td>\n",
              "      <td>1</td>\n",
              "      <td>199.95</td>\n",
              "      <td>107.0</td>\n",
              "      <td>127998739</td>\n",
              "    </tr>\n",
              "    <tr>\n",
              "      <th>1</th>\n",
              "      <td>172951</td>\n",
              "      <td>2008-08-29</td>\n",
              "      <td>1</td>\n",
              "      <td>199.95</td>\n",
              "      <td>108.0</td>\n",
              "      <td>128888288</td>\n",
              "    </tr>\n",
              "    <tr>\n",
              "      <th>2</th>\n",
              "      <td>120621</td>\n",
              "      <td>2007-10-19</td>\n",
              "      <td>1</td>\n",
              "      <td>99.95</td>\n",
              "      <td>49.0</td>\n",
              "      <td>125375247</td>\n",
              "    </tr>\n",
              "    <tr>\n",
              "      <th>4</th>\n",
              "      <td>149236</td>\n",
              "      <td>2007-12-06</td>\n",
              "      <td>1</td>\n",
              "      <td>79.95</td>\n",
              "      <td>35.0</td>\n",
              "      <td>128670302</td>\n",
              "    </tr>\n",
              "  </tbody>\n",
              "</table>\n",
              "</div>"
            ],
            "text/plain": [
              "   Customer  TransDate  Quantity  PurchAmount   Cost    TransID\n",
              "0    149332 2005-11-15         1       199.95  107.0  127998739\n",
              "1    172951 2008-08-29         1       199.95  108.0  128888288\n",
              "2    120621 2007-10-19         1        99.95   49.0  125375247\n",
              "4    149236 2007-12-06         1        79.95   35.0  128670302"
            ]
          },
          "metadata": {
            "tags": []
          },
          "execution_count": 8
        }
      ]
    },
    {
      "cell_type": "markdown",
      "metadata": {
        "id": "DWH46tltBgX2"
      },
      "source": [
        "####**Slide:** Python Basics: Understand the dimensions of your DataFrame"
      ]
    },
    {
      "cell_type": "code",
      "metadata": {
        "id": "iNZ3_DrwBpfp",
        "colab": {
          "base_uri": "https://localhost:8080/",
          "height": 34
        },
        "outputId": "0129b3e4-1132-417e-84b0-4689a77c00fd"
      },
      "source": [
        "#Number of rows\n",
        "myData.shape[0]"
      ],
      "execution_count": null,
      "outputs": [
        {
          "output_type": "execute_result",
          "data": {
            "text/plain": [
              "223191"
            ]
          },
          "metadata": {
            "tags": []
          },
          "execution_count": 10
        }
      ]
    },
    {
      "cell_type": "code",
      "metadata": {
        "id": "4H8JoDtxB4tm",
        "colab": {
          "base_uri": "https://localhost:8080/",
          "height": 34
        },
        "outputId": "89bb2327-9bfa-4f17-d564-3a721576a97d"
      },
      "source": [
        "#Number of columns\n",
        "\n",
        "myData.shape[1]"
      ],
      "execution_count": null,
      "outputs": [
        {
          "output_type": "execute_result",
          "data": {
            "text/plain": [
              "6"
            ]
          },
          "metadata": {
            "tags": []
          },
          "execution_count": 11
        }
      ]
    },
    {
      "cell_type": "code",
      "metadata": {
        "id": "Pryye6GQB9Yj",
        "colab": {
          "base_uri": "https://localhost:8080/",
          "height": 34
        },
        "outputId": "9cd9c28b-af24-438e-8c9d-a09f4aa1f568"
      },
      "source": [
        "#Length of a vector\n",
        "\n",
        "len([2,3,5])\n"
      ],
      "execution_count": null,
      "outputs": [
        {
          "output_type": "execute_result",
          "data": {
            "text/plain": [
              "3"
            ]
          },
          "metadata": {
            "tags": []
          },
          "execution_count": 12
        }
      ]
    },
    {
      "cell_type": "code",
      "metadata": {
        "id": "WA5pLYIICByu",
        "colab": {
          "base_uri": "https://localhost:8080/",
          "height": 34
        },
        "outputId": "4f1107df-22a6-44bf-90c4-2034f717a2c9"
      },
      "source": [
        "#Length of string:\n",
        "len(\"hello\")\n"
      ],
      "execution_count": null,
      "outputs": [
        {
          "output_type": "execute_result",
          "data": {
            "text/plain": [
              "5"
            ]
          },
          "metadata": {
            "tags": []
          },
          "execution_count": 13
        }
      ]
    },
    {
      "cell_type": "markdown",
      "metadata": {
        "id": "K1-JHqtoBmMK"
      },
      "source": [
        "####**Slide:** Selecting rows by row numbers\n",
        " - Select the first 3 and the 5th row"
      ]
    },
    {
      "cell_type": "code",
      "metadata": {
        "id": "9ZXsdFLsCvIY",
        "colab": {
          "base_uri": "https://localhost:8080/",
          "height": 80
        },
        "outputId": "eb0b9bd3-8148-4591-81d3-eb6c7de70d65"
      },
      "source": [
        "#Variant 1\n",
        "myData.iloc[[len(myData)-1], ]"
      ],
      "execution_count": null,
      "outputs": [
        {
          "output_type": "execute_result",
          "data": {
            "text/html": [
              "<div>\n",
              "<style scoped>\n",
              "    .dataframe tbody tr th:only-of-type {\n",
              "        vertical-align: middle;\n",
              "    }\n",
              "\n",
              "    .dataframe tbody tr th {\n",
              "        vertical-align: top;\n",
              "    }\n",
              "\n",
              "    .dataframe thead th {\n",
              "        text-align: right;\n",
              "    }\n",
              "</style>\n",
              "<table border=\"1\" class=\"dataframe\">\n",
              "  <thead>\n",
              "    <tr style=\"text-align: right;\">\n",
              "      <th></th>\n",
              "      <th>Customer</th>\n",
              "      <th>TransDate</th>\n",
              "      <th>Quantity</th>\n",
              "      <th>PurchAmount</th>\n",
              "      <th>Cost</th>\n",
              "      <th>TransID</th>\n",
              "    </tr>\n",
              "  </thead>\n",
              "  <tbody>\n",
              "    <tr>\n",
              "      <th>223190</th>\n",
              "      <td>199542</td>\n",
              "      <td>2012-09-17</td>\n",
              "      <td>1</td>\n",
              "      <td>39.95</td>\n",
              "      <td>10.5</td>\n",
              "      <td>131973368</td>\n",
              "    </tr>\n",
              "  </tbody>\n",
              "</table>\n",
              "</div>"
            ],
            "text/plain": [
              "        Customer  TransDate  Quantity  PurchAmount  Cost    TransID\n",
              "223190    199542 2012-09-17         1        39.95  10.5  131973368"
            ]
          },
          "metadata": {
            "tags": []
          },
          "execution_count": 14
        }
      ]
    },
    {
      "cell_type": "code",
      "metadata": {
        "id": "Ed5_zDbfCw5L",
        "colab": {
          "base_uri": "https://localhost:8080/",
          "height": 80
        },
        "outputId": "6435e658-5082-4ae3-9d57-c4f00b1ba62b"
      },
      "source": [
        "#Variant 2\n",
        "myData.tail(1)"
      ],
      "execution_count": null,
      "outputs": [
        {
          "output_type": "execute_result",
          "data": {
            "text/html": [
              "<div>\n",
              "<style scoped>\n",
              "    .dataframe tbody tr th:only-of-type {\n",
              "        vertical-align: middle;\n",
              "    }\n",
              "\n",
              "    .dataframe tbody tr th {\n",
              "        vertical-align: top;\n",
              "    }\n",
              "\n",
              "    .dataframe thead th {\n",
              "        text-align: right;\n",
              "    }\n",
              "</style>\n",
              "<table border=\"1\" class=\"dataframe\">\n",
              "  <thead>\n",
              "    <tr style=\"text-align: right;\">\n",
              "      <th></th>\n",
              "      <th>Customer</th>\n",
              "      <th>TransDate</th>\n",
              "      <th>Quantity</th>\n",
              "      <th>PurchAmount</th>\n",
              "      <th>Cost</th>\n",
              "      <th>TransID</th>\n",
              "    </tr>\n",
              "  </thead>\n",
              "  <tbody>\n",
              "    <tr>\n",
              "      <th>223190</th>\n",
              "      <td>199542</td>\n",
              "      <td>2012-09-17</td>\n",
              "      <td>1</td>\n",
              "      <td>39.95</td>\n",
              "      <td>10.5</td>\n",
              "      <td>131973368</td>\n",
              "    </tr>\n",
              "  </tbody>\n",
              "</table>\n",
              "</div>"
            ],
            "text/plain": [
              "        Customer  TransDate  Quantity  PurchAmount  Cost    TransID\n",
              "223190    199542 2012-09-17         1        39.95  10.5  131973368"
            ]
          },
          "metadata": {
            "tags": []
          },
          "execution_count": 15
        }
      ]
    },
    {
      "cell_type": "markdown",
      "metadata": {
        "id": "97pAVdxOC9Ve"
      },
      "source": [
        "####**Slide:** Sidenote: How to sort your DataFrame"
      ]
    },
    {
      "cell_type": "code",
      "metadata": {
        "id": "tkWgvZsxDCYF",
        "colab": {
          "base_uri": "https://localhost:8080/",
          "height": 419
        },
        "outputId": "a47ec850-3d4c-4c38-8590-20d0718b718f"
      },
      "source": [
        "#To sort your DataFrame according to transaction dates (increasing) use\n",
        "\n",
        "myData.sort_values([\"TransDate\"])"
      ],
      "execution_count": null,
      "outputs": [
        {
          "output_type": "execute_result",
          "data": {
            "text/html": [
              "<div>\n",
              "<style scoped>\n",
              "    .dataframe tbody tr th:only-of-type {\n",
              "        vertical-align: middle;\n",
              "    }\n",
              "\n",
              "    .dataframe tbody tr th {\n",
              "        vertical-align: top;\n",
              "    }\n",
              "\n",
              "    .dataframe thead th {\n",
              "        text-align: right;\n",
              "    }\n",
              "</style>\n",
              "<table border=\"1\" class=\"dataframe\">\n",
              "  <thead>\n",
              "    <tr style=\"text-align: right;\">\n",
              "      <th></th>\n",
              "      <th>Customer</th>\n",
              "      <th>TransDate</th>\n",
              "      <th>Quantity</th>\n",
              "      <th>PurchAmount</th>\n",
              "      <th>Cost</th>\n",
              "      <th>TransID</th>\n",
              "    </tr>\n",
              "  </thead>\n",
              "  <tbody>\n",
              "    <tr>\n",
              "      <th>44171</th>\n",
              "      <td>100289</td>\n",
              "      <td>2004-12-16</td>\n",
              "      <td>1</td>\n",
              "      <td>21.95</td>\n",
              "      <td>10.00</td>\n",
              "      <td>124284670</td>\n",
              "    </tr>\n",
              "    <tr>\n",
              "      <th>44127</th>\n",
              "      <td>173470</td>\n",
              "      <td>2004-12-16</td>\n",
              "      <td>1</td>\n",
              "      <td>49.95</td>\n",
              "      <td>23.50</td>\n",
              "      <td>130656050</td>\n",
              "    </tr>\n",
              "    <tr>\n",
              "      <th>40883</th>\n",
              "      <td>100292</td>\n",
              "      <td>2004-12-16</td>\n",
              "      <td>1</td>\n",
              "      <td>49.95</td>\n",
              "      <td>24.00</td>\n",
              "      <td>124285052</td>\n",
              "    </tr>\n",
              "    <tr>\n",
              "      <th>11237</th>\n",
              "      <td>144478</td>\n",
              "      <td>2004-12-16</td>\n",
              "      <td>1</td>\n",
              "      <td>59.95</td>\n",
              "      <td>24.50</td>\n",
              "      <td>127833251</td>\n",
              "    </tr>\n",
              "    <tr>\n",
              "      <th>40882</th>\n",
              "      <td>100292</td>\n",
              "      <td>2004-12-16</td>\n",
              "      <td>1</td>\n",
              "      <td>59.95</td>\n",
              "      <td>27.00</td>\n",
              "      <td>124285052</td>\n",
              "    </tr>\n",
              "    <tr>\n",
              "      <th>...</th>\n",
              "      <td>...</td>\n",
              "      <td>...</td>\n",
              "      <td>...</td>\n",
              "      <td>...</td>\n",
              "      <td>...</td>\n",
              "      <td>...</td>\n",
              "    </tr>\n",
              "    <tr>\n",
              "      <th>183001</th>\n",
              "      <td>157039</td>\n",
              "      <td>2012-09-17</td>\n",
              "      <td>1</td>\n",
              "      <td>69.95</td>\n",
              "      <td>26.40</td>\n",
              "      <td>131973369</td>\n",
              "    </tr>\n",
              "    <tr>\n",
              "      <th>223189</th>\n",
              "      <td>199999</td>\n",
              "      <td>2012-09-17</td>\n",
              "      <td>1</td>\n",
              "      <td>179.95</td>\n",
              "      <td>109.99</td>\n",
              "      <td>132481165</td>\n",
              "    </tr>\n",
              "    <tr>\n",
              "      <th>177256</th>\n",
              "      <td>192254</td>\n",
              "      <td>2012-09-17</td>\n",
              "      <td>1</td>\n",
              "      <td>69.95</td>\n",
              "      <td>28.57</td>\n",
              "      <td>131973243</td>\n",
              "    </tr>\n",
              "    <tr>\n",
              "      <th>18342</th>\n",
              "      <td>187155</td>\n",
              "      <td>2012-09-17</td>\n",
              "      <td>1</td>\n",
              "      <td>79.95</td>\n",
              "      <td>32.00</td>\n",
              "      <td>130062663</td>\n",
              "    </tr>\n",
              "    <tr>\n",
              "      <th>223190</th>\n",
              "      <td>199542</td>\n",
              "      <td>2012-09-17</td>\n",
              "      <td>1</td>\n",
              "      <td>39.95</td>\n",
              "      <td>10.50</td>\n",
              "      <td>131973368</td>\n",
              "    </tr>\n",
              "  </tbody>\n",
              "</table>\n",
              "<p>223191 rows × 6 columns</p>\n",
              "</div>"
            ],
            "text/plain": [
              "        Customer  TransDate  Quantity  PurchAmount    Cost    TransID\n",
              "44171     100289 2004-12-16         1        21.95   10.00  124284670\n",
              "44127     173470 2004-12-16         1        49.95   23.50  130656050\n",
              "40883     100292 2004-12-16         1        49.95   24.00  124285052\n",
              "11237     144478 2004-12-16         1        59.95   24.50  127833251\n",
              "40882     100292 2004-12-16         1        59.95   27.00  124285052\n",
              "...          ...        ...       ...          ...     ...        ...\n",
              "183001    157039 2012-09-17         1        69.95   26.40  131973369\n",
              "223189    199999 2012-09-17         1       179.95  109.99  132481165\n",
              "177256    192254 2012-09-17         1        69.95   28.57  131973243\n",
              "18342     187155 2012-09-17         1        79.95   32.00  130062663\n",
              "223190    199542 2012-09-17         1        39.95   10.50  131973368\n",
              "\n",
              "[223191 rows x 6 columns]"
            ]
          },
          "metadata": {
            "tags": []
          },
          "execution_count": 19
        }
      ]
    },
    {
      "cell_type": "code",
      "metadata": {
        "id": "q2ikR1qbDnuB",
        "colab": {
          "base_uri": "https://localhost:8080/",
          "height": 419
        },
        "outputId": "a641a308-bc7e-40c6-b7fd-b2581d46f3c1"
      },
      "source": [
        "#Order first according to transaction dates and then according to customers\n",
        "\n",
        "myData.sort_values([\"TransDate\", \"Customer\"])\n"
      ],
      "execution_count": null,
      "outputs": [
        {
          "output_type": "execute_result",
          "data": {
            "text/html": [
              "<div>\n",
              "<style scoped>\n",
              "    .dataframe tbody tr th:only-of-type {\n",
              "        vertical-align: middle;\n",
              "    }\n",
              "\n",
              "    .dataframe tbody tr th {\n",
              "        vertical-align: top;\n",
              "    }\n",
              "\n",
              "    .dataframe thead th {\n",
              "        text-align: right;\n",
              "    }\n",
              "</style>\n",
              "<table border=\"1\" class=\"dataframe\">\n",
              "  <thead>\n",
              "    <tr style=\"text-align: right;\">\n",
              "      <th></th>\n",
              "      <th>Customer</th>\n",
              "      <th>TransDate</th>\n",
              "      <th>Quantity</th>\n",
              "      <th>PurchAmount</th>\n",
              "      <th>Cost</th>\n",
              "      <th>TransID</th>\n",
              "    </tr>\n",
              "  </thead>\n",
              "  <tbody>\n",
              "    <tr>\n",
              "      <th>33827</th>\n",
              "      <td>100287</td>\n",
              "      <td>2004-12-16</td>\n",
              "      <td>1</td>\n",
              "      <td>59.95</td>\n",
              "      <td>22.00</td>\n",
              "      <td>124284041</td>\n",
              "    </tr>\n",
              "    <tr>\n",
              "      <th>44156</th>\n",
              "      <td>100288</td>\n",
              "      <td>2004-12-16</td>\n",
              "      <td>1</td>\n",
              "      <td>99.95</td>\n",
              "      <td>49.98</td>\n",
              "      <td>124284512</td>\n",
              "    </tr>\n",
              "    <tr>\n",
              "      <th>44168</th>\n",
              "      <td>100289</td>\n",
              "      <td>2004-12-16</td>\n",
              "      <td>1</td>\n",
              "      <td>129.95</td>\n",
              "      <td>58.25</td>\n",
              "      <td>124284670</td>\n",
              "    </tr>\n",
              "    <tr>\n",
              "      <th>44169</th>\n",
              "      <td>100289</td>\n",
              "      <td>2004-12-16</td>\n",
              "      <td>1</td>\n",
              "      <td>35.95</td>\n",
              "      <td>17.50</td>\n",
              "      <td>124284670</td>\n",
              "    </tr>\n",
              "    <tr>\n",
              "      <th>44170</th>\n",
              "      <td>100289</td>\n",
              "      <td>2004-12-16</td>\n",
              "      <td>1</td>\n",
              "      <td>69.95</td>\n",
              "      <td>31.25</td>\n",
              "      <td>124284670</td>\n",
              "    </tr>\n",
              "    <tr>\n",
              "      <th>...</th>\n",
              "      <td>...</td>\n",
              "      <td>...</td>\n",
              "      <td>...</td>\n",
              "      <td>...</td>\n",
              "      <td>...</td>\n",
              "      <td>...</td>\n",
              "    </tr>\n",
              "    <tr>\n",
              "      <th>223185</th>\n",
              "      <td>199997</td>\n",
              "      <td>2012-09-17</td>\n",
              "      <td>1</td>\n",
              "      <td>29.95</td>\n",
              "      <td>13.80</td>\n",
              "      <td>132481149</td>\n",
              "    </tr>\n",
              "    <tr>\n",
              "      <th>223186</th>\n",
              "      <td>199997</td>\n",
              "      <td>2012-09-17</td>\n",
              "      <td>1</td>\n",
              "      <td>29.95</td>\n",
              "      <td>13.80</td>\n",
              "      <td>132481149</td>\n",
              "    </tr>\n",
              "    <tr>\n",
              "      <th>223187</th>\n",
              "      <td>199997</td>\n",
              "      <td>2012-09-17</td>\n",
              "      <td>1</td>\n",
              "      <td>29.95</td>\n",
              "      <td>13.80</td>\n",
              "      <td>132481149</td>\n",
              "    </tr>\n",
              "    <tr>\n",
              "      <th>223188</th>\n",
              "      <td>199998</td>\n",
              "      <td>2012-09-17</td>\n",
              "      <td>1</td>\n",
              "      <td>29.95</td>\n",
              "      <td>13.80</td>\n",
              "      <td>132481154</td>\n",
              "    </tr>\n",
              "    <tr>\n",
              "      <th>223189</th>\n",
              "      <td>199999</td>\n",
              "      <td>2012-09-17</td>\n",
              "      <td>1</td>\n",
              "      <td>179.95</td>\n",
              "      <td>109.99</td>\n",
              "      <td>132481165</td>\n",
              "    </tr>\n",
              "  </tbody>\n",
              "</table>\n",
              "<p>223191 rows × 6 columns</p>\n",
              "</div>"
            ],
            "text/plain": [
              "        Customer  TransDate  Quantity  PurchAmount    Cost    TransID\n",
              "33827     100287 2004-12-16         1        59.95   22.00  124284041\n",
              "44156     100288 2004-12-16         1        99.95   49.98  124284512\n",
              "44168     100289 2004-12-16         1       129.95   58.25  124284670\n",
              "44169     100289 2004-12-16         1        35.95   17.50  124284670\n",
              "44170     100289 2004-12-16         1        69.95   31.25  124284670\n",
              "...          ...        ...       ...          ...     ...        ...\n",
              "223185    199997 2012-09-17         1        29.95   13.80  132481149\n",
              "223186    199997 2012-09-17         1        29.95   13.80  132481149\n",
              "223187    199997 2012-09-17         1        29.95   13.80  132481149\n",
              "223188    199998 2012-09-17         1        29.95   13.80  132481154\n",
              "223189    199999 2012-09-17         1       179.95  109.99  132481165\n",
              "\n",
              "[223191 rows x 6 columns]"
            ]
          },
          "metadata": {
            "tags": []
          },
          "execution_count": 20
        }
      ]
    },
    {
      "cell_type": "code",
      "metadata": {
        "id": "k61G4BNKDxSw",
        "colab": {
          "base_uri": "https://localhost:8080/",
          "height": 419
        },
        "outputId": "a5634a82-c9e1-48ae-f189-b47e7840c4a0"
      },
      "source": [
        "#Order decreasing\n",
        "myData.sort_values([\"TransDate\", \"Customer\"], ascending=[0,0])"
      ],
      "execution_count": null,
      "outputs": [
        {
          "output_type": "execute_result",
          "data": {
            "text/html": [
              "<div>\n",
              "<style scoped>\n",
              "    .dataframe tbody tr th:only-of-type {\n",
              "        vertical-align: middle;\n",
              "    }\n",
              "\n",
              "    .dataframe tbody tr th {\n",
              "        vertical-align: top;\n",
              "    }\n",
              "\n",
              "    .dataframe thead th {\n",
              "        text-align: right;\n",
              "    }\n",
              "</style>\n",
              "<table border=\"1\" class=\"dataframe\">\n",
              "  <thead>\n",
              "    <tr style=\"text-align: right;\">\n",
              "      <th></th>\n",
              "      <th>Customer</th>\n",
              "      <th>TransDate</th>\n",
              "      <th>Quantity</th>\n",
              "      <th>PurchAmount</th>\n",
              "      <th>Cost</th>\n",
              "      <th>TransID</th>\n",
              "    </tr>\n",
              "  </thead>\n",
              "  <tbody>\n",
              "    <tr>\n",
              "      <th>223189</th>\n",
              "      <td>199999</td>\n",
              "      <td>2012-09-17</td>\n",
              "      <td>1</td>\n",
              "      <td>179.95</td>\n",
              "      <td>109.99</td>\n",
              "      <td>132481165</td>\n",
              "    </tr>\n",
              "    <tr>\n",
              "      <th>223188</th>\n",
              "      <td>199998</td>\n",
              "      <td>2012-09-17</td>\n",
              "      <td>1</td>\n",
              "      <td>29.95</td>\n",
              "      <td>13.80</td>\n",
              "      <td>132481154</td>\n",
              "    </tr>\n",
              "    <tr>\n",
              "      <th>223182</th>\n",
              "      <td>199997</td>\n",
              "      <td>2012-09-17</td>\n",
              "      <td>1</td>\n",
              "      <td>29.95</td>\n",
              "      <td>13.80</td>\n",
              "      <td>132481149</td>\n",
              "    </tr>\n",
              "    <tr>\n",
              "      <th>223183</th>\n",
              "      <td>199997</td>\n",
              "      <td>2012-09-17</td>\n",
              "      <td>1</td>\n",
              "      <td>29.95</td>\n",
              "      <td>13.80</td>\n",
              "      <td>132481149</td>\n",
              "    </tr>\n",
              "    <tr>\n",
              "      <th>223184</th>\n",
              "      <td>199997</td>\n",
              "      <td>2012-09-17</td>\n",
              "      <td>1</td>\n",
              "      <td>29.95</td>\n",
              "      <td>13.80</td>\n",
              "      <td>132481149</td>\n",
              "    </tr>\n",
              "    <tr>\n",
              "      <th>...</th>\n",
              "      <td>...</td>\n",
              "      <td>...</td>\n",
              "      <td>...</td>\n",
              "      <td>...</td>\n",
              "      <td>...</td>\n",
              "      <td>...</td>\n",
              "    </tr>\n",
              "    <tr>\n",
              "      <th>44169</th>\n",
              "      <td>100289</td>\n",
              "      <td>2004-12-16</td>\n",
              "      <td>1</td>\n",
              "      <td>35.95</td>\n",
              "      <td>17.50</td>\n",
              "      <td>124284670</td>\n",
              "    </tr>\n",
              "    <tr>\n",
              "      <th>44170</th>\n",
              "      <td>100289</td>\n",
              "      <td>2004-12-16</td>\n",
              "      <td>1</td>\n",
              "      <td>69.95</td>\n",
              "      <td>31.25</td>\n",
              "      <td>124284670</td>\n",
              "    </tr>\n",
              "    <tr>\n",
              "      <th>44171</th>\n",
              "      <td>100289</td>\n",
              "      <td>2004-12-16</td>\n",
              "      <td>1</td>\n",
              "      <td>21.95</td>\n",
              "      <td>10.00</td>\n",
              "      <td>124284670</td>\n",
              "    </tr>\n",
              "    <tr>\n",
              "      <th>44156</th>\n",
              "      <td>100288</td>\n",
              "      <td>2004-12-16</td>\n",
              "      <td>1</td>\n",
              "      <td>99.95</td>\n",
              "      <td>49.98</td>\n",
              "      <td>124284512</td>\n",
              "    </tr>\n",
              "    <tr>\n",
              "      <th>33827</th>\n",
              "      <td>100287</td>\n",
              "      <td>2004-12-16</td>\n",
              "      <td>1</td>\n",
              "      <td>59.95</td>\n",
              "      <td>22.00</td>\n",
              "      <td>124284041</td>\n",
              "    </tr>\n",
              "  </tbody>\n",
              "</table>\n",
              "<p>223191 rows × 6 columns</p>\n",
              "</div>"
            ],
            "text/plain": [
              "        Customer  TransDate  Quantity  PurchAmount    Cost    TransID\n",
              "223189    199999 2012-09-17         1       179.95  109.99  132481165\n",
              "223188    199998 2012-09-17         1        29.95   13.80  132481154\n",
              "223182    199997 2012-09-17         1        29.95   13.80  132481149\n",
              "223183    199997 2012-09-17         1        29.95   13.80  132481149\n",
              "223184    199997 2012-09-17         1        29.95   13.80  132481149\n",
              "...          ...        ...       ...          ...     ...        ...\n",
              "44169     100289 2004-12-16         1        35.95   17.50  124284670\n",
              "44170     100289 2004-12-16         1        69.95   31.25  124284670\n",
              "44171     100289 2004-12-16         1        21.95   10.00  124284670\n",
              "44156     100288 2004-12-16         1        99.95   49.98  124284512\n",
              "33827     100287 2004-12-16         1        59.95   22.00  124284041\n",
              "\n",
              "[223191 rows x 6 columns]"
            ]
          },
          "metadata": {
            "tags": []
          },
          "execution_count": 21
        }
      ]
    },
    {
      "cell_type": "markdown",
      "metadata": {
        "id": "EHUu_-FZD7V-"
      },
      "source": [
        "####**Slide:** Selecting rows by condition\n",
        " - Identify transactions greater than $100"
      ]
    },
    {
      "cell_type": "code",
      "metadata": {
        "id": "kzguqoAwD_PK",
        "colab": {
          "base_uri": "https://localhost:8080/",
          "height": 419
        },
        "outputId": "2208e3b6-48b4-48d0-86e2-1736564c49de"
      },
      "source": [
        "myData.loc[myData[\"PurchAmount\"] > 100, ]"
      ],
      "execution_count": null,
      "outputs": [
        {
          "output_type": "execute_result",
          "data": {
            "text/html": [
              "<div>\n",
              "<style scoped>\n",
              "    .dataframe tbody tr th:only-of-type {\n",
              "        vertical-align: middle;\n",
              "    }\n",
              "\n",
              "    .dataframe tbody tr th {\n",
              "        vertical-align: top;\n",
              "    }\n",
              "\n",
              "    .dataframe thead th {\n",
              "        text-align: right;\n",
              "    }\n",
              "</style>\n",
              "<table border=\"1\" class=\"dataframe\">\n",
              "  <thead>\n",
              "    <tr style=\"text-align: right;\">\n",
              "      <th></th>\n",
              "      <th>Customer</th>\n",
              "      <th>TransDate</th>\n",
              "      <th>Quantity</th>\n",
              "      <th>PurchAmount</th>\n",
              "      <th>Cost</th>\n",
              "      <th>TransID</th>\n",
              "    </tr>\n",
              "  </thead>\n",
              "  <tbody>\n",
              "    <tr>\n",
              "      <th>0</th>\n",
              "      <td>149332</td>\n",
              "      <td>2005-11-15</td>\n",
              "      <td>1</td>\n",
              "      <td>199.95</td>\n",
              "      <td>107.00</td>\n",
              "      <td>127998739</td>\n",
              "    </tr>\n",
              "    <tr>\n",
              "      <th>1</th>\n",
              "      <td>172951</td>\n",
              "      <td>2008-08-29</td>\n",
              "      <td>1</td>\n",
              "      <td>199.95</td>\n",
              "      <td>108.00</td>\n",
              "      <td>128888288</td>\n",
              "    </tr>\n",
              "    <tr>\n",
              "      <th>5</th>\n",
              "      <td>140729</td>\n",
              "      <td>2009-11-19</td>\n",
              "      <td>1</td>\n",
              "      <td>129.95</td>\n",
              "      <td>59.00</td>\n",
              "      <td>127637750</td>\n",
              "    </tr>\n",
              "    <tr>\n",
              "      <th>11</th>\n",
              "      <td>180970</td>\n",
              "      <td>2009-06-19</td>\n",
              "      <td>1</td>\n",
              "      <td>119.95</td>\n",
              "      <td>58.46</td>\n",
              "      <td>129195647</td>\n",
              "    </tr>\n",
              "    <tr>\n",
              "      <th>17</th>\n",
              "      <td>182927</td>\n",
              "      <td>2009-11-02</td>\n",
              "      <td>1</td>\n",
              "      <td>129.95</td>\n",
              "      <td>63.08</td>\n",
              "      <td>129290963</td>\n",
              "    </tr>\n",
              "    <tr>\n",
              "      <th>...</th>\n",
              "      <td>...</td>\n",
              "      <td>...</td>\n",
              "      <td>...</td>\n",
              "      <td>...</td>\n",
              "      <td>...</td>\n",
              "      <td>...</td>\n",
              "    </tr>\n",
              "    <tr>\n",
              "      <th>223164</th>\n",
              "      <td>199539</td>\n",
              "      <td>2012-09-16</td>\n",
              "      <td>1</td>\n",
              "      <td>119.95</td>\n",
              "      <td>40.25</td>\n",
              "      <td>131972445</td>\n",
              "    </tr>\n",
              "    <tr>\n",
              "      <th>223166</th>\n",
              "      <td>186343</td>\n",
              "      <td>2012-09-16</td>\n",
              "      <td>1</td>\n",
              "      <td>129.95</td>\n",
              "      <td>63.00</td>\n",
              "      <td>129599231</td>\n",
              "    </tr>\n",
              "    <tr>\n",
              "      <th>223167</th>\n",
              "      <td>186344</td>\n",
              "      <td>2012-09-16</td>\n",
              "      <td>1</td>\n",
              "      <td>149.95</td>\n",
              "      <td>54.50</td>\n",
              "      <td>129599281</td>\n",
              "    </tr>\n",
              "    <tr>\n",
              "      <th>223176</th>\n",
              "      <td>199996</td>\n",
              "      <td>2012-09-17</td>\n",
              "      <td>1</td>\n",
              "      <td>179.95</td>\n",
              "      <td>104.99</td>\n",
              "      <td>132481133</td>\n",
              "    </tr>\n",
              "    <tr>\n",
              "      <th>223189</th>\n",
              "      <td>199999</td>\n",
              "      <td>2012-09-17</td>\n",
              "      <td>1</td>\n",
              "      <td>179.95</td>\n",
              "      <td>109.99</td>\n",
              "      <td>132481165</td>\n",
              "    </tr>\n",
              "  </tbody>\n",
              "</table>\n",
              "<p>46292 rows × 6 columns</p>\n",
              "</div>"
            ],
            "text/plain": [
              "        Customer  TransDate  Quantity  PurchAmount    Cost    TransID\n",
              "0         149332 2005-11-15         1       199.95  107.00  127998739\n",
              "1         172951 2008-08-29         1       199.95  108.00  128888288\n",
              "5         140729 2009-11-19         1       129.95   59.00  127637750\n",
              "11        180970 2009-06-19         1       119.95   58.46  129195647\n",
              "17        182927 2009-11-02         1       129.95   63.08  129290963\n",
              "...          ...        ...       ...          ...     ...        ...\n",
              "223164    199539 2012-09-16         1       119.95   40.25  131972445\n",
              "223166    186343 2012-09-16         1       129.95   63.00  129599231\n",
              "223167    186344 2012-09-16         1       149.95   54.50  129599281\n",
              "223176    199996 2012-09-17         1       179.95  104.99  132481133\n",
              "223189    199999 2012-09-17         1       179.95  109.99  132481165\n",
              "\n",
              "[46292 rows x 6 columns]"
            ]
          },
          "metadata": {
            "tags": []
          },
          "execution_count": 22
        }
      ]
    },
    {
      "cell_type": "markdown",
      "metadata": {
        "id": "zLsT4btwEHmQ"
      },
      "source": [
        "####**Slide:** Selecting rows by condition\n",
        " - Select the transactions of a single customer"
      ]
    },
    {
      "cell_type": "code",
      "metadata": {
        "id": "PHSZ5g-ZEOYU",
        "colab": {
          "base_uri": "https://localhost:8080/",
          "height": 142
        },
        "outputId": "db6fed5e-333b-48e7-e463-76925107850d"
      },
      "source": [
        "myData.loc[myData[\"Customer\"] == 149332, ]"
      ],
      "execution_count": null,
      "outputs": [
        {
          "output_type": "execute_result",
          "data": {
            "text/html": [
              "<div>\n",
              "<style scoped>\n",
              "    .dataframe tbody tr th:only-of-type {\n",
              "        vertical-align: middle;\n",
              "    }\n",
              "\n",
              "    .dataframe tbody tr th {\n",
              "        vertical-align: top;\n",
              "    }\n",
              "\n",
              "    .dataframe thead th {\n",
              "        text-align: right;\n",
              "    }\n",
              "</style>\n",
              "<table border=\"1\" class=\"dataframe\">\n",
              "  <thead>\n",
              "    <tr style=\"text-align: right;\">\n",
              "      <th></th>\n",
              "      <th>Customer</th>\n",
              "      <th>TransDate</th>\n",
              "      <th>Quantity</th>\n",
              "      <th>PurchAmount</th>\n",
              "      <th>Cost</th>\n",
              "      <th>TransID</th>\n",
              "    </tr>\n",
              "  </thead>\n",
              "  <tbody>\n",
              "    <tr>\n",
              "      <th>0</th>\n",
              "      <td>149332</td>\n",
              "      <td>2005-11-15</td>\n",
              "      <td>1</td>\n",
              "      <td>199.95</td>\n",
              "      <td>107.00</td>\n",
              "      <td>127998739</td>\n",
              "    </tr>\n",
              "    <tr>\n",
              "      <th>13</th>\n",
              "      <td>149332</td>\n",
              "      <td>2005-12-13</td>\n",
              "      <td>1</td>\n",
              "      <td>49.95</td>\n",
              "      <td>24.87</td>\n",
              "      <td>129878743</td>\n",
              "    </tr>\n",
              "    <tr>\n",
              "      <th>14</th>\n",
              "      <td>149332</td>\n",
              "      <td>2006-05-10</td>\n",
              "      <td>1</td>\n",
              "      <td>24.95</td>\n",
              "      <td>12.50</td>\n",
              "      <td>129883508</td>\n",
              "    </tr>\n",
              "  </tbody>\n",
              "</table>\n",
              "</div>"
            ],
            "text/plain": [
              "    Customer  TransDate  Quantity  PurchAmount    Cost    TransID\n",
              "0     149332 2005-11-15         1       199.95  107.00  127998739\n",
              "13    149332 2005-12-13         1        49.95   24.87  129878743\n",
              "14    149332 2006-05-10         1        24.95   12.50  129883508"
            ]
          },
          "metadata": {
            "tags": []
          },
          "execution_count": 23
        }
      ]
    },
    {
      "cell_type": "markdown",
      "metadata": {
        "id": "87qcIOsVEN71"
      },
      "source": [
        "####**Slide:** Selecting rows by condition\n",
        "Select the transactions of multiple customers"
      ]
    },
    {
      "cell_type": "code",
      "metadata": {
        "id": "upTSMwKSEXpb",
        "colab": {
          "base_uri": "https://localhost:8080/",
          "height": 266
        },
        "outputId": "e50267eb-f1fb-4035-a778-a38cb61412ec"
      },
      "source": [
        "myData.loc[myData[\"Customer\"].isin([149332, 172951]), ]"
      ],
      "execution_count": null,
      "outputs": [
        {
          "output_type": "execute_result",
          "data": {
            "text/html": [
              "<div>\n",
              "<style scoped>\n",
              "    .dataframe tbody tr th:only-of-type {\n",
              "        vertical-align: middle;\n",
              "    }\n",
              "\n",
              "    .dataframe tbody tr th {\n",
              "        vertical-align: top;\n",
              "    }\n",
              "\n",
              "    .dataframe thead th {\n",
              "        text-align: right;\n",
              "    }\n",
              "</style>\n",
              "<table border=\"1\" class=\"dataframe\">\n",
              "  <thead>\n",
              "    <tr style=\"text-align: right;\">\n",
              "      <th></th>\n",
              "      <th>Customer</th>\n",
              "      <th>TransDate</th>\n",
              "      <th>Quantity</th>\n",
              "      <th>PurchAmount</th>\n",
              "      <th>Cost</th>\n",
              "      <th>TransID</th>\n",
              "    </tr>\n",
              "  </thead>\n",
              "  <tbody>\n",
              "    <tr>\n",
              "      <th>0</th>\n",
              "      <td>149332</td>\n",
              "      <td>2005-11-15</td>\n",
              "      <td>1</td>\n",
              "      <td>199.95</td>\n",
              "      <td>107.00</td>\n",
              "      <td>127998739</td>\n",
              "    </tr>\n",
              "    <tr>\n",
              "      <th>1</th>\n",
              "      <td>172951</td>\n",
              "      <td>2008-08-29</td>\n",
              "      <td>1</td>\n",
              "      <td>199.95</td>\n",
              "      <td>108.00</td>\n",
              "      <td>128888288</td>\n",
              "    </tr>\n",
              "    <tr>\n",
              "      <th>13</th>\n",
              "      <td>149332</td>\n",
              "      <td>2005-12-13</td>\n",
              "      <td>1</td>\n",
              "      <td>49.95</td>\n",
              "      <td>24.87</td>\n",
              "      <td>129878743</td>\n",
              "    </tr>\n",
              "    <tr>\n",
              "      <th>14</th>\n",
              "      <td>149332</td>\n",
              "      <td>2006-05-10</td>\n",
              "      <td>1</td>\n",
              "      <td>24.95</td>\n",
              "      <td>12.50</td>\n",
              "      <td>129883508</td>\n",
              "    </tr>\n",
              "    <tr>\n",
              "      <th>22</th>\n",
              "      <td>172951</td>\n",
              "      <td>2008-08-29</td>\n",
              "      <td>1</td>\n",
              "      <td>249.95</td>\n",
              "      <td>162.50</td>\n",
              "      <td>128888288</td>\n",
              "    </tr>\n",
              "    <tr>\n",
              "      <th>23</th>\n",
              "      <td>172951</td>\n",
              "      <td>2008-08-29</td>\n",
              "      <td>1</td>\n",
              "      <td>349.95</td>\n",
              "      <td>187.50</td>\n",
              "      <td>128888288</td>\n",
              "    </tr>\n",
              "    <tr>\n",
              "      <th>24</th>\n",
              "      <td>172951</td>\n",
              "      <td>2009-01-28</td>\n",
              "      <td>1</td>\n",
              "      <td>89.95</td>\n",
              "      <td>44.98</td>\n",
              "      <td>129113804</td>\n",
              "    </tr>\n",
              "  </tbody>\n",
              "</table>\n",
              "</div>"
            ],
            "text/plain": [
              "    Customer  TransDate  Quantity  PurchAmount    Cost    TransID\n",
              "0     149332 2005-11-15         1       199.95  107.00  127998739\n",
              "1     172951 2008-08-29         1       199.95  108.00  128888288\n",
              "13    149332 2005-12-13         1        49.95   24.87  129878743\n",
              "14    149332 2006-05-10         1        24.95   12.50  129883508\n",
              "22    172951 2008-08-29         1       249.95  162.50  128888288\n",
              "23    172951 2008-08-29         1       349.95  187.50  128888288\n",
              "24    172951 2009-01-28         1        89.95   44.98  129113804"
            ]
          },
          "metadata": {
            "tags": []
          },
          "execution_count": 24
        }
      ]
    },
    {
      "cell_type": "markdown",
      "metadata": {
        "id": "K9QEsP40E5fD"
      },
      "source": [
        "####**Slide**: Tilde operator (~) precedes an index vector to negate the condition"
      ]
    },
    {
      "cell_type": "code",
      "metadata": {
        "id": "ix-iQya0E5LP",
        "colab": {
          "base_uri": "https://localhost:8080/",
          "height": 419
        },
        "outputId": "21a0091c-b108-428d-e26d-823e3c0b8cca"
      },
      "source": [
        "myData.loc[~ myData[\"Customer\"].isin([149332, 172951]), ]"
      ],
      "execution_count": null,
      "outputs": [
        {
          "output_type": "execute_result",
          "data": {
            "text/html": [
              "<div>\n",
              "<style scoped>\n",
              "    .dataframe tbody tr th:only-of-type {\n",
              "        vertical-align: middle;\n",
              "    }\n",
              "\n",
              "    .dataframe tbody tr th {\n",
              "        vertical-align: top;\n",
              "    }\n",
              "\n",
              "    .dataframe thead th {\n",
              "        text-align: right;\n",
              "    }\n",
              "</style>\n",
              "<table border=\"1\" class=\"dataframe\">\n",
              "  <thead>\n",
              "    <tr style=\"text-align: right;\">\n",
              "      <th></th>\n",
              "      <th>Customer</th>\n",
              "      <th>TransDate</th>\n",
              "      <th>Quantity</th>\n",
              "      <th>PurchAmount</th>\n",
              "      <th>Cost</th>\n",
              "      <th>TransID</th>\n",
              "    </tr>\n",
              "  </thead>\n",
              "  <tbody>\n",
              "    <tr>\n",
              "      <th>2</th>\n",
              "      <td>120621</td>\n",
              "      <td>2007-10-19</td>\n",
              "      <td>1</td>\n",
              "      <td>99.95</td>\n",
              "      <td>49.00</td>\n",
              "      <td>125375247</td>\n",
              "    </tr>\n",
              "    <tr>\n",
              "      <th>3</th>\n",
              "      <td>149236</td>\n",
              "      <td>2005-11-14</td>\n",
              "      <td>1</td>\n",
              "      <td>39.95</td>\n",
              "      <td>18.95</td>\n",
              "      <td>127996226</td>\n",
              "    </tr>\n",
              "    <tr>\n",
              "      <th>4</th>\n",
              "      <td>149236</td>\n",
              "      <td>2007-12-06</td>\n",
              "      <td>1</td>\n",
              "      <td>79.95</td>\n",
              "      <td>35.00</td>\n",
              "      <td>128670302</td>\n",
              "    </tr>\n",
              "    <tr>\n",
              "      <th>5</th>\n",
              "      <td>140729</td>\n",
              "      <td>2009-11-19</td>\n",
              "      <td>1</td>\n",
              "      <td>129.95</td>\n",
              "      <td>59.00</td>\n",
              "      <td>127637750</td>\n",
              "    </tr>\n",
              "    <tr>\n",
              "      <th>6</th>\n",
              "      <td>140729</td>\n",
              "      <td>2009-11-19</td>\n",
              "      <td>1</td>\n",
              "      <td>79.95</td>\n",
              "      <td>39.18</td>\n",
              "      <td>127637750</td>\n",
              "    </tr>\n",
              "    <tr>\n",
              "      <th>...</th>\n",
              "      <td>...</td>\n",
              "      <td>...</td>\n",
              "      <td>...</td>\n",
              "      <td>...</td>\n",
              "      <td>...</td>\n",
              "      <td>...</td>\n",
              "    </tr>\n",
              "    <tr>\n",
              "      <th>223186</th>\n",
              "      <td>199997</td>\n",
              "      <td>2012-09-17</td>\n",
              "      <td>1</td>\n",
              "      <td>29.95</td>\n",
              "      <td>13.80</td>\n",
              "      <td>132481149</td>\n",
              "    </tr>\n",
              "    <tr>\n",
              "      <th>223187</th>\n",
              "      <td>199997</td>\n",
              "      <td>2012-09-17</td>\n",
              "      <td>1</td>\n",
              "      <td>29.95</td>\n",
              "      <td>13.80</td>\n",
              "      <td>132481149</td>\n",
              "    </tr>\n",
              "    <tr>\n",
              "      <th>223188</th>\n",
              "      <td>199998</td>\n",
              "      <td>2012-09-17</td>\n",
              "      <td>1</td>\n",
              "      <td>29.95</td>\n",
              "      <td>13.80</td>\n",
              "      <td>132481154</td>\n",
              "    </tr>\n",
              "    <tr>\n",
              "      <th>223189</th>\n",
              "      <td>199999</td>\n",
              "      <td>2012-09-17</td>\n",
              "      <td>1</td>\n",
              "      <td>179.95</td>\n",
              "      <td>109.99</td>\n",
              "      <td>132481165</td>\n",
              "    </tr>\n",
              "    <tr>\n",
              "      <th>223190</th>\n",
              "      <td>199542</td>\n",
              "      <td>2012-09-17</td>\n",
              "      <td>1</td>\n",
              "      <td>39.95</td>\n",
              "      <td>10.50</td>\n",
              "      <td>131973368</td>\n",
              "    </tr>\n",
              "  </tbody>\n",
              "</table>\n",
              "<p>223184 rows × 6 columns</p>\n",
              "</div>"
            ],
            "text/plain": [
              "        Customer  TransDate  Quantity  PurchAmount    Cost    TransID\n",
              "2         120621 2007-10-19         1        99.95   49.00  125375247\n",
              "3         149236 2005-11-14         1        39.95   18.95  127996226\n",
              "4         149236 2007-12-06         1        79.95   35.00  128670302\n",
              "5         140729 2009-11-19         1       129.95   59.00  127637750\n",
              "6         140729 2009-11-19         1        79.95   39.18  127637750\n",
              "...          ...        ...       ...          ...     ...        ...\n",
              "223186    199997 2012-09-17         1        29.95   13.80  132481149\n",
              "223187    199997 2012-09-17         1        29.95   13.80  132481149\n",
              "223188    199998 2012-09-17         1        29.95   13.80  132481154\n",
              "223189    199999 2012-09-17         1       179.95  109.99  132481165\n",
              "223190    199542 2012-09-17         1        39.95   10.50  131973368\n",
              "\n",
              "[223184 rows x 6 columns]"
            ]
          },
          "metadata": {
            "tags": []
          },
          "execution_count": 25
        }
      ]
    },
    {
      "cell_type": "markdown",
      "metadata": {
        "id": "UYz_esBxFqBU"
      },
      "source": [
        "####**Slide:** Combining conditions"
      ]
    },
    {
      "cell_type": "code",
      "metadata": {
        "id": "q28-xroiFuzS",
        "colab": {
          "base_uri": "https://localhost:8080/",
          "height": 419
        },
        "outputId": "dbb39ae7-c9dd-474b-aa27-b5c0680c8a9d"
      },
      "source": [
        "myData.loc[(myData[\"TransDate\"]>\n",
        "\tpd.to_datetime(\"2007-10-24\")) & (myData[\"PurchAmount\"]>100), ]"
      ],
      "execution_count": null,
      "outputs": [
        {
          "output_type": "execute_result",
          "data": {
            "text/html": [
              "<div>\n",
              "<style scoped>\n",
              "    .dataframe tbody tr th:only-of-type {\n",
              "        vertical-align: middle;\n",
              "    }\n",
              "\n",
              "    .dataframe tbody tr th {\n",
              "        vertical-align: top;\n",
              "    }\n",
              "\n",
              "    .dataframe thead th {\n",
              "        text-align: right;\n",
              "    }\n",
              "</style>\n",
              "<table border=\"1\" class=\"dataframe\">\n",
              "  <thead>\n",
              "    <tr style=\"text-align: right;\">\n",
              "      <th></th>\n",
              "      <th>Customer</th>\n",
              "      <th>TransDate</th>\n",
              "      <th>Quantity</th>\n",
              "      <th>PurchAmount</th>\n",
              "      <th>Cost</th>\n",
              "      <th>TransID</th>\n",
              "    </tr>\n",
              "  </thead>\n",
              "  <tbody>\n",
              "    <tr>\n",
              "      <th>1</th>\n",
              "      <td>172951</td>\n",
              "      <td>2008-08-29</td>\n",
              "      <td>1</td>\n",
              "      <td>199.95</td>\n",
              "      <td>108.00</td>\n",
              "      <td>128888288</td>\n",
              "    </tr>\n",
              "    <tr>\n",
              "      <th>5</th>\n",
              "      <td>140729</td>\n",
              "      <td>2009-11-19</td>\n",
              "      <td>1</td>\n",
              "      <td>129.95</td>\n",
              "      <td>59.00</td>\n",
              "      <td>127637750</td>\n",
              "    </tr>\n",
              "    <tr>\n",
              "      <th>11</th>\n",
              "      <td>180970</td>\n",
              "      <td>2009-06-19</td>\n",
              "      <td>1</td>\n",
              "      <td>119.95</td>\n",
              "      <td>58.46</td>\n",
              "      <td>129195647</td>\n",
              "    </tr>\n",
              "    <tr>\n",
              "      <th>17</th>\n",
              "      <td>182927</td>\n",
              "      <td>2009-11-02</td>\n",
              "      <td>1</td>\n",
              "      <td>129.95</td>\n",
              "      <td>63.08</td>\n",
              "      <td>129290963</td>\n",
              "    </tr>\n",
              "    <tr>\n",
              "      <th>22</th>\n",
              "      <td>172951</td>\n",
              "      <td>2008-08-29</td>\n",
              "      <td>1</td>\n",
              "      <td>249.95</td>\n",
              "      <td>162.50</td>\n",
              "      <td>128888288</td>\n",
              "    </tr>\n",
              "    <tr>\n",
              "      <th>...</th>\n",
              "      <td>...</td>\n",
              "      <td>...</td>\n",
              "      <td>...</td>\n",
              "      <td>...</td>\n",
              "      <td>...</td>\n",
              "      <td>...</td>\n",
              "    </tr>\n",
              "    <tr>\n",
              "      <th>223164</th>\n",
              "      <td>199539</td>\n",
              "      <td>2012-09-16</td>\n",
              "      <td>1</td>\n",
              "      <td>119.95</td>\n",
              "      <td>40.25</td>\n",
              "      <td>131972445</td>\n",
              "    </tr>\n",
              "    <tr>\n",
              "      <th>223166</th>\n",
              "      <td>186343</td>\n",
              "      <td>2012-09-16</td>\n",
              "      <td>1</td>\n",
              "      <td>129.95</td>\n",
              "      <td>63.00</td>\n",
              "      <td>129599231</td>\n",
              "    </tr>\n",
              "    <tr>\n",
              "      <th>223167</th>\n",
              "      <td>186344</td>\n",
              "      <td>2012-09-16</td>\n",
              "      <td>1</td>\n",
              "      <td>149.95</td>\n",
              "      <td>54.50</td>\n",
              "      <td>129599281</td>\n",
              "    </tr>\n",
              "    <tr>\n",
              "      <th>223176</th>\n",
              "      <td>199996</td>\n",
              "      <td>2012-09-17</td>\n",
              "      <td>1</td>\n",
              "      <td>179.95</td>\n",
              "      <td>104.99</td>\n",
              "      <td>132481133</td>\n",
              "    </tr>\n",
              "    <tr>\n",
              "      <th>223189</th>\n",
              "      <td>199999</td>\n",
              "      <td>2012-09-17</td>\n",
              "      <td>1</td>\n",
              "      <td>179.95</td>\n",
              "      <td>109.99</td>\n",
              "      <td>132481165</td>\n",
              "    </tr>\n",
              "  </tbody>\n",
              "</table>\n",
              "<p>33617 rows × 6 columns</p>\n",
              "</div>"
            ],
            "text/plain": [
              "        Customer  TransDate  Quantity  PurchAmount    Cost    TransID\n",
              "1         172951 2008-08-29         1       199.95  108.00  128888288\n",
              "5         140729 2009-11-19         1       129.95   59.00  127637750\n",
              "11        180970 2009-06-19         1       119.95   58.46  129195647\n",
              "17        182927 2009-11-02         1       129.95   63.08  129290963\n",
              "22        172951 2008-08-29         1       249.95  162.50  128888288\n",
              "...          ...        ...       ...          ...     ...        ...\n",
              "223164    199539 2012-09-16         1       119.95   40.25  131972445\n",
              "223166    186343 2012-09-16         1       129.95   63.00  129599231\n",
              "223167    186344 2012-09-16         1       149.95   54.50  129599281\n",
              "223176    199996 2012-09-17         1       179.95  104.99  132481133\n",
              "223189    199999 2012-09-17         1       179.95  109.99  132481165\n",
              "\n",
              "[33617 rows x 6 columns]"
            ]
          },
          "metadata": {
            "tags": []
          },
          "execution_count": 26
        }
      ]
    },
    {
      "cell_type": "markdown",
      "metadata": {
        "id": "gyxmKI58GJMh"
      },
      "source": [
        "###18 - Selecting columns"
      ]
    },
    {
      "cell_type": "markdown",
      "metadata": {
        "id": "Y0JNaDrbGKmM"
      },
      "source": [
        "####**Slide:** Select a single column by column name/number (1/2)"
      ]
    },
    {
      "cell_type": "code",
      "metadata": {
        "id": "-Cchunn9GY_l",
        "colab": {
          "base_uri": "https://localhost:8080/",
          "height": 221
        },
        "outputId": "af9d0251-f1ef-4380-e1ab-e99203d49e08"
      },
      "source": [
        "#by name\n",
        "myData.loc[ : , \"TransDate\"]\n"
      ],
      "execution_count": null,
      "outputs": [
        {
          "output_type": "execute_result",
          "data": {
            "text/plain": [
              "0        2005-11-15\n",
              "1        2008-08-29\n",
              "2        2007-10-19\n",
              "3        2005-11-14\n",
              "4        2007-12-06\n",
              "            ...    \n",
              "223186   2012-09-17\n",
              "223187   2012-09-17\n",
              "223188   2012-09-17\n",
              "223189   2012-09-17\n",
              "223190   2012-09-17\n",
              "Name: TransDate, Length: 223191, dtype: datetime64[ns]"
            ]
          },
          "metadata": {
            "tags": []
          },
          "execution_count": 27
        }
      ]
    },
    {
      "cell_type": "code",
      "metadata": {
        "id": "QfAb48f8GaAR",
        "colab": {
          "base_uri": "https://localhost:8080/",
          "height": 221
        },
        "outputId": "1604340f-5472-4b51-9902-bc8c668b0395"
      },
      "source": [
        "#by number\n",
        "myData.iloc[ : , 1]\n"
      ],
      "execution_count": null,
      "outputs": [
        {
          "output_type": "execute_result",
          "data": {
            "text/plain": [
              "0        2005-11-15\n",
              "1        2008-08-29\n",
              "2        2007-10-19\n",
              "3        2005-11-14\n",
              "4        2007-12-06\n",
              "            ...    \n",
              "223186   2012-09-17\n",
              "223187   2012-09-17\n",
              "223188   2012-09-17\n",
              "223189   2012-09-17\n",
              "223190   2012-09-17\n",
              "Name: TransDate, Length: 223191, dtype: datetime64[ns]"
            ]
          },
          "metadata": {
            "tags": []
          },
          "execution_count": 28
        }
      ]
    },
    {
      "cell_type": "code",
      "metadata": {
        "id": "j4kBYLiCGabk",
        "colab": {
          "base_uri": "https://localhost:8080/",
          "height": 221
        },
        "outputId": "2eb5369e-88e6-4c6c-dfc1-c755ab52d98a"
      },
      "source": [
        "#by name (for lazy people)\n",
        "myData[\"TransDate\"]"
      ],
      "execution_count": null,
      "outputs": [
        {
          "output_type": "execute_result",
          "data": {
            "text/plain": [
              "0        2005-11-15\n",
              "1        2008-08-29\n",
              "2        2007-10-19\n",
              "3        2005-11-14\n",
              "4        2007-12-06\n",
              "            ...    \n",
              "223186   2012-09-17\n",
              "223187   2012-09-17\n",
              "223188   2012-09-17\n",
              "223189   2012-09-17\n",
              "223190   2012-09-17\n",
              "Name: TransDate, Length: 223191, dtype: datetime64[ns]"
            ]
          },
          "metadata": {
            "tags": []
          },
          "execution_count": 29
        }
      ]
    },
    {
      "cell_type": "markdown",
      "metadata": {
        "id": "3r5JpVkTGqWk"
      },
      "source": [
        "####**Slide:** Select a single column by column name/number (2/2)"
      ]
    },
    {
      "cell_type": "code",
      "metadata": {
        "id": "JapTSpdmG1h1",
        "colab": {
          "base_uri": "https://localhost:8080/",
          "height": 85
        },
        "outputId": "fa798419-1403-4d0e-e71d-d050503953de"
      },
      "source": [
        "#by name (compare the output to the previous slide!)\n",
        "myData.loc[ : , \"TransDate\"].values"
      ],
      "execution_count": null,
      "outputs": [
        {
          "output_type": "execute_result",
          "data": {
            "text/plain": [
              "array(['2005-11-15T00:00:00.000000000', '2008-08-29T00:00:00.000000000',\n",
              "       '2007-10-19T00:00:00.000000000', ...,\n",
              "       '2012-09-17T00:00:00.000000000', '2012-09-17T00:00:00.000000000',\n",
              "       '2012-09-17T00:00:00.000000000'], dtype='datetime64[ns]')"
            ]
          },
          "metadata": {
            "tags": []
          },
          "execution_count": 31
        }
      ]
    },
    {
      "cell_type": "code",
      "metadata": {
        "id": "vTZfmOY6HDSR",
        "colab": {
          "base_uri": "https://localhost:8080/",
          "height": 85
        },
        "outputId": "3592d48c-c462-4464-a210-6d66f8830609"
      },
      "source": [
        "#by number (compare the output to the previous slide!)\n",
        "myData.iloc[ : , 1].values"
      ],
      "execution_count": null,
      "outputs": [
        {
          "output_type": "execute_result",
          "data": {
            "text/plain": [
              "array(['2005-11-15T00:00:00.000000000', '2008-08-29T00:00:00.000000000',\n",
              "       '2007-10-19T00:00:00.000000000', ...,\n",
              "       '2012-09-17T00:00:00.000000000', '2012-09-17T00:00:00.000000000',\n",
              "       '2012-09-17T00:00:00.000000000'], dtype='datetime64[ns]')"
            ]
          },
          "metadata": {
            "tags": []
          },
          "execution_count": 30
        }
      ]
    },
    {
      "cell_type": "code",
      "metadata": {
        "id": "tAr2nidhHC-P",
        "colab": {
          "base_uri": "https://localhost:8080/",
          "height": 85
        },
        "outputId": "d03dd1b2-6fc5-460b-dafc-af0a3f37e50a"
      },
      "source": [
        "#by name (for lazy people) (Compare the output to the previous slide!)\n",
        "myData [\"TransDate\"].values"
      ],
      "execution_count": null,
      "outputs": [
        {
          "output_type": "execute_result",
          "data": {
            "text/plain": [
              "array(['2005-11-15T00:00:00.000000000', '2008-08-29T00:00:00.000000000',\n",
              "       '2007-10-19T00:00:00.000000000', ...,\n",
              "       '2012-09-17T00:00:00.000000000', '2012-09-17T00:00:00.000000000',\n",
              "       '2012-09-17T00:00:00.000000000'], dtype='datetime64[ns]')"
            ]
          },
          "metadata": {
            "tags": []
          },
          "execution_count": 32
        }
      ]
    },
    {
      "cell_type": "markdown",
      "metadata": {
        "id": "HlMXE9J6HbPz"
      },
      "source": [
        "####**Slide:** Select multiple columns by column name/number"
      ]
    },
    {
      "cell_type": "code",
      "metadata": {
        "id": "vkX4MilBHeWk",
        "colab": {
          "base_uri": "https://localhost:8080/",
          "height": 419
        },
        "outputId": "7a899178-d180-4f03-ab7f-4fb838e4b7d3"
      },
      "source": [
        "#by name\n",
        "myData.loc[ : , [\"Customer\", \"TransDate\", \"PurchAmount\"]]"
      ],
      "execution_count": null,
      "outputs": [
        {
          "output_type": "execute_result",
          "data": {
            "text/html": [
              "<div>\n",
              "<style scoped>\n",
              "    .dataframe tbody tr th:only-of-type {\n",
              "        vertical-align: middle;\n",
              "    }\n",
              "\n",
              "    .dataframe tbody tr th {\n",
              "        vertical-align: top;\n",
              "    }\n",
              "\n",
              "    .dataframe thead th {\n",
              "        text-align: right;\n",
              "    }\n",
              "</style>\n",
              "<table border=\"1\" class=\"dataframe\">\n",
              "  <thead>\n",
              "    <tr style=\"text-align: right;\">\n",
              "      <th></th>\n",
              "      <th>Customer</th>\n",
              "      <th>TransDate</th>\n",
              "      <th>PurchAmount</th>\n",
              "    </tr>\n",
              "  </thead>\n",
              "  <tbody>\n",
              "    <tr>\n",
              "      <th>0</th>\n",
              "      <td>149332</td>\n",
              "      <td>2005-11-15</td>\n",
              "      <td>199.95</td>\n",
              "    </tr>\n",
              "    <tr>\n",
              "      <th>1</th>\n",
              "      <td>172951</td>\n",
              "      <td>2008-08-29</td>\n",
              "      <td>199.95</td>\n",
              "    </tr>\n",
              "    <tr>\n",
              "      <th>2</th>\n",
              "      <td>120621</td>\n",
              "      <td>2007-10-19</td>\n",
              "      <td>99.95</td>\n",
              "    </tr>\n",
              "    <tr>\n",
              "      <th>3</th>\n",
              "      <td>149236</td>\n",
              "      <td>2005-11-14</td>\n",
              "      <td>39.95</td>\n",
              "    </tr>\n",
              "    <tr>\n",
              "      <th>4</th>\n",
              "      <td>149236</td>\n",
              "      <td>2007-12-06</td>\n",
              "      <td>79.95</td>\n",
              "    </tr>\n",
              "    <tr>\n",
              "      <th>...</th>\n",
              "      <td>...</td>\n",
              "      <td>...</td>\n",
              "      <td>...</td>\n",
              "    </tr>\n",
              "    <tr>\n",
              "      <th>223186</th>\n",
              "      <td>199997</td>\n",
              "      <td>2012-09-17</td>\n",
              "      <td>29.95</td>\n",
              "    </tr>\n",
              "    <tr>\n",
              "      <th>223187</th>\n",
              "      <td>199997</td>\n",
              "      <td>2012-09-17</td>\n",
              "      <td>29.95</td>\n",
              "    </tr>\n",
              "    <tr>\n",
              "      <th>223188</th>\n",
              "      <td>199998</td>\n",
              "      <td>2012-09-17</td>\n",
              "      <td>29.95</td>\n",
              "    </tr>\n",
              "    <tr>\n",
              "      <th>223189</th>\n",
              "      <td>199999</td>\n",
              "      <td>2012-09-17</td>\n",
              "      <td>179.95</td>\n",
              "    </tr>\n",
              "    <tr>\n",
              "      <th>223190</th>\n",
              "      <td>199542</td>\n",
              "      <td>2012-09-17</td>\n",
              "      <td>39.95</td>\n",
              "    </tr>\n",
              "  </tbody>\n",
              "</table>\n",
              "<p>223191 rows × 3 columns</p>\n",
              "</div>"
            ],
            "text/plain": [
              "        Customer  TransDate  PurchAmount\n",
              "0         149332 2005-11-15       199.95\n",
              "1         172951 2008-08-29       199.95\n",
              "2         120621 2007-10-19        99.95\n",
              "3         149236 2005-11-14        39.95\n",
              "4         149236 2007-12-06        79.95\n",
              "...          ...        ...          ...\n",
              "223186    199997 2012-09-17        29.95\n",
              "223187    199997 2012-09-17        29.95\n",
              "223188    199998 2012-09-17        29.95\n",
              "223189    199999 2012-09-17       179.95\n",
              "223190    199542 2012-09-17        39.95\n",
              "\n",
              "[223191 rows x 3 columns]"
            ]
          },
          "metadata": {
            "tags": []
          },
          "execution_count": 34
        }
      ]
    },
    {
      "cell_type": "code",
      "metadata": {
        "id": "JnxYxMfcHpVD",
        "colab": {
          "base_uri": "https://localhost:8080/",
          "height": 419
        },
        "outputId": "79930089-5149-49ec-8680-37e46ab92cd3"
      },
      "source": [
        "#by number\n",
        "myData.iloc[ : , [0,1,3]]"
      ],
      "execution_count": null,
      "outputs": [
        {
          "output_type": "execute_result",
          "data": {
            "text/html": [
              "<div>\n",
              "<style scoped>\n",
              "    .dataframe tbody tr th:only-of-type {\n",
              "        vertical-align: middle;\n",
              "    }\n",
              "\n",
              "    .dataframe tbody tr th {\n",
              "        vertical-align: top;\n",
              "    }\n",
              "\n",
              "    .dataframe thead th {\n",
              "        text-align: right;\n",
              "    }\n",
              "</style>\n",
              "<table border=\"1\" class=\"dataframe\">\n",
              "  <thead>\n",
              "    <tr style=\"text-align: right;\">\n",
              "      <th></th>\n",
              "      <th>Customer</th>\n",
              "      <th>TransDate</th>\n",
              "      <th>PurchAmount</th>\n",
              "    </tr>\n",
              "  </thead>\n",
              "  <tbody>\n",
              "    <tr>\n",
              "      <th>0</th>\n",
              "      <td>149332</td>\n",
              "      <td>2005-11-15</td>\n",
              "      <td>199.95</td>\n",
              "    </tr>\n",
              "    <tr>\n",
              "      <th>1</th>\n",
              "      <td>172951</td>\n",
              "      <td>2008-08-29</td>\n",
              "      <td>199.95</td>\n",
              "    </tr>\n",
              "    <tr>\n",
              "      <th>2</th>\n",
              "      <td>120621</td>\n",
              "      <td>2007-10-19</td>\n",
              "      <td>99.95</td>\n",
              "    </tr>\n",
              "    <tr>\n",
              "      <th>3</th>\n",
              "      <td>149236</td>\n",
              "      <td>2005-11-14</td>\n",
              "      <td>39.95</td>\n",
              "    </tr>\n",
              "    <tr>\n",
              "      <th>4</th>\n",
              "      <td>149236</td>\n",
              "      <td>2007-12-06</td>\n",
              "      <td>79.95</td>\n",
              "    </tr>\n",
              "    <tr>\n",
              "      <th>...</th>\n",
              "      <td>...</td>\n",
              "      <td>...</td>\n",
              "      <td>...</td>\n",
              "    </tr>\n",
              "    <tr>\n",
              "      <th>223186</th>\n",
              "      <td>199997</td>\n",
              "      <td>2012-09-17</td>\n",
              "      <td>29.95</td>\n",
              "    </tr>\n",
              "    <tr>\n",
              "      <th>223187</th>\n",
              "      <td>199997</td>\n",
              "      <td>2012-09-17</td>\n",
              "      <td>29.95</td>\n",
              "    </tr>\n",
              "    <tr>\n",
              "      <th>223188</th>\n",
              "      <td>199998</td>\n",
              "      <td>2012-09-17</td>\n",
              "      <td>29.95</td>\n",
              "    </tr>\n",
              "    <tr>\n",
              "      <th>223189</th>\n",
              "      <td>199999</td>\n",
              "      <td>2012-09-17</td>\n",
              "      <td>179.95</td>\n",
              "    </tr>\n",
              "    <tr>\n",
              "      <th>223190</th>\n",
              "      <td>199542</td>\n",
              "      <td>2012-09-17</td>\n",
              "      <td>39.95</td>\n",
              "    </tr>\n",
              "  </tbody>\n",
              "</table>\n",
              "<p>223191 rows × 3 columns</p>\n",
              "</div>"
            ],
            "text/plain": [
              "        Customer  TransDate  PurchAmount\n",
              "0         149332 2005-11-15       199.95\n",
              "1         172951 2008-08-29       199.95\n",
              "2         120621 2007-10-19        99.95\n",
              "3         149236 2005-11-14        39.95\n",
              "4         149236 2007-12-06        79.95\n",
              "...          ...        ...          ...\n",
              "223186    199997 2012-09-17        29.95\n",
              "223187    199997 2012-09-17        29.95\n",
              "223188    199998 2012-09-17        29.95\n",
              "223189    199999 2012-09-17       179.95\n",
              "223190    199542 2012-09-17        39.95\n",
              "\n",
              "[223191 rows x 3 columns]"
            ]
          },
          "metadata": {
            "tags": []
          },
          "execution_count": 35
        }
      ]
    },
    {
      "cell_type": "code",
      "metadata": {
        "id": "W0TrIktIHpAQ",
        "colab": {
          "base_uri": "https://localhost:8080/",
          "height": 419
        },
        "outputId": "dd0e4175-c5b3-4c78-e6c1-8d13fb90d476"
      },
      "source": [
        "\n",
        "#by name (for lazy people)\n",
        "myData[[\"Customer\", \"TransDate\", \"PurchAmount\"]]"
      ],
      "execution_count": null,
      "outputs": [
        {
          "output_type": "execute_result",
          "data": {
            "text/html": [
              "<div>\n",
              "<style scoped>\n",
              "    .dataframe tbody tr th:only-of-type {\n",
              "        vertical-align: middle;\n",
              "    }\n",
              "\n",
              "    .dataframe tbody tr th {\n",
              "        vertical-align: top;\n",
              "    }\n",
              "\n",
              "    .dataframe thead th {\n",
              "        text-align: right;\n",
              "    }\n",
              "</style>\n",
              "<table border=\"1\" class=\"dataframe\">\n",
              "  <thead>\n",
              "    <tr style=\"text-align: right;\">\n",
              "      <th></th>\n",
              "      <th>Customer</th>\n",
              "      <th>TransDate</th>\n",
              "      <th>PurchAmount</th>\n",
              "    </tr>\n",
              "  </thead>\n",
              "  <tbody>\n",
              "    <tr>\n",
              "      <th>0</th>\n",
              "      <td>149332</td>\n",
              "      <td>2005-11-15</td>\n",
              "      <td>199.95</td>\n",
              "    </tr>\n",
              "    <tr>\n",
              "      <th>1</th>\n",
              "      <td>172951</td>\n",
              "      <td>2008-08-29</td>\n",
              "      <td>199.95</td>\n",
              "    </tr>\n",
              "    <tr>\n",
              "      <th>2</th>\n",
              "      <td>120621</td>\n",
              "      <td>2007-10-19</td>\n",
              "      <td>99.95</td>\n",
              "    </tr>\n",
              "    <tr>\n",
              "      <th>3</th>\n",
              "      <td>149236</td>\n",
              "      <td>2005-11-14</td>\n",
              "      <td>39.95</td>\n",
              "    </tr>\n",
              "    <tr>\n",
              "      <th>4</th>\n",
              "      <td>149236</td>\n",
              "      <td>2007-12-06</td>\n",
              "      <td>79.95</td>\n",
              "    </tr>\n",
              "    <tr>\n",
              "      <th>...</th>\n",
              "      <td>...</td>\n",
              "      <td>...</td>\n",
              "      <td>...</td>\n",
              "    </tr>\n",
              "    <tr>\n",
              "      <th>223186</th>\n",
              "      <td>199997</td>\n",
              "      <td>2012-09-17</td>\n",
              "      <td>29.95</td>\n",
              "    </tr>\n",
              "    <tr>\n",
              "      <th>223187</th>\n",
              "      <td>199997</td>\n",
              "      <td>2012-09-17</td>\n",
              "      <td>29.95</td>\n",
              "    </tr>\n",
              "    <tr>\n",
              "      <th>223188</th>\n",
              "      <td>199998</td>\n",
              "      <td>2012-09-17</td>\n",
              "      <td>29.95</td>\n",
              "    </tr>\n",
              "    <tr>\n",
              "      <th>223189</th>\n",
              "      <td>199999</td>\n",
              "      <td>2012-09-17</td>\n",
              "      <td>179.95</td>\n",
              "    </tr>\n",
              "    <tr>\n",
              "      <th>223190</th>\n",
              "      <td>199542</td>\n",
              "      <td>2012-09-17</td>\n",
              "      <td>39.95</td>\n",
              "    </tr>\n",
              "  </tbody>\n",
              "</table>\n",
              "<p>223191 rows × 3 columns</p>\n",
              "</div>"
            ],
            "text/plain": [
              "        Customer  TransDate  PurchAmount\n",
              "0         149332 2005-11-15       199.95\n",
              "1         172951 2008-08-29       199.95\n",
              "2         120621 2007-10-19        99.95\n",
              "3         149236 2005-11-14        39.95\n",
              "4         149236 2007-12-06        79.95\n",
              "...          ...        ...          ...\n",
              "223186    199997 2012-09-17        29.95\n",
              "223187    199997 2012-09-17        29.95\n",
              "223188    199998 2012-09-17        29.95\n",
              "223189    199999 2012-09-17       179.95\n",
              "223190    199542 2012-09-17        39.95\n",
              "\n",
              "[223191 rows x 3 columns]"
            ]
          },
          "metadata": {
            "tags": []
          },
          "execution_count": 36
        }
      ]
    },
    {
      "cell_type": "markdown",
      "metadata": {
        "id": "tWfbHnJJHzVG"
      },
      "source": [
        "####**Slide:** Python Basics: Find out the column names"
      ]
    },
    {
      "cell_type": "code",
      "metadata": {
        "id": "XLMxKOBAH5DC",
        "colab": {
          "base_uri": "https://localhost:8080/",
          "height": 51
        },
        "outputId": "5b814d4f-6113-4f04-b2fb-ee33769fb6ee"
      },
      "source": [
        "myData.columns.values\n"
      ],
      "execution_count": null,
      "outputs": [
        {
          "output_type": "execute_result",
          "data": {
            "text/plain": [
              "array(['Customer', 'TransDate', 'Quantity', 'PurchAmount', 'Cost',\n",
              "       'TransID'], dtype=object)"
            ]
          },
          "metadata": {
            "tags": []
          },
          "execution_count": 37
        }
      ]
    },
    {
      "cell_type": "markdown",
      "metadata": {
        "id": "M4BPbjXRH_TO"
      },
      "source": [
        "####**Slide:** Combine operations to select by rows and columns"
      ]
    },
    {
      "cell_type": "code",
      "metadata": {
        "id": "RlAVB3uSIDL3",
        "colab": {
          "base_uri": "https://localhost:8080/",
          "height": 419
        },
        "outputId": "5172cf40-542b-46bc-be0a-30f39988971e"
      },
      "source": [
        "#Variante 1:\n",
        "myData.loc[ myData[\"PurchAmount\"]>100 , [\"TransDate\",\"Cost\"]]"
      ],
      "execution_count": null,
      "outputs": [
        {
          "output_type": "execute_result",
          "data": {
            "text/html": [
              "<div>\n",
              "<style scoped>\n",
              "    .dataframe tbody tr th:only-of-type {\n",
              "        vertical-align: middle;\n",
              "    }\n",
              "\n",
              "    .dataframe tbody tr th {\n",
              "        vertical-align: top;\n",
              "    }\n",
              "\n",
              "    .dataframe thead th {\n",
              "        text-align: right;\n",
              "    }\n",
              "</style>\n",
              "<table border=\"1\" class=\"dataframe\">\n",
              "  <thead>\n",
              "    <tr style=\"text-align: right;\">\n",
              "      <th></th>\n",
              "      <th>TransDate</th>\n",
              "      <th>Cost</th>\n",
              "    </tr>\n",
              "  </thead>\n",
              "  <tbody>\n",
              "    <tr>\n",
              "      <th>0</th>\n",
              "      <td>2005-11-15</td>\n",
              "      <td>107.00</td>\n",
              "    </tr>\n",
              "    <tr>\n",
              "      <th>1</th>\n",
              "      <td>2008-08-29</td>\n",
              "      <td>108.00</td>\n",
              "    </tr>\n",
              "    <tr>\n",
              "      <th>5</th>\n",
              "      <td>2009-11-19</td>\n",
              "      <td>59.00</td>\n",
              "    </tr>\n",
              "    <tr>\n",
              "      <th>11</th>\n",
              "      <td>2009-06-19</td>\n",
              "      <td>58.46</td>\n",
              "    </tr>\n",
              "    <tr>\n",
              "      <th>17</th>\n",
              "      <td>2009-11-02</td>\n",
              "      <td>63.08</td>\n",
              "    </tr>\n",
              "    <tr>\n",
              "      <th>...</th>\n",
              "      <td>...</td>\n",
              "      <td>...</td>\n",
              "    </tr>\n",
              "    <tr>\n",
              "      <th>223164</th>\n",
              "      <td>2012-09-16</td>\n",
              "      <td>40.25</td>\n",
              "    </tr>\n",
              "    <tr>\n",
              "      <th>223166</th>\n",
              "      <td>2012-09-16</td>\n",
              "      <td>63.00</td>\n",
              "    </tr>\n",
              "    <tr>\n",
              "      <th>223167</th>\n",
              "      <td>2012-09-16</td>\n",
              "      <td>54.50</td>\n",
              "    </tr>\n",
              "    <tr>\n",
              "      <th>223176</th>\n",
              "      <td>2012-09-17</td>\n",
              "      <td>104.99</td>\n",
              "    </tr>\n",
              "    <tr>\n",
              "      <th>223189</th>\n",
              "      <td>2012-09-17</td>\n",
              "      <td>109.99</td>\n",
              "    </tr>\n",
              "  </tbody>\n",
              "</table>\n",
              "<p>46292 rows × 2 columns</p>\n",
              "</div>"
            ],
            "text/plain": [
              "        TransDate    Cost\n",
              "0      2005-11-15  107.00\n",
              "1      2008-08-29  108.00\n",
              "5      2009-11-19   59.00\n",
              "11     2009-06-19   58.46\n",
              "17     2009-11-02   63.08\n",
              "...           ...     ...\n",
              "223164 2012-09-16   40.25\n",
              "223166 2012-09-16   63.00\n",
              "223167 2012-09-16   54.50\n",
              "223176 2012-09-17  104.99\n",
              "223189 2012-09-17  109.99\n",
              "\n",
              "[46292 rows x 2 columns]"
            ]
          },
          "metadata": {
            "tags": []
          },
          "execution_count": 39
        }
      ]
    },
    {
      "cell_type": "code",
      "metadata": {
        "id": "N6cPpAXIIHNy",
        "colab": {
          "base_uri": "https://localhost:8080/",
          "height": 419
        },
        "outputId": "86e90a5e-390e-4cf4-8a8d-9cb34a582487"
      },
      "source": [
        "#Variant 2:\n",
        "myData[[\"TransDate\",\"Cost\"]].loc[ myData[\"PurchAmount\"]>100 ,]"
      ],
      "execution_count": null,
      "outputs": [
        {
          "output_type": "execute_result",
          "data": {
            "text/html": [
              "<div>\n",
              "<style scoped>\n",
              "    .dataframe tbody tr th:only-of-type {\n",
              "        vertical-align: middle;\n",
              "    }\n",
              "\n",
              "    .dataframe tbody tr th {\n",
              "        vertical-align: top;\n",
              "    }\n",
              "\n",
              "    .dataframe thead th {\n",
              "        text-align: right;\n",
              "    }\n",
              "</style>\n",
              "<table border=\"1\" class=\"dataframe\">\n",
              "  <thead>\n",
              "    <tr style=\"text-align: right;\">\n",
              "      <th></th>\n",
              "      <th>TransDate</th>\n",
              "      <th>Cost</th>\n",
              "    </tr>\n",
              "  </thead>\n",
              "  <tbody>\n",
              "    <tr>\n",
              "      <th>0</th>\n",
              "      <td>2005-11-15</td>\n",
              "      <td>107.00</td>\n",
              "    </tr>\n",
              "    <tr>\n",
              "      <th>1</th>\n",
              "      <td>2008-08-29</td>\n",
              "      <td>108.00</td>\n",
              "    </tr>\n",
              "    <tr>\n",
              "      <th>5</th>\n",
              "      <td>2009-11-19</td>\n",
              "      <td>59.00</td>\n",
              "    </tr>\n",
              "    <tr>\n",
              "      <th>11</th>\n",
              "      <td>2009-06-19</td>\n",
              "      <td>58.46</td>\n",
              "    </tr>\n",
              "    <tr>\n",
              "      <th>17</th>\n",
              "      <td>2009-11-02</td>\n",
              "      <td>63.08</td>\n",
              "    </tr>\n",
              "    <tr>\n",
              "      <th>...</th>\n",
              "      <td>...</td>\n",
              "      <td>...</td>\n",
              "    </tr>\n",
              "    <tr>\n",
              "      <th>223164</th>\n",
              "      <td>2012-09-16</td>\n",
              "      <td>40.25</td>\n",
              "    </tr>\n",
              "    <tr>\n",
              "      <th>223166</th>\n",
              "      <td>2012-09-16</td>\n",
              "      <td>63.00</td>\n",
              "    </tr>\n",
              "    <tr>\n",
              "      <th>223167</th>\n",
              "      <td>2012-09-16</td>\n",
              "      <td>54.50</td>\n",
              "    </tr>\n",
              "    <tr>\n",
              "      <th>223176</th>\n",
              "      <td>2012-09-17</td>\n",
              "      <td>104.99</td>\n",
              "    </tr>\n",
              "    <tr>\n",
              "      <th>223189</th>\n",
              "      <td>2012-09-17</td>\n",
              "      <td>109.99</td>\n",
              "    </tr>\n",
              "  </tbody>\n",
              "</table>\n",
              "<p>46292 rows × 2 columns</p>\n",
              "</div>"
            ],
            "text/plain": [
              "        TransDate    Cost\n",
              "0      2005-11-15  107.00\n",
              "1      2008-08-29  108.00\n",
              "5      2009-11-19   59.00\n",
              "11     2009-06-19   58.46\n",
              "17     2009-11-02   63.08\n",
              "...           ...     ...\n",
              "223164 2012-09-16   40.25\n",
              "223166 2012-09-16   63.00\n",
              "223167 2012-09-16   54.50\n",
              "223176 2012-09-17  104.99\n",
              "223189 2012-09-17  109.99\n",
              "\n",
              "[46292 rows x 2 columns]"
            ]
          },
          "metadata": {
            "tags": []
          },
          "execution_count": 40
        }
      ]
    },
    {
      "cell_type": "markdown",
      "metadata": {
        "id": "os7vAevSI04y"
      },
      "source": [
        "###19 - Updating rows and columns"
      ]
    },
    {
      "cell_type": "markdown",
      "metadata": {
        "id": "mE3QlWSBJH7w"
      },
      "source": [
        "####**Slide:** Appending rows into DataFrame"
      ]
    },
    {
      "cell_type": "code",
      "metadata": {
        "id": "Duz3PUNXJaTB"
      },
      "source": [
        "myData.append(pd.DataFrame([[199332, pd.to_datetime(\"2011-11-18\"),\n",
        "\t\t\t1,99.95,47.00, 197923739]],\n",
        "\t\t\tcolumns=myData.columns.values),\n",
        "\tignore_index=True)"
      ],
      "execution_count": null,
      "outputs": []
    },
    {
      "cell_type": "markdown",
      "metadata": {
        "id": "C5xG1ozTJgd7"
      },
      "source": [
        "####**Slide:** Adding columns to a DataFrame"
      ]
    },
    {
      "cell_type": "code",
      "metadata": {
        "id": "3uwfSmxYJj8Y"
      },
      "source": [
        "myData[\"NewCol\"] = myData[\"Cost\"].round()"
      ],
      "execution_count": null,
      "outputs": []
    },
    {
      "cell_type": "markdown",
      "metadata": {
        "id": "JlspGgPHJ0-u"
      },
      "source": [
        "####**Slide:** Python Basics: By default DataFrame changes are made by reference"
      ]
    },
    {
      "cell_type": "code",
      "metadata": {
        "id": "knYi651jJ3N_"
      },
      "source": [
        "myData.head(3)"
      ],
      "execution_count": null,
      "outputs": []
    },
    {
      "cell_type": "code",
      "metadata": {
        "id": "K0CKBuM0J7rp",
        "colab": {
          "base_uri": "https://localhost:8080/",
          "height": 359
        },
        "outputId": "70a56e54-53f7-447f-cb72-4131f4a27c65"
      },
      "source": [
        "myData_modified=myData\n",
        "myData_modified[\"NewCol2\"] = myData[\"Cost\"].round()\n",
        "myData_modified.head(10)"
      ],
      "execution_count": null,
      "outputs": [
        {
          "output_type": "execute_result",
          "data": {
            "text/html": [
              "<div>\n",
              "<style scoped>\n",
              "    .dataframe tbody tr th:only-of-type {\n",
              "        vertical-align: middle;\n",
              "    }\n",
              "\n",
              "    .dataframe tbody tr th {\n",
              "        vertical-align: top;\n",
              "    }\n",
              "\n",
              "    .dataframe thead th {\n",
              "        text-align: right;\n",
              "    }\n",
              "</style>\n",
              "<table border=\"1\" class=\"dataframe\">\n",
              "  <thead>\n",
              "    <tr style=\"text-align: right;\">\n",
              "      <th></th>\n",
              "      <th>Customer</th>\n",
              "      <th>TransDate</th>\n",
              "      <th>Quantity</th>\n",
              "      <th>PurchAmount</th>\n",
              "      <th>Cost</th>\n",
              "      <th>TransID</th>\n",
              "      <th>NewCol2</th>\n",
              "    </tr>\n",
              "  </thead>\n",
              "  <tbody>\n",
              "    <tr>\n",
              "      <th>0</th>\n",
              "      <td>149332</td>\n",
              "      <td>2005-11-15</td>\n",
              "      <td>1</td>\n",
              "      <td>199.95</td>\n",
              "      <td>107.00</td>\n",
              "      <td>127998739</td>\n",
              "      <td>107.0</td>\n",
              "    </tr>\n",
              "    <tr>\n",
              "      <th>1</th>\n",
              "      <td>172951</td>\n",
              "      <td>2008-08-29</td>\n",
              "      <td>1</td>\n",
              "      <td>199.95</td>\n",
              "      <td>108.00</td>\n",
              "      <td>128888288</td>\n",
              "      <td>108.0</td>\n",
              "    </tr>\n",
              "    <tr>\n",
              "      <th>2</th>\n",
              "      <td>120621</td>\n",
              "      <td>2007-10-19</td>\n",
              "      <td>1</td>\n",
              "      <td>99.95</td>\n",
              "      <td>49.00</td>\n",
              "      <td>125375247</td>\n",
              "      <td>49.0</td>\n",
              "    </tr>\n",
              "    <tr>\n",
              "      <th>3</th>\n",
              "      <td>149236</td>\n",
              "      <td>2005-11-14</td>\n",
              "      <td>1</td>\n",
              "      <td>39.95</td>\n",
              "      <td>18.95</td>\n",
              "      <td>127996226</td>\n",
              "      <td>19.0</td>\n",
              "    </tr>\n",
              "    <tr>\n",
              "      <th>4</th>\n",
              "      <td>149236</td>\n",
              "      <td>2007-12-06</td>\n",
              "      <td>1</td>\n",
              "      <td>79.95</td>\n",
              "      <td>35.00</td>\n",
              "      <td>128670302</td>\n",
              "      <td>35.0</td>\n",
              "    </tr>\n",
              "    <tr>\n",
              "      <th>5</th>\n",
              "      <td>140729</td>\n",
              "      <td>2009-11-19</td>\n",
              "      <td>1</td>\n",
              "      <td>129.95</td>\n",
              "      <td>59.00</td>\n",
              "      <td>127637750</td>\n",
              "      <td>59.0</td>\n",
              "    </tr>\n",
              "    <tr>\n",
              "      <th>6</th>\n",
              "      <td>140729</td>\n",
              "      <td>2009-11-19</td>\n",
              "      <td>1</td>\n",
              "      <td>79.95</td>\n",
              "      <td>39.18</td>\n",
              "      <td>127637750</td>\n",
              "      <td>39.0</td>\n",
              "    </tr>\n",
              "    <tr>\n",
              "      <th>7</th>\n",
              "      <td>140729</td>\n",
              "      <td>2009-11-19</td>\n",
              "      <td>1</td>\n",
              "      <td>24.95</td>\n",
              "      <td>11.50</td>\n",
              "      <td>127637750</td>\n",
              "      <td>12.0</td>\n",
              "    </tr>\n",
              "    <tr>\n",
              "      <th>8</th>\n",
              "      <td>140729</td>\n",
              "      <td>2009-11-19</td>\n",
              "      <td>1</td>\n",
              "      <td>7.95</td>\n",
              "      <td>2.96</td>\n",
              "      <td>127637750</td>\n",
              "      <td>3.0</td>\n",
              "    </tr>\n",
              "    <tr>\n",
              "      <th>9</th>\n",
              "      <td>140729</td>\n",
              "      <td>2012-04-28</td>\n",
              "      <td>1</td>\n",
              "      <td>89.95</td>\n",
              "      <td>35.00</td>\n",
              "      <td>129377737</td>\n",
              "      <td>35.0</td>\n",
              "    </tr>\n",
              "  </tbody>\n",
              "</table>\n",
              "</div>"
            ],
            "text/plain": [
              "   Customer  TransDate  Quantity  PurchAmount    Cost    TransID  NewCol2\n",
              "0    149332 2005-11-15         1       199.95  107.00  127998739    107.0\n",
              "1    172951 2008-08-29         1       199.95  108.00  128888288    108.0\n",
              "2    120621 2007-10-19         1        99.95   49.00  125375247     49.0\n",
              "3    149236 2005-11-14         1        39.95   18.95  127996226     19.0\n",
              "4    149236 2007-12-06         1        79.95   35.00  128670302     35.0\n",
              "5    140729 2009-11-19         1       129.95   59.00  127637750     59.0\n",
              "6    140729 2009-11-19         1        79.95   39.18  127637750     39.0\n",
              "7    140729 2009-11-19         1        24.95   11.50  127637750     12.0\n",
              "8    140729 2009-11-19         1         7.95    2.96  127637750      3.0\n",
              "9    140729 2012-04-28         1        89.95   35.00  129377737     35.0"
            ]
          },
          "metadata": {
            "tags": []
          },
          "execution_count": 41
        }
      ]
    },
    {
      "cell_type": "code",
      "metadata": {
        "id": "789bWtTuKCH0",
        "colab": {
          "base_uri": "https://localhost:8080/",
          "height": 359
        },
        "outputId": "8b03fad6-9465-46da-b654-62ab72d21b91"
      },
      "source": [
        "#Ups! Also modified!\n",
        "myData.head(10)"
      ],
      "execution_count": null,
      "outputs": [
        {
          "output_type": "execute_result",
          "data": {
            "text/html": [
              "<div>\n",
              "<style scoped>\n",
              "    .dataframe tbody tr th:only-of-type {\n",
              "        vertical-align: middle;\n",
              "    }\n",
              "\n",
              "    .dataframe tbody tr th {\n",
              "        vertical-align: top;\n",
              "    }\n",
              "\n",
              "    .dataframe thead th {\n",
              "        text-align: right;\n",
              "    }\n",
              "</style>\n",
              "<table border=\"1\" class=\"dataframe\">\n",
              "  <thead>\n",
              "    <tr style=\"text-align: right;\">\n",
              "      <th></th>\n",
              "      <th>Customer</th>\n",
              "      <th>TransDate</th>\n",
              "      <th>Quantity</th>\n",
              "      <th>PurchAmount</th>\n",
              "      <th>Cost</th>\n",
              "      <th>TransID</th>\n",
              "      <th>NewCol2</th>\n",
              "    </tr>\n",
              "  </thead>\n",
              "  <tbody>\n",
              "    <tr>\n",
              "      <th>0</th>\n",
              "      <td>149332</td>\n",
              "      <td>2005-11-15</td>\n",
              "      <td>1</td>\n",
              "      <td>199.95</td>\n",
              "      <td>107.00</td>\n",
              "      <td>127998739</td>\n",
              "      <td>107.0</td>\n",
              "    </tr>\n",
              "    <tr>\n",
              "      <th>1</th>\n",
              "      <td>172951</td>\n",
              "      <td>2008-08-29</td>\n",
              "      <td>1</td>\n",
              "      <td>199.95</td>\n",
              "      <td>108.00</td>\n",
              "      <td>128888288</td>\n",
              "      <td>108.0</td>\n",
              "    </tr>\n",
              "    <tr>\n",
              "      <th>2</th>\n",
              "      <td>120621</td>\n",
              "      <td>2007-10-19</td>\n",
              "      <td>1</td>\n",
              "      <td>99.95</td>\n",
              "      <td>49.00</td>\n",
              "      <td>125375247</td>\n",
              "      <td>49.0</td>\n",
              "    </tr>\n",
              "    <tr>\n",
              "      <th>3</th>\n",
              "      <td>149236</td>\n",
              "      <td>2005-11-14</td>\n",
              "      <td>1</td>\n",
              "      <td>39.95</td>\n",
              "      <td>18.95</td>\n",
              "      <td>127996226</td>\n",
              "      <td>19.0</td>\n",
              "    </tr>\n",
              "    <tr>\n",
              "      <th>4</th>\n",
              "      <td>149236</td>\n",
              "      <td>2007-12-06</td>\n",
              "      <td>1</td>\n",
              "      <td>79.95</td>\n",
              "      <td>35.00</td>\n",
              "      <td>128670302</td>\n",
              "      <td>35.0</td>\n",
              "    </tr>\n",
              "    <tr>\n",
              "      <th>5</th>\n",
              "      <td>140729</td>\n",
              "      <td>2009-11-19</td>\n",
              "      <td>1</td>\n",
              "      <td>129.95</td>\n",
              "      <td>59.00</td>\n",
              "      <td>127637750</td>\n",
              "      <td>59.0</td>\n",
              "    </tr>\n",
              "    <tr>\n",
              "      <th>6</th>\n",
              "      <td>140729</td>\n",
              "      <td>2009-11-19</td>\n",
              "      <td>1</td>\n",
              "      <td>79.95</td>\n",
              "      <td>39.18</td>\n",
              "      <td>127637750</td>\n",
              "      <td>39.0</td>\n",
              "    </tr>\n",
              "    <tr>\n",
              "      <th>7</th>\n",
              "      <td>140729</td>\n",
              "      <td>2009-11-19</td>\n",
              "      <td>1</td>\n",
              "      <td>24.95</td>\n",
              "      <td>11.50</td>\n",
              "      <td>127637750</td>\n",
              "      <td>12.0</td>\n",
              "    </tr>\n",
              "    <tr>\n",
              "      <th>8</th>\n",
              "      <td>140729</td>\n",
              "      <td>2009-11-19</td>\n",
              "      <td>1</td>\n",
              "      <td>7.95</td>\n",
              "      <td>2.96</td>\n",
              "      <td>127637750</td>\n",
              "      <td>3.0</td>\n",
              "    </tr>\n",
              "    <tr>\n",
              "      <th>9</th>\n",
              "      <td>140729</td>\n",
              "      <td>2012-04-28</td>\n",
              "      <td>1</td>\n",
              "      <td>89.95</td>\n",
              "      <td>35.00</td>\n",
              "      <td>129377737</td>\n",
              "      <td>35.0</td>\n",
              "    </tr>\n",
              "  </tbody>\n",
              "</table>\n",
              "</div>"
            ],
            "text/plain": [
              "   Customer  TransDate  Quantity  PurchAmount    Cost    TransID  NewCol2\n",
              "0    149332 2005-11-15         1       199.95  107.00  127998739    107.0\n",
              "1    172951 2008-08-29         1       199.95  108.00  128888288    108.0\n",
              "2    120621 2007-10-19         1        99.95   49.00  125375247     49.0\n",
              "3    149236 2005-11-14         1        39.95   18.95  127996226     19.0\n",
              "4    149236 2007-12-06         1        79.95   35.00  128670302     35.0\n",
              "5    140729 2009-11-19         1       129.95   59.00  127637750     59.0\n",
              "6    140729 2009-11-19         1        79.95   39.18  127637750     39.0\n",
              "7    140729 2009-11-19         1        24.95   11.50  127637750     12.0\n",
              "8    140729 2009-11-19         1         7.95    2.96  127637750      3.0\n",
              "9    140729 2012-04-28         1        89.95   35.00  129377737     35.0"
            ]
          },
          "metadata": {
            "tags": []
          },
          "execution_count": 42
        }
      ]
    },
    {
      "cell_type": "code",
      "metadata": {
        "id": "VIlTUMmJKKfS"
      },
      "source": [
        "#reset the dataset by reading it again\n",
        "#Read the csv file and store it in the variable \"myData\". Note: this file is hostes in a GitHub repository.\n",
        "myData=pd.read_csv(filepath_or_buffer=\"https://raw.githubusercontent.com/bachmannpatrick/Python-Class/master/data/transactions.csv\", sep=\",\")\n",
        "# Adjust the format of column \"TransDate\" to datetime\n",
        "myData[\"TransDate\"]  = pd.to_datetime(myData[\"TransDate\"])"
      ],
      "execution_count": null,
      "outputs": []
    },
    {
      "cell_type": "code",
      "metadata": {
        "id": "wgWkdWzbKekk"
      },
      "source": [
        "#use copy() to prevent by reference modfications!\n",
        "myData_modified = myData.copy()"
      ],
      "execution_count": null,
      "outputs": []
    },
    {
      "cell_type": "markdown",
      "metadata": {
        "id": "KZrjN2kFKmqP"
      },
      "source": [
        "####**Slide:** Remove a single column from a DataFrame"
      ]
    },
    {
      "cell_type": "code",
      "metadata": {
        "id": "DapsYNTkKriz"
      },
      "source": [
        "del myData[\"Quantity\"]"
      ],
      "execution_count": null,
      "outputs": []
    },
    {
      "cell_type": "code",
      "metadata": {
        "id": "bDh2aN_uLBsX"
      },
      "source": [
        "#reset the dataset by reading it again\n",
        "#Read the csv file and store it in the variable \"myData\". Note: this file is hostes in a GitHub repository.\n",
        "myData=pd.read_csv(filepath_or_buffer=\"https://raw.githubusercontent.com/bachmannpatrick/Python-Class/master/data/transactions.csv\", sep=\",\")\n",
        "# Adjust the format of column \"TransDate\" to datetime\n",
        "myData[\"TransDate\"]  = pd.to_datetime(myData[\"TransDate\"])"
      ],
      "execution_count": null,
      "outputs": []
    },
    {
      "cell_type": "markdown",
      "metadata": {
        "id": "G1yPRZaJK40G"
      },
      "source": [
        "####**Slide:** Remove multiple columns at the same time"
      ]
    },
    {
      "cell_type": "code",
      "metadata": {
        "id": "Tbr708wuK7mk",
        "colab": {
          "base_uri": "https://localhost:8080/",
          "height": 419
        },
        "outputId": "0ef88531-e8aa-485a-f35a-c34f4f06daa8"
      },
      "source": [
        "myData.drop([\"Quantity\", \"Cost\"], axis=1)"
      ],
      "execution_count": null,
      "outputs": [
        {
          "output_type": "execute_result",
          "data": {
            "text/html": [
              "<div>\n",
              "<style scoped>\n",
              "    .dataframe tbody tr th:only-of-type {\n",
              "        vertical-align: middle;\n",
              "    }\n",
              "\n",
              "    .dataframe tbody tr th {\n",
              "        vertical-align: top;\n",
              "    }\n",
              "\n",
              "    .dataframe thead th {\n",
              "        text-align: right;\n",
              "    }\n",
              "</style>\n",
              "<table border=\"1\" class=\"dataframe\">\n",
              "  <thead>\n",
              "    <tr style=\"text-align: right;\">\n",
              "      <th></th>\n",
              "      <th>Customer</th>\n",
              "      <th>TransDate</th>\n",
              "      <th>PurchAmount</th>\n",
              "      <th>TransID</th>\n",
              "    </tr>\n",
              "  </thead>\n",
              "  <tbody>\n",
              "    <tr>\n",
              "      <th>0</th>\n",
              "      <td>149332</td>\n",
              "      <td>2005-11-15</td>\n",
              "      <td>199.95</td>\n",
              "      <td>127998739</td>\n",
              "    </tr>\n",
              "    <tr>\n",
              "      <th>1</th>\n",
              "      <td>172951</td>\n",
              "      <td>2008-08-29</td>\n",
              "      <td>199.95</td>\n",
              "      <td>128888288</td>\n",
              "    </tr>\n",
              "    <tr>\n",
              "      <th>2</th>\n",
              "      <td>120621</td>\n",
              "      <td>2007-10-19</td>\n",
              "      <td>99.95</td>\n",
              "      <td>125375247</td>\n",
              "    </tr>\n",
              "    <tr>\n",
              "      <th>3</th>\n",
              "      <td>149236</td>\n",
              "      <td>2005-11-14</td>\n",
              "      <td>39.95</td>\n",
              "      <td>127996226</td>\n",
              "    </tr>\n",
              "    <tr>\n",
              "      <th>4</th>\n",
              "      <td>149236</td>\n",
              "      <td>2007-12-06</td>\n",
              "      <td>79.95</td>\n",
              "      <td>128670302</td>\n",
              "    </tr>\n",
              "    <tr>\n",
              "      <th>...</th>\n",
              "      <td>...</td>\n",
              "      <td>...</td>\n",
              "      <td>...</td>\n",
              "      <td>...</td>\n",
              "    </tr>\n",
              "    <tr>\n",
              "      <th>223186</th>\n",
              "      <td>199997</td>\n",
              "      <td>2012-09-17</td>\n",
              "      <td>29.95</td>\n",
              "      <td>132481149</td>\n",
              "    </tr>\n",
              "    <tr>\n",
              "      <th>223187</th>\n",
              "      <td>199997</td>\n",
              "      <td>2012-09-17</td>\n",
              "      <td>29.95</td>\n",
              "      <td>132481149</td>\n",
              "    </tr>\n",
              "    <tr>\n",
              "      <th>223188</th>\n",
              "      <td>199998</td>\n",
              "      <td>2012-09-17</td>\n",
              "      <td>29.95</td>\n",
              "      <td>132481154</td>\n",
              "    </tr>\n",
              "    <tr>\n",
              "      <th>223189</th>\n",
              "      <td>199999</td>\n",
              "      <td>2012-09-17</td>\n",
              "      <td>179.95</td>\n",
              "      <td>132481165</td>\n",
              "    </tr>\n",
              "    <tr>\n",
              "      <th>223190</th>\n",
              "      <td>199542</td>\n",
              "      <td>2012-09-17</td>\n",
              "      <td>39.95</td>\n",
              "      <td>131973368</td>\n",
              "    </tr>\n",
              "  </tbody>\n",
              "</table>\n",
              "<p>223191 rows × 4 columns</p>\n",
              "</div>"
            ],
            "text/plain": [
              "        Customer  TransDate  PurchAmount    TransID\n",
              "0         149332 2005-11-15       199.95  127998739\n",
              "1         172951 2008-08-29       199.95  128888288\n",
              "2         120621 2007-10-19        99.95  125375247\n",
              "3         149236 2005-11-14        39.95  127996226\n",
              "4         149236 2007-12-06        79.95  128670302\n",
              "...          ...        ...          ...        ...\n",
              "223186    199997 2012-09-17        29.95  132481149\n",
              "223187    199997 2012-09-17        29.95  132481149\n",
              "223188    199998 2012-09-17        29.95  132481154\n",
              "223189    199999 2012-09-17       179.95  132481165\n",
              "223190    199542 2012-09-17        39.95  131973368\n",
              "\n",
              "[223191 rows x 4 columns]"
            ]
          },
          "metadata": {
            "tags": []
          },
          "execution_count": 47
        }
      ]
    },
    {
      "cell_type": "code",
      "metadata": {
        "id": "8_wB6ORwLFyT"
      },
      "source": [
        "#reset the dataset by reading it again\n",
        "#Read the csv file and store it in the variable \"myData\". Note: this file is hostes in a GitHub repository.\n",
        "myData=pd.read_csv(filepath_or_buffer=\"https://raw.githubusercontent.com/bachmannpatrick/Python-Class/master/data/transactions.csv\", sep=\",\")\n",
        "# Adjust the format of column \"TransDate\" to datetime\n",
        "myData[\"TransDate\"]  = pd.to_datetime(myData[\"TransDate\"])"
      ],
      "execution_count": null,
      "outputs": []
    },
    {
      "cell_type": "markdown",
      "metadata": {
        "id": "JlKzHkOvLI25"
      },
      "source": [
        "####**Slide:** Python Basics: Change the names of a variable in a DataFrame"
      ]
    },
    {
      "cell_type": "code",
      "metadata": {
        "id": "PdczbfWWLNIZ",
        "colab": {
          "base_uri": "https://localhost:8080/",
          "height": 255
        },
        "outputId": "ce9a5faf-d1ee-4002-dbb4-cdb1fc4de053"
      },
      "source": [
        "myData.rename(columns = {\"PurchAmount\":\"TransValue\"}, inplace=True)\n",
        "print(myData)"
      ],
      "execution_count": null,
      "outputs": [
        {
          "output_type": "stream",
          "text": [
            "        Customer  TransDate  Quantity  TransValue    Cost    TransID\n",
            "0         149332 2005-11-15         1      199.95  107.00  127998739\n",
            "1         172951 2008-08-29         1      199.95  108.00  128888288\n",
            "2         120621 2007-10-19         1       99.95   49.00  125375247\n",
            "3         149236 2005-11-14         1       39.95   18.95  127996226\n",
            "4         149236 2007-12-06         1       79.95   35.00  128670302\n",
            "...          ...        ...       ...         ...     ...        ...\n",
            "223186    199997 2012-09-17         1       29.95   13.80  132481149\n",
            "223187    199997 2012-09-17         1       29.95   13.80  132481149\n",
            "223188    199998 2012-09-17         1       29.95   13.80  132481154\n",
            "223189    199999 2012-09-17         1      179.95  109.99  132481165\n",
            "223190    199542 2012-09-17         1       39.95   10.50  131973368\n",
            "\n",
            "[223191 rows x 6 columns]\n"
          ],
          "name": "stdout"
        }
      ]
    },
    {
      "cell_type": "code",
      "metadata": {
        "id": "4Tfhv-kRLXgL"
      },
      "source": [
        "#reset the dataset by reading it again\n",
        "#Read the csv file and store it in the variable \"myData\". Note: this file is hostes in a GitHub repository.\n",
        "myData=pd.read_csv(filepath_or_buffer=\"https://raw.githubusercontent.com/bachmannpatrick/Python-Class/master/data/transactions.csv\", sep=\",\")\n",
        "# Adjust the format of column \"TransDate\" to datetime\n",
        "myData[\"TransDate\"]  = pd.to_datetime(myData[\"TransDate\"])"
      ],
      "execution_count": null,
      "outputs": []
    },
    {
      "cell_type": "markdown",
      "metadata": {
        "id": "OONsNt4zLX8w"
      },
      "source": [
        "####**Slide:** Remove rows from a DataFrame"
      ]
    },
    {
      "cell_type": "code",
      "metadata": {
        "id": "yeg5bMg1Ldkf"
      },
      "source": [
        "myData.drop(myData.index[0:3], inplace=True)"
      ],
      "execution_count": null,
      "outputs": []
    },
    {
      "cell_type": "code",
      "metadata": {
        "id": "_F_sA1ijLghv"
      },
      "source": [
        "#reset the dataset by reading it again\n",
        "#Read the csv file and store it in the variable \"myData\". Note: this file is hostes in a GitHub repository.\n",
        "myData=pd.read_csv(filepath_or_buffer=\"https://raw.githubusercontent.com/bachmannpatrick/Python-Class/master/data/transactions.csv\", sep=\",\")\n",
        "# Adjust the format of column \"TransDate\" to datetime\n",
        "myData[\"TransDate\"]  = pd.to_datetime(myData[\"TransDate\"])"
      ],
      "execution_count": null,
      "outputs": []
    }
  ]
}