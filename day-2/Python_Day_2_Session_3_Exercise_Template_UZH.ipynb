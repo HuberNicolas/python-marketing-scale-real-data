{
  "nbformat": 4,
  "nbformat_minor": 0,
  "metadata": {
    "colab": {
      "provenance": [],
      "toc_visible": true
    },
    "kernelspec": {
      "name": "python3",
      "display_name": "Python 3"
    }
  },
  "cells": [
    {
      "cell_type": "markdown",
      "metadata": {
        "id": "cCjAe20VdlxO"
      },
      "source": [
        "#Python - Non-technical introduction\n",
        "\n",
        "##SOLUTION Exercise Day 2 Block 3: \"Wrangling data with Python\" (2/2)\n",
        "\n",
        "This file provides exercises accompanying the lectures.\n",
        "\n",
        "*Note:* If you want to make changes to this document, you need to save your own copy using the \"Save copy in Drive\" command in the \"File\" menu."
      ]
    },
    {
      "cell_type": "markdown",
      "metadata": {
        "id": "qpmzcnuFlexj"
      },
      "source": [
        "###Preparation\n",
        "\n",
        "\n",
        "1.   Read the csv file and store it in the variable \"myData\". Note: this file is hostes in a GitHub repository. https://raw.githubusercontent.com/bachmannpatrick/Python-Class/master/data/transactions.csv\n",
        "2.   Adjust the format of column \"TransDate\" to datetime"
      ]
    },
    {
      "cell_type": "markdown",
      "metadata": {
        "id": "OfFzQYshhGbX"
      },
      "source": [
        "###20 - Basic aggregating techniques"
      ]
    },
    {
      "cell_type": "markdown",
      "metadata": {
        "id": "sw513YHzhSO0"
      },
      "source": [
        "1. Sum PurchAmount by `Customer` and `TransDate`.\n"
      ]
    },
    {
      "cell_type": "markdown",
      "metadata": {
        "id": "wkTksKLfh_Dm"
      },
      "source": [
        "2. Count number of transactions by Customer."
      ]
    },
    {
      "cell_type": "markdown",
      "metadata": {
        "id": "XW-Ewl7skxDp"
      },
      "source": [
        "###21 - Advanced aggregating techniques"
      ]
    },
    {
      "cell_type": "markdown",
      "metadata": {
        "id": "lMP5naoWk3B_"
      },
      "source": [
        "1. Aggregate the purchase amount (sum) of all transactions per customer on a yearly basis for year 2007 and 2008."
      ]
    },
    {
      "cell_type": "markdown",
      "metadata": {
        "id": "lAKGNNSRk6r6"
      },
      "source": [
        "2. How many customers purchased for more than 50$ in total between 2008 and 2009?\n"
      ]
    },
    {
      "cell_type": "markdown",
      "metadata": {
        "id": "L7WgG_s2mdqq"
      },
      "source": [
        "###22 - Combined select-aggregate operations"
      ]
    },
    {
      "cell_type": "markdown",
      "metadata": {
        "id": "Pk9VLgufnl8B"
      },
      "source": [
        "1. Add a column to `myData` with the total number of purchases per customer.\n",
        "\n"
      ]
    },
    {
      "cell_type": "markdown",
      "metadata": {
        "id": "pZLq6d6vW1NP"
      },
      "source": [
        "2. Create a lead shifted variable for `TransDate` (by one period) by customer."
      ]
    }
  ]
}