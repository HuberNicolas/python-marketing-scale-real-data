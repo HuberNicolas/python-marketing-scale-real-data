{
  "nbformat": 4,
  "nbformat_minor": 0,
  "metadata": {
    "colab": {
      "provenance": [],
      "toc_visible": true
    },
    "kernelspec": {
      "name": "python3",
      "display_name": "Python 3"
    }
  },
  "cells": [
    {
      "cell_type": "markdown",
      "metadata": {
        "id": "cCjAe20VdlxO"
      },
      "source": [
        "#Python - Non-technical introduction\n",
        "\n",
        "##Exercise Day 2 Session 1: \"There is always room for improvement: How to create nicer plots (plotly)?\"\n",
        "\n",
        "This file provides exercises accompanying the lectures.\n",
        "\n",
        "*Note:* If you want to make changes to this document, you need to save your own copy using the \"Save copy in Drive\" command in the \"File\" menu."
      ]
    },
    {
      "cell_type": "markdown",
      "metadata": {
        "id": "qpmzcnuFlexj"
      },
      "source": [
        "###Preparation\n",
        "\n",
        "1.   Read the csv file and store it in the variable \"myData\". Note: this file is hostes in a GitHub repository. https://raw.githubusercontent.com/bachmannpatrick/Python-Class/master/data/transactions.csv\n",
        "2.   Adjust the format of column \"TransDate\" to datetime\n"
      ]
    },
    {
      "cell_type": "markdown",
      "metadata": {
        "id": "OfFzQYshhGbX"
      },
      "source": [
        "###13 - Creating advanced plots"
      ]
    },
    {
      "cell_type": "markdown",
      "metadata": {
        "id": "sw513YHzhSO0"
      },
      "source": [
        "1. Create a scatter plot with regression line for the variables `PurchAmount(x)` and `Cost(y`) in seaborn. *Hint:* Specify `fit_reg=True`\n"
      ]
    },
    {
      "cell_type": "markdown",
      "metadata": {
        "id": "wkTksKLfh_Dm"
      },
      "source": [
        "2. Add a title to your plot,  name your axes, change point size to \"150\", and point color to \"green\".\n",
        "\n",
        "\n"
      ]
    },
    {
      "cell_type": "markdown",
      "metadata": {
        "id": "XW-Ewl7skxDp"
      },
      "source": [
        "###14 - Color palettes, themes, and style"
      ]
    },
    {
      "cell_type": "markdown",
      "metadata": {
        "id": "lMP5naoWk3B_"
      },
      "source": [
        "1. Apply theme dark() to your plot from Exercise 2 form the last  section."
      ]
    },
    {
      "cell_type": "markdown",
      "metadata": {
        "id": "lAKGNNSRk6r6"
      },
      "source": [
        "2. Add the parameter hue=\"Quantity\" and use the palette \"prism\" to illustrate this dimension. *Caution:* Make sure you use lmplot().\n"
      ]
    },
    {
      "cell_type": "markdown",
      "metadata": {
        "id": "jf-326eymI_W"
      },
      "source": [
        "3. Format your earlier scatter plots in an appealing way.  Choose appropriate limits for the axes.  Consider changing colors, sizes, and fonts for data points and text labels.\n"
      ]
    },
    {
      "cell_type": "markdown",
      "metadata": {
        "id": "L7WgG_s2mdqq"
      },
      "source": [
        "###15 - Very advanced plotting options"
      ]
    },
    {
      "cell_type": "markdown",
      "metadata": {
        "id": "Pk9VLgufnl8B"
      },
      "source": [
        "See the separat file for this: [Here](https://colab.research.google.com/drive/1v9asaf_3OghIMhS_smDIjbDo2gjqvQaF?usp=sharing)\n",
        "\n"
      ]
    }
  ]
}