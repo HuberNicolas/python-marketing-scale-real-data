{
  "nbformat": 4,
  "nbformat_minor": 0,
  "metadata": {
    "colab": {
      "provenance": [],
      "toc_visible": true
    },
    "kernelspec": {
      "name": "python3",
      "display_name": "Python 3"
    }
  },
  "cells": [
    {
      "cell_type": "markdown",
      "metadata": {
        "id": "cCjAe20VdlxO"
      },
      "source": [
        "#Python - Non-technical introduction\n",
        "\n",
        "##SOLUTION Exercise Day 2 Session 2: \"Select the needle in a haystack: How to use “select” operations?\"\n",
        "\n",
        "This file provides the solutions to the exercises accompanying the lectures.\n",
        "\n",
        "*Note:* If you want to make changes to this document, you need to save your own copy using the \"Save copy in Drive\" command in the \"File\" menu."
      ]
    },
    {
      "cell_type": "markdown",
      "metadata": {
        "id": "qpmzcnuFlexj"
      },
      "source": [
        "###Preparation\n",
        "\n",
        "**Make sure to run the follwing code before continuing.** Code will prepare everything (load data, ...)."
      ]
    },
    {
      "cell_type": "code",
      "metadata": {
        "id": "sD_8-FV6lZVl"
      },
      "source": [
        "#%% Import relevant modules\n",
        "import pandas as pd\n",
        "import numpy as np\n",
        "# Read in data\n",
        "myData=pd.read_csv(\"https://raw.githubusercontent.com/bachmannpatrick/Python-Class/master/data/transactions.csv\")\n",
        "#fix the Date format\n",
        "myData[\"TransDate\"]  = pd.to_datetime(myData[\"TransDate\"])"
      ],
      "execution_count": null,
      "outputs": []
    },
    {
      "cell_type": "markdown",
      "metadata": {
        "id": "G__dD1LhyKDi"
      },
      "source": [
        "###16 - Data wrangling techniques"
      ]
    },
    {
      "cell_type": "markdown",
      "metadata": {
        "id": "KqyqcTjtyOf6"
      },
      "source": [
        "No exercises for this unit."
      ]
    },
    {
      "cell_type": "markdown",
      "metadata": {
        "id": "OfFzQYshhGbX"
      },
      "source": [
        "###17 - Selectiong rows"
      ]
    },
    {
      "cell_type": "markdown",
      "metadata": {
        "id": "sw513YHzhSO0"
      },
      "source": [
        "1. Select rows 10 to 20 (inlcuding 20) from the `myData` DataFrame. *Hint:* Please have a careful look at the terminology. The row number of the first line is 1, the row index of the first line is 0.\n",
        "\n"
      ]
    },
    {
      "cell_type": "code",
      "metadata": {
        "id": "AmuH-cdOh2DA",
        "colab": {
          "base_uri": "https://localhost:8080/",
          "height": 390
        },
        "outputId": "1556f64d-5769-44e0-fe8b-c38593723ccb"
      },
      "source": [
        "myData.iloc[9:20,]"
      ],
      "execution_count": null,
      "outputs": [
        {
          "output_type": "execute_result",
          "data": {
            "text/html": [
              "<div>\n",
              "<style scoped>\n",
              "    .dataframe tbody tr th:only-of-type {\n",
              "        vertical-align: middle;\n",
              "    }\n",
              "\n",
              "    .dataframe tbody tr th {\n",
              "        vertical-align: top;\n",
              "    }\n",
              "\n",
              "    .dataframe thead th {\n",
              "        text-align: right;\n",
              "    }\n",
              "</style>\n",
              "<table border=\"1\" class=\"dataframe\">\n",
              "  <thead>\n",
              "    <tr style=\"text-align: right;\">\n",
              "      <th></th>\n",
              "      <th>Customer</th>\n",
              "      <th>TransDate</th>\n",
              "      <th>Quantity</th>\n",
              "      <th>PurchAmount</th>\n",
              "      <th>Cost</th>\n",
              "      <th>TransID</th>\n",
              "    </tr>\n",
              "  </thead>\n",
              "  <tbody>\n",
              "    <tr>\n",
              "      <th>9</th>\n",
              "      <td>140729</td>\n",
              "      <td>2012-04-28</td>\n",
              "      <td>1</td>\n",
              "      <td>89.95</td>\n",
              "      <td>35.00</td>\n",
              "      <td>129377737</td>\n",
              "    </tr>\n",
              "    <tr>\n",
              "      <th>10</th>\n",
              "      <td>140729</td>\n",
              "      <td>2012-04-28</td>\n",
              "      <td>1</td>\n",
              "      <td>69.95</td>\n",
              "      <td>26.40</td>\n",
              "      <td>129377737</td>\n",
              "    </tr>\n",
              "    <tr>\n",
              "      <th>11</th>\n",
              "      <td>180970</td>\n",
              "      <td>2009-06-19</td>\n",
              "      <td>1</td>\n",
              "      <td>119.95</td>\n",
              "      <td>58.46</td>\n",
              "      <td>129195647</td>\n",
              "    </tr>\n",
              "    <tr>\n",
              "      <th>12</th>\n",
              "      <td>180970</td>\n",
              "      <td>2009-06-19</td>\n",
              "      <td>1</td>\n",
              "      <td>27.95</td>\n",
              "      <td>12.51</td>\n",
              "      <td>129195647</td>\n",
              "    </tr>\n",
              "    <tr>\n",
              "      <th>13</th>\n",
              "      <td>149332</td>\n",
              "      <td>2005-12-13</td>\n",
              "      <td>1</td>\n",
              "      <td>49.95</td>\n",
              "      <td>24.87</td>\n",
              "      <td>129878743</td>\n",
              "    </tr>\n",
              "    <tr>\n",
              "      <th>14</th>\n",
              "      <td>149332</td>\n",
              "      <td>2006-05-10</td>\n",
              "      <td>1</td>\n",
              "      <td>24.95</td>\n",
              "      <td>12.50</td>\n",
              "      <td>129883508</td>\n",
              "    </tr>\n",
              "    <tr>\n",
              "      <th>15</th>\n",
              "      <td>182927</td>\n",
              "      <td>2009-11-02</td>\n",
              "      <td>2</td>\n",
              "      <td>59.90</td>\n",
              "      <td>15.92</td>\n",
              "      <td>129290963</td>\n",
              "    </tr>\n",
              "    <tr>\n",
              "      <th>16</th>\n",
              "      <td>182927</td>\n",
              "      <td>2009-11-02</td>\n",
              "      <td>1</td>\n",
              "      <td>34.95</td>\n",
              "      <td>15.75</td>\n",
              "      <td>129290963</td>\n",
              "    </tr>\n",
              "    <tr>\n",
              "      <th>17</th>\n",
              "      <td>182927</td>\n",
              "      <td>2009-11-02</td>\n",
              "      <td>1</td>\n",
              "      <td>129.95</td>\n",
              "      <td>63.08</td>\n",
              "      <td>129290963</td>\n",
              "    </tr>\n",
              "    <tr>\n",
              "      <th>18</th>\n",
              "      <td>182927</td>\n",
              "      <td>2009-11-02</td>\n",
              "      <td>1</td>\n",
              "      <td>24.95</td>\n",
              "      <td>8.00</td>\n",
              "      <td>129290963</td>\n",
              "    </tr>\n",
              "    <tr>\n",
              "      <th>19</th>\n",
              "      <td>182927</td>\n",
              "      <td>2009-11-24</td>\n",
              "      <td>1</td>\n",
              "      <td>34.95</td>\n",
              "      <td>15.75</td>\n",
              "      <td>130979949</td>\n",
              "    </tr>\n",
              "  </tbody>\n",
              "</table>\n",
              "</div>"
            ],
            "text/plain": [
              "    Customer  TransDate  Quantity  PurchAmount   Cost    TransID\n",
              "9     140729 2012-04-28         1        89.95  35.00  129377737\n",
              "10    140729 2012-04-28         1        69.95  26.40  129377737\n",
              "11    180970 2009-06-19         1       119.95  58.46  129195647\n",
              "12    180970 2009-06-19         1        27.95  12.51  129195647\n",
              "13    149332 2005-12-13         1        49.95  24.87  129878743\n",
              "14    149332 2006-05-10         1        24.95  12.50  129883508\n",
              "15    182927 2009-11-02         2        59.90  15.92  129290963\n",
              "16    182927 2009-11-02         1        34.95  15.75  129290963\n",
              "17    182927 2009-11-02         1       129.95  63.08  129290963\n",
              "18    182927 2009-11-02         1        24.95   8.00  129290963\n",
              "19    182927 2009-11-24         1        34.95  15.75  130979949"
            ]
          },
          "metadata": {
            "tags": []
          },
          "execution_count": 17
        }
      ]
    },
    {
      "cell_type": "markdown",
      "metadata": {
        "id": "wkTksKLfh_Dm"
      },
      "source": [
        "2. Select all purchases from 2010 from the myData DataFrame.\n",
        "\n",
        "\n"
      ]
    },
    {
      "cell_type": "code",
      "metadata": {
        "id": "aUUNtILFiQyB",
        "colab": {
          "base_uri": "https://localhost:8080/",
          "height": 419
        },
        "outputId": "f097412d-86f7-4a1a-94bd-c38abc5dfe56"
      },
      "source": [
        "myData.loc[(myData[\"TransDate\"]>pd.to_datetime(\"2009-12-31\")) & (myData[\"TransDate\"]<=pd.to_datetime(\"2010-12-31\")), ]"
      ],
      "execution_count": null,
      "outputs": [
        {
          "output_type": "execute_result",
          "data": {
            "text/html": [
              "<div>\n",
              "<style scoped>\n",
              "    .dataframe tbody tr th:only-of-type {\n",
              "        vertical-align: middle;\n",
              "    }\n",
              "\n",
              "    .dataframe tbody tr th {\n",
              "        vertical-align: top;\n",
              "    }\n",
              "\n",
              "    .dataframe thead th {\n",
              "        text-align: right;\n",
              "    }\n",
              "</style>\n",
              "<table border=\"1\" class=\"dataframe\">\n",
              "  <thead>\n",
              "    <tr style=\"text-align: right;\">\n",
              "      <th></th>\n",
              "      <th>Customer</th>\n",
              "      <th>TransDate</th>\n",
              "      <th>Quantity</th>\n",
              "      <th>PurchAmount</th>\n",
              "      <th>Cost</th>\n",
              "      <th>TransID</th>\n",
              "    </tr>\n",
              "  </thead>\n",
              "  <tbody>\n",
              "    <tr>\n",
              "      <th>41</th>\n",
              "      <td>105474</td>\n",
              "      <td>2010-04-30</td>\n",
              "      <td>1</td>\n",
              "      <td>349.95</td>\n",
              "      <td>160.00</td>\n",
              "      <td>131139020</td>\n",
              "    </tr>\n",
              "    <tr>\n",
              "      <th>50</th>\n",
              "      <td>103744</td>\n",
              "      <td>2010-04-03</td>\n",
              "      <td>1</td>\n",
              "      <td>69.95</td>\n",
              "      <td>28.00</td>\n",
              "      <td>131123290</td>\n",
              "    </tr>\n",
              "    <tr>\n",
              "      <th>51</th>\n",
              "      <td>103744</td>\n",
              "      <td>2010-04-03</td>\n",
              "      <td>1</td>\n",
              "      <td>69.95</td>\n",
              "      <td>28.00</td>\n",
              "      <td>131123290</td>\n",
              "    </tr>\n",
              "    <tr>\n",
              "      <th>52</th>\n",
              "      <td>103744</td>\n",
              "      <td>2010-04-03</td>\n",
              "      <td>1</td>\n",
              "      <td>19.95</td>\n",
              "      <td>2.30</td>\n",
              "      <td>131123290</td>\n",
              "    </tr>\n",
              "    <tr>\n",
              "      <th>53</th>\n",
              "      <td>103744</td>\n",
              "      <td>2010-04-03</td>\n",
              "      <td>1</td>\n",
              "      <td>19.95</td>\n",
              "      <td>2.30</td>\n",
              "      <td>131123290</td>\n",
              "    </tr>\n",
              "    <tr>\n",
              "      <th>...</th>\n",
              "      <td>...</td>\n",
              "      <td>...</td>\n",
              "      <td>...</td>\n",
              "      <td>...</td>\n",
              "      <td>...</td>\n",
              "      <td>...</td>\n",
              "    </tr>\n",
              "    <tr>\n",
              "      <th>191724</th>\n",
              "      <td>163118</td>\n",
              "      <td>2010-12-31</td>\n",
              "      <td>1</td>\n",
              "      <td>89.95</td>\n",
              "      <td>52.53</td>\n",
              "      <td>128474646</td>\n",
              "    </tr>\n",
              "    <tr>\n",
              "      <th>191725</th>\n",
              "      <td>163120</td>\n",
              "      <td>2010-12-31</td>\n",
              "      <td>1</td>\n",
              "      <td>59.95</td>\n",
              "      <td>23.75</td>\n",
              "      <td>128474822</td>\n",
              "    </tr>\n",
              "    <tr>\n",
              "      <th>191726</th>\n",
              "      <td>163121</td>\n",
              "      <td>2010-12-31</td>\n",
              "      <td>1</td>\n",
              "      <td>34.95</td>\n",
              "      <td>16.44</td>\n",
              "      <td>128474938</td>\n",
              "    </tr>\n",
              "    <tr>\n",
              "      <th>191727</th>\n",
              "      <td>163123</td>\n",
              "      <td>2010-12-31</td>\n",
              "      <td>1</td>\n",
              "      <td>39.95</td>\n",
              "      <td>15.56</td>\n",
              "      <td>128475013</td>\n",
              "    </tr>\n",
              "    <tr>\n",
              "      <th>191728</th>\n",
              "      <td>163123</td>\n",
              "      <td>2010-12-31</td>\n",
              "      <td>1</td>\n",
              "      <td>39.95</td>\n",
              "      <td>16.23</td>\n",
              "      <td>128475013</td>\n",
              "    </tr>\n",
              "  </tbody>\n",
              "</table>\n",
              "<p>32282 rows × 6 columns</p>\n",
              "</div>"
            ],
            "text/plain": [
              "        Customer  TransDate  Quantity  PurchAmount    Cost    TransID\n",
              "41        105474 2010-04-30         1       349.95  160.00  131139020\n",
              "50        103744 2010-04-03         1        69.95   28.00  131123290\n",
              "51        103744 2010-04-03         1        69.95   28.00  131123290\n",
              "52        103744 2010-04-03         1        19.95    2.30  131123290\n",
              "53        103744 2010-04-03         1        19.95    2.30  131123290\n",
              "...          ...        ...       ...          ...     ...        ...\n",
              "191724    163118 2010-12-31         1        89.95   52.53  128474646\n",
              "191725    163120 2010-12-31         1        59.95   23.75  128474822\n",
              "191726    163121 2010-12-31         1        34.95   16.44  128474938\n",
              "191727    163123 2010-12-31         1        39.95   15.56  128475013\n",
              "191728    163123 2010-12-31         1        39.95   16.23  128475013\n",
              "\n",
              "[32282 rows x 6 columns]"
            ]
          },
          "metadata": {
            "tags": []
          },
          "execution_count": 6
        }
      ]
    },
    {
      "cell_type": "markdown",
      "metadata": {
        "id": "AhAoZna7Unwq"
      },
      "source": [
        "3. Select purchases made on 19.12.2010 or on 21.12.2010 from the `myData` DataFrame. *Hint:* Make sure the date variable is in the correct format."
      ]
    },
    {
      "cell_type": "code",
      "metadata": {
        "id": "FzXHm5aYUzX1",
        "colab": {
          "base_uri": "https://localhost:8080/",
          "height": 419
        },
        "outputId": "700fbc45-0a6e-4f33-d3d1-0a026a230450"
      },
      "source": [
        "myData.loc[(myData[\"TransDate\"]==pd.to_datetime(\"2010-12-19\")) | (myData[\"TransDate\"]==pd.to_datetime(\"2010-12-21\"))]"
      ],
      "execution_count": null,
      "outputs": [
        {
          "output_type": "execute_result",
          "data": {
            "text/html": [
              "<div>\n",
              "<style scoped>\n",
              "    .dataframe tbody tr th:only-of-type {\n",
              "        vertical-align: middle;\n",
              "    }\n",
              "\n",
              "    .dataframe tbody tr th {\n",
              "        vertical-align: top;\n",
              "    }\n",
              "\n",
              "    .dataframe thead th {\n",
              "        text-align: right;\n",
              "    }\n",
              "</style>\n",
              "<table border=\"1\" class=\"dataframe\">\n",
              "  <thead>\n",
              "    <tr style=\"text-align: right;\">\n",
              "      <th></th>\n",
              "      <th>Customer</th>\n",
              "      <th>TransDate</th>\n",
              "      <th>Quantity</th>\n",
              "      <th>PurchAmount</th>\n",
              "      <th>Cost</th>\n",
              "      <th>TransID</th>\n",
              "    </tr>\n",
              "  </thead>\n",
              "  <tbody>\n",
              "    <tr>\n",
              "      <th>1218</th>\n",
              "      <td>130530</td>\n",
              "      <td>2010-12-19</td>\n",
              "      <td>1</td>\n",
              "      <td>24.95</td>\n",
              "      <td>7.50</td>\n",
              "      <td>128441051</td>\n",
              "    </tr>\n",
              "    <tr>\n",
              "      <th>1219</th>\n",
              "      <td>130530</td>\n",
              "      <td>2010-12-19</td>\n",
              "      <td>1</td>\n",
              "      <td>99.95</td>\n",
              "      <td>40.00</td>\n",
              "      <td>128441051</td>\n",
              "    </tr>\n",
              "    <tr>\n",
              "      <th>5150</th>\n",
              "      <td>102439</td>\n",
              "      <td>2010-12-19</td>\n",
              "      <td>1</td>\n",
              "      <td>399.95</td>\n",
              "      <td>235.00</td>\n",
              "      <td>131408614</td>\n",
              "    </tr>\n",
              "    <tr>\n",
              "      <th>5151</th>\n",
              "      <td>102439</td>\n",
              "      <td>2010-12-19</td>\n",
              "      <td>2</td>\n",
              "      <td>49.90</td>\n",
              "      <td>24.00</td>\n",
              "      <td>131408614</td>\n",
              "    </tr>\n",
              "    <tr>\n",
              "      <th>5152</th>\n",
              "      <td>102439</td>\n",
              "      <td>2010-12-19</td>\n",
              "      <td>1</td>\n",
              "      <td>349.95</td>\n",
              "      <td>227.00</td>\n",
              "      <td>131408614</td>\n",
              "    </tr>\n",
              "    <tr>\n",
              "      <th>...</th>\n",
              "      <td>...</td>\n",
              "      <td>...</td>\n",
              "      <td>...</td>\n",
              "      <td>...</td>\n",
              "      <td>...</td>\n",
              "      <td>...</td>\n",
              "    </tr>\n",
              "    <tr>\n",
              "      <th>191334</th>\n",
              "      <td>100273</td>\n",
              "      <td>2010-12-21</td>\n",
              "      <td>1</td>\n",
              "      <td>49.95</td>\n",
              "      <td>24.99</td>\n",
              "      <td>123501690</td>\n",
              "    </tr>\n",
              "    <tr>\n",
              "      <th>191335</th>\n",
              "      <td>162649</td>\n",
              "      <td>2010-12-21</td>\n",
              "      <td>1</td>\n",
              "      <td>69.95</td>\n",
              "      <td>29.40</td>\n",
              "      <td>128451507</td>\n",
              "    </tr>\n",
              "    <tr>\n",
              "      <th>191337</th>\n",
              "      <td>162650</td>\n",
              "      <td>2010-12-21</td>\n",
              "      <td>1</td>\n",
              "      <td>129.95</td>\n",
              "      <td>54.00</td>\n",
              "      <td>128451520</td>\n",
              "    </tr>\n",
              "    <tr>\n",
              "      <th>191338</th>\n",
              "      <td>162653</td>\n",
              "      <td>2010-12-21</td>\n",
              "      <td>1</td>\n",
              "      <td>349.95</td>\n",
              "      <td>227.00</td>\n",
              "      <td>128451575</td>\n",
              "    </tr>\n",
              "    <tr>\n",
              "      <th>191339</th>\n",
              "      <td>162655</td>\n",
              "      <td>2010-12-21</td>\n",
              "      <td>1</td>\n",
              "      <td>149.95</td>\n",
              "      <td>66.00</td>\n",
              "      <td>128451683</td>\n",
              "    </tr>\n",
              "  </tbody>\n",
              "</table>\n",
              "<p>328 rows × 6 columns</p>\n",
              "</div>"
            ],
            "text/plain": [
              "        Customer  TransDate  Quantity  PurchAmount    Cost    TransID\n",
              "1218      130530 2010-12-19         1        24.95    7.50  128441051\n",
              "1219      130530 2010-12-19         1        99.95   40.00  128441051\n",
              "5150      102439 2010-12-19         1       399.95  235.00  131408614\n",
              "5151      102439 2010-12-19         2        49.90   24.00  131408614\n",
              "5152      102439 2010-12-19         1       349.95  227.00  131408614\n",
              "...          ...        ...       ...          ...     ...        ...\n",
              "191334    100273 2010-12-21         1        49.95   24.99  123501690\n",
              "191335    162649 2010-12-21         1        69.95   29.40  128451507\n",
              "191337    162650 2010-12-21         1       129.95   54.00  128451520\n",
              "191338    162653 2010-12-21         1       349.95  227.00  128451575\n",
              "191339    162655 2010-12-21         1       149.95   66.00  128451683\n",
              "\n",
              "[328 rows x 6 columns]"
            ]
          },
          "metadata": {
            "tags": []
          },
          "execution_count": 5
        }
      ]
    },
    {
      "cell_type": "code",
      "metadata": {
        "id": "hZfWM6ENVBga",
        "colab": {
          "base_uri": "https://localhost:8080/",
          "height": 419
        },
        "outputId": "ef708f45-c000-48cf-d0b5-a1c8ec239149"
      },
      "source": [
        "#alternative solution\n",
        "myData.loc[myData[\"TransDate\"].isin([pd.to_datetime(\"2010-12-19\"), pd.to_datetime(\"2010-12-21\")]),]"
      ],
      "execution_count": null,
      "outputs": [
        {
          "output_type": "execute_result",
          "data": {
            "text/html": [
              "<div>\n",
              "<style scoped>\n",
              "    .dataframe tbody tr th:only-of-type {\n",
              "        vertical-align: middle;\n",
              "    }\n",
              "\n",
              "    .dataframe tbody tr th {\n",
              "        vertical-align: top;\n",
              "    }\n",
              "\n",
              "    .dataframe thead th {\n",
              "        text-align: right;\n",
              "    }\n",
              "</style>\n",
              "<table border=\"1\" class=\"dataframe\">\n",
              "  <thead>\n",
              "    <tr style=\"text-align: right;\">\n",
              "      <th></th>\n",
              "      <th>Customer</th>\n",
              "      <th>TransDate</th>\n",
              "      <th>Quantity</th>\n",
              "      <th>PurchAmount</th>\n",
              "      <th>Cost</th>\n",
              "      <th>TransID</th>\n",
              "    </tr>\n",
              "  </thead>\n",
              "  <tbody>\n",
              "    <tr>\n",
              "      <th>1218</th>\n",
              "      <td>130530</td>\n",
              "      <td>2010-12-19</td>\n",
              "      <td>1</td>\n",
              "      <td>24.95</td>\n",
              "      <td>7.50</td>\n",
              "      <td>128441051</td>\n",
              "    </tr>\n",
              "    <tr>\n",
              "      <th>1219</th>\n",
              "      <td>130530</td>\n",
              "      <td>2010-12-19</td>\n",
              "      <td>1</td>\n",
              "      <td>99.95</td>\n",
              "      <td>40.00</td>\n",
              "      <td>128441051</td>\n",
              "    </tr>\n",
              "    <tr>\n",
              "      <th>5150</th>\n",
              "      <td>102439</td>\n",
              "      <td>2010-12-19</td>\n",
              "      <td>1</td>\n",
              "      <td>399.95</td>\n",
              "      <td>235.00</td>\n",
              "      <td>131408614</td>\n",
              "    </tr>\n",
              "    <tr>\n",
              "      <th>5151</th>\n",
              "      <td>102439</td>\n",
              "      <td>2010-12-19</td>\n",
              "      <td>2</td>\n",
              "      <td>49.90</td>\n",
              "      <td>24.00</td>\n",
              "      <td>131408614</td>\n",
              "    </tr>\n",
              "    <tr>\n",
              "      <th>5152</th>\n",
              "      <td>102439</td>\n",
              "      <td>2010-12-19</td>\n",
              "      <td>1</td>\n",
              "      <td>349.95</td>\n",
              "      <td>227.00</td>\n",
              "      <td>131408614</td>\n",
              "    </tr>\n",
              "    <tr>\n",
              "      <th>...</th>\n",
              "      <td>...</td>\n",
              "      <td>...</td>\n",
              "      <td>...</td>\n",
              "      <td>...</td>\n",
              "      <td>...</td>\n",
              "      <td>...</td>\n",
              "    </tr>\n",
              "    <tr>\n",
              "      <th>191334</th>\n",
              "      <td>100273</td>\n",
              "      <td>2010-12-21</td>\n",
              "      <td>1</td>\n",
              "      <td>49.95</td>\n",
              "      <td>24.99</td>\n",
              "      <td>123501690</td>\n",
              "    </tr>\n",
              "    <tr>\n",
              "      <th>191335</th>\n",
              "      <td>162649</td>\n",
              "      <td>2010-12-21</td>\n",
              "      <td>1</td>\n",
              "      <td>69.95</td>\n",
              "      <td>29.40</td>\n",
              "      <td>128451507</td>\n",
              "    </tr>\n",
              "    <tr>\n",
              "      <th>191337</th>\n",
              "      <td>162650</td>\n",
              "      <td>2010-12-21</td>\n",
              "      <td>1</td>\n",
              "      <td>129.95</td>\n",
              "      <td>54.00</td>\n",
              "      <td>128451520</td>\n",
              "    </tr>\n",
              "    <tr>\n",
              "      <th>191338</th>\n",
              "      <td>162653</td>\n",
              "      <td>2010-12-21</td>\n",
              "      <td>1</td>\n",
              "      <td>349.95</td>\n",
              "      <td>227.00</td>\n",
              "      <td>128451575</td>\n",
              "    </tr>\n",
              "    <tr>\n",
              "      <th>191339</th>\n",
              "      <td>162655</td>\n",
              "      <td>2010-12-21</td>\n",
              "      <td>1</td>\n",
              "      <td>149.95</td>\n",
              "      <td>66.00</td>\n",
              "      <td>128451683</td>\n",
              "    </tr>\n",
              "  </tbody>\n",
              "</table>\n",
              "<p>328 rows × 6 columns</p>\n",
              "</div>"
            ],
            "text/plain": [
              "        Customer  TransDate  Quantity  PurchAmount    Cost    TransID\n",
              "1218      130530 2010-12-19         1        24.95    7.50  128441051\n",
              "1219      130530 2010-12-19         1        99.95   40.00  128441051\n",
              "5150      102439 2010-12-19         1       399.95  235.00  131408614\n",
              "5151      102439 2010-12-19         2        49.90   24.00  131408614\n",
              "5152      102439 2010-12-19         1       349.95  227.00  131408614\n",
              "...          ...        ...       ...          ...     ...        ...\n",
              "191334    100273 2010-12-21         1        49.95   24.99  123501690\n",
              "191335    162649 2010-12-21         1        69.95   29.40  128451507\n",
              "191337    162650 2010-12-21         1       129.95   54.00  128451520\n",
              "191338    162653 2010-12-21         1       349.95  227.00  128451575\n",
              "191339    162655 2010-12-21         1       149.95   66.00  128451683\n",
              "\n",
              "[328 rows x 6 columns]"
            ]
          },
          "metadata": {
            "tags": []
          },
          "execution_count": 6
        }
      ]
    },
    {
      "cell_type": "markdown",
      "metadata": {
        "id": "jeUv5CENU3ZJ"
      },
      "source": [
        "4. Select all purchases with quantities between 2 and 5 (including 2 and 5) from the `myData` DataFrame.\n"
      ]
    },
    {
      "cell_type": "code",
      "metadata": {
        "id": "LebnWALzVFLy",
        "colab": {
          "base_uri": "https://localhost:8080/",
          "height": 419
        },
        "outputId": "59e3e851-e164-469b-9af9-49cdd042b8ad"
      },
      "source": [
        "myData.loc[(myData[\"Quantity\"]>=2) & (myData[\"Quantity\"]<=5),]"
      ],
      "execution_count": null,
      "outputs": [
        {
          "output_type": "execute_result",
          "data": {
            "text/html": [
              "<div>\n",
              "<style scoped>\n",
              "    .dataframe tbody tr th:only-of-type {\n",
              "        vertical-align: middle;\n",
              "    }\n",
              "\n",
              "    .dataframe tbody tr th {\n",
              "        vertical-align: top;\n",
              "    }\n",
              "\n",
              "    .dataframe thead th {\n",
              "        text-align: right;\n",
              "    }\n",
              "</style>\n",
              "<table border=\"1\" class=\"dataframe\">\n",
              "  <thead>\n",
              "    <tr style=\"text-align: right;\">\n",
              "      <th></th>\n",
              "      <th>Customer</th>\n",
              "      <th>TransDate</th>\n",
              "      <th>Quantity</th>\n",
              "      <th>PurchAmount</th>\n",
              "      <th>Cost</th>\n",
              "      <th>TransID</th>\n",
              "    </tr>\n",
              "  </thead>\n",
              "  <tbody>\n",
              "    <tr>\n",
              "      <th>15</th>\n",
              "      <td>182927</td>\n",
              "      <td>2009-11-02</td>\n",
              "      <td>2</td>\n",
              "      <td>59.90</td>\n",
              "      <td>15.92</td>\n",
              "      <td>129290963</td>\n",
              "    </tr>\n",
              "    <tr>\n",
              "      <th>45</th>\n",
              "      <td>103744</td>\n",
              "      <td>2006-12-04</td>\n",
              "      <td>2</td>\n",
              "      <td>179.90</td>\n",
              "      <td>80.96</td>\n",
              "      <td>128327768</td>\n",
              "    </tr>\n",
              "    <tr>\n",
              "      <th>95</th>\n",
              "      <td>166430</td>\n",
              "      <td>2009-12-11</td>\n",
              "      <td>2</td>\n",
              "      <td>59.90</td>\n",
              "      <td>26.28</td>\n",
              "      <td>131031402</td>\n",
              "    </tr>\n",
              "    <tr>\n",
              "      <th>115</th>\n",
              "      <td>192852</td>\n",
              "      <td>2010-11-08</td>\n",
              "      <td>3</td>\n",
              "      <td>149.85</td>\n",
              "      <td>67.98</td>\n",
              "      <td>131286487</td>\n",
              "    </tr>\n",
              "    <tr>\n",
              "      <th>116</th>\n",
              "      <td>192852</td>\n",
              "      <td>2010-11-08</td>\n",
              "      <td>3</td>\n",
              "      <td>14.85</td>\n",
              "      <td>3.24</td>\n",
              "      <td>131286487</td>\n",
              "    </tr>\n",
              "    <tr>\n",
              "      <th>...</th>\n",
              "      <td>...</td>\n",
              "      <td>...</td>\n",
              "      <td>...</td>\n",
              "      <td>...</td>\n",
              "      <td>...</td>\n",
              "      <td>...</td>\n",
              "    </tr>\n",
              "    <tr>\n",
              "      <th>222764</th>\n",
              "      <td>199445</td>\n",
              "      <td>2012-09-05</td>\n",
              "      <td>2</td>\n",
              "      <td>259.90</td>\n",
              "      <td>120.00</td>\n",
              "      <td>131962640</td>\n",
              "    </tr>\n",
              "    <tr>\n",
              "      <th>222854</th>\n",
              "      <td>199467</td>\n",
              "      <td>2012-09-06</td>\n",
              "      <td>2</td>\n",
              "      <td>59.90</td>\n",
              "      <td>24.00</td>\n",
              "      <td>131964938</td>\n",
              "    </tr>\n",
              "    <tr>\n",
              "      <th>222869</th>\n",
              "      <td>199469</td>\n",
              "      <td>2012-09-07</td>\n",
              "      <td>2</td>\n",
              "      <td>119.90</td>\n",
              "      <td>60.00</td>\n",
              "      <td>131965402</td>\n",
              "    </tr>\n",
              "    <tr>\n",
              "      <th>223013</th>\n",
              "      <td>199507</td>\n",
              "      <td>2012-09-11</td>\n",
              "      <td>2</td>\n",
              "      <td>99.90</td>\n",
              "      <td>28.08</td>\n",
              "      <td>131968692</td>\n",
              "    </tr>\n",
              "    <tr>\n",
              "      <th>223076</th>\n",
              "      <td>199517</td>\n",
              "      <td>2012-09-13</td>\n",
              "      <td>2</td>\n",
              "      <td>69.90</td>\n",
              "      <td>25.30</td>\n",
              "      <td>131970153</td>\n",
              "    </tr>\n",
              "  </tbody>\n",
              "</table>\n",
              "<p>5121 rows × 6 columns</p>\n",
              "</div>"
            ],
            "text/plain": [
              "        Customer  TransDate  Quantity  PurchAmount    Cost    TransID\n",
              "15        182927 2009-11-02         2        59.90   15.92  129290963\n",
              "45        103744 2006-12-04         2       179.90   80.96  128327768\n",
              "95        166430 2009-12-11         2        59.90   26.28  131031402\n",
              "115       192852 2010-11-08         3       149.85   67.98  131286487\n",
              "116       192852 2010-11-08         3        14.85    3.24  131286487\n",
              "...          ...        ...       ...          ...     ...        ...\n",
              "222764    199445 2012-09-05         2       259.90  120.00  131962640\n",
              "222854    199467 2012-09-06         2        59.90   24.00  131964938\n",
              "222869    199469 2012-09-07         2       119.90   60.00  131965402\n",
              "223013    199507 2012-09-11         2        99.90   28.08  131968692\n",
              "223076    199517 2012-09-13         2        69.90   25.30  131970153\n",
              "\n",
              "[5121 rows x 6 columns]"
            ]
          },
          "metadata": {
            "tags": []
          },
          "execution_count": 5
        }
      ]
    },
    {
      "cell_type": "markdown",
      "metadata": {
        "id": "s3221oTmVHds"
      },
      "source": [
        "5. Select all purchases with purchase amount greater than 100 which were made from 01.01.2009 onwards from the `myData` DataFrame.\n"
      ]
    },
    {
      "cell_type": "code",
      "metadata": {
        "id": "9jTTKLh1VNwN"
      },
      "source": [
        "myData.loc[(myData[\"TransDate\"]>pd.to_datetime(\"2009-01-01\")) & (myData[\"PurchAmount\"]>100), ]"
      ],
      "execution_count": null,
      "outputs": []
    },
    {
      "cell_type": "markdown",
      "metadata": {
        "id": "XW-Ewl7skxDp"
      },
      "source": [
        "###18 - Selecting columns"
      ]
    },
    {
      "cell_type": "markdown",
      "metadata": {
        "id": "lMP5naoWk3B_"
      },
      "source": [
        "1. First, select rows 1 to 100 and save the subset in your working environment."
      ]
    },
    {
      "cell_type": "code",
      "metadata": {
        "id": "hyWqP8ohk-Qr",
        "colab": {
          "base_uri": "https://localhost:8080/",
          "height": 419
        },
        "outputId": "0546cda8-64bf-499b-ccc6-977d50707039"
      },
      "source": [
        "myData.iloc[0:100, ]"
      ],
      "execution_count": null,
      "outputs": [
        {
          "output_type": "execute_result",
          "data": {
            "text/html": [
              "<div>\n",
              "<style scoped>\n",
              "    .dataframe tbody tr th:only-of-type {\n",
              "        vertical-align: middle;\n",
              "    }\n",
              "\n",
              "    .dataframe tbody tr th {\n",
              "        vertical-align: top;\n",
              "    }\n",
              "\n",
              "    .dataframe thead th {\n",
              "        text-align: right;\n",
              "    }\n",
              "</style>\n",
              "<table border=\"1\" class=\"dataframe\">\n",
              "  <thead>\n",
              "    <tr style=\"text-align: right;\">\n",
              "      <th></th>\n",
              "      <th>Customer</th>\n",
              "      <th>TransDate</th>\n",
              "      <th>Quantity</th>\n",
              "      <th>PurchAmount</th>\n",
              "      <th>Cost</th>\n",
              "      <th>TransID</th>\n",
              "    </tr>\n",
              "  </thead>\n",
              "  <tbody>\n",
              "    <tr>\n",
              "      <th>0</th>\n",
              "      <td>149332</td>\n",
              "      <td>2005-11-15</td>\n",
              "      <td>1</td>\n",
              "      <td>199.95</td>\n",
              "      <td>107.00</td>\n",
              "      <td>127998739</td>\n",
              "    </tr>\n",
              "    <tr>\n",
              "      <th>1</th>\n",
              "      <td>172951</td>\n",
              "      <td>2008-08-29</td>\n",
              "      <td>1</td>\n",
              "      <td>199.95</td>\n",
              "      <td>108.00</td>\n",
              "      <td>128888288</td>\n",
              "    </tr>\n",
              "    <tr>\n",
              "      <th>2</th>\n",
              "      <td>120621</td>\n",
              "      <td>2007-10-19</td>\n",
              "      <td>1</td>\n",
              "      <td>99.95</td>\n",
              "      <td>49.00</td>\n",
              "      <td>125375247</td>\n",
              "    </tr>\n",
              "    <tr>\n",
              "      <th>3</th>\n",
              "      <td>149236</td>\n",
              "      <td>2005-11-14</td>\n",
              "      <td>1</td>\n",
              "      <td>39.95</td>\n",
              "      <td>18.95</td>\n",
              "      <td>127996226</td>\n",
              "    </tr>\n",
              "    <tr>\n",
              "      <th>4</th>\n",
              "      <td>149236</td>\n",
              "      <td>2007-12-06</td>\n",
              "      <td>1</td>\n",
              "      <td>79.95</td>\n",
              "      <td>35.00</td>\n",
              "      <td>128670302</td>\n",
              "    </tr>\n",
              "    <tr>\n",
              "      <th>...</th>\n",
              "      <td>...</td>\n",
              "      <td>...</td>\n",
              "      <td>...</td>\n",
              "      <td>...</td>\n",
              "      <td>...</td>\n",
              "      <td>...</td>\n",
              "    </tr>\n",
              "    <tr>\n",
              "      <th>95</th>\n",
              "      <td>166430</td>\n",
              "      <td>2009-12-11</td>\n",
              "      <td>2</td>\n",
              "      <td>59.90</td>\n",
              "      <td>26.28</td>\n",
              "      <td>131031402</td>\n",
              "    </tr>\n",
              "    <tr>\n",
              "      <th>96</th>\n",
              "      <td>166430</td>\n",
              "      <td>2009-12-11</td>\n",
              "      <td>1</td>\n",
              "      <td>49.95</td>\n",
              "      <td>19.68</td>\n",
              "      <td>131031402</td>\n",
              "    </tr>\n",
              "    <tr>\n",
              "      <th>97</th>\n",
              "      <td>166430</td>\n",
              "      <td>2009-12-11</td>\n",
              "      <td>1</td>\n",
              "      <td>49.95</td>\n",
              "      <td>14.00</td>\n",
              "      <td>131031402</td>\n",
              "    </tr>\n",
              "    <tr>\n",
              "      <th>98</th>\n",
              "      <td>166430</td>\n",
              "      <td>2009-12-30</td>\n",
              "      <td>1</td>\n",
              "      <td>54.95</td>\n",
              "      <td>22.60</td>\n",
              "      <td>131057187</td>\n",
              "    </tr>\n",
              "    <tr>\n",
              "      <th>99</th>\n",
              "      <td>187038</td>\n",
              "      <td>2007-09-24</td>\n",
              "      <td>1</td>\n",
              "      <td>39.95</td>\n",
              "      <td>22.63</td>\n",
              "      <td>129908139</td>\n",
              "    </tr>\n",
              "  </tbody>\n",
              "</table>\n",
              "<p>100 rows × 6 columns</p>\n",
              "</div>"
            ],
            "text/plain": [
              "    Customer  TransDate  Quantity  PurchAmount    Cost    TransID\n",
              "0     149332 2005-11-15         1       199.95  107.00  127998739\n",
              "1     172951 2008-08-29         1       199.95  108.00  128888288\n",
              "2     120621 2007-10-19         1        99.95   49.00  125375247\n",
              "3     149236 2005-11-14         1        39.95   18.95  127996226\n",
              "4     149236 2007-12-06         1        79.95   35.00  128670302\n",
              "..       ...        ...       ...          ...     ...        ...\n",
              "95    166430 2009-12-11         2        59.90   26.28  131031402\n",
              "96    166430 2009-12-11         1        49.95   19.68  131031402\n",
              "97    166430 2009-12-11         1        49.95   14.00  131031402\n",
              "98    166430 2009-12-30         1        54.95   22.60  131057187\n",
              "99    187038 2007-09-24         1        39.95   22.63  129908139\n",
              "\n",
              "[100 rows x 6 columns]"
            ]
          },
          "metadata": {
            "tags": []
          },
          "execution_count": 8
        }
      ]
    },
    {
      "cell_type": "markdown",
      "metadata": {
        "id": "lAKGNNSRk6r6"
      },
      "source": [
        "2. From this, select the following columns: `Customer`, `TransDate`, and `Quantity`.\n"
      ]
    },
    {
      "cell_type": "code",
      "metadata": {
        "id": "mZiUd7DLk-z-",
        "colab": {
          "base_uri": "https://localhost:8080/",
          "height": 419
        },
        "outputId": "710345e1-77f7-4fac-c669-6a3782dd911a"
      },
      "source": [
        "#Variante 1:\n",
        "myData[[\"Customer\",\"TransDate\", \"Quantity\"]].iloc[0:100,]"
      ],
      "execution_count": null,
      "outputs": [
        {
          "output_type": "execute_result",
          "data": {
            "text/html": [
              "<div>\n",
              "<style scoped>\n",
              "    .dataframe tbody tr th:only-of-type {\n",
              "        vertical-align: middle;\n",
              "    }\n",
              "\n",
              "    .dataframe tbody tr th {\n",
              "        vertical-align: top;\n",
              "    }\n",
              "\n",
              "    .dataframe thead th {\n",
              "        text-align: right;\n",
              "    }\n",
              "</style>\n",
              "<table border=\"1\" class=\"dataframe\">\n",
              "  <thead>\n",
              "    <tr style=\"text-align: right;\">\n",
              "      <th></th>\n",
              "      <th>Customer</th>\n",
              "      <th>TransDate</th>\n",
              "      <th>Quantity</th>\n",
              "    </tr>\n",
              "  </thead>\n",
              "  <tbody>\n",
              "    <tr>\n",
              "      <th>0</th>\n",
              "      <td>149332</td>\n",
              "      <td>2005-11-15</td>\n",
              "      <td>1</td>\n",
              "    </tr>\n",
              "    <tr>\n",
              "      <th>1</th>\n",
              "      <td>172951</td>\n",
              "      <td>2008-08-29</td>\n",
              "      <td>1</td>\n",
              "    </tr>\n",
              "    <tr>\n",
              "      <th>2</th>\n",
              "      <td>120621</td>\n",
              "      <td>2007-10-19</td>\n",
              "      <td>1</td>\n",
              "    </tr>\n",
              "    <tr>\n",
              "      <th>3</th>\n",
              "      <td>149236</td>\n",
              "      <td>2005-11-14</td>\n",
              "      <td>1</td>\n",
              "    </tr>\n",
              "    <tr>\n",
              "      <th>4</th>\n",
              "      <td>149236</td>\n",
              "      <td>2007-12-06</td>\n",
              "      <td>1</td>\n",
              "    </tr>\n",
              "    <tr>\n",
              "      <th>...</th>\n",
              "      <td>...</td>\n",
              "      <td>...</td>\n",
              "      <td>...</td>\n",
              "    </tr>\n",
              "    <tr>\n",
              "      <th>95</th>\n",
              "      <td>166430</td>\n",
              "      <td>2009-12-11</td>\n",
              "      <td>2</td>\n",
              "    </tr>\n",
              "    <tr>\n",
              "      <th>96</th>\n",
              "      <td>166430</td>\n",
              "      <td>2009-12-11</td>\n",
              "      <td>1</td>\n",
              "    </tr>\n",
              "    <tr>\n",
              "      <th>97</th>\n",
              "      <td>166430</td>\n",
              "      <td>2009-12-11</td>\n",
              "      <td>1</td>\n",
              "    </tr>\n",
              "    <tr>\n",
              "      <th>98</th>\n",
              "      <td>166430</td>\n",
              "      <td>2009-12-30</td>\n",
              "      <td>1</td>\n",
              "    </tr>\n",
              "    <tr>\n",
              "      <th>99</th>\n",
              "      <td>187038</td>\n",
              "      <td>2007-09-24</td>\n",
              "      <td>1</td>\n",
              "    </tr>\n",
              "  </tbody>\n",
              "</table>\n",
              "<p>100 rows × 3 columns</p>\n",
              "</div>"
            ],
            "text/plain": [
              "    Customer  TransDate  Quantity\n",
              "0     149332 2005-11-15         1\n",
              "1     172951 2008-08-29         1\n",
              "2     120621 2007-10-19         1\n",
              "3     149236 2005-11-14         1\n",
              "4     149236 2007-12-06         1\n",
              "..       ...        ...       ...\n",
              "95    166430 2009-12-11         2\n",
              "96    166430 2009-12-11         1\n",
              "97    166430 2009-12-11         1\n",
              "98    166430 2009-12-30         1\n",
              "99    187038 2007-09-24         1\n",
              "\n",
              "[100 rows x 3 columns]"
            ]
          },
          "metadata": {
            "tags": []
          },
          "execution_count": 9
        }
      ]
    },
    {
      "cell_type": "code",
      "metadata": {
        "id": "U1cIv4PYWKlQ",
        "colab": {
          "base_uri": "https://localhost:8080/",
          "height": 419
        },
        "outputId": "6c1b8f80-8ec1-4291-ad35-88ee216a99b6"
      },
      "source": [
        "#Variante 2\n",
        "myData.iloc[0:100][[\"Customer\",\"TransDate\", \"Quantity\"]]"
      ],
      "execution_count": null,
      "outputs": [
        {
          "output_type": "execute_result",
          "data": {
            "text/html": [
              "<div>\n",
              "<style scoped>\n",
              "    .dataframe tbody tr th:only-of-type {\n",
              "        vertical-align: middle;\n",
              "    }\n",
              "\n",
              "    .dataframe tbody tr th {\n",
              "        vertical-align: top;\n",
              "    }\n",
              "\n",
              "    .dataframe thead th {\n",
              "        text-align: right;\n",
              "    }\n",
              "</style>\n",
              "<table border=\"1\" class=\"dataframe\">\n",
              "  <thead>\n",
              "    <tr style=\"text-align: right;\">\n",
              "      <th></th>\n",
              "      <th>Customer</th>\n",
              "      <th>TransDate</th>\n",
              "      <th>Quantity</th>\n",
              "    </tr>\n",
              "  </thead>\n",
              "  <tbody>\n",
              "    <tr>\n",
              "      <th>0</th>\n",
              "      <td>149332</td>\n",
              "      <td>2005-11-15</td>\n",
              "      <td>1</td>\n",
              "    </tr>\n",
              "    <tr>\n",
              "      <th>1</th>\n",
              "      <td>172951</td>\n",
              "      <td>2008-08-29</td>\n",
              "      <td>1</td>\n",
              "    </tr>\n",
              "    <tr>\n",
              "      <th>2</th>\n",
              "      <td>120621</td>\n",
              "      <td>2007-10-19</td>\n",
              "      <td>1</td>\n",
              "    </tr>\n",
              "    <tr>\n",
              "      <th>3</th>\n",
              "      <td>149236</td>\n",
              "      <td>2005-11-14</td>\n",
              "      <td>1</td>\n",
              "    </tr>\n",
              "    <tr>\n",
              "      <th>4</th>\n",
              "      <td>149236</td>\n",
              "      <td>2007-12-06</td>\n",
              "      <td>1</td>\n",
              "    </tr>\n",
              "    <tr>\n",
              "      <th>...</th>\n",
              "      <td>...</td>\n",
              "      <td>...</td>\n",
              "      <td>...</td>\n",
              "    </tr>\n",
              "    <tr>\n",
              "      <th>95</th>\n",
              "      <td>166430</td>\n",
              "      <td>2009-12-11</td>\n",
              "      <td>2</td>\n",
              "    </tr>\n",
              "    <tr>\n",
              "      <th>96</th>\n",
              "      <td>166430</td>\n",
              "      <td>2009-12-11</td>\n",
              "      <td>1</td>\n",
              "    </tr>\n",
              "    <tr>\n",
              "      <th>97</th>\n",
              "      <td>166430</td>\n",
              "      <td>2009-12-11</td>\n",
              "      <td>1</td>\n",
              "    </tr>\n",
              "    <tr>\n",
              "      <th>98</th>\n",
              "      <td>166430</td>\n",
              "      <td>2009-12-30</td>\n",
              "      <td>1</td>\n",
              "    </tr>\n",
              "    <tr>\n",
              "      <th>99</th>\n",
              "      <td>187038</td>\n",
              "      <td>2007-09-24</td>\n",
              "      <td>1</td>\n",
              "    </tr>\n",
              "  </tbody>\n",
              "</table>\n",
              "<p>100 rows × 3 columns</p>\n",
              "</div>"
            ],
            "text/plain": [
              "    Customer  TransDate  Quantity\n",
              "0     149332 2005-11-15         1\n",
              "1     172951 2008-08-29         1\n",
              "2     120621 2007-10-19         1\n",
              "3     149236 2005-11-14         1\n",
              "4     149236 2007-12-06         1\n",
              "..       ...        ...       ...\n",
              "95    166430 2009-12-11         2\n",
              "96    166430 2009-12-11         1\n",
              "97    166430 2009-12-11         1\n",
              "98    166430 2009-12-30         1\n",
              "99    187038 2007-09-24         1\n",
              "\n",
              "[100 rows x 3 columns]"
            ]
          },
          "metadata": {
            "tags": []
          },
          "execution_count": 10
        }
      ]
    },
    {
      "cell_type": "code",
      "metadata": {
        "id": "reH4Rtyq1PrD"
      },
      "source": [
        "#Variante 3\n",
        "myData.iloc[0:100, [0,1,2]]"
      ],
      "execution_count": null,
      "outputs": []
    },
    {
      "cell_type": "code",
      "metadata": {
        "id": "8lZNoBPQ1QPB"
      },
      "source": [
        "#Variante 4\n",
        "myData.iloc[0:100,0:3]"
      ],
      "execution_count": null,
      "outputs": []
    },
    {
      "cell_type": "markdown",
      "metadata": {
        "id": "jf-326eymI_W"
      },
      "source": [
        "3. Select the columns `Customer` and `Cost` from all rows with a purchase amount  between 100 and 200.\n",
        "\n"
      ]
    },
    {
      "cell_type": "code",
      "metadata": {
        "id": "mvkjTqZ8mXvV",
        "colab": {
          "base_uri": "https://localhost:8080/",
          "height": 419
        },
        "outputId": "129b9d2a-e567-40cc-96ab-ee4838acd85b"
      },
      "source": [
        "myData.loc[(myData[\"PurchAmount\"]>100)&(myData[\"PurchAmount\"]<200), [\"Customer\",\"Cost\"]]"
      ],
      "execution_count": null,
      "outputs": [
        {
          "output_type": "execute_result",
          "data": {
            "text/html": [
              "<div>\n",
              "<style scoped>\n",
              "    .dataframe tbody tr th:only-of-type {\n",
              "        vertical-align: middle;\n",
              "    }\n",
              "\n",
              "    .dataframe tbody tr th {\n",
              "        vertical-align: top;\n",
              "    }\n",
              "\n",
              "    .dataframe thead th {\n",
              "        text-align: right;\n",
              "    }\n",
              "</style>\n",
              "<table border=\"1\" class=\"dataframe\">\n",
              "  <thead>\n",
              "    <tr style=\"text-align: right;\">\n",
              "      <th></th>\n",
              "      <th>Customer</th>\n",
              "      <th>Cost</th>\n",
              "    </tr>\n",
              "  </thead>\n",
              "  <tbody>\n",
              "    <tr>\n",
              "      <th>0</th>\n",
              "      <td>149332</td>\n",
              "      <td>107.00</td>\n",
              "    </tr>\n",
              "    <tr>\n",
              "      <th>1</th>\n",
              "      <td>172951</td>\n",
              "      <td>108.00</td>\n",
              "    </tr>\n",
              "    <tr>\n",
              "      <th>5</th>\n",
              "      <td>140729</td>\n",
              "      <td>59.00</td>\n",
              "    </tr>\n",
              "    <tr>\n",
              "      <th>11</th>\n",
              "      <td>180970</td>\n",
              "      <td>58.46</td>\n",
              "    </tr>\n",
              "    <tr>\n",
              "      <th>17</th>\n",
              "      <td>182927</td>\n",
              "      <td>63.08</td>\n",
              "    </tr>\n",
              "    <tr>\n",
              "      <th>...</th>\n",
              "      <td>...</td>\n",
              "      <td>...</td>\n",
              "    </tr>\n",
              "    <tr>\n",
              "      <th>223164</th>\n",
              "      <td>199539</td>\n",
              "      <td>40.25</td>\n",
              "    </tr>\n",
              "    <tr>\n",
              "      <th>223166</th>\n",
              "      <td>186343</td>\n",
              "      <td>63.00</td>\n",
              "    </tr>\n",
              "    <tr>\n",
              "      <th>223167</th>\n",
              "      <td>186344</td>\n",
              "      <td>54.50</td>\n",
              "    </tr>\n",
              "    <tr>\n",
              "      <th>223176</th>\n",
              "      <td>199996</td>\n",
              "      <td>104.99</td>\n",
              "    </tr>\n",
              "    <tr>\n",
              "      <th>223189</th>\n",
              "      <td>199999</td>\n",
              "      <td>109.99</td>\n",
              "    </tr>\n",
              "  </tbody>\n",
              "</table>\n",
              "<p>33818 rows × 2 columns</p>\n",
              "</div>"
            ],
            "text/plain": [
              "        Customer    Cost\n",
              "0         149332  107.00\n",
              "1         172951  108.00\n",
              "5         140729   59.00\n",
              "11        180970   58.46\n",
              "17        182927   63.08\n",
              "...          ...     ...\n",
              "223164    199539   40.25\n",
              "223166    186343   63.00\n",
              "223167    186344   54.50\n",
              "223176    199996  104.99\n",
              "223189    199999  109.99\n",
              "\n",
              "[33818 rows x 2 columns]"
            ]
          },
          "metadata": {
            "tags": []
          },
          "execution_count": 11
        }
      ]
    },
    {
      "cell_type": "markdown",
      "metadata": {
        "id": "L7WgG_s2mdqq"
      },
      "source": [
        "###19 - Appending and updating rows and columns"
      ]
    },
    {
      "cell_type": "markdown",
      "metadata": {
        "id": "Pk9VLgufnl8B"
      },
      "source": [
        "1. Create a new column calculating the difference between `PurchAmount` and `Cost`. Call it `Profit`.\n",
        "\n"
      ]
    },
    {
      "cell_type": "code",
      "metadata": {
        "id": "7QiA384dWrV3",
        "colab": {
          "base_uri": "https://localhost:8080/",
          "height": 255
        },
        "outputId": "2b85728d-906f-47ad-b051-f7b0e4161bbe"
      },
      "source": [
        "myData[\"Profit\"] = myData[\"PurchAmount\"]-myData[\"Cost\"]\n",
        "print(myData)"
      ],
      "execution_count": null,
      "outputs": [
        {
          "output_type": "stream",
          "text": [
            "        Customer  TransDate  Quantity  PurchAmount    Cost    TransID  Profit\n",
            "0         149332 2005-11-15         1       199.95  107.00  127998739   92.95\n",
            "1         172951 2008-08-29         1       199.95  108.00  128888288   91.95\n",
            "2         120621 2007-10-19         1        99.95   49.00  125375247   50.95\n",
            "3         149236 2005-11-14         1        39.95   18.95  127996226   21.00\n",
            "4         149236 2007-12-06         1        79.95   35.00  128670302   44.95\n",
            "...          ...        ...       ...          ...     ...        ...     ...\n",
            "223186    199997 2012-09-17         1        29.95   13.80  132481149   16.15\n",
            "223187    199997 2012-09-17         1        29.95   13.80  132481149   16.15\n",
            "223188    199998 2012-09-17         1        29.95   13.80  132481154   16.15\n",
            "223189    199999 2012-09-17         1       179.95  109.99  132481165   69.96\n",
            "223190    199542 2012-09-17         1        39.95   10.50  131973368   29.45\n",
            "\n",
            "[223191 rows x 7 columns]\n"
          ],
          "name": "stdout"
        }
      ]
    },
    {
      "cell_type": "markdown",
      "metadata": {
        "id": "pZLq6d6vW1NP"
      },
      "source": [
        "2. Rename Profit to `ProfitChange`."
      ]
    },
    {
      "cell_type": "code",
      "metadata": {
        "id": "N-9wdT1rbPP5",
        "colab": {
          "base_uri": "https://localhost:8080/",
          "height": 255
        },
        "outputId": "491b8443-506c-48c4-eafd-61964a67dfc9"
      },
      "source": [
        "#Variant 1:\n",
        "myData=myData.rename(columns = {\"Profit\":\"ProfitChange\"})\n",
        "print(myData)"
      ],
      "execution_count": null,
      "outputs": [
        {
          "output_type": "stream",
          "text": [
            "        Customer  TransDate  Quantity  ...    Cost    TransID  ProfitChange\n",
            "0         149332 2005-11-15         1  ...  107.00  127998739         92.95\n",
            "1         172951 2008-08-29         1  ...  108.00  128888288         91.95\n",
            "2         120621 2007-10-19         1  ...   49.00  125375247         50.95\n",
            "3         149236 2005-11-14         1  ...   18.95  127996226         21.00\n",
            "4         149236 2007-12-06         1  ...   35.00  128670302         44.95\n",
            "...          ...        ...       ...  ...     ...        ...           ...\n",
            "223186    199997 2012-09-17         1  ...   13.80  132481149         16.15\n",
            "223187    199997 2012-09-17         1  ...   13.80  132481149         16.15\n",
            "223188    199998 2012-09-17         1  ...   13.80  132481154         16.15\n",
            "223189    199999 2012-09-17         1  ...  109.99  132481165         69.96\n",
            "223190    199542 2012-09-17         1  ...   10.50  131973368         29.45\n",
            "\n",
            "[223191 rows x 7 columns]\n"
          ],
          "name": "stdout"
        }
      ]
    },
    {
      "cell_type": "code",
      "metadata": {
        "id": "u9FBdLGVbThO"
      },
      "source": [
        "#Variant 2:\n",
        "myData.rename(columns = {\"Profit\":\"ProfitChange\"},inplace=True)\n",
        "print(myData)"
      ],
      "execution_count": null,
      "outputs": []
    },
    {
      "cell_type": "markdown",
      "metadata": {
        "id": "Rzbc6KQHbg_p"
      },
      "source": [
        "3. Delete `ProfitChange` again"
      ]
    },
    {
      "cell_type": "code",
      "metadata": {
        "id": "-bBDa6uwb5Jh"
      },
      "source": [
        "del myData[\"ProfitChange\"]"
      ],
      "execution_count": null,
      "outputs": []
    },
    {
      "cell_type": "code",
      "metadata": {
        "id": "OCL_l3VUcVaG"
      },
      "source": [
        "#reset the dataset by reading it again\n",
        "#Read the csv file and store it in the variable \"myData\". Note: this file is hostes in a GitHub repository.\n",
        "myData=pd.read_csv(filepath_or_buffer=\"https://raw.githubusercontent.com/bachmannpatrick/Python-Class/master/data/transactions.csv\", sep=\",\")\n",
        "# Adjust the format of column \"TransDate\" to datetime\n",
        "myData[\"TransDate\"]  = pd.to_datetime(myData[\"TransDate\"])"
      ],
      "execution_count": null,
      "outputs": []
    },
    {
      "cell_type": "markdown",
      "metadata": {
        "id": "ANBT0Ckhb7s7"
      },
      "source": [
        "4. Create a copy of `myData` and name it `mydata_toppurchases`. In the new DataFrame delete all transactions with a `PurchAmount` smaller than 100.\n"
      ]
    },
    {
      "cell_type": "code",
      "metadata": {
        "id": "O06MaLqdcEQt",
        "colab": {
          "base_uri": "https://localhost:8080/",
          "height": 34
        },
        "outputId": "219ccc45-5abf-4519-f087-60f15c4987a3"
      },
      "source": [
        "#Create a copy of myData name and it \"mydata.toppurchases\".\n",
        "myData_toppurchases=myData.copy()\n",
        "#In the new DataFrame delete all customers with a PurchAmount smaller than 100.\n",
        "myData_toppurchases=myData_toppurchases.loc[myData_toppurchases[\"PurchAmount\"]>100, ]\n",
        "# Check whether there are no cases smaller than 100\n",
        "myData_toppurchases[\"PurchAmount\"].min()"
      ],
      "execution_count": null,
      "outputs": [
        {
          "output_type": "execute_result",
          "data": {
            "text/plain": [
              "100.47"
            ]
          },
          "metadata": {
            "tags": []
          },
          "execution_count": 20
        }
      ]
    }
  ]
}