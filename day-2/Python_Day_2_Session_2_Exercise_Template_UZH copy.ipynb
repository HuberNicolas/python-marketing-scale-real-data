{
  "nbformat": 4,
  "nbformat_minor": 0,
  "metadata": {
    "colab": {
      "provenance": [],
      "toc_visible": true
    },
    "kernelspec": {
      "name": "python3",
      "display_name": "Python 3"
    }
  },
  "cells": [
    {
      "cell_type": "markdown",
      "metadata": {
        "id": "cCjAe20VdlxO"
      },
      "source": [
        "#Python - Non-technical introduction\n",
        "\n",
        "##Exercise Day 2 Session 2: \"Select the needle in a haystack: How to use “select” operations?\"\n",
        "\n",
        "\n",
        "This file provides exercises accompanying the lectures.\n",
        "\n",
        "*Note:* If you want to make changes to this document, you need to save your own copy using the \"Save copy in Drive\" command in the \"File\" menu."
      ]
    },
    {
      "cell_type": "markdown",
      "metadata": {
        "id": "qpmzcnuFlexj"
      },
      "source": [
        "###Preparation\n",
        "\n",
        "1.   Read the csv file and store it in the variable \"myData\". Note: this file is hostes in a GitHub repository. https://raw.githubusercontent.com/bachmannpatrick/Python-Class/master/data/transactions.csv\n",
        "2.   Adjust the format of column \"TransDate\" to datetime"
      ]
    },
    {
      "cell_type": "markdown",
      "metadata": {
        "id": "awY3RrNmyj8N"
      },
      "source": [
        "###16 - Data wrangling techniques"
      ]
    },
    {
      "cell_type": "markdown",
      "metadata": {
        "id": "uYKcHpNQylJs"
      },
      "source": [
        "No exercises for this unit"
      ]
    },
    {
      "cell_type": "markdown",
      "metadata": {
        "id": "OfFzQYshhGbX"
      },
      "source": [
        "###17 - Selection rows"
      ]
    },
    {
      "cell_type": "markdown",
      "metadata": {
        "id": "sw513YHzhSO0"
      },
      "source": [
        "1. Select rows 10 to 20 (inlcuding 20) from the `myData` DataFrame. *Hint:* Please have a careful look at the terminology. The row number of the first line is 1, the row index of the first line is 0.\n",
        "\n"
      ]
    },
    {
      "cell_type": "markdown",
      "metadata": {
        "id": "wkTksKLfh_Dm"
      },
      "source": [
        "2. Select all purchases from 2010 from the myData DataFrame.\n",
        "\n",
        "\n"
      ]
    },
    {
      "cell_type": "markdown",
      "metadata": {
        "id": "AhAoZna7Unwq"
      },
      "source": [
        "3. Select purchases made on 19.12.2010 or on 21.12.2010 from the `myData` DataFrame. *Hint:* Make sure the date variable is in the correct format."
      ]
    },
    {
      "cell_type": "markdown",
      "metadata": {
        "id": "jeUv5CENU3ZJ"
      },
      "source": [
        "4. Select all purchases with quantities between 2 and 5 (including 2 and 5) from the `myData` DataFrame.\n"
      ]
    },
    {
      "cell_type": "markdown",
      "metadata": {
        "id": "s3221oTmVHds"
      },
      "source": [
        "5. Select all purchases with purchase amount greater than 100 which were made from 01.01.2009 onwards from the `myData` DataFrame.\n"
      ]
    },
    {
      "cell_type": "markdown",
      "metadata": {
        "id": "XW-Ewl7skxDp"
      },
      "source": [
        "###18 - Selecting columns"
      ]
    },
    {
      "cell_type": "markdown",
      "metadata": {
        "id": "lMP5naoWk3B_"
      },
      "source": [
        "1. First, select rows 1 to 100 and save the subset in your working environment."
      ]
    },
    {
      "cell_type": "markdown",
      "metadata": {
        "id": "lAKGNNSRk6r6"
      },
      "source": [
        "2. From this, select the following columns: `Customer`, `TransDate`, and `Quantity`.\n"
      ]
    },
    {
      "cell_type": "markdown",
      "metadata": {
        "id": "jf-326eymI_W"
      },
      "source": [
        "3. Select the columns `Customer` and `Cost` from all rows with a purchase amount  between 100 and 200.\n",
        "\n"
      ]
    },
    {
      "cell_type": "markdown",
      "metadata": {
        "id": "L7WgG_s2mdqq"
      },
      "source": [
        "###19 - Appending and updating rows and columns"
      ]
    },
    {
      "cell_type": "markdown",
      "metadata": {
        "id": "Pk9VLgufnl8B"
      },
      "source": [
        "1. Create a new column calculating the difference between `PurchAmount` and `Cost`. Call it `Profit`.\n",
        "\n"
      ]
    },
    {
      "cell_type": "markdown",
      "metadata": {
        "id": "pZLq6d6vW1NP"
      },
      "source": [
        "2. Rename Profit to `ProfitChange`."
      ]
    },
    {
      "cell_type": "markdown",
      "metadata": {
        "id": "Rzbc6KQHbg_p"
      },
      "source": [
        "3. Delete `ProfitChange` again"
      ]
    },
    {
      "cell_type": "markdown",
      "metadata": {
        "id": "ANBT0Ckhb7s7"
      },
      "source": [
        "4. Create a copy of `myData` and name it `mydata_toppurchases`. In the new DataFrame delete all transactions with a `PurchAmount` smaller than 100.\n"
      ]
    }
  ]
}