{
  "cells": [
    {
      "cell_type": "markdown",
      "metadata": {
        "id": "cCjAe20VdlxO"
      },
      "source": [
        "#Python - Non-technical introduction\n",
        "\n",
        "##SOLUTION Exercise Day 2 Block 3: \"Wrangling data with Python\" (2/2)\n",
        "\n",
        "This file provides exercises accompanying the lectures.\n",
        "\n",
        "*Note:* If you want to make changes to this document, you need to save your own copy using the \"Save copy in Drive\" command in the \"File\" menu."
      ]
    },
    {
      "cell_type": "markdown",
      "metadata": {
        "id": "qpmzcnuFlexj"
      },
      "source": [
        "###Preparation\n",
        "\n",
        "\n",
        "1.   Read the csv file and store it in the variable \"myData\". Note: this file is hostes in a GitHub repository. https://raw.githubusercontent.com/bachmannpatrick/Python-Class/master/data/transactions.csv\n",
        "2.   Adjust the format of column \"TransDate\" to datetime"
      ]
    },
    {
      "cell_type": "code",
      "execution_count": 27,
      "metadata": {},
      "outputs": [],
      "source": [
        "import numpy as np\n",
        "import pandas as pd\n",
        "from datetime import datetime"
      ]
    },
    {
      "cell_type": "code",
      "execution_count": 28,
      "metadata": {},
      "outputs": [],
      "source": [
        "myData = pd.read_csv(filepath_or_buffer=\"https://raw.githubusercontent.com/bachmannpatrick/Python-Class/master/data/transactions.csv\", sep=\",\")\n",
        "myData[\"TransDate\"] = pd.to_datetime(\n",
        "    myData[\"TransDate\"],\n",
        "    format=\"%d.%m.%Y\",\n",
        "    utc=True,\n",
        "    dayfirst=True\n",
        "    )"
      ]
    },
    {
      "cell_type": "code",
      "execution_count": 36,
      "metadata": {},
      "outputs": [
        {
          "data": {
            "text/html": [
              "<div>\n",
              "<style scoped>\n",
              "    .dataframe tbody tr th:only-of-type {\n",
              "        vertical-align: middle;\n",
              "    }\n",
              "\n",
              "    .dataframe tbody tr th {\n",
              "        vertical-align: top;\n",
              "    }\n",
              "\n",
              "    .dataframe thead th {\n",
              "        text-align: right;\n",
              "    }\n",
              "</style>\n",
              "<table border=\"1\" class=\"dataframe\">\n",
              "  <thead>\n",
              "    <tr style=\"text-align: right;\">\n",
              "      <th></th>\n",
              "      <th>Customer</th>\n",
              "      <th>TransDate</th>\n",
              "      <th>Quantity</th>\n",
              "      <th>PurchAmount</th>\n",
              "      <th>Cost</th>\n",
              "      <th>TransID</th>\n",
              "      <th>Count</th>\n",
              "    </tr>\n",
              "  </thead>\n",
              "  <tbody>\n",
              "    <tr>\n",
              "      <th>0</th>\n",
              "      <td>149332</td>\n",
              "      <td>2005-11-15 00:00:00+00:00</td>\n",
              "      <td>1</td>\n",
              "      <td>199.95</td>\n",
              "      <td>107.00</td>\n",
              "      <td>127998739</td>\n",
              "      <td>3</td>\n",
              "    </tr>\n",
              "    <tr>\n",
              "      <th>1</th>\n",
              "      <td>172951</td>\n",
              "      <td>2008-08-29 00:00:00+00:00</td>\n",
              "      <td>1</td>\n",
              "      <td>199.95</td>\n",
              "      <td>108.00</td>\n",
              "      <td>128888288</td>\n",
              "      <td>4</td>\n",
              "    </tr>\n",
              "    <tr>\n",
              "      <th>2</th>\n",
              "      <td>120621</td>\n",
              "      <td>2007-10-19 00:00:00+00:00</td>\n",
              "      <td>1</td>\n",
              "      <td>99.95</td>\n",
              "      <td>49.00</td>\n",
              "      <td>125375247</td>\n",
              "      <td>1</td>\n",
              "    </tr>\n",
              "    <tr>\n",
              "      <th>3</th>\n",
              "      <td>149236</td>\n",
              "      <td>2005-11-14 00:00:00+00:00</td>\n",
              "      <td>1</td>\n",
              "      <td>39.95</td>\n",
              "      <td>18.95</td>\n",
              "      <td>127996226</td>\n",
              "      <td>2</td>\n",
              "    </tr>\n",
              "    <tr>\n",
              "      <th>4</th>\n",
              "      <td>149236</td>\n",
              "      <td>2007-06-12 00:00:00+00:00</td>\n",
              "      <td>1</td>\n",
              "      <td>79.95</td>\n",
              "      <td>35.00</td>\n",
              "      <td>128670302</td>\n",
              "      <td>2</td>\n",
              "    </tr>\n",
              "    <tr>\n",
              "      <th>...</th>\n",
              "      <td>...</td>\n",
              "      <td>...</td>\n",
              "      <td>...</td>\n",
              "      <td>...</td>\n",
              "      <td>...</td>\n",
              "      <td>...</td>\n",
              "      <td>...</td>\n",
              "    </tr>\n",
              "    <tr>\n",
              "      <th>223186</th>\n",
              "      <td>199997</td>\n",
              "      <td>2012-09-17 00:00:00+00:00</td>\n",
              "      <td>1</td>\n",
              "      <td>29.95</td>\n",
              "      <td>13.80</td>\n",
              "      <td>132481149</td>\n",
              "      <td>6</td>\n",
              "    </tr>\n",
              "    <tr>\n",
              "      <th>223187</th>\n",
              "      <td>199997</td>\n",
              "      <td>2012-09-17 00:00:00+00:00</td>\n",
              "      <td>1</td>\n",
              "      <td>29.95</td>\n",
              "      <td>13.80</td>\n",
              "      <td>132481149</td>\n",
              "      <td>6</td>\n",
              "    </tr>\n",
              "    <tr>\n",
              "      <th>223188</th>\n",
              "      <td>199998</td>\n",
              "      <td>2012-09-17 00:00:00+00:00</td>\n",
              "      <td>1</td>\n",
              "      <td>29.95</td>\n",
              "      <td>13.80</td>\n",
              "      <td>132481154</td>\n",
              "      <td>1</td>\n",
              "    </tr>\n",
              "    <tr>\n",
              "      <th>223189</th>\n",
              "      <td>199999</td>\n",
              "      <td>2012-09-17 00:00:00+00:00</td>\n",
              "      <td>1</td>\n",
              "      <td>179.95</td>\n",
              "      <td>109.99</td>\n",
              "      <td>132481165</td>\n",
              "      <td>1</td>\n",
              "    </tr>\n",
              "    <tr>\n",
              "      <th>223190</th>\n",
              "      <td>199542</td>\n",
              "      <td>2012-09-17 00:00:00+00:00</td>\n",
              "      <td>1</td>\n",
              "      <td>39.95</td>\n",
              "      <td>10.50</td>\n",
              "      <td>131973368</td>\n",
              "      <td>1</td>\n",
              "    </tr>\n",
              "  </tbody>\n",
              "</table>\n",
              "<p>223191 rows × 7 columns</p>\n",
              "</div>"
            ],
            "text/plain": [
              "        Customer                 TransDate  Quantity  PurchAmount    Cost  \\\n",
              "0         149332 2005-11-15 00:00:00+00:00         1       199.95  107.00   \n",
              "1         172951 2008-08-29 00:00:00+00:00         1       199.95  108.00   \n",
              "2         120621 2007-10-19 00:00:00+00:00         1        99.95   49.00   \n",
              "3         149236 2005-11-14 00:00:00+00:00         1        39.95   18.95   \n",
              "4         149236 2007-06-12 00:00:00+00:00         1        79.95   35.00   \n",
              "...          ...                       ...       ...          ...     ...   \n",
              "223186    199997 2012-09-17 00:00:00+00:00         1        29.95   13.80   \n",
              "223187    199997 2012-09-17 00:00:00+00:00         1        29.95   13.80   \n",
              "223188    199998 2012-09-17 00:00:00+00:00         1        29.95   13.80   \n",
              "223189    199999 2012-09-17 00:00:00+00:00         1       179.95  109.99   \n",
              "223190    199542 2012-09-17 00:00:00+00:00         1        39.95   10.50   \n",
              "\n",
              "          TransID  Count  \n",
              "0       127998739      3  \n",
              "1       128888288      4  \n",
              "2       125375247      1  \n",
              "3       127996226      2  \n",
              "4       128670302      2  \n",
              "...           ...    ...  \n",
              "223186  132481149      6  \n",
              "223187  132481149      6  \n",
              "223188  132481154      1  \n",
              "223189  132481165      1  \n",
              "223190  131973368      1  \n",
              "\n",
              "[223191 rows x 7 columns]"
            ]
          },
          "execution_count": 36,
          "metadata": {},
          "output_type": "execute_result"
        }
      ],
      "source": [
        "myData"
      ]
    },
    {
      "cell_type": "markdown",
      "metadata": {
        "id": "OfFzQYshhGbX"
      },
      "source": [
        "###20 - Basic aggregating techniques"
      ]
    },
    {
      "cell_type": "markdown",
      "metadata": {
        "id": "sw513YHzhSO0"
      },
      "source": [
        "1. Sum PurchAmount by `Customer` and `TransDate`.\n"
      ]
    },
    {
      "cell_type": "code",
      "execution_count": 29,
      "metadata": {},
      "outputs": [
        {
          "data": {
            "text/html": [
              "<div>\n",
              "<style scoped>\n",
              "    .dataframe tbody tr th:only-of-type {\n",
              "        vertical-align: middle;\n",
              "    }\n",
              "\n",
              "    .dataframe tbody tr th {\n",
              "        vertical-align: top;\n",
              "    }\n",
              "\n",
              "    .dataframe thead th {\n",
              "        text-align: right;\n",
              "    }\n",
              "</style>\n",
              "<table border=\"1\" class=\"dataframe\">\n",
              "  <thead>\n",
              "    <tr style=\"text-align: right;\">\n",
              "      <th></th>\n",
              "      <th>Customer</th>\n",
              "      <th>TransDate</th>\n",
              "      <th>AggPurch</th>\n",
              "    </tr>\n",
              "  </thead>\n",
              "  <tbody>\n",
              "    <tr>\n",
              "      <th>0</th>\n",
              "      <td>100001</td>\n",
              "      <td>2011-06-25 00:00:00+00:00</td>\n",
              "      <td>79.95</td>\n",
              "    </tr>\n",
              "    <tr>\n",
              "      <th>1</th>\n",
              "      <td>100001</td>\n",
              "      <td>2011-08-24 00:00:00+00:00</td>\n",
              "      <td>199.95</td>\n",
              "    </tr>\n",
              "    <tr>\n",
              "      <th>2</th>\n",
              "      <td>100002</td>\n",
              "      <td>2004-12-29 00:00:00+00:00</td>\n",
              "      <td>499.95</td>\n",
              "    </tr>\n",
              "    <tr>\n",
              "      <th>3</th>\n",
              "      <td>100003</td>\n",
              "      <td>2012-01-23 00:00:00+00:00</td>\n",
              "      <td>379.90</td>\n",
              "    </tr>\n",
              "    <tr>\n",
              "      <th>4</th>\n",
              "      <td>100004</td>\n",
              "      <td>2012-08-05 00:00:00+00:00</td>\n",
              "      <td>499.95</td>\n",
              "    </tr>\n",
              "    <tr>\n",
              "      <th>...</th>\n",
              "      <td>...</td>\n",
              "      <td>...</td>\n",
              "      <td>...</td>\n",
              "    </tr>\n",
              "    <tr>\n",
              "      <th>135033</th>\n",
              "      <td>199995</td>\n",
              "      <td>2012-09-17 00:00:00+00:00</td>\n",
              "      <td>89.85</td>\n",
              "    </tr>\n",
              "    <tr>\n",
              "      <th>135034</th>\n",
              "      <td>199996</td>\n",
              "      <td>2012-09-17 00:00:00+00:00</td>\n",
              "      <td>179.95</td>\n",
              "    </tr>\n",
              "    <tr>\n",
              "      <th>135035</th>\n",
              "      <td>199997</td>\n",
              "      <td>2012-09-17 00:00:00+00:00</td>\n",
              "      <td>179.70</td>\n",
              "    </tr>\n",
              "    <tr>\n",
              "      <th>135036</th>\n",
              "      <td>199998</td>\n",
              "      <td>2012-09-17 00:00:00+00:00</td>\n",
              "      <td>29.95</td>\n",
              "    </tr>\n",
              "    <tr>\n",
              "      <th>135037</th>\n",
              "      <td>199999</td>\n",
              "      <td>2012-09-17 00:00:00+00:00</td>\n",
              "      <td>179.95</td>\n",
              "    </tr>\n",
              "  </tbody>\n",
              "</table>\n",
              "<p>135038 rows × 3 columns</p>\n",
              "</div>"
            ],
            "text/plain": [
              "        Customer                 TransDate  AggPurch\n",
              "0         100001 2011-06-25 00:00:00+00:00     79.95\n",
              "1         100001 2011-08-24 00:00:00+00:00    199.95\n",
              "2         100002 2004-12-29 00:00:00+00:00    499.95\n",
              "3         100003 2012-01-23 00:00:00+00:00    379.90\n",
              "4         100004 2012-08-05 00:00:00+00:00    499.95\n",
              "...          ...                       ...       ...\n",
              "135033    199995 2012-09-17 00:00:00+00:00     89.85\n",
              "135034    199996 2012-09-17 00:00:00+00:00    179.95\n",
              "135035    199997 2012-09-17 00:00:00+00:00    179.70\n",
              "135036    199998 2012-09-17 00:00:00+00:00     29.95\n",
              "135037    199999 2012-09-17 00:00:00+00:00    179.95\n",
              "\n",
              "[135038 rows x 3 columns]"
            ]
          },
          "execution_count": 29,
          "metadata": {},
          "output_type": "execute_result"
        }
      ],
      "source": [
        "myData.groupby(by=[\"Customer\", \"TransDate\"]).agg(AggPurch=(\"PurchAmount\", \"sum\")).reset_index()"
      ]
    },
    {
      "cell_type": "markdown",
      "metadata": {
        "id": "wkTksKLfh_Dm"
      },
      "source": [
        "2. Count number of transactions by Customer."
      ]
    },
    {
      "cell_type": "code",
      "execution_count": 30,
      "metadata": {},
      "outputs": [],
      "source": [
        "myData[\"Count\"] = myData.groupby(\"Customer\")[\"Customer\"].transform(\"count\")"
      ]
    },
    {
      "cell_type": "code",
      "execution_count": 31,
      "metadata": {},
      "outputs": [
        {
          "data": {
            "text/html": [
              "<div>\n",
              "<style scoped>\n",
              "    .dataframe tbody tr th:only-of-type {\n",
              "        vertical-align: middle;\n",
              "    }\n",
              "\n",
              "    .dataframe tbody tr th {\n",
              "        vertical-align: top;\n",
              "    }\n",
              "\n",
              "    .dataframe thead th {\n",
              "        text-align: right;\n",
              "    }\n",
              "</style>\n",
              "<table border=\"1\" class=\"dataframe\">\n",
              "  <thead>\n",
              "    <tr style=\"text-align: right;\">\n",
              "      <th></th>\n",
              "      <th>Customer</th>\n",
              "      <th>TransDate</th>\n",
              "      <th>Quantity</th>\n",
              "      <th>PurchAmount</th>\n",
              "      <th>Cost</th>\n",
              "      <th>TransID</th>\n",
              "      <th>Count</th>\n",
              "    </tr>\n",
              "  </thead>\n",
              "  <tbody>\n",
              "    <tr>\n",
              "      <th>0</th>\n",
              "      <td>149332</td>\n",
              "      <td>2005-11-15 00:00:00+00:00</td>\n",
              "      <td>1</td>\n",
              "      <td>199.95</td>\n",
              "      <td>107.00</td>\n",
              "      <td>127998739</td>\n",
              "      <td>3</td>\n",
              "    </tr>\n",
              "    <tr>\n",
              "      <th>1</th>\n",
              "      <td>172951</td>\n",
              "      <td>2008-08-29 00:00:00+00:00</td>\n",
              "      <td>1</td>\n",
              "      <td>199.95</td>\n",
              "      <td>108.00</td>\n",
              "      <td>128888288</td>\n",
              "      <td>4</td>\n",
              "    </tr>\n",
              "    <tr>\n",
              "      <th>2</th>\n",
              "      <td>120621</td>\n",
              "      <td>2007-10-19 00:00:00+00:00</td>\n",
              "      <td>1</td>\n",
              "      <td>99.95</td>\n",
              "      <td>49.00</td>\n",
              "      <td>125375247</td>\n",
              "      <td>1</td>\n",
              "    </tr>\n",
              "    <tr>\n",
              "      <th>3</th>\n",
              "      <td>149236</td>\n",
              "      <td>2005-11-14 00:00:00+00:00</td>\n",
              "      <td>1</td>\n",
              "      <td>39.95</td>\n",
              "      <td>18.95</td>\n",
              "      <td>127996226</td>\n",
              "      <td>2</td>\n",
              "    </tr>\n",
              "    <tr>\n",
              "      <th>4</th>\n",
              "      <td>149236</td>\n",
              "      <td>2007-06-12 00:00:00+00:00</td>\n",
              "      <td>1</td>\n",
              "      <td>79.95</td>\n",
              "      <td>35.00</td>\n",
              "      <td>128670302</td>\n",
              "      <td>2</td>\n",
              "    </tr>\n",
              "    <tr>\n",
              "      <th>...</th>\n",
              "      <td>...</td>\n",
              "      <td>...</td>\n",
              "      <td>...</td>\n",
              "      <td>...</td>\n",
              "      <td>...</td>\n",
              "      <td>...</td>\n",
              "      <td>...</td>\n",
              "    </tr>\n",
              "    <tr>\n",
              "      <th>223186</th>\n",
              "      <td>199997</td>\n",
              "      <td>2012-09-17 00:00:00+00:00</td>\n",
              "      <td>1</td>\n",
              "      <td>29.95</td>\n",
              "      <td>13.80</td>\n",
              "      <td>132481149</td>\n",
              "      <td>6</td>\n",
              "    </tr>\n",
              "    <tr>\n",
              "      <th>223187</th>\n",
              "      <td>199997</td>\n",
              "      <td>2012-09-17 00:00:00+00:00</td>\n",
              "      <td>1</td>\n",
              "      <td>29.95</td>\n",
              "      <td>13.80</td>\n",
              "      <td>132481149</td>\n",
              "      <td>6</td>\n",
              "    </tr>\n",
              "    <tr>\n",
              "      <th>223188</th>\n",
              "      <td>199998</td>\n",
              "      <td>2012-09-17 00:00:00+00:00</td>\n",
              "      <td>1</td>\n",
              "      <td>29.95</td>\n",
              "      <td>13.80</td>\n",
              "      <td>132481154</td>\n",
              "      <td>1</td>\n",
              "    </tr>\n",
              "    <tr>\n",
              "      <th>223189</th>\n",
              "      <td>199999</td>\n",
              "      <td>2012-09-17 00:00:00+00:00</td>\n",
              "      <td>1</td>\n",
              "      <td>179.95</td>\n",
              "      <td>109.99</td>\n",
              "      <td>132481165</td>\n",
              "      <td>1</td>\n",
              "    </tr>\n",
              "    <tr>\n",
              "      <th>223190</th>\n",
              "      <td>199542</td>\n",
              "      <td>2012-09-17 00:00:00+00:00</td>\n",
              "      <td>1</td>\n",
              "      <td>39.95</td>\n",
              "      <td>10.50</td>\n",
              "      <td>131973368</td>\n",
              "      <td>1</td>\n",
              "    </tr>\n",
              "  </tbody>\n",
              "</table>\n",
              "<p>223191 rows × 7 columns</p>\n",
              "</div>"
            ],
            "text/plain": [
              "        Customer                 TransDate  Quantity  PurchAmount    Cost  \\\n",
              "0         149332 2005-11-15 00:00:00+00:00         1       199.95  107.00   \n",
              "1         172951 2008-08-29 00:00:00+00:00         1       199.95  108.00   \n",
              "2         120621 2007-10-19 00:00:00+00:00         1        99.95   49.00   \n",
              "3         149236 2005-11-14 00:00:00+00:00         1        39.95   18.95   \n",
              "4         149236 2007-06-12 00:00:00+00:00         1        79.95   35.00   \n",
              "...          ...                       ...       ...          ...     ...   \n",
              "223186    199997 2012-09-17 00:00:00+00:00         1        29.95   13.80   \n",
              "223187    199997 2012-09-17 00:00:00+00:00         1        29.95   13.80   \n",
              "223188    199998 2012-09-17 00:00:00+00:00         1        29.95   13.80   \n",
              "223189    199999 2012-09-17 00:00:00+00:00         1       179.95  109.99   \n",
              "223190    199542 2012-09-17 00:00:00+00:00         1        39.95   10.50   \n",
              "\n",
              "          TransID  Count  \n",
              "0       127998739      3  \n",
              "1       128888288      4  \n",
              "2       125375247      1  \n",
              "3       127996226      2  \n",
              "4       128670302      2  \n",
              "...           ...    ...  \n",
              "223186  132481149      6  \n",
              "223187  132481149      6  \n",
              "223188  132481154      1  \n",
              "223189  132481165      1  \n",
              "223190  131973368      1  \n",
              "\n",
              "[223191 rows x 7 columns]"
            ]
          },
          "execution_count": 31,
          "metadata": {},
          "output_type": "execute_result"
        }
      ],
      "source": [
        "myData"
      ]
    },
    {
      "cell_type": "markdown",
      "metadata": {
        "id": "XW-Ewl7skxDp"
      },
      "source": [
        "###21 - Advanced aggregating techniques"
      ]
    },
    {
      "cell_type": "markdown",
      "metadata": {
        "id": "lMP5naoWk3B_"
      },
      "source": [
        "1. Aggregate the purchase amount (sum) of all transactions per customer on a yearly basis for year 2007 and 2008."
      ]
    },
    {
      "cell_type": "code",
      "execution_count": 33,
      "metadata": {},
      "outputs": [
        {
          "data": {
            "text/html": [
              "<div>\n",
              "<style scoped>\n",
              "    .dataframe tbody tr th:only-of-type {\n",
              "        vertical-align: middle;\n",
              "    }\n",
              "\n",
              "    .dataframe tbody tr th {\n",
              "        vertical-align: top;\n",
              "    }\n",
              "\n",
              "    .dataframe thead th {\n",
              "        text-align: right;\n",
              "    }\n",
              "</style>\n",
              "<table border=\"1\" class=\"dataframe\">\n",
              "  <thead>\n",
              "    <tr style=\"text-align: right;\">\n",
              "      <th></th>\n",
              "      <th>Customer</th>\n",
              "      <th>Year</th>\n",
              "      <th>TotalPurchaseAmount</th>\n",
              "    </tr>\n",
              "  </thead>\n",
              "  <tbody>\n",
              "    <tr>\n",
              "      <th>0</th>\n",
              "      <td>100032</td>\n",
              "      <td>2008</td>\n",
              "      <td>139.90</td>\n",
              "    </tr>\n",
              "    <tr>\n",
              "      <th>1</th>\n",
              "      <td>100034</td>\n",
              "      <td>2007</td>\n",
              "      <td>249.85</td>\n",
              "    </tr>\n",
              "    <tr>\n",
              "      <th>2</th>\n",
              "      <td>100056</td>\n",
              "      <td>2007</td>\n",
              "      <td>59.95</td>\n",
              "    </tr>\n",
              "    <tr>\n",
              "      <th>3</th>\n",
              "      <td>100064</td>\n",
              "      <td>2008</td>\n",
              "      <td>149.95</td>\n",
              "    </tr>\n",
              "    <tr>\n",
              "      <th>4</th>\n",
              "      <td>100096</td>\n",
              "      <td>2008</td>\n",
              "      <td>69.90</td>\n",
              "    </tr>\n",
              "    <tr>\n",
              "      <th>...</th>\n",
              "      <td>...</td>\n",
              "      <td>...</td>\n",
              "      <td>...</td>\n",
              "    </tr>\n",
              "    <tr>\n",
              "      <th>36068</th>\n",
              "      <td>187644</td>\n",
              "      <td>2008</td>\n",
              "      <td>59.95</td>\n",
              "    </tr>\n",
              "    <tr>\n",
              "      <th>36069</th>\n",
              "      <td>187645</td>\n",
              "      <td>2008</td>\n",
              "      <td>124.90</td>\n",
              "    </tr>\n",
              "    <tr>\n",
              "      <th>36070</th>\n",
              "      <td>187646</td>\n",
              "      <td>2008</td>\n",
              "      <td>149.85</td>\n",
              "    </tr>\n",
              "    <tr>\n",
              "      <th>36071</th>\n",
              "      <td>187647</td>\n",
              "      <td>2008</td>\n",
              "      <td>119.95</td>\n",
              "    </tr>\n",
              "    <tr>\n",
              "      <th>36072</th>\n",
              "      <td>187648</td>\n",
              "      <td>2008</td>\n",
              "      <td>64.90</td>\n",
              "    </tr>\n",
              "  </tbody>\n",
              "</table>\n",
              "<p>36073 rows × 3 columns</p>\n",
              "</div>"
            ],
            "text/plain": [
              "       Customer  Year  TotalPurchaseAmount\n",
              "0        100032  2008               139.90\n",
              "1        100034  2007               249.85\n",
              "2        100056  2007                59.95\n",
              "3        100064  2008               149.95\n",
              "4        100096  2008                69.90\n",
              "...         ...   ...                  ...\n",
              "36068    187644  2008                59.95\n",
              "36069    187645  2008               124.90\n",
              "36070    187646  2008               149.85\n",
              "36071    187647  2008               119.95\n",
              "36072    187648  2008                64.90\n",
              "\n",
              "[36073 rows x 3 columns]"
            ]
          },
          "execution_count": 33,
          "metadata": {},
          "output_type": "execute_result"
        }
      ],
      "source": [
        "myDataRelevantYears = myData[myData[\"TransDate\"].dt.year.isin([2007, 2008])]\n",
        "result = myDataRelevantYears.groupby([\"Customer\", myDataRelevantYears[\"TransDate\"].dt.year])[\"PurchAmount\"].sum().reset_index()\n",
        "result.rename(columns={\"TransDate\": \"Year\", \"PurchAmount\": \"TotalPurchaseAmount\"}, inplace=True)\n",
        "result"
      ]
    },
    {
      "cell_type": "markdown",
      "metadata": {
        "id": "lAKGNNSRk6r6"
      },
      "source": [
        "2. How many customers purchased for more than 50$ in total between 2008 and 2009?\n"
      ]
    },
    {
      "cell_type": "code",
      "execution_count": 34,
      "metadata": {},
      "outputs": [
        {
          "name": "stdout",
          "output_type": "stream",
          "text": [
            "26265\n"
          ]
        }
      ],
      "source": [
        "customer_purchase = myDataRelevantYears.groupby(\"Customer\")[\"PurchAmount\"].sum()\n",
        "num_customers = customer_purchase[customer_purchase > 50].count()\n",
        "print(num_customers)"
      ]
    },
    {
      "cell_type": "markdown",
      "metadata": {
        "id": "L7WgG_s2mdqq"
      },
      "source": [
        "###22 - Combined select-aggregate operations"
      ]
    },
    {
      "cell_type": "markdown",
      "metadata": {
        "id": "Pk9VLgufnl8B"
      },
      "source": [
        "1. Add a column to `myData` with the total number of purchases per customer.\n",
        "\n"
      ]
    },
    {
      "cell_type": "code",
      "execution_count": 37,
      "metadata": {},
      "outputs": [
        {
          "ename": "AttributeError",
          "evalue": "'SeriesGroupBy' object has no attribute 'transfrom'",
          "output_type": "error",
          "traceback": [
            "\u001b[0;31m---------------------------------------------------------------------------\u001b[0m",
            "\u001b[0;31mAttributeError\u001b[0m                            Traceback (most recent call last)",
            "Cell \u001b[0;32mIn[37], line 1\u001b[0m\n\u001b[0;32m----> 1\u001b[0m myData[\u001b[39m\"\u001b[39m\u001b[39mTotalPurchasesPerCustomer\u001b[39m\u001b[39m\"\u001b[39m] \u001b[39m=\u001b[39m myData\u001b[39m.\u001b[39;49mgroupby(\u001b[39m\"\u001b[39;49m\u001b[39mCustomer\u001b[39;49m\u001b[39m\"\u001b[39;49m)[\u001b[39m\"\u001b[39;49m\u001b[39mTransID\u001b[39;49m\u001b[39m\"\u001b[39;49m]\u001b[39m.\u001b[39;49mtransfrom(\u001b[39m\"\u001b[39m\u001b[39mcount\u001b[39m\u001b[39m\"\u001b[39m)\n",
            "File \u001b[0;32m~/opt/anaconda3/envs/uni-python-marketing/lib/python3.9/site-packages/pandas/core/groupby/groupby.py:952\u001b[0m, in \u001b[0;36mGroupBy.__getattr__\u001b[0;34m(self, attr)\u001b[0m\n\u001b[1;32m    949\u001b[0m \u001b[39mif\u001b[39;00m attr \u001b[39min\u001b[39;00m \u001b[39mself\u001b[39m\u001b[39m.\u001b[39mobj:\n\u001b[1;32m    950\u001b[0m     \u001b[39mreturn\u001b[39;00m \u001b[39mself\u001b[39m[attr]\n\u001b[0;32m--> 952\u001b[0m \u001b[39mraise\u001b[39;00m \u001b[39mAttributeError\u001b[39;00m(\n\u001b[1;32m    953\u001b[0m     \u001b[39mf\u001b[39m\u001b[39m\"\u001b[39m\u001b[39m'\u001b[39m\u001b[39m{\u001b[39;00m\u001b[39mtype\u001b[39m(\u001b[39mself\u001b[39m)\u001b[39m.\u001b[39m\u001b[39m__name__\u001b[39m\u001b[39m}\u001b[39;00m\u001b[39m'\u001b[39m\u001b[39m object has no attribute \u001b[39m\u001b[39m'\u001b[39m\u001b[39m{\u001b[39;00mattr\u001b[39m}\u001b[39;00m\u001b[39m'\u001b[39m\u001b[39m\"\u001b[39m\n\u001b[1;32m    954\u001b[0m )\n",
            "\u001b[0;31mAttributeError\u001b[0m: 'SeriesGroupBy' object has no attribute 'transfrom'"
          ]
        }
      ],
      "source": [
        "myData[\"TotalPurchasesPerCustomer\"] = myData.groupby(\"Customer\")[\"TransID\"].transform(\"count\")"
      ]
    },
    {
      "cell_type": "code",
      "execution_count": null,
      "metadata": {},
      "outputs": [],
      "source": [
        "myData[\"PurchCount\"] = "
      ]
    },
    {
      "cell_type": "markdown",
      "metadata": {
        "id": "pZLq6d6vW1NP"
      },
      "source": [
        "2. Create a lead shifted variable for `TransDate` (by one period) by customer."
      ]
    }
  ],
  "metadata": {
    "colab": {
      "provenance": [],
      "toc_visible": true
    },
    "kernelspec": {
      "display_name": "Python 3",
      "name": "python3"
    },
    "language_info": {
      "codemirror_mode": {
        "name": "ipython",
        "version": 3
      },
      "file_extension": ".py",
      "mimetype": "text/x-python",
      "name": "python",
      "nbconvert_exporter": "python",
      "pygments_lexer": "ipython3",
      "version": "3.9.17"
    }
  },
  "nbformat": 4,
  "nbformat_minor": 0
}
