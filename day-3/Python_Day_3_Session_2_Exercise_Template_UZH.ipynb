{
  "nbformat": 4,
  "nbformat_minor": 0,
  "metadata": {
    "colab": {
      "provenance": []
    },
    "kernelspec": {
      "name": "python3",
      "display_name": "Python 3"
    }
  },
  "cells": [
    {
      "cell_type": "markdown",
      "metadata": {
        "id": "cCjAe20VdlxO"
      },
      "source": [
        "#Python - Non-technical introduction\n",
        "\n",
        "##Exercise Day 3 Session 2: \"Play with the Pros: How to use SQL for data wrangling（1/2）?\"\n",
        "\n",
        "This file provides exercises accompanying the lectures.\n",
        "\n",
        "*Note:* If you want to make changes to this document, you need to save your own copy using the \"Save copy in Drive\" command in the \"File\" menu."
      ]
    },
    {
      "cell_type": "markdown",
      "metadata": {
        "id": "qpmzcnuFlexj"
      },
      "source": [
        "###Preparation\n",
        "\n",
        "1.   Read the csv file and store it in the variable \"myData\". Note: this file is hostes in a GitHub repository. https://raw.githubusercontent.com/bachmannpatrick/Python-Class/master/data/transactions.csv\n",
        "2.   Adjust the format of column \"TransDate\" to datetime\n",
        "3.   get the datanase.sqlite (code is written below)"
      ]
    },
    {
      "cell_type": "code",
      "metadata": {
        "id": "sD_8-FV6lZVl",
        "colab": {
          "base_uri": "https://localhost:8080/"
        },
        "outputId": "ac7240ae-e0d9-48db-f145-d1ff1c37d416"
      },
      "source": [
        "#load the sqlite3 package\n",
        "import sqlite3\n",
        "#Get the database file form Github and store it in the local working directory\n",
        "!wget https://raw.githubusercontent.com/bachmannpatrick/Python-Class/master/data/database.sqlite"
      ],
      "execution_count": null,
      "outputs": [
        {
          "output_type": "stream",
          "name": "stdout",
          "text": [
            "--2022-08-26 12:09:45--  https://raw.githubusercontent.com/bachmannpatrick/Python-Class/master/data/database.sqlite\n",
            "Resolving raw.githubusercontent.com (raw.githubusercontent.com)... 185.199.108.133, 185.199.111.133, 185.199.109.133, ...\n",
            "Connecting to raw.githubusercontent.com (raw.githubusercontent.com)|185.199.108.133|:443... connected.\n",
            "HTTP request sent, awaiting response... 200 OK\n",
            "Length: 34689024 (33M) [application/octet-stream]\n",
            "Saving to: ‘database.sqlite.1’\n",
            "\n",
            "database.sqlite.1   100%[===================>]  33.08M   182MB/s    in 0.2s    \n",
            "\n",
            "2022-08-26 12:09:46 (182 MB/s) - ‘database.sqlite.1’ saved [34689024/34689024]\n",
            "\n"
          ]
        }
      ]
    },
    {
      "cell_type": "markdown",
      "metadata": {
        "id": "s1NT20d4wIje"
      },
      "source": [
        "### 27 -  Connecting to a database"
      ]
    },
    {
      "cell_type": "markdown",
      "metadata": {
        "id": "fh3Cz0YKvN7Z"
      },
      "source": [
        "1.\tFind all available tables in the database database.sqlite\n"
      ]
    },
    {
      "cell_type": "markdown",
      "metadata": {
        "id": "xLhr9aqF1-6W"
      },
      "source": [
        "2.\tUse functions of the sqlite3 module and simple SQL statements to solve the following exercises:\n",
        "- List all entries of the table \"demographics\".\n"
      ]
    },
    {
      "cell_type": "markdown",
      "metadata": {
        "id": "VcpwfU_U1gHa"
      },
      "source": [
        "- Store myData in the database and name it myData_copy."
      ]
    },
    {
      "cell_type": "markdown",
      "metadata": {
        "id": "6WXEyIA91hjK"
      },
      "source": [
        "- Remove myData_copy from the database."
      ]
    },
    {
      "cell_type": "markdown",
      "metadata": {
        "id": "f0oAMsjk2v48"
      },
      "source": [
        "###28 - Databases ant the role of SQL"
      ]
    },
    {
      "cell_type": "markdown",
      "metadata": {
        "id": "GnYjIlCD21Rf"
      },
      "source": [
        "No exercises for this unit."
      ]
    }
  ]
}