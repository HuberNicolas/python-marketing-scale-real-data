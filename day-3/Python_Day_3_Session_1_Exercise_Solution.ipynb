{
  "nbformat": 4,
  "nbformat_minor": 0,
  "metadata": {
    "colab": {
      "provenance": [],
      "toc_visible": true
    },
    "kernelspec": {
      "name": "python3",
      "display_name": "Python 3"
    }
  },
  "cells": [
    {
      "cell_type": "markdown",
      "metadata": {
        "id": "cCjAe20VdlxO"
      },
      "source": [
        "#Python - Non-technical introduction\n",
        "\n",
        "##SOLUTION Exercise Day 3 Session 1: \"Leverage synergies: How to use “merge” operations?\"\n",
        "\n",
        "This file provides the solutions to the exercises accompanying the lectures.\n",
        "Note: If you want to make changes to this document, you need to save your own copy using the \"Save copy in Drive\" command in the \"File\" menu."
      ]
    },
    {
      "cell_type": "markdown",
      "metadata": {
        "id": "qpmzcnuFlexj"
      },
      "source": [
        "###Preparation\n",
        "\n",
        "**Make sure to run the follwing code before continuing.** Code will prepare everything (load data, ...)."
      ]
    },
    {
      "cell_type": "code",
      "metadata": {
        "id": "sD_8-FV6lZVl"
      },
      "source": [
        "#load the numpy package\n",
        "import numpy as np\n",
        "#load the Pandas package\n",
        "import pandas as pd\n",
        "#Read the csv file and store it in the variable \"myData\". Note: this file is hostes in a GitHub repository.\n",
        "myData=pd.read_csv(filepath_or_buffer=\"https://raw.githubusercontent.com/bachmannpatrick/Python-Class/master/data/transactions.csv\", sep=\",\")\n",
        "#Adjust the format of column \"TransDate\" to datetime\n",
        "myData[\"TransDate\"]  = pd.to_datetime(myData[\"TransDate\"], dayfirst=True)\n",
        "\n",
        "#Read the demographics csv file and store it in the variable \"CustData\". Note: this file is hostes in a GitHub repos\n",
        "CustData=pd.read_csv(\"https://raw.githubusercontent.com/bachmannpatrick/Python-Class/master/data/demographics.csv\", sep=\",\")\n",
        "# Adjust the format of column \"Birthdate\" to datetime\n",
        "CustData[\"Birthdate\"]  = pd.to_datetime(CustData[\"Birthdate\"], dayfirst=True)\n",
        "CustData[\"JoinDate\"]  = pd.to_datetime(CustData[\"JoinDate\"], dayfirst=True)"
      ],
      "execution_count": null,
      "outputs": []
    },
    {
      "cell_type": "markdown",
      "metadata": {
        "id": "OdMwqwKChQHJ"
      },
      "source": [
        "###23 Basig merging techniques"
      ]
    },
    {
      "cell_type": "markdown",
      "metadata": {
        "id": "ZRcnGnhJhUE6"
      },
      "source": [
        "No exercises for this unit."
      ]
    },
    {
      "cell_type": "markdown",
      "metadata": {
        "id": "GW4cNjYKvKVg"
      },
      "source": [
        "###24 - Inner joins and full outer joins"
      ]
    },
    {
      "cell_type": "markdown",
      "metadata": {
        "id": "fh3Cz0YKvN7Z"
      },
      "source": [
        "1. Merge `myData` and `CustData` by Customer using an inner join for customers born after 1980. *Hint:* Check that the date is formatted correctly.\n"
      ]
    },
    {
      "cell_type": "code",
      "metadata": {
        "id": "w9IIZm47vYeX",
        "colab": {
          "base_uri": "https://localhost:8080/",
          "height": 419
        },
        "outputId": "0a5309b5-80df-4e4d-a8cc-ae2f02440f42"
      },
      "source": [
        "myData.merge(CustData.loc[CustData[\"Birthdate\"].dt.year>1980], how=\"inner\", on=\"Customer\")"
      ],
      "execution_count": null,
      "outputs": [
        {
          "output_type": "execute_result",
          "data": {
            "text/html": [
              "<div>\n",
              "<style scoped>\n",
              "    .dataframe tbody tr th:only-of-type {\n",
              "        vertical-align: middle;\n",
              "    }\n",
              "\n",
              "    .dataframe tbody tr th {\n",
              "        vertical-align: top;\n",
              "    }\n",
              "\n",
              "    .dataframe thead th {\n",
              "        text-align: right;\n",
              "    }\n",
              "</style>\n",
              "<table border=\"1\" class=\"dataframe\">\n",
              "  <thead>\n",
              "    <tr style=\"text-align: right;\">\n",
              "      <th></th>\n",
              "      <th>Customer</th>\n",
              "      <th>TransDate</th>\n",
              "      <th>Quantity</th>\n",
              "      <th>PurchAmount</th>\n",
              "      <th>Cost</th>\n",
              "      <th>TransID</th>\n",
              "      <th>Gender</th>\n",
              "      <th>Birthdate</th>\n",
              "      <th>ZIP</th>\n",
              "      <th>JoinDate</th>\n",
              "      <th>TransKey</th>\n",
              "    </tr>\n",
              "  </thead>\n",
              "  <tbody>\n",
              "    <tr>\n",
              "      <th>0</th>\n",
              "      <td>149332</td>\n",
              "      <td>2005-11-15</td>\n",
              "      <td>1</td>\n",
              "      <td>199.95</td>\n",
              "      <td>107.00</td>\n",
              "      <td>127998739</td>\n",
              "      <td>m</td>\n",
              "      <td>1998-07-07</td>\n",
              "      <td>US-08873</td>\n",
              "      <td>2005-11-05</td>\n",
              "      <td>100000.0</td>\n",
              "    </tr>\n",
              "    <tr>\n",
              "      <th>1</th>\n",
              "      <td>149332</td>\n",
              "      <td>2005-12-13</td>\n",
              "      <td>1</td>\n",
              "      <td>49.95</td>\n",
              "      <td>24.87</td>\n",
              "      <td>129878743</td>\n",
              "      <td>m</td>\n",
              "      <td>1998-07-07</td>\n",
              "      <td>US-08873</td>\n",
              "      <td>2005-11-05</td>\n",
              "      <td>100000.0</td>\n",
              "    </tr>\n",
              "    <tr>\n",
              "      <th>2</th>\n",
              "      <td>149332</td>\n",
              "      <td>2006-10-05</td>\n",
              "      <td>1</td>\n",
              "      <td>24.95</td>\n",
              "      <td>12.50</td>\n",
              "      <td>129883508</td>\n",
              "      <td>m</td>\n",
              "      <td>1998-07-07</td>\n",
              "      <td>US-08873</td>\n",
              "      <td>2005-11-05</td>\n",
              "      <td>100000.0</td>\n",
              "    </tr>\n",
              "    <tr>\n",
              "      <th>3</th>\n",
              "      <td>105474</td>\n",
              "      <td>2006-12-18</td>\n",
              "      <td>1</td>\n",
              "      <td>49.95</td>\n",
              "      <td>25.00</td>\n",
              "      <td>124452480</td>\n",
              "      <td>m</td>\n",
              "      <td>1987-05-10</td>\n",
              "      <td>US-91741</td>\n",
              "      <td>2005-03-07</td>\n",
              "      <td>100033.0</td>\n",
              "    </tr>\n",
              "    <tr>\n",
              "      <th>4</th>\n",
              "      <td>105474</td>\n",
              "      <td>2006-12-18</td>\n",
              "      <td>1</td>\n",
              "      <td>129.95</td>\n",
              "      <td>61.10</td>\n",
              "      <td>124452480</td>\n",
              "      <td>m</td>\n",
              "      <td>1987-05-10</td>\n",
              "      <td>US-91741</td>\n",
              "      <td>2005-03-07</td>\n",
              "      <td>100033.0</td>\n",
              "    </tr>\n",
              "    <tr>\n",
              "      <th>...</th>\n",
              "      <td>...</td>\n",
              "      <td>...</td>\n",
              "      <td>...</td>\n",
              "      <td>...</td>\n",
              "      <td>...</td>\n",
              "      <td>...</td>\n",
              "      <td>...</td>\n",
              "      <td>...</td>\n",
              "      <td>...</td>\n",
              "      <td>...</td>\n",
              "      <td>...</td>\n",
              "    </tr>\n",
              "    <tr>\n",
              "      <th>85106</th>\n",
              "      <td>199997</td>\n",
              "      <td>2012-09-17</td>\n",
              "      <td>1</td>\n",
              "      <td>29.95</td>\n",
              "      <td>13.80</td>\n",
              "      <td>132481149</td>\n",
              "      <td>m</td>\n",
              "      <td>1997-01-14</td>\n",
              "      <td>US-32092</td>\n",
              "      <td>2012-09-15</td>\n",
              "      <td>323182.0</td>\n",
              "    </tr>\n",
              "    <tr>\n",
              "      <th>85107</th>\n",
              "      <td>199997</td>\n",
              "      <td>2012-09-17</td>\n",
              "      <td>1</td>\n",
              "      <td>29.95</td>\n",
              "      <td>13.80</td>\n",
              "      <td>132481149</td>\n",
              "      <td>m</td>\n",
              "      <td>1997-01-14</td>\n",
              "      <td>US-32092</td>\n",
              "      <td>2012-09-15</td>\n",
              "      <td>323182.0</td>\n",
              "    </tr>\n",
              "    <tr>\n",
              "      <th>85108</th>\n",
              "      <td>199997</td>\n",
              "      <td>2012-09-17</td>\n",
              "      <td>1</td>\n",
              "      <td>29.95</td>\n",
              "      <td>13.80</td>\n",
              "      <td>132481149</td>\n",
              "      <td>m</td>\n",
              "      <td>1997-01-14</td>\n",
              "      <td>US-32092</td>\n",
              "      <td>2012-09-15</td>\n",
              "      <td>323182.0</td>\n",
              "    </tr>\n",
              "    <tr>\n",
              "      <th>85109</th>\n",
              "      <td>199997</td>\n",
              "      <td>2012-09-17</td>\n",
              "      <td>1</td>\n",
              "      <td>29.95</td>\n",
              "      <td>13.80</td>\n",
              "      <td>132481149</td>\n",
              "      <td>m</td>\n",
              "      <td>1997-01-14</td>\n",
              "      <td>US-32092</td>\n",
              "      <td>2012-09-15</td>\n",
              "      <td>323182.0</td>\n",
              "    </tr>\n",
              "    <tr>\n",
              "      <th>85110</th>\n",
              "      <td>199997</td>\n",
              "      <td>2012-09-17</td>\n",
              "      <td>1</td>\n",
              "      <td>29.95</td>\n",
              "      <td>13.80</td>\n",
              "      <td>132481149</td>\n",
              "      <td>m</td>\n",
              "      <td>1997-01-14</td>\n",
              "      <td>US-32092</td>\n",
              "      <td>2012-09-15</td>\n",
              "      <td>323182.0</td>\n",
              "    </tr>\n",
              "  </tbody>\n",
              "</table>\n",
              "<p>85111 rows × 11 columns</p>\n",
              "</div>"
            ],
            "text/plain": [
              "       Customer  TransDate  Quantity  ...       ZIP   JoinDate  TransKey\n",
              "0        149332 2005-11-15         1  ...  US-08873 2005-11-05  100000.0\n",
              "1        149332 2005-12-13         1  ...  US-08873 2005-11-05  100000.0\n",
              "2        149332 2006-10-05         1  ...  US-08873 2005-11-05  100000.0\n",
              "3        105474 2006-12-18         1  ...  US-91741 2005-03-07  100033.0\n",
              "4        105474 2006-12-18         1  ...  US-91741 2005-03-07  100033.0\n",
              "...         ...        ...       ...  ...       ...        ...       ...\n",
              "85106    199997 2012-09-17         1  ...  US-32092 2012-09-15  323182.0\n",
              "85107    199997 2012-09-17         1  ...  US-32092 2012-09-15  323182.0\n",
              "85108    199997 2012-09-17         1  ...  US-32092 2012-09-15  323182.0\n",
              "85109    199997 2012-09-17         1  ...  US-32092 2012-09-15  323182.0\n",
              "85110    199997 2012-09-17         1  ...  US-32092 2012-09-15  323182.0\n",
              "\n",
              "[85111 rows x 11 columns]"
            ]
          },
          "metadata": {
            "tags": []
          },
          "execution_count": 4
        }
      ]
    },
    {
      "cell_type": "code",
      "metadata": {
        "id": "xrWak23nvb6J",
        "colab": {
          "base_uri": "https://localhost:8080/",
          "height": 255
        },
        "outputId": "55d6f172-5057-45d0-b131-b647f2e53ec4"
      },
      "source": [
        "#%% Alternative: Merge first and filter in a second step\n",
        "mergeTable = myData.merge(CustData, how=\"inner\", on=\"Customer\")\n",
        "merge1980_2=mergeTable.loc[mergeTable[\"Birthdate\"].dt.year>1980]\n",
        "print(merge1980_2)"
      ],
      "execution_count": null,
      "outputs": [
        {
          "output_type": "stream",
          "text": [
            "        Customer  TransDate  Quantity  ...       ZIP   JoinDate  TransKey\n",
            "0         149332 2005-11-15         1  ...  US-08873 2005-11-05  100000.0\n",
            "1         149332 2005-12-13         1  ...  US-08873 2005-11-05  100000.0\n",
            "2         149332 2006-10-05         1  ...  US-08873 2005-11-05  100000.0\n",
            "33        105474 2006-12-18         1  ...  US-91741 2005-03-07  100033.0\n",
            "34        105474 2006-12-18         1  ...  US-91741 2005-03-07  100033.0\n",
            "...          ...        ...       ...  ...       ...        ...       ...\n",
            "223183    199997 2012-09-17         1  ...  US-32092 2012-09-15  323182.0\n",
            "223184    199997 2012-09-17         1  ...  US-32092 2012-09-15  323182.0\n",
            "223185    199997 2012-09-17         1  ...  US-32092 2012-09-15  323182.0\n",
            "223186    199997 2012-09-17         1  ...  US-32092 2012-09-15  323182.0\n",
            "223187    199997 2012-09-17         1  ...  US-32092 2012-09-15  323182.0\n",
            "\n",
            "[85111 rows x 11 columns]\n"
          ],
          "name": "stdout"
        }
      ]
    },
    {
      "cell_type": "markdown",
      "metadata": {
        "id": "mpLOykB1vo2k"
      },
      "source": [
        "2. Merge `myData` and `CustData` by Customer using an outer join for customers that purchased in 2008."
      ]
    },
    {
      "cell_type": "code",
      "metadata": {
        "id": "XI0enrkrvr4d",
        "colab": {
          "base_uri": "https://localhost:8080/",
          "height": 419
        },
        "outputId": "8540c685-82c8-4d93-aef3-24e4b6e04107"
      },
      "source": [
        "myData.loc[myData[\"TransDate\"].dt.year==2008, ].merge(CustData, how=\"outer\", on=\"Customer\")"
      ],
      "execution_count": null,
      "outputs": [
        {
          "output_type": "execute_result",
          "data": {
            "text/html": [
              "<div>\n",
              "<style scoped>\n",
              "    .dataframe tbody tr th:only-of-type {\n",
              "        vertical-align: middle;\n",
              "    }\n",
              "\n",
              "    .dataframe tbody tr th {\n",
              "        vertical-align: top;\n",
              "    }\n",
              "\n",
              "    .dataframe thead th {\n",
              "        text-align: right;\n",
              "    }\n",
              "</style>\n",
              "<table border=\"1\" class=\"dataframe\">\n",
              "  <thead>\n",
              "    <tr style=\"text-align: right;\">\n",
              "      <th></th>\n",
              "      <th>Customer</th>\n",
              "      <th>TransDate</th>\n",
              "      <th>Quantity</th>\n",
              "      <th>PurchAmount</th>\n",
              "      <th>Cost</th>\n",
              "      <th>TransID</th>\n",
              "      <th>Gender</th>\n",
              "      <th>Birthdate</th>\n",
              "      <th>ZIP</th>\n",
              "      <th>JoinDate</th>\n",
              "      <th>TransKey</th>\n",
              "    </tr>\n",
              "  </thead>\n",
              "  <tbody>\n",
              "    <tr>\n",
              "      <th>0</th>\n",
              "      <td>172951</td>\n",
              "      <td>2008-08-29</td>\n",
              "      <td>1.0</td>\n",
              "      <td>199.95</td>\n",
              "      <td>108.0</td>\n",
              "      <td>128888288.0</td>\n",
              "      <td>m</td>\n",
              "      <td>1963-11-16</td>\n",
              "      <td>US-11378</td>\n",
              "      <td>1980-04-04</td>\n",
              "      <td>100001.0</td>\n",
              "    </tr>\n",
              "    <tr>\n",
              "      <th>1</th>\n",
              "      <td>172951</td>\n",
              "      <td>2008-08-29</td>\n",
              "      <td>1.0</td>\n",
              "      <td>249.95</td>\n",
              "      <td>162.5</td>\n",
              "      <td>128888288.0</td>\n",
              "      <td>m</td>\n",
              "      <td>1963-11-16</td>\n",
              "      <td>US-11378</td>\n",
              "      <td>1980-04-04</td>\n",
              "      <td>100001.0</td>\n",
              "    </tr>\n",
              "    <tr>\n",
              "      <th>2</th>\n",
              "      <td>172951</td>\n",
              "      <td>2008-08-29</td>\n",
              "      <td>1.0</td>\n",
              "      <td>349.95</td>\n",
              "      <td>187.5</td>\n",
              "      <td>128888288.0</td>\n",
              "      <td>m</td>\n",
              "      <td>1963-11-16</td>\n",
              "      <td>US-11378</td>\n",
              "      <td>1980-04-04</td>\n",
              "      <td>100001.0</td>\n",
              "    </tr>\n",
              "    <tr>\n",
              "      <th>3</th>\n",
              "      <td>103952</td>\n",
              "      <td>2008-05-11</td>\n",
              "      <td>1.0</td>\n",
              "      <td>119.95</td>\n",
              "      <td>58.6</td>\n",
              "      <td>128953620.0</td>\n",
              "      <td>m</td>\n",
              "      <td>1977-07-26</td>\n",
              "      <td>US-48060</td>\n",
              "      <td>1993-07-17</td>\n",
              "      <td>100025.0</td>\n",
              "    </tr>\n",
              "    <tr>\n",
              "      <th>4</th>\n",
              "      <td>103952</td>\n",
              "      <td>2008-05-11</td>\n",
              "      <td>1.0</td>\n",
              "      <td>24.95</td>\n",
              "      <td>11.5</td>\n",
              "      <td>128953620.0</td>\n",
              "      <td>m</td>\n",
              "      <td>1977-07-26</td>\n",
              "      <td>US-48060</td>\n",
              "      <td>1993-07-17</td>\n",
              "      <td>100025.0</td>\n",
              "    </tr>\n",
              "    <tr>\n",
              "      <th>...</th>\n",
              "      <td>...</td>\n",
              "      <td>...</td>\n",
              "      <td>...</td>\n",
              "      <td>...</td>\n",
              "      <td>...</td>\n",
              "      <td>...</td>\n",
              "      <td>...</td>\n",
              "      <td>...</td>\n",
              "      <td>...</td>\n",
              "      <td>...</td>\n",
              "      <td>...</td>\n",
              "    </tr>\n",
              "    <tr>\n",
              "      <th>114947</th>\n",
              "      <td>186347</td>\n",
              "      <td>NaT</td>\n",
              "      <td>NaN</td>\n",
              "      <td>NaN</td>\n",
              "      <td>NaN</td>\n",
              "      <td>NaN</td>\n",
              "      <td>f</td>\n",
              "      <td>1971-11-01</td>\n",
              "      <td>US-74014</td>\n",
              "      <td>1989-07-11</td>\n",
              "      <td>323181.0</td>\n",
              "    </tr>\n",
              "    <tr>\n",
              "      <th>114948</th>\n",
              "      <td>199997</td>\n",
              "      <td>NaT</td>\n",
              "      <td>NaN</td>\n",
              "      <td>NaN</td>\n",
              "      <td>NaN</td>\n",
              "      <td>NaN</td>\n",
              "      <td>m</td>\n",
              "      <td>1997-01-14</td>\n",
              "      <td>US-32092</td>\n",
              "      <td>2012-09-15</td>\n",
              "      <td>323182.0</td>\n",
              "    </tr>\n",
              "    <tr>\n",
              "      <th>114949</th>\n",
              "      <td>199998</td>\n",
              "      <td>NaT</td>\n",
              "      <td>NaN</td>\n",
              "      <td>NaN</td>\n",
              "      <td>NaN</td>\n",
              "      <td>NaN</td>\n",
              "      <td>f</td>\n",
              "      <td>1956-05-23</td>\n",
              "      <td>US-54952</td>\n",
              "      <td>1975-05-14</td>\n",
              "      <td>323188.0</td>\n",
              "    </tr>\n",
              "    <tr>\n",
              "      <th>114950</th>\n",
              "      <td>199999</td>\n",
              "      <td>NaT</td>\n",
              "      <td>NaN</td>\n",
              "      <td>NaN</td>\n",
              "      <td>NaN</td>\n",
              "      <td>NaN</td>\n",
              "      <td>f</td>\n",
              "      <td>1953-11-06</td>\n",
              "      <td>US-35223</td>\n",
              "      <td>1970-12-23</td>\n",
              "      <td>323189.0</td>\n",
              "    </tr>\n",
              "    <tr>\n",
              "      <th>114951</th>\n",
              "      <td>199542</td>\n",
              "      <td>NaT</td>\n",
              "      <td>NaN</td>\n",
              "      <td>NaN</td>\n",
              "      <td>NaN</td>\n",
              "      <td>NaN</td>\n",
              "      <td>m</td>\n",
              "      <td>1965-03-12</td>\n",
              "      <td>US-02332</td>\n",
              "      <td>1983-07-30</td>\n",
              "      <td>323190.0</td>\n",
              "    </tr>\n",
              "  </tbody>\n",
              "</table>\n",
              "<p>114952 rows × 11 columns</p>\n",
              "</div>"
            ],
            "text/plain": [
              "        Customer  TransDate  Quantity  ...       ZIP   JoinDate  TransKey\n",
              "0         172951 2008-08-29       1.0  ...  US-11378 1980-04-04  100001.0\n",
              "1         172951 2008-08-29       1.0  ...  US-11378 1980-04-04  100001.0\n",
              "2         172951 2008-08-29       1.0  ...  US-11378 1980-04-04  100001.0\n",
              "3         103952 2008-05-11       1.0  ...  US-48060 1993-07-17  100025.0\n",
              "4         103952 2008-05-11       1.0  ...  US-48060 1993-07-17  100025.0\n",
              "...          ...        ...       ...  ...       ...        ...       ...\n",
              "114947    186347        NaT       NaN  ...  US-74014 1989-07-11  323181.0\n",
              "114948    199997        NaT       NaN  ...  US-32092 2012-09-15  323182.0\n",
              "114949    199998        NaT       NaN  ...  US-54952 1975-05-14  323188.0\n",
              "114950    199999        NaT       NaN  ...  US-35223 1970-12-23  323189.0\n",
              "114951    199542        NaT       NaN  ...  US-02332 1983-07-30  323190.0\n",
              "\n",
              "[114952 rows x 11 columns]"
            ]
          },
          "metadata": {
            "tags": []
          },
          "execution_count": 14
        }
      ]
    },
    {
      "cell_type": "code",
      "metadata": {
        "id": "0KqZ6nZ3vvZ5",
        "colab": {
          "base_uri": "https://localhost:8080/",
          "height": 255
        },
        "outputId": "d9833580-ec7f-4785-fd0f-f86e23135968"
      },
      "source": [
        "#Aternative\n",
        "myData2008=myData.loc[myData[\"TransDate\"].dt.year==2008, ]\n",
        "myData2008.merge(CustData, how=\"outer\", on=\"Customer\")\n",
        "print(myData2008)"
      ],
      "execution_count": null,
      "outputs": [
        {
          "output_type": "stream",
          "text": [
            "        Customer  TransDate  Quantity  PurchAmount    Cost    TransID\n",
            "1         172951 2008-08-29         1       199.95  108.00  128888288\n",
            "22        172951 2008-08-29         1       249.95  162.50  128888288\n",
            "23        172951 2008-08-29         1       349.95  187.50  128888288\n",
            "26        103952 2008-05-11         1       119.95   58.60  128953620\n",
            "27        103952 2008-05-11         1        24.95   11.50  128953620\n",
            "...          ...        ...       ...          ...     ...        ...\n",
            "142981    135894 2008-12-31         1        24.95    8.00  126304473\n",
            "142982    135894 2008-12-31         1        24.95    8.00  126304473\n",
            "142983    135895 2008-12-31         1        39.95   13.95  126304499\n",
            "142984    135895 2008-12-31         1        39.95   13.95  126304499\n",
            "142985    135895 2008-12-31         1        39.95   13.95  126304499\n",
            "\n",
            "[33403 rows x 6 columns]\n"
          ],
          "name": "stdout"
        }
      ]
    },
    {
      "cell_type": "markdown",
      "metadata": {
        "id": "MdtfAZRZ1-ic"
      },
      "source": [
        "###25 - Left and right outer joins"
      ]
    },
    {
      "cell_type": "markdown",
      "metadata": {
        "id": "WPoWqvKf2JcS"
      },
      "source": [
        "1. Merge `myData` and `CustData` by `Customer` using an outer left join."
      ]
    },
    {
      "cell_type": "code",
      "metadata": {
        "id": "hjHThfIY2O3W"
      },
      "source": [
        "myData.merge(CustData, how=\"left\", on=\"Customer\")"
      ],
      "execution_count": null,
      "outputs": []
    },
    {
      "cell_type": "markdown",
      "metadata": {
        "id": "jroEr7Zc2Z3f"
      },
      "source": [
        "2. Merge `myData` and `CustData` by `Customer` using an outer right join."
      ]
    },
    {
      "cell_type": "code",
      "metadata": {
        "id": "0QPPndZ22e40"
      },
      "source": [
        "myData.merge(CustData, how=\"right\", on=\"Customer\")"
      ],
      "execution_count": null,
      "outputs": []
    },
    {
      "cell_type": "markdown",
      "metadata": {
        "id": "XW-Ewl7skxDp"
      },
      "source": [
        "###26 - Overview of advanced techniques for\n",
        "merging datasets"
      ]
    },
    {
      "cell_type": "markdown",
      "metadata": {
        "id": "sexsVXGpwWxY"
      },
      "source": [
        "3. Merge `myData` and `CustData` by `Customer` and by `TransDate` resp. `JoinDate` using an inner join.\n"
      ]
    },
    {
      "cell_type": "code",
      "metadata": {
        "id": "-1Q1VvOhwe7e"
      },
      "source": [
        "myData.merge(CustData, how=\"inner\", left_on=[\"Customer\", \"TransDate\"], right_on=[\"Customer\", \"JoinDate\"])"
      ],
      "execution_count": null,
      "outputs": []
    }
  ]
}