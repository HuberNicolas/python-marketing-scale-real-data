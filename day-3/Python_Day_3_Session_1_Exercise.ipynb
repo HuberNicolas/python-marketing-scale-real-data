{
  "nbformat": 4,
  "nbformat_minor": 0,
  "metadata": {
    "colab": {
      "provenance": []
    },
    "kernelspec": {
      "name": "python3",
      "display_name": "Python 3"
    }
  },
  "cells": [
    {
      "cell_type": "markdown",
      "metadata": {
        "id": "cCjAe20VdlxO"
      },
      "source": [
        "#Python - Non-technical introduction\n",
        "\n",
        "##Exercise Day 3 Session 1: \"Leverage synergies: How to use “merge” operations?\"\n",
        "\n",
        "This file provides exercises accompanying the lectures.\n",
        "\n",
        "*Note:* If you want to make changes to this document, you need to save your own copy using the \"Save copy in Drive\" command in the \"File\" menu."
      ]
    },
    {
      "cell_type": "markdown",
      "metadata": {
        "id": "qpmzcnuFlexj"
      },
      "source": [
        "###Preparation\n",
        "\n",
        "\n",
        "1.   Read the csv file and store it in the variable \"myData\". Note: this file is hostes in a GitHub repository. https://raw.githubusercontent.com/bachmannpatrick/Python-Class/master/data/transactions.csv\n",
        "2.   Adjust the format of column \"TransDate\" to datetime\n",
        "3.  Read the demographics csv file and store it in the variable \"CustData\". Note: this file is hostes in a GitHub repos. https://raw.githubusercontent.com/bachmannpatrick/Python-Class/master/data/demographics.csv\n",
        "4.  Adjust the format of column \"Birthdate\" and “JoinDate” to datetime\n",
        ""
      ]
    },
    {
      "cell_type": "markdown",
      "metadata": {
        "id": "7C-Q_TAfgiRI"
      },
      "source": [
        "###23 - Basic merging techniques"
      ]
    },
    {
      "cell_type": "markdown",
      "metadata": {
        "id": "IvZFu096goew"
      },
      "source": [
        "No exercises for this unit."
      ]
    },
    {
      "cell_type": "markdown",
      "metadata": {
        "id": "GW4cNjYKvKVg"
      },
      "source": [
        "###24 - Inner joins and full outer joins"
      ]
    },
    {
      "cell_type": "markdown",
      "metadata": {
        "id": "fh3Cz0YKvN7Z"
      },
      "source": [
        "1. Merge `myData` and `CustData` by Customer using an inner join for customers born after 1980. *Hint:* Check that the date is formatted correctly.\n"
      ]
    },
    {
      "cell_type": "markdown",
      "metadata": {
        "id": "mpLOykB1vo2k"
      },
      "source": [
        "2. Merge `myData` and `CustData` by Customer using an outer join for customers that purchased in 2008."
      ]
    },
    {
      "cell_type": "markdown",
      "metadata": {
        "id": "MdtfAZRZ1-ic"
      },
      "source": [
        "###25 - Left and right outer joins"
      ]
    },
    {
      "cell_type": "markdown",
      "metadata": {
        "id": "WPoWqvKf2JcS"
      },
      "source": [
        "1. Merge `myData` and `CustData` by `Customer` using an outer left join."
      ]
    },
    {
      "cell_type": "markdown",
      "metadata": {
        "id": "jroEr7Zc2Z3f"
      },
      "source": [
        "2. Merge `myData` and `CustData` by `Customer` using an outer right join."
      ]
    },
    {
      "cell_type": "markdown",
      "metadata": {
        "id": "XW-Ewl7skxDp"
      },
      "source": [
        "###26 - Advanced\n",
        "merging techniques"
      ]
    },
    {
      "cell_type": "markdown",
      "metadata": {
        "id": "sexsVXGpwWxY"
      },
      "source": [
        "3. Merge `myData` and `CustData` by `Customer` and by `TransDate` resp. `JoinDate` using an inner join.\n"
      ]
    }
  ]
}