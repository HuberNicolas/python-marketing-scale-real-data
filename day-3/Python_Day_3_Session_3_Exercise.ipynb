{
  "nbformat": 4,
  "nbformat_minor": 0,
  "metadata": {
    "colab": {
      "provenance": []
    },
    "kernelspec": {
      "name": "python3",
      "display_name": "Python 3"
    }
  },
  "cells": [
    {
      "cell_type": "markdown",
      "metadata": {
        "id": "cCjAe20VdlxO"
      },
      "source": [
        "#Python - Non-technical introduction\n",
        "\n",
        "##Exercise Day 3 Session 3: \"Play with the Pros: How to use SQL for data wrangling（2/2）?\"\n",
        "\n",
        "This file provides exercises accompanying the lectures.\n",
        "\n",
        "*Note:* If you want to make changes to this document, you need to save your own copy using the \"Save copy in Drive\" command in the \"File\" menu."
      ]
    },
    {
      "cell_type": "markdown",
      "metadata": {
        "id": "qpmzcnuFlexj"
      },
      "source": [
        "###Preparation\n",
        "\n",
        "1.   Read the csv file and store it in the variable \"myData\". Note: this file is hostes in a GitHub repository. https://raw.githubusercontent.com/bachmannpatrick/Python-Class/master/data/transactions.csv\n",
        "2.   Adjust the format of column \"TransDate\" to datetime\n",
        "3.   get the datanase.sqlite (code is written below; Note: if you have download the same datebase in the other colab file in the meantime, the new database will be renamed as 'database.sqlite.1' rather than 'database.sqlite')"
      ]
    },
    {
      "cell_type": "code",
      "metadata": {
        "id": "sD_8-FV6lZVl",
        "colab": {
          "base_uri": "https://localhost:8080/"
        },
        "outputId": "ced21e69-29bc-424c-b1d6-3dffc59f0e50"
      },
      "source": [
        "#load the sqlite3 package\n",
        "import sqlite3\n",
        "#Get the database file form Github and store it in the local working directory\n",
        "!wget https://raw.githubusercontent.com/bachmannpatrick/Python-Class/master/data/database.sqlite"
      ],
      "execution_count": null,
      "outputs": [
        {
          "output_type": "stream",
          "name": "stdout",
          "text": [
            "--2022-08-24 13:00:29--  https://raw.githubusercontent.com/bachmannpatrick/Python-Class/master/data/database.sqlite\n",
            "Resolving raw.githubusercontent.com (raw.githubusercontent.com)... 185.199.109.133, 185.199.108.133, 185.199.110.133, ...\n",
            "Connecting to raw.githubusercontent.com (raw.githubusercontent.com)|185.199.109.133|:443... connected.\n",
            "HTTP request sent, awaiting response... 200 OK\n",
            "Length: 34689024 (33M) [application/octet-stream]\n",
            "Saving to: ‘database.sqlite.1’\n",
            "\n",
            "database.sqlite.1   100%[===================>]  33.08M  --.-KB/s    in 0.1s    \n",
            "\n",
            "2022-08-24 13:00:31 (253 MB/s) - ‘database.sqlite.1’ saved [34689024/34689024]\n",
            "\n"
          ]
        }
      ]
    },
    {
      "cell_type": "markdown",
      "metadata": {
        "id": "sQOkRrCi23JV"
      },
      "source": [
        "###29 - Select operations in SQL"
      ]
    },
    {
      "cell_type": "markdown",
      "metadata": {
        "id": "uTOya6Sz29TQ"
      },
      "source": [
        "1.\tOpen a connection to the database, create a cursor for the connection and show all tables.  Then use Pandas' read_sql_query() to read in the transactions table."
      ]
    },
    {
      "cell_type": "markdown",
      "metadata": {
        "id": "uziH5lda3CYI"
      },
      "source": [
        "2.\tShow the IDs of all customers who purchased on 06.06.2012. How many customers purchased on that date? Please use DISTINCT Customer in your SQL query to account for duplicates."
      ]
    },
    {
      "cell_type": "markdown",
      "metadata": {
        "id": "Bmmmr7Iu3Fcf"
      },
      "source": [
        "3.\tCalculate the new variable NetSales, which is the difference between purchase amount and cost per transaction. Check your results by taking a look at the whole table."
      ]
    },
    {
      "cell_type": "markdown",
      "metadata": {
        "id": "Ad7x5m8V4QAK"
      },
      "source": [
        "###30 - Aggregate operations in SQL"
      ]
    },
    {
      "cell_type": "markdown",
      "metadata": {
        "id": "_R5BUEu14yBY"
      },
      "source": [
        "0. Connect to the database again"
      ]
    },
    {
      "cell_type": "markdown",
      "metadata": {
        "id": "dlfUgRg54TIm"
      },
      "source": [
        "1.\tShow for each customer the latest transaction date (LatestPurch) as well as the maximum purchase amount per transaction (MaxPurch). Please use  MAX(VariableName) here."
      ]
    },
    {
      "cell_type": "markdown",
      "metadata": {
        "id": "5u1BBEXe4V_l"
      },
      "source": [
        "2.\tCalculate the average purchase amount (AvgPurch) and average cost (AvgCost) per year. Please use AVG(VariableName) here."
      ]
    },
    {
      "cell_type": "markdown",
      "metadata": {
        "id": "kVxF1-BA4YF1"
      },
      "source": [
        "3.\tWrite a query for a table that shows the number of transactions (Transactions) and the average purchase amount (AvgPurch) per customer per month."
      ]
    },
    {
      "cell_type": "markdown",
      "metadata": {
        "id": "ZiTvrXko5Rh2"
      },
      "source": [
        "###31 - Merge operations in SQL"
      ]
    },
    {
      "cell_type": "markdown",
      "metadata": {
        "id": "UnE-3wsI5ldl"
      },
      "source": [
        "0. Connect to the database again."
      ]
    },
    {
      "cell_type": "markdown",
      "metadata": {
        "id": "BXLdnASG5Uol"
      },
      "source": [
        "1.\tJoin all transactions with the demographic details of the corresponding customers. What is the share of female customers in the overall purchase amount?"
      ]
    },
    {
      "cell_type": "markdown",
      "metadata": {
        "id": "OeMzArJi5bSY"
      },
      "source": [
        "2.\tCompare the inner and the left outer join of the transaction and the demographic data. For how many transactions is no demographic information available?"
      ]
    },
    {
      "cell_type": "markdown",
      "metadata": {
        "id": "Xz5h1QJJ5dgO"
      },
      "source": [
        "3.\tMerge the transaction and the demographic data in a way, that the resulting table only shows the transactions on the day the customer joined the company."
      ]
    }
  ]
}