{
  "nbformat": 4,
  "nbformat_minor": 0,
  "metadata": {
    "colab": {
      "provenance": [],
      "toc_visible": true
    },
    "kernelspec": {
      "name": "python3",
      "display_name": "Python 3"
    }
  },
  "cells": [
    {
      "cell_type": "markdown",
      "metadata": {
        "id": "3arMV6uM79oD"
      },
      "source": [
        "#Python - Non-technical introduction\n",
        "\n",
        "##Day 3 Session 2: \"Play with the Pros: How to use SQL for data wrangling?\"\n",
        "\n",
        "This file accompanies the lectures and provides the code for the corresponding slides.\n",
        "\n",
        "*Note:* If you want to make changes to this document, you need to save your own copy using the \"Save copy in Drive\" command in the \"File\" menu."
      ]
    },
    {
      "cell_type": "markdown",
      "metadata": {
        "id": "c7xrHageKBHn"
      },
      "source": [
        "###Preparation\n",
        "\n",
        "**Make sure to run the follwing code before continuing.** Code will prepare everything (load data, ...)."
      ]
    },
    {
      "cell_type": "code",
      "metadata": {
        "id": "EmbjkbMNKRaX",
        "colab": {
          "base_uri": "https://localhost:8080/"
        },
        "outputId": "018c5db7-3b75-4d40-eb6a-4233eaf7de53"
      },
      "source": [
        "#load the sqlite3 package\n",
        "import sqlite3\n",
        "#load the numpy package\n",
        "import numpy as np\n",
        "#load the Pandas package\n",
        "import pandas as pd\n",
        "\n",
        "\n",
        "#Get the database file form Github and store it in the local working directory\n",
        "!wget https://raw.githubusercontent.com/bachmannpatrick/Python-Class/master/data/database.sqlite\n",
        "\n",
        "#Read the csv file and store it in the variable \"myData\". Note: this file is hostes in a GitHub repository.\n",
        "myData=pd.read_csv(filepath_or_buffer=\"https://raw.githubusercontent.com/bachmannpatrick/Python-Class/master/data/transactions.csv\", sep=\",\")\n",
        "#Adjust the format of column \"TransDate\" to datetime\n",
        "myData[\"TransDate\"]  = pd.to_datetime(myData[\"TransDate\"], dayfirst=True)"
      ],
      "execution_count": null,
      "outputs": [
        {
          "output_type": "stream",
          "name": "stdout",
          "text": [
            "--2021-09-01 06:01:29--  https://raw.githubusercontent.com/bachmannpatrick/Python-Class/master/data/database.sqlite\n",
            "Resolving raw.githubusercontent.com (raw.githubusercontent.com)... 185.199.108.133, 185.199.109.133, 185.199.110.133, ...\n",
            "Connecting to raw.githubusercontent.com (raw.githubusercontent.com)|185.199.108.133|:443... connected.\n",
            "HTTP request sent, awaiting response... 200 OK\n",
            "Length: 34689024 (33M) [application/octet-stream]\n",
            "Saving to: ‘database.sqlite’\n",
            "\n",
            "database.sqlite     100%[===================>]  33.08M   162MB/s    in 0.2s    \n",
            "\n",
            "2021-09-01 06:01:30 (162 MB/s) - ‘database.sqlite’ saved [34689024/34689024]\n",
            "\n"
          ]
        }
      ]
    },
    {
      "cell_type": "markdown",
      "metadata": {
        "id": "950Iax2klwil"
      },
      "source": [
        "###27 - Connection to a database"
      ]
    },
    {
      "cell_type": "markdown",
      "metadata": {
        "id": "tJ0j1IxRmB-E"
      },
      "source": [
        "####**Slide:** The sqlite3 module for working with SQLite databases"
      ]
    },
    {
      "cell_type": "code",
      "metadata": {
        "id": "vuakId_1mG1v"
      },
      "source": [
        "import sqlite3"
      ],
      "execution_count": null,
      "outputs": []
    },
    {
      "cell_type": "markdown",
      "metadata": {
        "id": "GopgwZPLmMb-"
      },
      "source": [
        "####**Slide:** DB step 1: Open connection"
      ]
    },
    {
      "cell_type": "code",
      "metadata": {
        "id": "cEviGxaHmUD8"
      },
      "source": [
        "con = sqlite3.connect(database=\"database.sqlite\")\n",
        "cursor = con.cursor()"
      ],
      "execution_count": null,
      "outputs": []
    },
    {
      "cell_type": "markdown",
      "metadata": {
        "id": "grMdRJINmcQS"
      },
      "source": [
        "####**Slide:** DB step 2:\n",
        "Check which tables are in the database"
      ]
    },
    {
      "cell_type": "code",
      "metadata": {
        "colab": {
          "base_uri": "https://localhost:8080/"
        },
        "id": "GmiR4zIWmfpj",
        "outputId": "22e20ca8-0d64-4a39-b12d-017fc2389ea8"
      },
      "source": [
        "cursor.execute(\"SELECT name FROM sqlite_master;\")\n",
        "cursor.fetchall()"
      ],
      "execution_count": null,
      "outputs": [
        {
          "output_type": "execute_result",
          "data": {
            "text/plain": [
              "[('transactions',), ('demographics',)]"
            ]
          },
          "metadata": {},
          "execution_count": 4
        }
      ]
    },
    {
      "cell_type": "markdown",
      "metadata": {
        "id": "Kc46BI1hmqmN"
      },
      "source": [
        "####**Slide:** DB step 2:\n",
        " Get a table from the database"
      ]
    },
    {
      "cell_type": "code",
      "metadata": {
        "colab": {
          "base_uri": "https://localhost:8080/",
          "height": 419
        },
        "id": "X-3s0py5mwnL",
        "outputId": "426f35b3-7acc-4434-da82-330dc1d8de3b"
      },
      "source": [
        "pd.read_sql_query(\"SELECT * from transactions\", con)"
      ],
      "execution_count": null,
      "outputs": [
        {
          "output_type": "execute_result",
          "data": {
            "text/html": [
              "<div>\n",
              "<style scoped>\n",
              "    .dataframe tbody tr th:only-of-type {\n",
              "        vertical-align: middle;\n",
              "    }\n",
              "\n",
              "    .dataframe tbody tr th {\n",
              "        vertical-align: top;\n",
              "    }\n",
              "\n",
              "    .dataframe thead th {\n",
              "        text-align: right;\n",
              "    }\n",
              "</style>\n",
              "<table border=\"1\" class=\"dataframe\">\n",
              "  <thead>\n",
              "    <tr style=\"text-align: right;\">\n",
              "      <th></th>\n",
              "      <th>Customer</th>\n",
              "      <th>TransDate</th>\n",
              "      <th>Quantity</th>\n",
              "      <th>PurchAmount</th>\n",
              "      <th>Cost</th>\n",
              "      <th>TransID</th>\n",
              "      <th>TransKey</th>\n",
              "    </tr>\n",
              "  </thead>\n",
              "  <tbody>\n",
              "    <tr>\n",
              "      <th>0</th>\n",
              "      <td>149332</td>\n",
              "      <td>2005-11-15 00:00</td>\n",
              "      <td>1</td>\n",
              "      <td>199.95</td>\n",
              "      <td>107.00</td>\n",
              "      <td>127998739</td>\n",
              "      <td>100000</td>\n",
              "    </tr>\n",
              "    <tr>\n",
              "      <th>1</th>\n",
              "      <td>172951</td>\n",
              "      <td>2008-08-29 00:00</td>\n",
              "      <td>1</td>\n",
              "      <td>199.95</td>\n",
              "      <td>108.00</td>\n",
              "      <td>128888288</td>\n",
              "      <td>100001</td>\n",
              "    </tr>\n",
              "    <tr>\n",
              "      <th>2</th>\n",
              "      <td>120621</td>\n",
              "      <td>2007-10-19 00:00</td>\n",
              "      <td>1</td>\n",
              "      <td>99.95</td>\n",
              "      <td>49.00</td>\n",
              "      <td>125375247</td>\n",
              "      <td>100002</td>\n",
              "    </tr>\n",
              "    <tr>\n",
              "      <th>3</th>\n",
              "      <td>149236</td>\n",
              "      <td>2005-11-14 00:00</td>\n",
              "      <td>1</td>\n",
              "      <td>39.95</td>\n",
              "      <td>18.95</td>\n",
              "      <td>127996226</td>\n",
              "      <td>100003</td>\n",
              "    </tr>\n",
              "    <tr>\n",
              "      <th>4</th>\n",
              "      <td>149236</td>\n",
              "      <td>2007-06-12 00:00</td>\n",
              "      <td>1</td>\n",
              "      <td>79.95</td>\n",
              "      <td>35.00</td>\n",
              "      <td>128670302</td>\n",
              "      <td>100004</td>\n",
              "    </tr>\n",
              "    <tr>\n",
              "      <th>...</th>\n",
              "      <td>...</td>\n",
              "      <td>...</td>\n",
              "      <td>...</td>\n",
              "      <td>...</td>\n",
              "      <td>...</td>\n",
              "      <td>...</td>\n",
              "      <td>...</td>\n",
              "    </tr>\n",
              "    <tr>\n",
              "      <th>223186</th>\n",
              "      <td>199997</td>\n",
              "      <td>2012-09-17 00:00</td>\n",
              "      <td>1</td>\n",
              "      <td>29.95</td>\n",
              "      <td>13.80</td>\n",
              "      <td>132481149</td>\n",
              "      <td>323186</td>\n",
              "    </tr>\n",
              "    <tr>\n",
              "      <th>223187</th>\n",
              "      <td>199997</td>\n",
              "      <td>2012-09-17 00:00</td>\n",
              "      <td>1</td>\n",
              "      <td>29.95</td>\n",
              "      <td>13.80</td>\n",
              "      <td>132481149</td>\n",
              "      <td>323187</td>\n",
              "    </tr>\n",
              "    <tr>\n",
              "      <th>223188</th>\n",
              "      <td>199998</td>\n",
              "      <td>2012-09-17 00:00</td>\n",
              "      <td>1</td>\n",
              "      <td>29.95</td>\n",
              "      <td>13.80</td>\n",
              "      <td>132481154</td>\n",
              "      <td>323188</td>\n",
              "    </tr>\n",
              "    <tr>\n",
              "      <th>223189</th>\n",
              "      <td>199999</td>\n",
              "      <td>2012-09-17 00:00</td>\n",
              "      <td>1</td>\n",
              "      <td>179.95</td>\n",
              "      <td>109.99</td>\n",
              "      <td>132481165</td>\n",
              "      <td>323189</td>\n",
              "    </tr>\n",
              "    <tr>\n",
              "      <th>223190</th>\n",
              "      <td>199542</td>\n",
              "      <td>2012-09-17 00:00</td>\n",
              "      <td>1</td>\n",
              "      <td>39.95</td>\n",
              "      <td>10.50</td>\n",
              "      <td>131973368</td>\n",
              "      <td>323190</td>\n",
              "    </tr>\n",
              "  </tbody>\n",
              "</table>\n",
              "<p>223191 rows × 7 columns</p>\n",
              "</div>"
            ],
            "text/plain": [
              "        Customer         TransDate  Quantity  ...    Cost    TransID  TransKey\n",
              "0         149332  2005-11-15 00:00         1  ...  107.00  127998739    100000\n",
              "1         172951  2008-08-29 00:00         1  ...  108.00  128888288    100001\n",
              "2         120621  2007-10-19 00:00         1  ...   49.00  125375247    100002\n",
              "3         149236  2005-11-14 00:00         1  ...   18.95  127996226    100003\n",
              "4         149236  2007-06-12 00:00         1  ...   35.00  128670302    100004\n",
              "...          ...               ...       ...  ...     ...        ...       ...\n",
              "223186    199997  2012-09-17 00:00         1  ...   13.80  132481149    323186\n",
              "223187    199997  2012-09-17 00:00         1  ...   13.80  132481149    323187\n",
              "223188    199998  2012-09-17 00:00         1  ...   13.80  132481154    323188\n",
              "223189    199999  2012-09-17 00:00         1  ...  109.99  132481165    323189\n",
              "223190    199542  2012-09-17 00:00         1  ...   10.50  131973368    323190\n",
              "\n",
              "[223191 rows x 7 columns]"
            ]
          },
          "metadata": {},
          "execution_count": 7
        }
      ]
    },
    {
      "cell_type": "markdown",
      "metadata": {
        "id": "6SQQ2E1bp6aq"
      },
      "source": [
        "####**Slide:** DB step 2:\n",
        "Create a new table in the database"
      ]
    },
    {
      "cell_type": "code",
      "metadata": {
        "id": "4YcEq1q3p-JC"
      },
      "source": [
        "myData.to_sql(con=con, name=\"new_table\")"
      ],
      "execution_count": null,
      "outputs": []
    },
    {
      "cell_type": "markdown",
      "metadata": {
        "id": "1NeosOiZp9ou"
      },
      "source": [
        "####**Slide:** DB step 2:\n",
        "Remove a table from the database"
      ]
    },
    {
      "cell_type": "code",
      "metadata": {
        "id": "kvXqnZEeqR-i"
      },
      "source": [
        "cursor.execute(\"DROP TABLE new_table\")\n",
        "con.commit() #make sure to commit your commands to the server!"
      ],
      "execution_count": null,
      "outputs": []
    },
    {
      "cell_type": "markdown",
      "metadata": {
        "id": "x-nX4RbjqcV7"
      },
      "source": [
        "####**Slide:** DB step 3:\n",
        "Close connection to free resources"
      ]
    },
    {
      "cell_type": "code",
      "metadata": {
        "id": "2ComtHInqhDx"
      },
      "source": [
        "con.close()"
      ],
      "execution_count": null,
      "outputs": []
    },
    {
      "cell_type": "markdown",
      "metadata": {
        "id": "t2FP39H2frtS"
      },
      "source": [
        "###28 - Database and the role of SQL"
      ]
    },
    {
      "cell_type": "markdown",
      "metadata": {
        "id": "C9uqIQ2rkbLH"
      },
      "source": [
        "####**Slide:** A general introduction to SQL:\n",
        "How to connect to a database"
      ]
    },
    {
      "cell_type": "code",
      "metadata": {
        "id": "MmwQh88Gkiig"
      },
      "source": [
        "con = sqlite3.connect(database=\"database.sqlite\")\n",
        "cursor= = con.cursor()"
      ],
      "execution_count": null,
      "outputs": []
    },
    {
      "cell_type": "markdown",
      "metadata": {
        "id": "0cxAV8iUlApz"
      },
      "source": [
        "####**Slide:** A general introduction to SQL:\n",
        "How to execute SQL queries in Python"
      ]
    },
    {
      "cell_type": "code",
      "metadata": {
        "id": "eveCEMbVlGi-"
      },
      "source": [
        "pd.read_sql_query(\"SELECT * FROM transactions;\", con)"
      ],
      "execution_count": null,
      "outputs": []
    },
    {
      "cell_type": "markdown",
      "metadata": {
        "id": "BU2DhJRCraDi"
      },
      "source": [
        "####**Slide:** DB step 3:\n",
        "Close connection to free resources"
      ]
    },
    {
      "cell_type": "code",
      "metadata": {
        "id": "sIGxTaMmrcNX"
      },
      "source": [
        "con.close()"
      ],
      "execution_count": null,
      "outputs": []
    }
  ]
}