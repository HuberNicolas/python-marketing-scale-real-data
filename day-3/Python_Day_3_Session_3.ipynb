{
  "nbformat": 4,
  "nbformat_minor": 0,
  "metadata": {
    "colab": {
      "provenance": [],
      "toc_visible": true
    },
    "kernelspec": {
      "name": "python3",
      "display_name": "Python 3"
    }
  },
  "cells": [
    {
      "cell_type": "markdown",
      "metadata": {
        "id": "3arMV6uM79oD"
      },
      "source": [
        "#Python - Non-technical introduction\n",
        "\n",
        "##Day 3 Session 2: \"Play with the Pros: How to use SQL for data wrangling?\"\n",
        "\n",
        "This file accompanies the lectures and provides the code for the corresponding slides.\n",
        "\n",
        "*Note:* If you want to make changes to this document, you need to save your own copy using the \"Save copy in Drive\" command in the \"File\" menu."
      ]
    },
    {
      "cell_type": "markdown",
      "metadata": {
        "id": "c7xrHageKBHn"
      },
      "source": [
        "###Preparation\n",
        "\n",
        "**Make sure to run the follwing code before continuing.** Code will prepare everything (load data, ...)."
      ]
    },
    {
      "cell_type": "code",
      "metadata": {
        "id": "EmbjkbMNKRaX",
        "colab": {
          "base_uri": "https://localhost:8080/"
        },
        "outputId": "018c5db7-3b75-4d40-eb6a-4233eaf7de53"
      },
      "source": [
        "#load the sqlite3 package\n",
        "import sqlite3\n",
        "#load the numpy package\n",
        "import numpy as np\n",
        "#load the Pandas package\n",
        "import pandas as pd\n",
        "\n",
        "\n",
        "#Get the database file form Github and store it in the local working directory\n",
        "!wget https://raw.githubusercontent.com/bachmannpatrick/Python-Class/master/data/database.sqlite\n",
        "\n",
        "#Read the csv file and store it in the variable \"myData\". Note: this file is hostes in a GitHub repository.\n",
        "myData=pd.read_csv(filepath_or_buffer=\"https://raw.githubusercontent.com/bachmannpatrick/Python-Class/master/data/transactions.csv\", sep=\",\")\n",
        "#Adjust the format of column \"TransDate\" to datetime\n",
        "myData[\"TransDate\"]  = pd.to_datetime(myData[\"TransDate\"], dayfirst=True)"
      ],
      "execution_count": null,
      "outputs": [
        {
          "output_type": "stream",
          "name": "stdout",
          "text": [
            "--2021-09-01 06:01:29--  https://raw.githubusercontent.com/bachmannpatrick/Python-Class/master/data/database.sqlite\n",
            "Resolving raw.githubusercontent.com (raw.githubusercontent.com)... 185.199.108.133, 185.199.109.133, 185.199.110.133, ...\n",
            "Connecting to raw.githubusercontent.com (raw.githubusercontent.com)|185.199.108.133|:443... connected.\n",
            "HTTP request sent, awaiting response... 200 OK\n",
            "Length: 34689024 (33M) [application/octet-stream]\n",
            "Saving to: ‘database.sqlite’\n",
            "\n",
            "database.sqlite     100%[===================>]  33.08M   162MB/s    in 0.2s    \n",
            "\n",
            "2021-09-01 06:01:30 (162 MB/s) - ‘database.sqlite’ saved [34689024/34689024]\n",
            "\n"
          ]
        }
      ]
    },
    {
      "cell_type": "markdown",
      "metadata": {
        "id": "vaX9FRSfJwsn"
      },
      "source": [
        "###29 - Select operations in SQL"
      ]
    },
    {
      "cell_type": "markdown",
      "metadata": {
        "id": "sKPXHRYUrxMq"
      },
      "source": [
        "####**Slide:** Selecting rows: Selecting rows by condition\n",
        ". Identify transactions greater than $100"
      ]
    },
    {
      "cell_type": "code",
      "metadata": {
        "id": "oIaenYZ9sP_w"
      },
      "source": [
        "import sqlite3\n",
        "\n",
        "#We need to connect to the database again before we can move on:\n",
        "con = sqlite3.connect(database=\"database.sqlite\")\n",
        "cursor= = con.cursor()"
      ],
      "execution_count": null,
      "outputs": []
    },
    {
      "cell_type": "code",
      "metadata": {
        "colab": {
          "base_uri": "https://localhost:8080/",
          "height": 419
        },
        "id": "Ow59wNZRr0_a",
        "outputId": "7924f3ad-5258-42a1-a982-ca896e01e0c8"
      },
      "source": [
        "pd.read_sql_query(\"SELECT * FROM transactions WHERE PurchAmount > 100;\",con)"
      ],
      "execution_count": null,
      "outputs": [
        {
          "output_type": "execute_result",
          "data": {
            "text/html": [
              "<div>\n",
              "<style scoped>\n",
              "    .dataframe tbody tr th:only-of-type {\n",
              "        vertical-align: middle;\n",
              "    }\n",
              "\n",
              "    .dataframe tbody tr th {\n",
              "        vertical-align: top;\n",
              "    }\n",
              "\n",
              "    .dataframe thead th {\n",
              "        text-align: right;\n",
              "    }\n",
              "</style>\n",
              "<table border=\"1\" class=\"dataframe\">\n",
              "  <thead>\n",
              "    <tr style=\"text-align: right;\">\n",
              "      <th></th>\n",
              "      <th>Customer</th>\n",
              "      <th>TransDate</th>\n",
              "      <th>Quantity</th>\n",
              "      <th>PurchAmount</th>\n",
              "      <th>Cost</th>\n",
              "      <th>TransID</th>\n",
              "      <th>TransKey</th>\n",
              "    </tr>\n",
              "  </thead>\n",
              "  <tbody>\n",
              "    <tr>\n",
              "      <th>0</th>\n",
              "      <td>149332</td>\n",
              "      <td>2005-11-15 00:00</td>\n",
              "      <td>1</td>\n",
              "      <td>199.95</td>\n",
              "      <td>107.00</td>\n",
              "      <td>127998739</td>\n",
              "      <td>100000</td>\n",
              "    </tr>\n",
              "    <tr>\n",
              "      <th>1</th>\n",
              "      <td>172951</td>\n",
              "      <td>2008-08-29 00:00</td>\n",
              "      <td>1</td>\n",
              "      <td>199.95</td>\n",
              "      <td>108.00</td>\n",
              "      <td>128888288</td>\n",
              "      <td>100001</td>\n",
              "    </tr>\n",
              "    <tr>\n",
              "      <th>2</th>\n",
              "      <td>140729</td>\n",
              "      <td>2009-11-19 00:00</td>\n",
              "      <td>1</td>\n",
              "      <td>129.95</td>\n",
              "      <td>59.00</td>\n",
              "      <td>127637750</td>\n",
              "      <td>100005</td>\n",
              "    </tr>\n",
              "    <tr>\n",
              "      <th>3</th>\n",
              "      <td>180970</td>\n",
              "      <td>2009-06-19 00:00</td>\n",
              "      <td>1</td>\n",
              "      <td>119.95</td>\n",
              "      <td>58.46</td>\n",
              "      <td>129195647</td>\n",
              "      <td>100011</td>\n",
              "    </tr>\n",
              "    <tr>\n",
              "      <th>4</th>\n",
              "      <td>182927</td>\n",
              "      <td>2009-02-11 00:00</td>\n",
              "      <td>1</td>\n",
              "      <td>129.95</td>\n",
              "      <td>63.08</td>\n",
              "      <td>129290963</td>\n",
              "      <td>100017</td>\n",
              "    </tr>\n",
              "    <tr>\n",
              "      <th>...</th>\n",
              "      <td>...</td>\n",
              "      <td>...</td>\n",
              "      <td>...</td>\n",
              "      <td>...</td>\n",
              "      <td>...</td>\n",
              "      <td>...</td>\n",
              "      <td>...</td>\n",
              "    </tr>\n",
              "    <tr>\n",
              "      <th>46287</th>\n",
              "      <td>199539</td>\n",
              "      <td>2012-09-16 00:00</td>\n",
              "      <td>1</td>\n",
              "      <td>119.95</td>\n",
              "      <td>40.25</td>\n",
              "      <td>131972445</td>\n",
              "      <td>323164</td>\n",
              "    </tr>\n",
              "    <tr>\n",
              "      <th>46288</th>\n",
              "      <td>186343</td>\n",
              "      <td>2012-09-16 00:00</td>\n",
              "      <td>1</td>\n",
              "      <td>129.95</td>\n",
              "      <td>63.00</td>\n",
              "      <td>129599231</td>\n",
              "      <td>323166</td>\n",
              "    </tr>\n",
              "    <tr>\n",
              "      <th>46289</th>\n",
              "      <td>186344</td>\n",
              "      <td>2012-09-16 00:00</td>\n",
              "      <td>1</td>\n",
              "      <td>149.95</td>\n",
              "      <td>54.50</td>\n",
              "      <td>129599281</td>\n",
              "      <td>323167</td>\n",
              "    </tr>\n",
              "    <tr>\n",
              "      <th>46290</th>\n",
              "      <td>199996</td>\n",
              "      <td>2012-09-17 00:00</td>\n",
              "      <td>1</td>\n",
              "      <td>179.95</td>\n",
              "      <td>104.99</td>\n",
              "      <td>132481133</td>\n",
              "      <td>323176</td>\n",
              "    </tr>\n",
              "    <tr>\n",
              "      <th>46291</th>\n",
              "      <td>199999</td>\n",
              "      <td>2012-09-17 00:00</td>\n",
              "      <td>1</td>\n",
              "      <td>179.95</td>\n",
              "      <td>109.99</td>\n",
              "      <td>132481165</td>\n",
              "      <td>323189</td>\n",
              "    </tr>\n",
              "  </tbody>\n",
              "</table>\n",
              "<p>46292 rows × 7 columns</p>\n",
              "</div>"
            ],
            "text/plain": [
              "       Customer         TransDate  Quantity  ...    Cost    TransID  TransKey\n",
              "0        149332  2005-11-15 00:00         1  ...  107.00  127998739    100000\n",
              "1        172951  2008-08-29 00:00         1  ...  108.00  128888288    100001\n",
              "2        140729  2009-11-19 00:00         1  ...   59.00  127637750    100005\n",
              "3        180970  2009-06-19 00:00         1  ...   58.46  129195647    100011\n",
              "4        182927  2009-02-11 00:00         1  ...   63.08  129290963    100017\n",
              "...         ...               ...       ...  ...     ...        ...       ...\n",
              "46287    199539  2012-09-16 00:00         1  ...   40.25  131972445    323164\n",
              "46288    186343  2012-09-16 00:00         1  ...   63.00  129599231    323166\n",
              "46289    186344  2012-09-16 00:00         1  ...   54.50  129599281    323167\n",
              "46290    199996  2012-09-17 00:00         1  ...  104.99  132481133    323176\n",
              "46291    199999  2012-09-17 00:00         1  ...  109.99  132481165    323189\n",
              "\n",
              "[46292 rows x 7 columns]"
            ]
          },
          "metadata": {},
          "execution_count": 13
        }
      ]
    },
    {
      "cell_type": "markdown",
      "metadata": {
        "id": "q9hEIYBksrFa"
      },
      "source": [
        "####**Slide:** Selecting columns: Select multiple columns by column name"
      ]
    },
    {
      "cell_type": "code",
      "metadata": {
        "colab": {
          "base_uri": "https://localhost:8080/",
          "height": 419
        },
        "id": "tVqKzeC6sro7",
        "outputId": "80672b9f-d4fc-4a25-ffb8-540a1ae6c543"
      },
      "source": [
        "pd.read_sql_query(\" SELECT Customer, TransDate, PurchAmount FROM transactions;\", con)"
      ],
      "execution_count": null,
      "outputs": [
        {
          "output_type": "execute_result",
          "data": {
            "text/html": [
              "<div>\n",
              "<style scoped>\n",
              "    .dataframe tbody tr th:only-of-type {\n",
              "        vertical-align: middle;\n",
              "    }\n",
              "\n",
              "    .dataframe tbody tr th {\n",
              "        vertical-align: top;\n",
              "    }\n",
              "\n",
              "    .dataframe thead th {\n",
              "        text-align: right;\n",
              "    }\n",
              "</style>\n",
              "<table border=\"1\" class=\"dataframe\">\n",
              "  <thead>\n",
              "    <tr style=\"text-align: right;\">\n",
              "      <th></th>\n",
              "      <th>Customer</th>\n",
              "      <th>TransDate</th>\n",
              "      <th>PurchAmount</th>\n",
              "    </tr>\n",
              "  </thead>\n",
              "  <tbody>\n",
              "    <tr>\n",
              "      <th>0</th>\n",
              "      <td>149332</td>\n",
              "      <td>2005-11-15 00:00</td>\n",
              "      <td>199.95</td>\n",
              "    </tr>\n",
              "    <tr>\n",
              "      <th>1</th>\n",
              "      <td>172951</td>\n",
              "      <td>2008-08-29 00:00</td>\n",
              "      <td>199.95</td>\n",
              "    </tr>\n",
              "    <tr>\n",
              "      <th>2</th>\n",
              "      <td>120621</td>\n",
              "      <td>2007-10-19 00:00</td>\n",
              "      <td>99.95</td>\n",
              "    </tr>\n",
              "    <tr>\n",
              "      <th>3</th>\n",
              "      <td>149236</td>\n",
              "      <td>2005-11-14 00:00</td>\n",
              "      <td>39.95</td>\n",
              "    </tr>\n",
              "    <tr>\n",
              "      <th>4</th>\n",
              "      <td>149236</td>\n",
              "      <td>2007-06-12 00:00</td>\n",
              "      <td>79.95</td>\n",
              "    </tr>\n",
              "    <tr>\n",
              "      <th>...</th>\n",
              "      <td>...</td>\n",
              "      <td>...</td>\n",
              "      <td>...</td>\n",
              "    </tr>\n",
              "    <tr>\n",
              "      <th>223186</th>\n",
              "      <td>199997</td>\n",
              "      <td>2012-09-17 00:00</td>\n",
              "      <td>29.95</td>\n",
              "    </tr>\n",
              "    <tr>\n",
              "      <th>223187</th>\n",
              "      <td>199997</td>\n",
              "      <td>2012-09-17 00:00</td>\n",
              "      <td>29.95</td>\n",
              "    </tr>\n",
              "    <tr>\n",
              "      <th>223188</th>\n",
              "      <td>199998</td>\n",
              "      <td>2012-09-17 00:00</td>\n",
              "      <td>29.95</td>\n",
              "    </tr>\n",
              "    <tr>\n",
              "      <th>223189</th>\n",
              "      <td>199999</td>\n",
              "      <td>2012-09-17 00:00</td>\n",
              "      <td>179.95</td>\n",
              "    </tr>\n",
              "    <tr>\n",
              "      <th>223190</th>\n",
              "      <td>199542</td>\n",
              "      <td>2012-09-17 00:00</td>\n",
              "      <td>39.95</td>\n",
              "    </tr>\n",
              "  </tbody>\n",
              "</table>\n",
              "<p>223191 rows × 3 columns</p>\n",
              "</div>"
            ],
            "text/plain": [
              "        Customer         TransDate  PurchAmount\n",
              "0         149332  2005-11-15 00:00       199.95\n",
              "1         172951  2008-08-29 00:00       199.95\n",
              "2         120621  2007-10-19 00:00        99.95\n",
              "3         149236  2005-11-14 00:00        39.95\n",
              "4         149236  2007-06-12 00:00        79.95\n",
              "...          ...               ...          ...\n",
              "223186    199997  2012-09-17 00:00        29.95\n",
              "223187    199997  2012-09-17 00:00        29.95\n",
              "223188    199998  2012-09-17 00:00        29.95\n",
              "223189    199999  2012-09-17 00:00       179.95\n",
              "223190    199542  2012-09-17 00:00        39.95\n",
              "\n",
              "[223191 rows x 3 columns]"
            ]
          },
          "metadata": {},
          "execution_count": 14
        }
      ]
    },
    {
      "cell_type": "markdown",
      "metadata": {
        "id": "kZnofK0Ds3dX"
      },
      "source": [
        "####**Slide:** Selecting rows and columns: Combine operations to select by row and column"
      ]
    },
    {
      "cell_type": "code",
      "metadata": {
        "colab": {
          "base_uri": "https://localhost:8080/",
          "height": 419
        },
        "id": "j6vUur7Ms65m",
        "outputId": "58b3e554-e61e-4cee-e179-1461b5c07b69"
      },
      "source": [
        "pd.read_sql_query(\"SELECT TransDate, Cost FROM transactions WHERE PurchAmount > 100;\", con)"
      ],
      "execution_count": null,
      "outputs": [
        {
          "output_type": "execute_result",
          "data": {
            "text/html": [
              "<div>\n",
              "<style scoped>\n",
              "    .dataframe tbody tr th:only-of-type {\n",
              "        vertical-align: middle;\n",
              "    }\n",
              "\n",
              "    .dataframe tbody tr th {\n",
              "        vertical-align: top;\n",
              "    }\n",
              "\n",
              "    .dataframe thead th {\n",
              "        text-align: right;\n",
              "    }\n",
              "</style>\n",
              "<table border=\"1\" class=\"dataframe\">\n",
              "  <thead>\n",
              "    <tr style=\"text-align: right;\">\n",
              "      <th></th>\n",
              "      <th>TransDate</th>\n",
              "      <th>Cost</th>\n",
              "    </tr>\n",
              "  </thead>\n",
              "  <tbody>\n",
              "    <tr>\n",
              "      <th>0</th>\n",
              "      <td>2005-11-15 00:00</td>\n",
              "      <td>107.00</td>\n",
              "    </tr>\n",
              "    <tr>\n",
              "      <th>1</th>\n",
              "      <td>2008-08-29 00:00</td>\n",
              "      <td>108.00</td>\n",
              "    </tr>\n",
              "    <tr>\n",
              "      <th>2</th>\n",
              "      <td>2009-11-19 00:00</td>\n",
              "      <td>59.00</td>\n",
              "    </tr>\n",
              "    <tr>\n",
              "      <th>3</th>\n",
              "      <td>2009-06-19 00:00</td>\n",
              "      <td>58.46</td>\n",
              "    </tr>\n",
              "    <tr>\n",
              "      <th>4</th>\n",
              "      <td>2009-02-11 00:00</td>\n",
              "      <td>63.08</td>\n",
              "    </tr>\n",
              "    <tr>\n",
              "      <th>...</th>\n",
              "      <td>...</td>\n",
              "      <td>...</td>\n",
              "    </tr>\n",
              "    <tr>\n",
              "      <th>46287</th>\n",
              "      <td>2012-09-16 00:00</td>\n",
              "      <td>40.25</td>\n",
              "    </tr>\n",
              "    <tr>\n",
              "      <th>46288</th>\n",
              "      <td>2012-09-16 00:00</td>\n",
              "      <td>63.00</td>\n",
              "    </tr>\n",
              "    <tr>\n",
              "      <th>46289</th>\n",
              "      <td>2012-09-16 00:00</td>\n",
              "      <td>54.50</td>\n",
              "    </tr>\n",
              "    <tr>\n",
              "      <th>46290</th>\n",
              "      <td>2012-09-17 00:00</td>\n",
              "      <td>104.99</td>\n",
              "    </tr>\n",
              "    <tr>\n",
              "      <th>46291</th>\n",
              "      <td>2012-09-17 00:00</td>\n",
              "      <td>109.99</td>\n",
              "    </tr>\n",
              "  </tbody>\n",
              "</table>\n",
              "<p>46292 rows × 2 columns</p>\n",
              "</div>"
            ],
            "text/plain": [
              "              TransDate    Cost\n",
              "0      2005-11-15 00:00  107.00\n",
              "1      2008-08-29 00:00  108.00\n",
              "2      2009-11-19 00:00   59.00\n",
              "3      2009-06-19 00:00   58.46\n",
              "4      2009-02-11 00:00   63.08\n",
              "...                 ...     ...\n",
              "46287  2012-09-16 00:00   40.25\n",
              "46288  2012-09-16 00:00   63.00\n",
              "46289  2012-09-16 00:00   54.50\n",
              "46290  2012-09-17 00:00  104.99\n",
              "46291  2012-09-17 00:00  109.99\n",
              "\n",
              "[46292 rows x 2 columns]"
            ]
          },
          "metadata": {},
          "execution_count": 15
        }
      ]
    },
    {
      "cell_type": "markdown",
      "metadata": {
        "id": "C5qZyx4ntM9B"
      },
      "source": [
        "####**Slide:** Updating rows and columns: Appending rows into a table"
      ]
    },
    {
      "cell_type": "code",
      "metadata": {
        "id": "Zc7ZdIJftSsS"
      },
      "source": [
        "cursor=.execute(\"INSERT INTO transactions (Customer,TransDate,Quantity,PurchAmount,Cost) VALUES (80801,'2014-09-19 00:00',1,89.95,29.30);\")\n",
        "con.commit()"
      ],
      "execution_count": null,
      "outputs": []
    },
    {
      "cell_type": "markdown",
      "metadata": {
        "id": "d7cMP7Hftbo5"
      },
      "source": [
        "####**Slide:** Updating rows and columns: Adding columns to a table"
      ]
    },
    {
      "cell_type": "code",
      "metadata": {
        "id": "Kh2P7TSttf8i"
      },
      "source": [
        "cursor=.execute(\"ALTER TABLE transactions ADD NewCol;\")\n",
        "cursor=.execute(\"UPDATE transactions SET NewCol=ROUND(Cost,0);\")\n",
        "con.commit()"
      ],
      "execution_count": null,
      "outputs": []
    },
    {
      "cell_type": "markdown",
      "metadata": {
        "id": "N29yR2pNuo7h"
      },
      "source": [
        "###30 - Aggregate operations in SQL"
      ]
    },
    {
      "cell_type": "markdown",
      "metadata": {
        "id": "8zhwOTKFuvhn"
      },
      "source": [
        "####**Slide:** 1. Apply an aggregating function to a variable by an aggregating dimension"
      ]
    },
    {
      "cell_type": "code",
      "metadata": {
        "colab": {
          "base_uri": "https://localhost:8080/",
          "height": 419
        },
        "id": "fSwLRQx6u7DK",
        "outputId": "c7717734-40a6-4fcb-b34c-ff01c6857826"
      },
      "source": [
        "pd.read_sql_query(\"SELECT Customer, SUM(PurchAmount) AS AggPurch FROM transactions GROUP BY Customer;\", con)"
      ],
      "execution_count": null,
      "outputs": [
        {
          "output_type": "execute_result",
          "data": {
            "text/html": [
              "<div>\n",
              "<style scoped>\n",
              "    .dataframe tbody tr th:only-of-type {\n",
              "        vertical-align: middle;\n",
              "    }\n",
              "\n",
              "    .dataframe tbody tr th {\n",
              "        vertical-align: top;\n",
              "    }\n",
              "\n",
              "    .dataframe thead th {\n",
              "        text-align: right;\n",
              "    }\n",
              "</style>\n",
              "<table border=\"1\" class=\"dataframe\">\n",
              "  <thead>\n",
              "    <tr style=\"text-align: right;\">\n",
              "      <th></th>\n",
              "      <th>Customer</th>\n",
              "      <th>AggPurch</th>\n",
              "    </tr>\n",
              "  </thead>\n",
              "  <tbody>\n",
              "    <tr>\n",
              "      <th>0</th>\n",
              "      <td>80801</td>\n",
              "      <td>89.95</td>\n",
              "    </tr>\n",
              "    <tr>\n",
              "      <th>1</th>\n",
              "      <td>100001</td>\n",
              "      <td>279.90</td>\n",
              "    </tr>\n",
              "    <tr>\n",
              "      <th>2</th>\n",
              "      <td>100002</td>\n",
              "      <td>499.95</td>\n",
              "    </tr>\n",
              "    <tr>\n",
              "      <th>3</th>\n",
              "      <td>100003</td>\n",
              "      <td>379.90</td>\n",
              "    </tr>\n",
              "    <tr>\n",
              "      <th>4</th>\n",
              "      <td>100004</td>\n",
              "      <td>499.95</td>\n",
              "    </tr>\n",
              "    <tr>\n",
              "      <th>...</th>\n",
              "      <td>...</td>\n",
              "      <td>...</td>\n",
              "    </tr>\n",
              "    <tr>\n",
              "      <th>98776</th>\n",
              "      <td>199995</td>\n",
              "      <td>89.85</td>\n",
              "    </tr>\n",
              "    <tr>\n",
              "      <th>98777</th>\n",
              "      <td>199996</td>\n",
              "      <td>179.95</td>\n",
              "    </tr>\n",
              "    <tr>\n",
              "      <th>98778</th>\n",
              "      <td>199997</td>\n",
              "      <td>179.70</td>\n",
              "    </tr>\n",
              "    <tr>\n",
              "      <th>98779</th>\n",
              "      <td>199998</td>\n",
              "      <td>29.95</td>\n",
              "    </tr>\n",
              "    <tr>\n",
              "      <th>98780</th>\n",
              "      <td>199999</td>\n",
              "      <td>179.95</td>\n",
              "    </tr>\n",
              "  </tbody>\n",
              "</table>\n",
              "<p>98781 rows × 2 columns</p>\n",
              "</div>"
            ],
            "text/plain": [
              "       Customer  AggPurch\n",
              "0         80801     89.95\n",
              "1        100001    279.90\n",
              "2        100002    499.95\n",
              "3        100003    379.90\n",
              "4        100004    499.95\n",
              "...         ...       ...\n",
              "98776    199995     89.85\n",
              "98777    199996    179.95\n",
              "98778    199997    179.70\n",
              "98779    199998     29.95\n",
              "98780    199999    179.95\n",
              "\n",
              "[98781 rows x 2 columns]"
            ]
          },
          "metadata": {},
          "execution_count": 19
        }
      ]
    },
    {
      "cell_type": "markdown",
      "metadata": {
        "id": "4XJX26MTvKW9"
      },
      "source": [
        "####**Slide:** 2. Apply an aggregating function to multiple variables by an aggregating dimension"
      ]
    },
    {
      "cell_type": "code",
      "metadata": {
        "colab": {
          "base_uri": "https://localhost:8080/",
          "height": 419
        },
        "id": "x47LtTZivNhQ",
        "outputId": "a507f345-007d-4480-f988-28973cc20f26"
      },
      "source": [
        "pd.read_sql_query(\"SELECT Customer, SUM(PurchAmount) AS AggPurch, SUM(Quantity) AS AggQuant FROM transactions GROUP BY Customer;\", con)"
      ],
      "execution_count": null,
      "outputs": [
        {
          "output_type": "execute_result",
          "data": {
            "text/html": [
              "<div>\n",
              "<style scoped>\n",
              "    .dataframe tbody tr th:only-of-type {\n",
              "        vertical-align: middle;\n",
              "    }\n",
              "\n",
              "    .dataframe tbody tr th {\n",
              "        vertical-align: top;\n",
              "    }\n",
              "\n",
              "    .dataframe thead th {\n",
              "        text-align: right;\n",
              "    }\n",
              "</style>\n",
              "<table border=\"1\" class=\"dataframe\">\n",
              "  <thead>\n",
              "    <tr style=\"text-align: right;\">\n",
              "      <th></th>\n",
              "      <th>Customer</th>\n",
              "      <th>AggPurch</th>\n",
              "      <th>AggQuant</th>\n",
              "    </tr>\n",
              "  </thead>\n",
              "  <tbody>\n",
              "    <tr>\n",
              "      <th>0</th>\n",
              "      <td>80801</td>\n",
              "      <td>89.95</td>\n",
              "      <td>1</td>\n",
              "    </tr>\n",
              "    <tr>\n",
              "      <th>1</th>\n",
              "      <td>100001</td>\n",
              "      <td>279.90</td>\n",
              "      <td>2</td>\n",
              "    </tr>\n",
              "    <tr>\n",
              "      <th>2</th>\n",
              "      <td>100002</td>\n",
              "      <td>499.95</td>\n",
              "      <td>1</td>\n",
              "    </tr>\n",
              "    <tr>\n",
              "      <th>3</th>\n",
              "      <td>100003</td>\n",
              "      <td>379.90</td>\n",
              "      <td>2</td>\n",
              "    </tr>\n",
              "    <tr>\n",
              "      <th>4</th>\n",
              "      <td>100004</td>\n",
              "      <td>499.95</td>\n",
              "      <td>1</td>\n",
              "    </tr>\n",
              "    <tr>\n",
              "      <th>...</th>\n",
              "      <td>...</td>\n",
              "      <td>...</td>\n",
              "      <td>...</td>\n",
              "    </tr>\n",
              "    <tr>\n",
              "      <th>98776</th>\n",
              "      <td>199995</td>\n",
              "      <td>89.85</td>\n",
              "      <td>3</td>\n",
              "    </tr>\n",
              "    <tr>\n",
              "      <th>98777</th>\n",
              "      <td>199996</td>\n",
              "      <td>179.95</td>\n",
              "      <td>1</td>\n",
              "    </tr>\n",
              "    <tr>\n",
              "      <th>98778</th>\n",
              "      <td>199997</td>\n",
              "      <td>179.70</td>\n",
              "      <td>6</td>\n",
              "    </tr>\n",
              "    <tr>\n",
              "      <th>98779</th>\n",
              "      <td>199998</td>\n",
              "      <td>29.95</td>\n",
              "      <td>1</td>\n",
              "    </tr>\n",
              "    <tr>\n",
              "      <th>98780</th>\n",
              "      <td>199999</td>\n",
              "      <td>179.95</td>\n",
              "      <td>1</td>\n",
              "    </tr>\n",
              "  </tbody>\n",
              "</table>\n",
              "<p>98781 rows × 3 columns</p>\n",
              "</div>"
            ],
            "text/plain": [
              "       Customer  AggPurch  AggQuant\n",
              "0         80801     89.95         1\n",
              "1        100001    279.90         2\n",
              "2        100002    499.95         1\n",
              "3        100003    379.90         2\n",
              "4        100004    499.95         1\n",
              "...         ...       ...       ...\n",
              "98776    199995     89.85         3\n",
              "98777    199996    179.95         1\n",
              "98778    199997    179.70         6\n",
              "98779    199998     29.95         1\n",
              "98780    199999    179.95         1\n",
              "\n",
              "[98781 rows x 3 columns]"
            ]
          },
          "metadata": {},
          "execution_count": 20
        }
      ]
    },
    {
      "cell_type": "markdown",
      "metadata": {
        "id": "Ru2cQKVTvYZB"
      },
      "source": [
        "####**Slide:** 3. Apply an aggregating function by a transformed aggregating dimension"
      ]
    },
    {
      "cell_type": "code",
      "metadata": {
        "colab": {
          "base_uri": "https://localhost:8080/",
          "height": 419
        },
        "id": "E8pM1cZAveHk",
        "outputId": "0addf397-6db7-4059-a98a-d4b7c793cbd0"
      },
      "source": [
        "pd.read_sql_query(\"SELECT date(TransDate, 'start of month') AS Month, SUM(PurchAmount) AS AggPurch FROM transactions GROUP BY Month;\", con)"
      ],
      "execution_count": null,
      "outputs": [
        {
          "output_type": "execute_result",
          "data": {
            "text/html": [
              "<div>\n",
              "<style scoped>\n",
              "    .dataframe tbody tr th:only-of-type {\n",
              "        vertical-align: middle;\n",
              "    }\n",
              "\n",
              "    .dataframe tbody tr th {\n",
              "        vertical-align: top;\n",
              "    }\n",
              "\n",
              "    .dataframe thead th {\n",
              "        text-align: right;\n",
              "    }\n",
              "</style>\n",
              "<table border=\"1\" class=\"dataframe\">\n",
              "  <thead>\n",
              "    <tr style=\"text-align: right;\">\n",
              "      <th></th>\n",
              "      <th>Month</th>\n",
              "      <th>AggPurch</th>\n",
              "    </tr>\n",
              "  </thead>\n",
              "  <tbody>\n",
              "    <tr>\n",
              "      <th>0</th>\n",
              "      <td>2004-12-01</td>\n",
              "      <td>27623.90</td>\n",
              "    </tr>\n",
              "    <tr>\n",
              "      <th>1</th>\n",
              "      <td>2005-01-01</td>\n",
              "      <td>83363.73</td>\n",
              "    </tr>\n",
              "    <tr>\n",
              "      <th>2</th>\n",
              "      <td>2005-02-01</td>\n",
              "      <td>87341.59</td>\n",
              "    </tr>\n",
              "    <tr>\n",
              "      <th>3</th>\n",
              "      <td>2005-03-01</td>\n",
              "      <td>86803.31</td>\n",
              "    </tr>\n",
              "    <tr>\n",
              "      <th>4</th>\n",
              "      <td>2005-04-01</td>\n",
              "      <td>84293.01</td>\n",
              "    </tr>\n",
              "    <tr>\n",
              "      <th>...</th>\n",
              "      <td>...</td>\n",
              "      <td>...</td>\n",
              "    </tr>\n",
              "    <tr>\n",
              "      <th>93</th>\n",
              "      <td>2012-09-01</td>\n",
              "      <td>71429.25</td>\n",
              "    </tr>\n",
              "    <tr>\n",
              "      <th>94</th>\n",
              "      <td>2012-10-01</td>\n",
              "      <td>42588.75</td>\n",
              "    </tr>\n",
              "    <tr>\n",
              "      <th>95</th>\n",
              "      <td>2012-11-01</td>\n",
              "      <td>44633.30</td>\n",
              "    </tr>\n",
              "    <tr>\n",
              "      <th>96</th>\n",
              "      <td>2012-12-01</td>\n",
              "      <td>41652.75</td>\n",
              "    </tr>\n",
              "    <tr>\n",
              "      <th>97</th>\n",
              "      <td>2014-09-01</td>\n",
              "      <td>89.95</td>\n",
              "    </tr>\n",
              "  </tbody>\n",
              "</table>\n",
              "<p>98 rows × 2 columns</p>\n",
              "</div>"
            ],
            "text/plain": [
              "         Month  AggPurch\n",
              "0   2004-12-01  27623.90\n",
              "1   2005-01-01  83363.73\n",
              "2   2005-02-01  87341.59\n",
              "3   2005-03-01  86803.31\n",
              "4   2005-04-01  84293.01\n",
              "..         ...       ...\n",
              "93  2012-09-01  71429.25\n",
              "94  2012-10-01  42588.75\n",
              "95  2012-11-01  44633.30\n",
              "96  2012-12-01  41652.75\n",
              "97  2014-09-01     89.95\n",
              "\n",
              "[98 rows x 2 columns]"
            ]
          },
          "metadata": {},
          "execution_count": 21
        }
      ]
    }
  ]
}